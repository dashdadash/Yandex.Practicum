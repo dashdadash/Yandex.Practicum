{
 "cells": [
  {
   "cell_type": "code",
   "execution_count": 359,
   "metadata": {},
   "outputs": [],
   "source": [
    "import pandas as pd\n",
    "import numpy as np\n",
    "import matplotlib.pyplot as plt\n",
    "import plotly.express as px\n",
    "from scipy import stats as st\n",
    "import math as mth\n",
    "import warnings\n",
    "warnings.filterwarnings('ignore')"
   ]
  },
  {
   "cell_type": "markdown",
   "metadata": {},
   "source": [
    "# Исследование источников трафика"
   ]
  },
  {
   "cell_type": "markdown",
   "metadata": {},
   "source": [
    "### Предобработка"
   ]
  },
  {
   "cell_type": "code",
   "execution_count": 360,
   "metadata": {},
   "outputs": [
    {
     "data": {
      "text/html": [
       "<div>\n",
       "<style scoped>\n",
       "    .dataframe tbody tr th:only-of-type {\n",
       "        vertical-align: middle;\n",
       "    }\n",
       "\n",
       "    .dataframe tbody tr th {\n",
       "        vertical-align: top;\n",
       "    }\n",
       "\n",
       "    .dataframe thead th {\n",
       "        text-align: right;\n",
       "    }\n",
       "</style>\n",
       "<table border=\"1\" class=\"dataframe\">\n",
       "  <thead>\n",
       "    <tr style=\"text-align: right;\">\n",
       "      <th></th>\n",
       "      <th>User id</th>\n",
       "      <th>Media Source</th>\n",
       "      <th>Placement</th>\n",
       "      <th>CPI</th>\n",
       "      <th>Country Code</th>\n",
       "      <th>WIFI</th>\n",
       "      <th>Platform</th>\n",
       "      <th>Device Type</th>\n",
       "      <th>OS Version</th>\n",
       "      <th>Revenue (USD)</th>\n",
       "    </tr>\n",
       "  </thead>\n",
       "  <tbody>\n",
       "    <tr>\n",
       "      <td>6773</td>\n",
       "      <td>1510601670964-2211568</td>\n",
       "      <td>Source 2</td>\n",
       "      <td>599d95d75169a3b070008c19</td>\n",
       "      <td>1.6</td>\n",
       "      <td>NL</td>\n",
       "      <td>True</td>\n",
       "      <td>ios</td>\n",
       "      <td>iPad 5</td>\n",
       "      <td>11</td>\n",
       "      <td>0.000000</td>\n",
       "    </tr>\n",
       "    <tr>\n",
       "      <td>7641</td>\n",
       "      <td>1510683051234-1941025</td>\n",
       "      <td>Source 2</td>\n",
       "      <td>56d53ef8a0bd0fa4700000c4</td>\n",
       "      <td>1.0</td>\n",
       "      <td>NO</td>\n",
       "      <td>True</td>\n",
       "      <td>ios</td>\n",
       "      <td>iPad Mini 4</td>\n",
       "      <td>11</td>\n",
       "      <td>0.000000</td>\n",
       "    </tr>\n",
       "    <tr>\n",
       "      <td>8512</td>\n",
       "      <td>1510761301307-3372829</td>\n",
       "      <td>Source 2</td>\n",
       "      <td>55c8b6a895057e365b000212</td>\n",
       "      <td>1.6</td>\n",
       "      <td>NL</td>\n",
       "      <td>True</td>\n",
       "      <td>ios</td>\n",
       "      <td>iPad Air 2</td>\n",
       "      <td>11</td>\n",
       "      <td>0.000000</td>\n",
       "    </tr>\n",
       "    <tr>\n",
       "      <td>9161</td>\n",
       "      <td>1510786287000-5549916</td>\n",
       "      <td>Source 2</td>\n",
       "      <td>5991ad5c9a165cfb58005ef6</td>\n",
       "      <td>1.6</td>\n",
       "      <td>UK</td>\n",
       "      <td>True</td>\n",
       "      <td>ios</td>\n",
       "      <td>iPhone 5c</td>\n",
       "      <td>10</td>\n",
       "      <td>2.625337</td>\n",
       "    </tr>\n",
       "    <tr>\n",
       "      <td>5132</td>\n",
       "      <td>1510505227046-3082490</td>\n",
       "      <td>Source 2</td>\n",
       "      <td>59d4efb60b9e07c12500358a</td>\n",
       "      <td>1.6</td>\n",
       "      <td>SE</td>\n",
       "      <td>True</td>\n",
       "      <td>ios</td>\n",
       "      <td>iPhone 5s</td>\n",
       "      <td>11</td>\n",
       "      <td>0.000000</td>\n",
       "    </tr>\n",
       "    <tr>\n",
       "      <td>6726</td>\n",
       "      <td>1510438771000-6460320</td>\n",
       "      <td>Source 3</td>\n",
       "      <td>26147</td>\n",
       "      <td>0.8</td>\n",
       "      <td>FR</td>\n",
       "      <td>True</td>\n",
       "      <td>ios</td>\n",
       "      <td>iPhone 5</td>\n",
       "      <td>10</td>\n",
       "      <td>0.000000</td>\n",
       "    </tr>\n",
       "    <tr>\n",
       "      <td>2490</td>\n",
       "      <td>1510299544686-3266595</td>\n",
       "      <td>Source 2</td>\n",
       "      <td>5461cb67ebc8b69a4800006e</td>\n",
       "      <td>1.6</td>\n",
       "      <td>SE</td>\n",
       "      <td>True</td>\n",
       "      <td>ios</td>\n",
       "      <td>iPad Air</td>\n",
       "      <td>10</td>\n",
       "      <td>0.000000</td>\n",
       "    </tr>\n",
       "    <tr>\n",
       "      <td>7790</td>\n",
       "      <td>1510688816000-7820290</td>\n",
       "      <td>Source 2</td>\n",
       "      <td>5645ea34d86cc1d66200000e</td>\n",
       "      <td>1.6</td>\n",
       "      <td>NL</td>\n",
       "      <td>True</td>\n",
       "      <td>ios</td>\n",
       "      <td>iPad 4</td>\n",
       "      <td>10</td>\n",
       "      <td>0.000000</td>\n",
       "    </tr>\n",
       "    <tr>\n",
       "      <td>2483</td>\n",
       "      <td>1510299621286-7599132</td>\n",
       "      <td>Source 2</td>\n",
       "      <td>576fa0c00e3f92a640000083</td>\n",
       "      <td>1.6</td>\n",
       "      <td>NL</td>\n",
       "      <td>True</td>\n",
       "      <td>ios</td>\n",
       "      <td>iPad Air</td>\n",
       "      <td>10</td>\n",
       "      <td>0.000000</td>\n",
       "    </tr>\n",
       "    <tr>\n",
       "      <td>7334</td>\n",
       "      <td>1510665142371-897562</td>\n",
       "      <td>Source 2</td>\n",
       "      <td>59d4efb60b9e07c12500358a</td>\n",
       "      <td>1.6</td>\n",
       "      <td>NL</td>\n",
       "      <td>True</td>\n",
       "      <td>ios</td>\n",
       "      <td>iPhone 5s</td>\n",
       "      <td>10</td>\n",
       "      <td>0.000000</td>\n",
       "    </tr>\n",
       "  </tbody>\n",
       "</table>\n",
       "</div>"
      ],
      "text/plain": [
       "                    User id Media Source                 Placement  CPI  \\\n",
       "6773  1510601670964-2211568     Source 2  599d95d75169a3b070008c19  1.6   \n",
       "7641  1510683051234-1941025     Source 2  56d53ef8a0bd0fa4700000c4  1.0   \n",
       "8512  1510761301307-3372829     Source 2  55c8b6a895057e365b000212  1.6   \n",
       "9161  1510786287000-5549916     Source 2  5991ad5c9a165cfb58005ef6  1.6   \n",
       "5132  1510505227046-3082490     Source 2  59d4efb60b9e07c12500358a  1.6   \n",
       "6726  1510438771000-6460320     Source 3                     26147  0.8   \n",
       "2490  1510299544686-3266595     Source 2  5461cb67ebc8b69a4800006e  1.6   \n",
       "7790  1510688816000-7820290     Source 2  5645ea34d86cc1d66200000e  1.6   \n",
       "2483  1510299621286-7599132     Source 2  576fa0c00e3f92a640000083  1.6   \n",
       "7334   1510665142371-897562     Source 2  59d4efb60b9e07c12500358a  1.6   \n",
       "\n",
       "     Country Code  WIFI Platform  Device Type  OS Version  Revenue (USD)  \n",
       "6773           NL  True      ios       iPad 5          11       0.000000  \n",
       "7641           NO  True      ios  iPad Mini 4          11       0.000000  \n",
       "8512           NL  True      ios   iPad Air 2          11       0.000000  \n",
       "9161           UK  True      ios    iPhone 5c          10       2.625337  \n",
       "5132           SE  True      ios    iPhone 5s          11       0.000000  \n",
       "6726           FR  True      ios     iPhone 5          10       0.000000  \n",
       "2490           SE  True      ios     iPad Air          10       0.000000  \n",
       "7790           NL  True      ios       iPad 4          10       0.000000  \n",
       "2483           NL  True      ios     iPad Air          10       0.000000  \n",
       "7334           NL  True      ios    iPhone 5s          10       0.000000  "
      ]
     },
     "execution_count": 360,
     "metadata": {},
     "output_type": "execute_result"
    }
   ],
   "source": [
    "df = pd.read_csv('dataset.csv')\n",
    "df.sample(10)"
   ]
  },
  {
   "cell_type": "code",
   "execution_count": 361,
   "metadata": {},
   "outputs": [
    {
     "name": "stdout",
     "output_type": "stream",
     "text": [
      "<class 'pandas.core.frame.DataFrame'>\n",
      "RangeIndex: 9202 entries, 0 to 9201\n",
      "Data columns (total 10 columns):\n",
      "User id          9202 non-null object\n",
      "Media Source     9202 non-null object\n",
      "Placement        9202 non-null object\n",
      "CPI              9202 non-null float64\n",
      "Country Code     9202 non-null object\n",
      "WIFI             9202 non-null bool\n",
      "Platform         9202 non-null object\n",
      "Device Type      9202 non-null object\n",
      "OS Version       9202 non-null int64\n",
      "Revenue (USD)    9202 non-null float64\n",
      "dtypes: bool(1), float64(2), int64(1), object(6)\n",
      "memory usage: 656.1+ KB\n"
     ]
    }
   ],
   "source": [
    "df.info()"
   ]
  },
  {
   "cell_type": "code",
   "execution_count": 362,
   "metadata": {},
   "outputs": [
    {
     "name": "stdout",
     "output_type": "stream",
     "text": [
      "User id\n",
      "\n",
      "['1509498644000-2089177' '1509533912575-3168185' '1509531902000-4045807'\n",
      " ... '1510757264531-1142906' '1510789352196-3379853'\n",
      " '1510790058000-1007857']\n",
      "\n",
      "Media Source\n",
      "\n",
      "['Source 3' 'Source 1' 'Source 2']\n",
      "\n",
      "Placement\n",
      "\n",
      "['22564' '26147' '50117' '23924' 'xVa3' '33555' 'q6zK' 'Vf5R' 'q5Kt'\n",
      " 'MHK4' 'IROd' 'g7oN' 'IvtR' 'g7qm' '96924' 'g7oc' 'qGDR' '64454' 'IVL9'\n",
      " 'M4od' '45868' '95355' '106045' '45161' '45885' '40337' '47127' '95354'\n",
      " 'VEIK' '44931' 'mv7R' 'mnjM' '36302' 'mSRp' 'tcd7' 'qJBz' 'Moai' 'M0BC'\n",
      " 'irPz' 'q2mG' 'mJgg' 'VD0g' 'qo4U' 'Tqhi' 'IXmi' 'R5ug' 'MmjN' 'VRO'\n",
      " 'qbUe' 'qJMm' 'q3A3' 'TyV8' 'Vgti' 'qUE7' 'IeSu' 'q5LK' '100838' 'VvmG'\n",
      " 'ZUse' 'MJ34' 'M7CS' 'gHsc' 'VUr4' 'iNbd' 'Tmjo' 'IvSr' 'MihR' 'qmHV'\n",
      " 'qyht' 'qdFe' 'xozr' 'TZAg' 'TVui' '47564' 'IYhR' 'pn3' '98754' 'ilYr'\n",
      " '108252' 'IyTe' '99595' 'MBdg' 'Mec9' 'MZjV' '241D' 'd2d' '66733' '66662'\n",
      " 'VvsK' 'MMH7' 'I8Fi' 'mJiR' 'hmWp' 'MX9g' 'qezG' 'Tmpf' '39157' 'I8FG'\n",
      " '55428' '36857' 'qJ42' 'hk3R' 'xXsf' '46279' 'i9zi' 'hCDi' 'xV1Q' 'I1k8'\n",
      " '32316' '40273' 'mZt4' 'Ipq7' 'qX7p' 'InQt' 't9jQ' 'MJ8m' 'Iz1C' 'gyce'\n",
      " 'tLJ3' 'qHwQ' 'mL3m' 'xIYC' 'ququ' 'MRXM' 'qzUt' 'IyI9' 'mIn' 'o03'\n",
      " 'IlDd' 'M6m8' 'mal4' 'ibee' '31384' 'VEI7' 'MeFu' '17446' 'THPR' 'VTSK'\n",
      " 'TnAi' '35690' 'hM5U' 'VXIC' 'qUnS' 'g7sS' 'qVhj' 'iNPf' 'Ibxe' '47651'\n",
      " '36320' 'qdXe' '5645ea34d86cc1d66200000e' '50d096b733b80ce94501aad7'\n",
      " '577674011d3aaea53f000047' '5937fce04a607e854f000941' 'Vapg' '48599'\n",
      " '89841' '19289' 'Mokz' '22858' '36815' 'qmqJ' '54565' 'iuIo' '107176'\n",
      " 'g7Fe' '537b2ea64fb7cc61630002a0' '83587' '590b5df4004ccfdd3b000a35'\n",
      " '593f84f38c62db6018002558' '586a45b78f6dd6282b000518'\n",
      " '5751f710922ec4c22800005a' '566f7086fb84601f2b00001e'\n",
      " '5991ad5c9a165cfb58005ef6' '21355' '58d0e99878aed5dc7f0001d7'\n",
      " '5819f87c833403037b0000d2' 'g7P3' '58c3459bc996d6176a000126'\n",
      " '58470ee17ac6da78690004bb' 'I0hc' 'In2g' '59dcdf9dd09cd1c009006157'\n",
      " 'gHE4' 'xUrV' '3bud' '550a847e01d9cf8e17000073' 'q5Ke' '66050'\n",
      " '5810c3edd0479d592800004a' 'VI2c' '557e83e1464efa7a720002c6'\n",
      " '58256640862c3423530000cb' 'MzBD' '5642ec07b3ec8e0d32000025' 'IqAm'\n",
      " '31490' '57baf14e0c3729b12d00004c' '45614' '59de4ee9598ece4217007331'\n",
      " 'MBgC' 'VNfQ' 'Tn6V' '5878cc4cdec4582e38000101' 'Tyq8' '44097' 'Iyff'\n",
      " '45808' '76493' 'It6o' '2yBe' '42979' '46782' '587953621fdf804b16000143'\n",
      " '58dc65a1d8502cae7500165e' '56a1169c2ef5591f35000023'\n",
      " '517161a62f9be54f03000013' '591d74f4e3b119532600168b'\n",
      " '589aef958d35674f400008e1' 'VdGK' 'MihN' '33780' 'qu24' '29549' 'Vyb8'\n",
      " '33249' '106074' 'MXUS' '574ef6a1ba52e5ee54000088' 'V9jN'\n",
      " '5912d7bf562017b05d001355' 'g7bg' 'gmem' '104702' 'gmcu' 'IBwd'\n",
      " '51f8eb64eeb1f8735300003b' 'MfJU' 'Uu0' '5196a027a62035e1540000cb'\n",
      " '566f71b69673a6885800000c' 'IDFz' 'mQfS' 'qGOQ' '73053' '96726' 'qvgf'\n",
      " '88768' 'I6G3' '45584' 'IQbK' '43787' 'MmkS' 'T3R9' 'VfvK' '90657'\n",
      " '55446' '570589c0909569a614000027' '58471948221672b71b000578' 'mRv8'\n",
      " '32894' 'InF4' '581209be2d894fef2c0000d6' 'g77d' 'xa3k' 'T8jm' '46265'\n",
      " '57e250660a064d494d000069' '563928d0742473ba050002a1' 'MTVD'\n",
      " '55fca33410fbe75528000011' 'T2TR' '45879' 'IJGo' 'xmL7'\n",
      " '590895fe109b8d9260002835' '5461cb67ebc8b69a4800006e'\n",
      " '547f67417188e1621d000040' 'TmFt' '60646' '74758' 'gUOV' 'THTe'\n",
      " '576fa0c00e3f92a640000083' '41885' '46380' '34494'\n",
      " '54b5208eae8b8f080a00002b' 'Me8F' 'mdbG' '580fe8ef4bb4b12e0b0000b0'\n",
      " '55118' 'TyDd' 'mtp8' '574626ecdcb283565900006d'\n",
      " '59cd1f0504d8c6c00d0022c4' 'IDMV' 'hF5r' '5913fbd6fd7e03157300009e'\n",
      " '59d78601d09cd1c009004775' 'V6uk' 'qJ9N' 'hGvS' 'ZOvG' 'MeDr'\n",
      " '543279d8ba288b5605000082' 'V6VR' 'xv03' 'gUgU' '63590' 'gnEV' 'RpIp'\n",
      " '507684c67716159410018cbb' 'iz7S' '40997' '59df6ed0ef6627a80900701c'\n",
      " '5056e7fb6dbb5d9471cfbd50' '5761bab8ac02055f01000041'\n",
      " '598926519a165cfb5800253d' '58dd163f24c41114750022b2' '27428'\n",
      " '58fa1e987526110c550002f3' '570e0be9a27e6ec830000042' '44011' 'IDTD'\n",
      " '5319cbed192f3bd6180000c0' '573497f5af547894560000a4'\n",
      " '5735de75e02a8cfc550000b2' '59d4efb60b9e07c12500358a'\n",
      " '590189155719f114020016fe' '83326' '584780b0dabf334b4f00005e'\n",
      " '50c465c8d8d6d3ee7203373a' '50046b006d791be34e17e959' '108025' 'xjv9'\n",
      " '95271' '45634' 'mLKc' '5432788a0e40c15905000077' 'mJRM' '96693' '42201'\n",
      " '59985' '54cdf6f70b77880f1f0000d5' '57c666014bbffe9a5c00002b'\n",
      " '5910802a31a864f45f000ad5' '5497c989a3b61ba3660001b1' 'MwJp' '24bo'\n",
      " '53902cc470fd555b7900000b' '109515' '560e487352e5a56844000369'\n",
      " '59159b32595df11c32000796' '35237' '544802cfed04d7437200003f'\n",
      " '5669c49c9e4ebe9d4d00000b' '52468' '581010b1e5a2866c2800003c'\n",
      " '54e4ff3b801b36b904000074' '5769524a1f4b29c41f000016'\n",
      " '59b5930535afa77a14000224' 'qJiD' '58c6e853459cc56b6a000153' 'IDKm'\n",
      " '55f000739b37cd171b00030f' '55964f0b14598ac874000045' '53834' 'qOdK'\n",
      " '100830' '5627fe80574392774e000012' '94533' '48682'\n",
      " '582b1fdaad837782410004e4' '55c37b770bda25824000004c' '92577'\n",
      " '58d335b4657995c02200007a' '52a861166faa22fa48000009'\n",
      " '5761129fdb236d7d01000037' '104848' '31201' '99104' '40339' '21143'\n",
      " '592465fb05354ac538000f7f' '5906a49d11fb951a02002722'\n",
      " '56572abbd4adae6874000022' '55c8b6a895057e365b000212'\n",
      " '556c4752fb8a9d5a5d0001d5' '46663' 'IHcC' '5.90E+23' '38677'\n",
      " '5309f84a68b9b8e773000013' '5975acfe0e387a8f7a000986'\n",
      " '537bc79da8c1d0dd6b00006c' '40521' '56a63c4b908260a34e000010'\n",
      " '599d95d75169a3b070008c19' '54a40c02ab53af7377000054'\n",
      " '586eabdbe8127fd076000457' '5950d4eef493bbec54002184' '89667' '40733'\n",
      " '59b46abff2287a750a000353' '57bb6f34473140f83c00004b' 'xvl9'\n",
      " '573f3fe4c357249814000048' '560928283b8714180800016b'\n",
      " '57788121bc8623f86800005f' '98256' '62029' '5823114dd35dc498140000f6'\n",
      " '52954' 'TwV7' '54bbfe6b51f4d0d95200004d' '57516f018cc7b0ca2b00003a'\n",
      " '569ea2bf44bb1a971e000008' '5857b4b845651fef1e000835'\n",
      " '579f6216e448b2663a0000cd' '577b8a4e290b921b5c000035'\n",
      " '56cb247c4c275f425b000054' 'VWbu' '5838' '59ba500a8a391f8714002861'\n",
      " '5858b974688691e41e0008c8' '5944535e1979e7d45100053a' 'M96f'\n",
      " '59e5f8e60971f5c82500abb6' '598b7b2172e73c2a69002795'\n",
      " '57c3c2296bb1331d6c0000c0' '57f5472b49e559f07800001a'\n",
      " '58e618b42cc9e97b37000424' '56066b90354cb2a075000158'\n",
      " '584fc3258be0b6d40e000675' '5646180b49cdd0797500002c' '75042'\n",
      " '53bb99c77943cbeb65000059' '98753' '53fe381c645c4b110900004b' 'MbX8'\n",
      " '91503' '108304' '586e48576d5fb3e23700019a' '23879' '84469'\n",
      " '57a48db53e3132bc07000034' '38887' '581cdb25ce55ceea02000077'\n",
      " '58acfa87bf71e708250000f4' '52eb1d5c1fd94b2d1300000c'\n",
      " '58c34299b9fa8fc13d000193' '590fa7cc04740e614d00025b'\n",
      " '59bc0f714d0b3178280006ae' '5a01ff22f7d41bc65a004579'\n",
      " '526a741a31546b9776000012' '93484' '59a3c147b4f299fd1c00166e'\n",
      " '518426f3accb198e65000049' '5432c1667f34cd58410001b6'\n",
      " '579372b1fb0fb7fc6e00002a' '56a9dc79eba51dd14c00001f' '37127'\n",
      " '52e7be935580f04e39000014' '58cf5d46469fa6060c0003d3'\n",
      " '56559322ee64c49448000008' '573f321a4b18dd6b6300007b'\n",
      " '57c9cbab6eefc01b20000045' '58527519c457e962460008c4'\n",
      " '58ac2532486a9ed936000110' '530dfcdbf534bce968000070'\n",
      " '58b5e23bb942ea365c0001f7' '58cc5f86c877a0c01e0003ba'\n",
      " '57e2c8d1218a53a23500006f' '525755cadbcd54f470000007'\n",
      " '53e0f922936129bc6d000033' '53e0f868838d31b86d00002f'\n",
      " '59e884a07f2ced5b1700ff75' '5954f1b50f1ffcee540029a8'\n",
      " '59a9d70c91e4219f640003e4' '591aa219e3b1195326000f7b'\n",
      " '590bb90044f33cc63b000a56' 'qOgQ' '57714550f8a232e5540000d4' '45804'\n",
      " '58292a862939f27e1000015c' '59b145fe6413db5d6d002b4a'\n",
      " '5907baa5477a4c6a66002550' '58bfd7dde32717cf4c000632'\n",
      " '59477cc539f5f72906000426' '58c075011ac7d47f65000136'\n",
      " '57c9a1235501cce57a000089' '57f89c4cc7e0dd5c22000018'\n",
      " '5902fd3972873c1f55001dbd' '5853b8751628ad343c0000ee'\n",
      " '58fb1b8fa9d93476660004a9' '5858da97438838a353000271' 'VXLr'\n",
      " '58ff11d51bf1462002000bb1' '57b5942dae18e5a95e00002c'\n",
      " '59a9a05f91e4219f64000301' '55ee948c8663a4241b000074' '63196' '67412'\n",
      " '54c63cb2a684cd593e000126' '582901c76c8f0c0b53000233' '33612' '27275'\n",
      " '5894eb1b069cc5384c0001d0' '5909d8ceb716af70660027f0'\n",
      " '5981fc09ed1245b0770021bf' '5255b961b39f75841900000e'\n",
      " '5255b9a777aa478519000008' '52b1fa897b62f64e5a00000d'\n",
      " '588f2ef7bca3a9283a000044' '540f07e1b243076944000033'\n",
      " '5979e49afebde1717a002e49' '36914' '52dbed8afcc4905138000010'\n",
      " '56dfd9575baf62e64d00001b' '565ee5439b1c8e2030000038'\n",
      " '589e4470ad2b403705000162' '560ea79552e5a56844000393'\n",
      " '50c469a0d8d6d3ee7203939e' '54327963ba288b560500007f' '105263'\n",
      " '594b7f9900c2f73906001127' '57c4ce506e0fb99a22000073'\n",
      " '5433aefa04600b1d7c00000b' '68227' '57fe4f37bd21eb153b0000b5' 'Me2z'\n",
      " 'mvPM' '5801f9140159834119000039' '5948de51373fe57335000c54'\n",
      " '569c5373cd0685ea4500000a' '5834110fcba161f94d000393'\n",
      " '599e89355a43e33c69008d12' '59786925ba94bc777a002583'\n",
      " '5746f33eb6e3f67e24000009' 'hI1k' '57eb6a3d50d2df383b0000af'\n",
      " '589dc7f25ca83e0f28000147' '57b1ab5dd1dd85fc2d000038'\n",
      " '5983e51ef9127001590000a9' 'Mg7H' '53f46f804e5f4e1b75000083'\n",
      " '587e265420515014040008cf' '68213' 'Meo7' '590077835719f1140200138c'\n",
      " '571f6c9e57d2359f3200004e' '59380943115d3f7d24000903' '41309'\n",
      " '58b43049998c7a7918000135' '96379' '52614155815c8f4c3a00000c'\n",
      " '58595515647db2ed5a000114' 'TyeS' '54021' '59f206e80263405858004250'\n",
      " '67842' '57837325bf9010943400004c' '52986f0053320c930f000013' '40223'\n",
      " '593ef9da6d8b2e9a4f001c14' '5713cfbcae7bb4fb75000018' 'ZCJK' 'ICyc'\n",
      " '48751' '59770b46799cfbf07100141d' '534d1ece572101807a0000cc'\n",
      " '562f5239effbd99b0b00001d' '40515' '78450' 'IzBd' '64064' '46232'\n",
      " '59705ca8ec2203b65e0020c0' '546e26b587e9715a11000012'\n",
      " '547ee65afb9badfd6700006d' '573bf635934b33bf4d00001d'\n",
      " '530a7a0345926df35d000032' '56b286a652a393f25c000013'\n",
      " '58fdba2a60ec916d60000e3e' '40967' '5666fc5bc5375f6f20000082'\n",
      " '59bfa001f911c58b28000fd6' '59dd4055fafc8ea925006ad0'\n",
      " '57a2dc4acf93cf793f00004a' '57c695b3d5f0c35920000025'\n",
      " '58ffa1467526110c55000f9d' '5803db52cc960b250500005c' '48260'\n",
      " '56cdbe37491348c34400000e' 'I2OD' '577cc318308870ce1e000016'\n",
      " '52f018f6196aff174600000d' '59dc87842551d3aa250069fd'\n",
      " '53f21cbb9a62d7c96a00006d' '546a2050bc34b06f7b0000df' '91600' '29193'\n",
      " '57da630df6890fdd46000023' '57f12a4176ccedc72c000054'\n",
      " '571de8c98c60e6c96c0000b1' '5808dc210ece948347000037' '46608'\n",
      " '57fa6c7ef85eaaf638000038' '566f71063fc0263d5a00000e'\n",
      " '56a8ac135f15359e29000022' '59a8fd5a6413db5d6d000033'\n",
      " '5432c0f02f64768173000111' '56cee629f7a7245a5900000a'\n",
      " '52664d48b13141ad71000008' '581c74243959fc0b4d000063' 'IaNu'\n",
      " '540c518fddba2f392a00003b' '53c3cceffa481c68750000b9'\n",
      " '59fb9a9fc3f354a94800ab22' '45959' '580e0ba64c3b16c27500006b'\n",
      " '591fce5b1f65e63a03000141' '26802' '45587' '59b26d2e849154bc4f003e8d'\n",
      " '5555b26c4b79673719000135' '59011533667e42796000127c' '46217'\n",
      " '557ff2e1464efa7a7200037c' '587ce2487bbc7eeb1f00045d' '67951'\n",
      " '57cb92c8703304245a000061' '58bfb0474669352f14000686'\n",
      " '59a4648f2cf24cf61c001cb3' '5930f14193fd9b092c0012ad'\n",
      " '56e16c8e4c92eaba1700005d' '59828ec6aad910d07f001953'\n",
      " '57ab3a00a16956894a000083' '55efd3e968d947a56c000a3e' '44784'\n",
      " '586519f3348fe6504e000652' '24519' '5817282e0ca9f7d52a0001b3'\n",
      " '54511e5b6771526420000057' '54368887ea55af177c00009f'\n",
      " '59c9de8bd672b9f76f00042c' '5627b8913bb31c196e000019'\n",
      " '59d158d691c0eca109001943' '56e923169a6cedb52200003b'\n",
      " '5849c6406be3ed1c3a0003ec' '5742bfae6c783e2951000030'\n",
      " '56a9fe02942685b268000024' '5295c7c2f05d8fd74d00000c'\n",
      " '58ca3d945f6eef974500012b' 'ZHck' 'g77M' '59085300e2dd7d7a60001b60'\n",
      " '59146051e3b11953260001cf' '57bce0ba98e1d9a37500000d'\n",
      " '57c13e7e3c782b7b23000037' '57353f200b3973633c00000d' '21787'\n",
      " '59b336a2f36da2bf7500001c' '58abfa352a543d2b700000a7'\n",
      " '58537c57febcab143c000043' '576245a69b98b76f01000056'\n",
      " '590835c9a9d9347666002721' '58d13b524c4633b76e0004ed'\n",
      " '5412387a1895fee829000008' '563b2488206a9c152000002a'\n",
      " '5926cf070bacff400300190c' '598ab293263768a970002336' '68169'\n",
      " '562650997df370b74800002d' '58cbc15dbe8727462a0005f6'\n",
      " '568a91ac756827c15700000a' '538ef3055d8477ea1e0000e9'\n",
      " '580229fe9723e63105000034' '582ed713455579da4d000011'\n",
      " '5836b5751f188e763e0000df' '56cb21bcf771f68334000008'\n",
      " '5742bdf8ea82cb2651000036' '57f3be26e30f3ce11d000082'\n",
      " '53b67c1d82cb511a550000aa' '5926ccca72616fbc13001205'\n",
      " '58c95faeda6479a324000861' '55ffa7e2a170121b28000069'\n",
      " '5977c210e5874c0e62002241' '583c72584ffcb7af6b000085'\n",
      " '57a38a85517ea4497900005e' '587fbdb2db142a8e70000171'\n",
      " '5773dd488bf6f66179000056' '560420c04bcf871e08000010'\n",
      " '56d80b7db36cefb50400001d' '5955e6ba030110574b000173'\n",
      " '5942dba5e7261604720022d9' '5919944b70abb44126000de3'\n",
      " '586642c1b02921a65e00051f' '56d6ab015abe47932500001c'\n",
      " '582980902ab2e27710000205' '59f9fd8163f1408b3e00c284' '38239' '54618'\n",
      " '584fa319c457e96246000496' '5732ffdebb240d764600001a'\n",
      " '5429741fe59c024d0b000056' '5485d06035a3860e070000fd'\n",
      " '57c10f405073549023000029' '55318f7fb11b3e7634000036'\n",
      " '53146f73025a29860200008a' '5970dc77ed0387df45002d01'\n",
      " '58049bad0157b75a19000072' '59af17136413db5d6d001cdc'\n",
      " '530607e0e54551c0460000ef' '43145' '5492cdebc8992fb701000023'\n",
      " '59e5e1bca81a003c1700d6d3' '5773ba16667bd2c657000037'\n",
      " '57d145e78d1fa024040000ae' '587204d6e78a99247e00005c'\n",
      " '568d64b74570328d0700001b' '59ce08b47f2ced5b1700075a'\n",
      " '58c678fdb9fa8fc13d00051c' '30831' '585a190b438838a35300054e'\n",
      " '5189315ad6dcb1e174000009' '59146ca723cf14772200040f'\n",
      " '53d66a17e262df2c42000053' 'qYx2' '5992ad269a165cfb580062ce'\n",
      " '557882f89c03ee9166000443' '87191' '36869' '38464'\n",
      " '5820642c169b16114d000264' '599cf5259fa26d1d6900911b'\n",
      " '55dc6b26caac59da4d000238' '58e60ef4e08f26743b0003bb' '20855' 'INjt'\n",
      " '58acf7ea07d3005e60000499' 'zsC' '57588a6fc45509826800006e'\n",
      " '589d693b3248ec250500000e' '5914e09ea7f67a882200053f'\n",
      " '5767da97de4dacbc140000e7' '553295f38ceb70f704000019'\n",
      " '56fbd531c05bda8402000026' '5425a765e4e0c58d10000030'\n",
      " '5599094ba46533da1700008f' '58472b0b08dad3ff4f00005d'\n",
      " '595dcd8de954ea7b46002cd4' '58823c2f11c30632510001a9'\n",
      " '57f4c922dc708ca4020000f3' '59efb923d3ec605e5800284d'\n",
      " '59f5a201c093457358004b41' '57d670defc4c90fc5d0000cb'\n",
      " '57c6c12ad80d9395220000cb' 'T4Up' '59acea0a2035919e4f0008fb'\n",
      " '56d53ef8a0bd0fa4700000c4' '563bbc76ddc9650e51000016'\n",
      " '57fe4f6c131603fd3800009d' '57a237f5eaab186076000018'\n",
      " '58aed6c903ef6f566d0000a5' '55df98d4d77199c17d00008b'\n",
      " '589c3f104f61b93239000196' '5893bbf64b1d6d244f000159'\n",
      " '56a61aa8525894c328000015' '572805e1dfafa5325b00001a'\n",
      " '59de232f0d228643170080ac' '593a9d876eaa53531800117f'\n",
      " '5901ff1303e9ad5766001c3c' '5891f65bfeb5474725000115'\n",
      " '578f25915bcf6854060000d2' '5834f517759ae40b2e000010' '29586'\n",
      " '59a4d3e54d89422e24001d38' 'IOnf' '59a6b687318ae8a008002f01'\n",
      " '546c783b874b20c73300002a' '58086457cdf5f9eb6d000060' 'Vb1R' '36881'\n",
      " '58c17269fb0265b040000278' '54ac47ae45e9e4337400004b'\n",
      " '57b417e541bcfba47a00007c' '44615' '59ddc342fafc8ea925006e75'\n",
      " '52dea7c642cd85075700000f' '91194' '52b2a791de6b49f014000021'\n",
      " '51fa8600561da9ac55000049' '57475632324731891500000d' '48694'\n",
      " '559d88cd7a2c966a0900000d' '59dd307a928f4dba09006e35'\n",
      " '58595177a3af6ee8050000fe' '521bbc9da0f3ed260f000006'\n",
      " '51659783be5a7bde4a000019' 'IdM7' '583453febafc8028030003f9' '45806'\n",
      " '59357ba63b8c412108001d47' '69551' '596efa46a52ef0394d000e5c'\n",
      " '573a04e27fc9710662000016' '5702d60f63fe2d0a75000112'\n",
      " '5638fa9d45835e485b000008' '56e6f2baf8a7912f2b000028'\n",
      " '5730a1dc07661a9e5f00006d' '58e71f4dbc58dfee55000017'\n",
      " '525bd8520da81a263700000a' '5710ead9711222430f00003a' '87482'\n",
      " '56460b3b3fb866c6360000b0' '53d9c36f5d261a110600008d'\n",
      " '56936501a6fd13b672000017' '579f26ccb8582d866e0000b6'\n",
      " '56c5da1992ca13a60e000008' 'qJrd' '59965c405169a3b070005a48']\n",
      "\n",
      "CPI\n",
      "\n",
      "count    9202.000000\n",
      "mean        1.369920\n",
      "std         0.325174\n",
      "min         0.300000\n",
      "25%         1.000000\n",
      "50%         1.600000\n",
      "75%         1.600000\n",
      "max         1.600000\n",
      "Name: CPI, dtype: float64\n",
      "\n",
      "Country Code\n",
      "\n",
      "['FR' 'AU' 'US' 'UK' 'CA' 'DE' 'SE' 'ES' 'LV' 'IT' 'JP' 'MN' 'NL' 'DK'\n",
      " 'NO' 'AE' 'RU' 'MM' 'RO' 'UA' 'SA' 'BH' 'IL' 'CY' 'None' 'AL' 'IE']\n",
      "\n",
      "WIFI\n",
      "\n",
      "count     9202\n",
      "unique       2\n",
      "top       True\n",
      "freq      7932\n",
      "Name: WIFI, dtype: object\n",
      "\n",
      "Platform\n",
      "\n",
      "['ios']\n",
      "\n",
      "Device Type\n",
      "\n",
      "['iPhone 5c' 'iPad Air' 'iPad Air 2' 'iPad 2' 'iPad 4' 'iPhone 6'\n",
      " 'iPod touch 6' 'iPhone 7' 'iPhone 7 Plus' 'iPhone 6s' 'iPhone 6s Plus'\n",
      " 'iPad 3' 'iPhone SE' 'iPad Mini 2' 'iPad Mini 3' 'iPhone 5s'\n",
      " 'iPad Pro (12.9 inch)' 'iPhone 5' 'iPhone 6 Plus' 'iPhone 4s' 'iPad 5'\n",
      " 'iPod touch 5' 'iPad Mini 4' 'iPad Pro (10.5 inch)' 'iPad Mini 1'\n",
      " 'iPhone 8' 'iPad Pro (9.7 inch)' 'iPhone 8 Plus' 'iPhone X']\n",
      "\n",
      "OS Version\n",
      "\n",
      "count    9202.000000\n",
      "mean       10.520430\n",
      "std         0.636076\n",
      "min         9.000000\n",
      "25%        10.000000\n",
      "50%        11.000000\n",
      "75%        11.000000\n",
      "max        11.000000\n",
      "Name: OS Version, dtype: float64\n",
      "\n",
      "Revenue (USD)\n",
      "\n",
      "count     9202.000000\n",
      "mean         2.517810\n",
      "std        130.797038\n",
      "min          0.000000\n",
      "25%          0.000000\n",
      "50%          0.000000\n",
      "75%          0.000000\n",
      "max      10237.648710\n",
      "Name: Revenue (USD), dtype: float64\n",
      "\n"
     ]
    }
   ],
   "source": [
    "for column in df.columns:\n",
    "        if df[column].dtype == 'object':\n",
    "        \n",
    "            print(column)\n",
    "        \n",
    "            print()\n",
    "        \n",
    "            print(df[column].unique())\n",
    "        \n",
    "            print()\n",
    "    \n",
    "        else:\n",
    "        \n",
    "            print(column)\n",
    "        \n",
    "            print()\n",
    "        \n",
    "            print(df[column].describe())\n",
    "        \n",
    "            print()"
   ]
  },
  {
   "cell_type": "code",
   "execution_count": 363,
   "metadata": {},
   "outputs": [
    {
     "data": {
      "text/plain": [
       "['User id',\n",
       " 'Media Source',\n",
       " 'Placement',\n",
       " 'CPI',\n",
       " 'Country Code',\n",
       " 'WIFI',\n",
       " 'Platform',\n",
       " 'Device Type',\n",
       " 'OS Version',\n",
       " 'Revenue (USD)']"
      ]
     },
     "execution_count": 363,
     "metadata": {},
     "output_type": "execute_result"
    }
   ],
   "source": [
    "df.columns.tolist()"
   ]
  },
  {
   "cell_type": "code",
   "execution_count": 364,
   "metadata": {},
   "outputs": [],
   "source": [
    "df = df.rename(columns = {'User id':'uid', 'Media Source':'media_source', 'Placement':'placement', 'CPI':'cpi',  'Country Code':'country_code', 'WIFI':'wifi', 'Platform':'platform','Device Type':'device_type', 'OS Version':'os_version', 'Revenue (USD)':'revenue_usd'})"
   ]
  },
  {
   "cell_type": "code",
   "execution_count": 365,
   "metadata": {},
   "outputs": [
    {
     "data": {
      "text/plain": [
       "0"
      ]
     },
     "execution_count": 365,
     "metadata": {},
     "output_type": "execute_result"
    }
   ],
   "source": [
    "df.duplicated().sum()"
   ]
  },
  {
   "cell_type": "markdown",
   "metadata": {},
   "source": [
    "Дубликатов нет"
   ]
  },
  {
   "cell_type": "markdown",
   "metadata": {},
   "source": [
    "Среди уникальных значений столбца `country_code` обнаружены пропуски."
   ]
  },
  {
   "cell_type": "code",
   "execution_count": 366,
   "metadata": {},
   "outputs": [
    {
     "data": {
      "text/html": [
       "<div>\n",
       "<style scoped>\n",
       "    .dataframe tbody tr th:only-of-type {\n",
       "        vertical-align: middle;\n",
       "    }\n",
       "\n",
       "    .dataframe tbody tr th {\n",
       "        vertical-align: top;\n",
       "    }\n",
       "\n",
       "    .dataframe thead th {\n",
       "        text-align: right;\n",
       "    }\n",
       "</style>\n",
       "<table border=\"1\" class=\"dataframe\">\n",
       "  <thead>\n",
       "    <tr style=\"text-align: right;\">\n",
       "      <th></th>\n",
       "      <th>uid</th>\n",
       "      <th>media_source</th>\n",
       "      <th>placement</th>\n",
       "      <th>cpi</th>\n",
       "      <th>country_code</th>\n",
       "      <th>wifi</th>\n",
       "      <th>platform</th>\n",
       "      <th>device_type</th>\n",
       "      <th>os_version</th>\n",
       "      <th>revenue_usd</th>\n",
       "    </tr>\n",
       "  </thead>\n",
       "  <tbody>\n",
       "    <tr>\n",
       "      <td>6373</td>\n",
       "      <td>1510562474325-5255748</td>\n",
       "      <td>Source 2</td>\n",
       "      <td>537b2ea64fb7cc61630002a0</td>\n",
       "      <td>1.6</td>\n",
       "      <td>None</td>\n",
       "      <td>True</td>\n",
       "      <td>ios</td>\n",
       "      <td>iPad Air</td>\n",
       "      <td>11</td>\n",
       "      <td>0.0</td>\n",
       "    </tr>\n",
       "  </tbody>\n",
       "</table>\n",
       "</div>"
      ],
      "text/plain": [
       "                        uid media_source                 placement  cpi  \\\n",
       "6373  1510562474325-5255748     Source 2  537b2ea64fb7cc61630002a0  1.6   \n",
       "\n",
       "     country_code  wifi platform device_type  os_version  revenue_usd  \n",
       "6373         None  True      ios    iPad Air          11          0.0  "
      ]
     },
     "execution_count": 366,
     "metadata": {},
     "output_type": "execute_result"
    }
   ],
   "source": [
    "df[df['country_code'] == 'None']"
   ]
  },
  {
   "cell_type": "markdown",
   "metadata": {},
   "source": [
    "Такая запись всего одна. Избавляемся от нее - на выборку не повлияет."
   ]
  },
  {
   "cell_type": "code",
   "execution_count": 367,
   "metadata": {},
   "outputs": [],
   "source": [
    "df = df[df['country_code'] != 'None']"
   ]
  },
  {
   "cell_type": "code",
   "execution_count": 368,
   "metadata": {},
   "outputs": [
    {
     "data": {
      "text/html": [
       "<div>\n",
       "<style scoped>\n",
       "    .dataframe tbody tr th:only-of-type {\n",
       "        vertical-align: middle;\n",
       "    }\n",
       "\n",
       "    .dataframe tbody tr th {\n",
       "        vertical-align: top;\n",
       "    }\n",
       "\n",
       "    .dataframe thead th {\n",
       "        text-align: right;\n",
       "    }\n",
       "</style>\n",
       "<table border=\"1\" class=\"dataframe\">\n",
       "  <thead>\n",
       "    <tr style=\"text-align: right;\">\n",
       "      <th></th>\n",
       "      <th>uid</th>\n",
       "      <th>media_source</th>\n",
       "      <th>placement</th>\n",
       "      <th>cpi</th>\n",
       "      <th>country_code</th>\n",
       "      <th>wifi</th>\n",
       "      <th>platform</th>\n",
       "      <th>device_type</th>\n",
       "      <th>os_version</th>\n",
       "      <th>revenue_usd</th>\n",
       "    </tr>\n",
       "  </thead>\n",
       "  <tbody>\n",
       "    <tr>\n",
       "      <td>0</td>\n",
       "      <td>1509498644000-2089177</td>\n",
       "      <td>Source 3</td>\n",
       "      <td>22564</td>\n",
       "      <td>0.8</td>\n",
       "      <td>FR</td>\n",
       "      <td>True</td>\n",
       "      <td>ios</td>\n",
       "      <td>iPhone 5c</td>\n",
       "      <td>10</td>\n",
       "      <td>0.000000</td>\n",
       "    </tr>\n",
       "    <tr>\n",
       "      <td>1</td>\n",
       "      <td>1509533912575-3168185</td>\n",
       "      <td>Source 3</td>\n",
       "      <td>26147</td>\n",
       "      <td>0.8</td>\n",
       "      <td>AU</td>\n",
       "      <td>True</td>\n",
       "      <td>ios</td>\n",
       "      <td>iPad Air</td>\n",
       "      <td>10</td>\n",
       "      <td>0.000000</td>\n",
       "    </tr>\n",
       "    <tr>\n",
       "      <td>2</td>\n",
       "      <td>1509531902000-4045807</td>\n",
       "      <td>Source 3</td>\n",
       "      <td>50117</td>\n",
       "      <td>0.8</td>\n",
       "      <td>AU</td>\n",
       "      <td>True</td>\n",
       "      <td>ios</td>\n",
       "      <td>iPad Air</td>\n",
       "      <td>9</td>\n",
       "      <td>0.000000</td>\n",
       "    </tr>\n",
       "    <tr>\n",
       "      <td>3</td>\n",
       "      <td>1509434052619-6725738</td>\n",
       "      <td>Source 3</td>\n",
       "      <td>23924</td>\n",
       "      <td>1.0</td>\n",
       "      <td>US</td>\n",
       "      <td>True</td>\n",
       "      <td>ios</td>\n",
       "      <td>iPad Air 2</td>\n",
       "      <td>11</td>\n",
       "      <td>0.000000</td>\n",
       "    </tr>\n",
       "    <tr>\n",
       "      <td>4</td>\n",
       "      <td>1509471798000-7289726</td>\n",
       "      <td>Source 1</td>\n",
       "      <td>xVa3</td>\n",
       "      <td>1.0</td>\n",
       "      <td>US</td>\n",
       "      <td>True</td>\n",
       "      <td>ios</td>\n",
       "      <td>iPad 2</td>\n",
       "      <td>9</td>\n",
       "      <td>0.000000</td>\n",
       "    </tr>\n",
       "    <tr>\n",
       "      <td>...</td>\n",
       "      <td>...</td>\n",
       "      <td>...</td>\n",
       "      <td>...</td>\n",
       "      <td>...</td>\n",
       "      <td>...</td>\n",
       "      <td>...</td>\n",
       "      <td>...</td>\n",
       "      <td>...</td>\n",
       "      <td>...</td>\n",
       "      <td>...</td>\n",
       "    </tr>\n",
       "    <tr>\n",
       "      <td>9197</td>\n",
       "      <td>1510767826327-1749055</td>\n",
       "      <td>Source 2</td>\n",
       "      <td>59dcdf9dd09cd1c009006157</td>\n",
       "      <td>1.6</td>\n",
       "      <td>US</td>\n",
       "      <td>True</td>\n",
       "      <td>ios</td>\n",
       "      <td>iPhone 6s</td>\n",
       "      <td>11</td>\n",
       "      <td>0.000000</td>\n",
       "    </tr>\n",
       "    <tr>\n",
       "      <td>9198</td>\n",
       "      <td>1510677970349-8078579</td>\n",
       "      <td>Source 2</td>\n",
       "      <td>56572abbd4adae6874000022</td>\n",
       "      <td>1.6</td>\n",
       "      <td>US</td>\n",
       "      <td>False</td>\n",
       "      <td>ios</td>\n",
       "      <td>iPad Air 2</td>\n",
       "      <td>10</td>\n",
       "      <td>0.000000</td>\n",
       "    </tr>\n",
       "    <tr>\n",
       "      <td>9199</td>\n",
       "      <td>1510757264531-1142906</td>\n",
       "      <td>Source 2</td>\n",
       "      <td>59965c405169a3b070005a48</td>\n",
       "      <td>1.6</td>\n",
       "      <td>UK</td>\n",
       "      <td>True</td>\n",
       "      <td>ios</td>\n",
       "      <td>iPhone 7</td>\n",
       "      <td>11</td>\n",
       "      <td>11.913727</td>\n",
       "    </tr>\n",
       "    <tr>\n",
       "      <td>9200</td>\n",
       "      <td>1510789352196-3379853</td>\n",
       "      <td>Source 2</td>\n",
       "      <td>59dcdf9dd09cd1c009006157</td>\n",
       "      <td>1.6</td>\n",
       "      <td>UK</td>\n",
       "      <td>True</td>\n",
       "      <td>ios</td>\n",
       "      <td>iPhone 5s</td>\n",
       "      <td>10</td>\n",
       "      <td>0.000000</td>\n",
       "    </tr>\n",
       "    <tr>\n",
       "      <td>9201</td>\n",
       "      <td>1510790058000-1007857</td>\n",
       "      <td>Source 2</td>\n",
       "      <td>59dcdf9dd09cd1c009006157</td>\n",
       "      <td>1.6</td>\n",
       "      <td>UK</td>\n",
       "      <td>True</td>\n",
       "      <td>ios</td>\n",
       "      <td>iPhone 5</td>\n",
       "      <td>10</td>\n",
       "      <td>0.000000</td>\n",
       "    </tr>\n",
       "  </tbody>\n",
       "</table>\n",
       "<p>9201 rows × 10 columns</p>\n",
       "</div>"
      ],
      "text/plain": [
       "                        uid media_source                 placement  cpi  \\\n",
       "0     1509498644000-2089177     Source 3                     22564  0.8   \n",
       "1     1509533912575-3168185     Source 3                     26147  0.8   \n",
       "2     1509531902000-4045807     Source 3                     50117  0.8   \n",
       "3     1509434052619-6725738     Source 3                     23924  1.0   \n",
       "4     1509471798000-7289726     Source 1                      xVa3  1.0   \n",
       "...                     ...          ...                       ...  ...   \n",
       "9197  1510767826327-1749055     Source 2  59dcdf9dd09cd1c009006157  1.6   \n",
       "9198  1510677970349-8078579     Source 2  56572abbd4adae6874000022  1.6   \n",
       "9199  1510757264531-1142906     Source 2  59965c405169a3b070005a48  1.6   \n",
       "9200  1510789352196-3379853     Source 2  59dcdf9dd09cd1c009006157  1.6   \n",
       "9201  1510790058000-1007857     Source 2  59dcdf9dd09cd1c009006157  1.6   \n",
       "\n",
       "     country_code   wifi platform device_type  os_version  revenue_usd  \n",
       "0              FR   True      ios   iPhone 5c          10     0.000000  \n",
       "1              AU   True      ios    iPad Air          10     0.000000  \n",
       "2              AU   True      ios    iPad Air           9     0.000000  \n",
       "3              US   True      ios  iPad Air 2          11     0.000000  \n",
       "4              US   True      ios      iPad 2           9     0.000000  \n",
       "...           ...    ...      ...         ...         ...          ...  \n",
       "9197           US   True      ios   iPhone 6s          11     0.000000  \n",
       "9198           US  False      ios  iPad Air 2          10     0.000000  \n",
       "9199           UK   True      ios    iPhone 7          11    11.913727  \n",
       "9200           UK   True      ios   iPhone 5s          10     0.000000  \n",
       "9201           UK   True      ios    iPhone 5          10     0.000000  \n",
       "\n",
       "[9201 rows x 10 columns]"
      ]
     },
     "execution_count": 368,
     "metadata": {},
     "output_type": "execute_result"
    }
   ],
   "source": [
    "df"
   ]
  },
  {
   "cell_type": "markdown",
   "metadata": {},
   "source": [
    "Датасет состоит из 9201 записей. При его рассмотрении дубликатов не обнаружено, типы данных соотвествуют столбцам.\n",
    "\n",
    "В столбце `country_code` был обнаружен один пропуск и исключен.\n",
    "\n",
    "Так как стандратное отклонение в столбце `revenue_usd` составляет 130, можем сделать вывод, что имеются выбросы. Рассмотрим в следующем разделе."
   ]
  },
  {
   "cell_type": "markdown",
   "metadata": {},
   "source": [
    "### ROI по источникам трафика"
   ]
  },
  {
   "cell_type": "code",
   "execution_count": 369,
   "metadata": {},
   "outputs": [
    {
     "data": {
      "text/plain": [
       "Source 2    6829\n",
       "Source 1    1626\n",
       "Source 3     746\n",
       "Name: media_source, dtype: int64"
      ]
     },
     "execution_count": 369,
     "metadata": {},
     "output_type": "execute_result"
    }
   ],
   "source": [
    "#Кол-во уникальных значений\n",
    "df['media_source'].value_counts()"
   ]
  },
  {
   "cell_type": "markdown",
   "metadata": {},
   "source": [
    "Прежде чем производить расчет метрики изучим распределения данных, поскольку результаты могут искажаться аномалиями."
   ]
  },
  {
   "cell_type": "code",
   "execution_count": 370,
   "metadata": {},
   "outputs": [
    {
     "data": {
      "text/plain": [
       "(array([9.199e+03, 0.000e+00, 0.000e+00, 0.000e+00, 0.000e+00, 0.000e+00,\n",
       "        0.000e+00, 1.000e+00, 0.000e+00, 1.000e+00]),\n",
       " array([    0.      ,  1023.764871,  2047.529742,  3071.294613,\n",
       "         4095.059484,  5118.824355,  6142.589226,  7166.354097,\n",
       "         8190.118968,  9213.883839, 10237.64871 ]),\n",
       " <a list of 10 Patch objects>)"
      ]
     },
     "execution_count": 370,
     "metadata": {},
     "output_type": "execute_result"
    },
    {
     "data": {
      "image/png": "[encoded data removed]",
      "text/plain": [
       "<Figure size 864x432 with 1 Axes>"
      ]
     },
     "metadata": {
      "needs_background": "light"
     },
     "output_type": "display_data"
    }
   ],
   "source": [
    "plt.figure(figsize = (12, 6))\n",
    "plt.title('Распределение сумм платежей')\n",
    "plt.xlabel('Сумма платежа')\n",
    "plt.ylabel('Частота')\n",
    "plt.hist(df['revenue_usd'])"
   ]
  },
  {
   "cell_type": "markdown",
   "metadata": {},
   "source": [
    "Имеется длинный хвост аномальных значений. Рассмотрим его при приближении:"
   ]
  },
  {
   "cell_type": "code",
   "execution_count": 371,
   "metadata": {
    "scrolled": false
   },
   "outputs": [
    {
     "data": {
      "text/plain": [
       "(array([9., 0., 0., 0., 0., 0., 1., 0., 0., 1.]),\n",
       " array([  100.,  1190.,  2280.,  3370.,  4460.,  5550.,  6640.,  7730.,\n",
       "         8820.,  9910., 11000.]),\n",
       " <a list of 10 Patch objects>)"
      ]
     },
     "execution_count": 371,
     "metadata": {},
     "output_type": "execute_result"
    },
    {
     "data": {
      "image/png": "[encoded data removed]",
      "text/plain": [
       "<Figure size 864x432 with 1 Axes>"
      ]
     },
     "metadata": {
      "needs_background": "light"
     },
     "output_type": "display_data"
    }
   ],
   "source": [
    "plt.figure(figsize = (12, 6))\n",
    "plt.title('Распределение сумм платежей')\n",
    "plt.xlabel('Сумма платежа')\n",
    "plt.ylabel('Частота')\n",
    "plt.hist(df['revenue_usd'], range = (100, 11000))"
   ]
  },
  {
   "cell_type": "markdown",
   "metadata": {},
   "source": [
    "Пользователи, как правило в сумме не тратят более 50 долларов. Возможно, в выборку попали более 'старые' пользователи.\n",
    "\n",
    "Принято отсеивать от 1% до 5% наблюдений с крайними значениями. Расчитаем 95 и 99 перцентили."
   ]
  },
  {
   "cell_type": "code",
   "execution_count": 372,
   "metadata": {},
   "outputs": [
    {
     "name": "stdout",
     "output_type": "stream",
     "text": [
      "[ 0.   17.92]\n"
     ]
    }
   ],
   "source": [
    "print(np.percentile(df['revenue_usd'], [95, 99]))"
   ]
  },
  {
   "cell_type": "markdown",
   "metadata": {},
   "source": [
    "Избавимся от записей с платежами более 17,92 долларов."
   ]
  },
  {
   "cell_type": "code",
   "execution_count": 373,
   "metadata": {},
   "outputs": [
    {
     "data": {
      "text/html": [
       "<div>\n",
       "<style scoped>\n",
       "    .dataframe tbody tr th:only-of-type {\n",
       "        vertical-align: middle;\n",
       "    }\n",
       "\n",
       "    .dataframe tbody tr th {\n",
       "        vertical-align: top;\n",
       "    }\n",
       "\n",
       "    .dataframe thead th {\n",
       "        text-align: right;\n",
       "    }\n",
       "</style>\n",
       "<table border=\"1\" class=\"dataframe\">\n",
       "  <thead>\n",
       "    <tr style=\"text-align: right;\">\n",
       "      <th></th>\n",
       "      <th>uid</th>\n",
       "      <th>media_source</th>\n",
       "      <th>placement</th>\n",
       "      <th>cpi</th>\n",
       "      <th>country_code</th>\n",
       "      <th>wifi</th>\n",
       "      <th>platform</th>\n",
       "      <th>device_type</th>\n",
       "      <th>os_version</th>\n",
       "      <th>revenue_usd</th>\n",
       "    </tr>\n",
       "  </thead>\n",
       "  <tbody>\n",
       "    <tr>\n",
       "      <td>3410</td>\n",
       "      <td>1510392070120-3008605</td>\n",
       "      <td>Source 2</td>\n",
       "      <td>56a1169c2ef5591f35000023</td>\n",
       "      <td>1.6</td>\n",
       "      <td>FR</td>\n",
       "      <td>True</td>\n",
       "      <td>ios</td>\n",
       "      <td>iPhone 6</td>\n",
       "      <td>11</td>\n",
       "      <td>0.0</td>\n",
       "    </tr>\n",
       "    <tr>\n",
       "      <td>5499</td>\n",
       "      <td>1510515861293-9926348</td>\n",
       "      <td>Source 2</td>\n",
       "      <td>59dcdf9dd09cd1c009006157</td>\n",
       "      <td>1.6</td>\n",
       "      <td>UK</td>\n",
       "      <td>True</td>\n",
       "      <td>ios</td>\n",
       "      <td>iPhone 7</td>\n",
       "      <td>10</td>\n",
       "      <td>0.0</td>\n",
       "    </tr>\n",
       "    <tr>\n",
       "      <td>6256</td>\n",
       "      <td>1510573435000-3568242</td>\n",
       "      <td>Source 2</td>\n",
       "      <td>537b2ea64fb7cc61630002a0</td>\n",
       "      <td>1.6</td>\n",
       "      <td>FR</td>\n",
       "      <td>False</td>\n",
       "      <td>ios</td>\n",
       "      <td>iPhone 5s</td>\n",
       "      <td>10</td>\n",
       "      <td>0.0</td>\n",
       "    </tr>\n",
       "    <tr>\n",
       "      <td>1991</td>\n",
       "      <td>1510099861666-7757374</td>\n",
       "      <td>Source 1</td>\n",
       "      <td>MHK4</td>\n",
       "      <td>0.8</td>\n",
       "      <td>UK</td>\n",
       "      <td>True</td>\n",
       "      <td>ios</td>\n",
       "      <td>iPhone 8 Plus</td>\n",
       "      <td>9</td>\n",
       "      <td>0.0</td>\n",
       "    </tr>\n",
       "    <tr>\n",
       "      <td>1686</td>\n",
       "      <td>1509962496900-1531322</td>\n",
       "      <td>Source 2</td>\n",
       "      <td>590b5df4004ccfdd3b000a35</td>\n",
       "      <td>1.0</td>\n",
       "      <td>NL</td>\n",
       "      <td>True</td>\n",
       "      <td>ios</td>\n",
       "      <td>iPad Air 2</td>\n",
       "      <td>11</td>\n",
       "      <td>0.0</td>\n",
       "    </tr>\n",
       "    <tr>\n",
       "      <td>5436</td>\n",
       "      <td>1510489725000-8449032</td>\n",
       "      <td>Source 2</td>\n",
       "      <td>5196a027a62035e1540000cb</td>\n",
       "      <td>1.6</td>\n",
       "      <td>US</td>\n",
       "      <td>True</td>\n",
       "      <td>ios</td>\n",
       "      <td>iPad Mini 2</td>\n",
       "      <td>10</td>\n",
       "      <td>0.0</td>\n",
       "    </tr>\n",
       "    <tr>\n",
       "      <td>7574</td>\n",
       "      <td>1510676587553-720783</td>\n",
       "      <td>Source 2</td>\n",
       "      <td>59dcdf9dd09cd1c009006157</td>\n",
       "      <td>1.6</td>\n",
       "      <td>UK</td>\n",
       "      <td>True</td>\n",
       "      <td>ios</td>\n",
       "      <td>iPhone 5s</td>\n",
       "      <td>11</td>\n",
       "      <td>0.0</td>\n",
       "    </tr>\n",
       "    <tr>\n",
       "      <td>3488</td>\n",
       "      <td>1510417439011-2211483</td>\n",
       "      <td>Source 2</td>\n",
       "      <td>599d95d75169a3b070008c19</td>\n",
       "      <td>1.6</td>\n",
       "      <td>NL</td>\n",
       "      <td>True</td>\n",
       "      <td>ios</td>\n",
       "      <td>iPad Air</td>\n",
       "      <td>11</td>\n",
       "      <td>0.0</td>\n",
       "    </tr>\n",
       "    <tr>\n",
       "      <td>2469</td>\n",
       "      <td>1510296341328-7988306</td>\n",
       "      <td>Source 2</td>\n",
       "      <td>52eb1d5c1fd94b2d1300000c</td>\n",
       "      <td>1.6</td>\n",
       "      <td>NL</td>\n",
       "      <td>False</td>\n",
       "      <td>ios</td>\n",
       "      <td>iPhone 5s</td>\n",
       "      <td>11</td>\n",
       "      <td>0.0</td>\n",
       "    </tr>\n",
       "    <tr>\n",
       "      <td>7560</td>\n",
       "      <td>1510600475214-2945709</td>\n",
       "      <td>Source 2</td>\n",
       "      <td>59d4efb60b9e07c12500358a</td>\n",
       "      <td>1.6</td>\n",
       "      <td>SE</td>\n",
       "      <td>True</td>\n",
       "      <td>ios</td>\n",
       "      <td>iPhone 5s</td>\n",
       "      <td>10</td>\n",
       "      <td>0.0</td>\n",
       "    </tr>\n",
       "  </tbody>\n",
       "</table>\n",
       "</div>"
      ],
      "text/plain": [
       "                        uid media_source                 placement  cpi  \\\n",
       "3410  1510392070120-3008605     Source 2  56a1169c2ef5591f35000023  1.6   \n",
       "5499  1510515861293-9926348     Source 2  59dcdf9dd09cd1c009006157  1.6   \n",
       "6256  1510573435000-3568242     Source 2  537b2ea64fb7cc61630002a0  1.6   \n",
       "1991  1510099861666-7757374     Source 1                      MHK4  0.8   \n",
       "1686  1509962496900-1531322     Source 2  590b5df4004ccfdd3b000a35  1.0   \n",
       "5436  1510489725000-8449032     Source 2  5196a027a62035e1540000cb  1.6   \n",
       "7574   1510676587553-720783     Source 2  59dcdf9dd09cd1c009006157  1.6   \n",
       "3488  1510417439011-2211483     Source 2  599d95d75169a3b070008c19  1.6   \n",
       "2469  1510296341328-7988306     Source 2  52eb1d5c1fd94b2d1300000c  1.6   \n",
       "7560  1510600475214-2945709     Source 2  59d4efb60b9e07c12500358a  1.6   \n",
       "\n",
       "     country_code   wifi platform    device_type  os_version  revenue_usd  \n",
       "3410           FR   True      ios       iPhone 6          11          0.0  \n",
       "5499           UK   True      ios       iPhone 7          10          0.0  \n",
       "6256           FR  False      ios      iPhone 5s          10          0.0  \n",
       "1991           UK   True      ios  iPhone 8 Plus           9          0.0  \n",
       "1686           NL   True      ios     iPad Air 2          11          0.0  \n",
       "5436           US   True      ios    iPad Mini 2          10          0.0  \n",
       "7574           UK   True      ios      iPhone 5s          11          0.0  \n",
       "3488           NL   True      ios       iPad Air          11          0.0  \n",
       "2469           NL  False      ios      iPhone 5s          11          0.0  \n",
       "7560           SE   True      ios      iPhone 5s          10          0.0  "
      ]
     },
     "execution_count": 373,
     "metadata": {},
     "output_type": "execute_result"
    }
   ],
   "source": [
    "df_n = df[df['revenue_usd'] <= 17]\n",
    "df_n.sample(10)"
   ]
  },
  {
   "cell_type": "markdown",
   "metadata": {},
   "source": [
    "Расчитаем ROI по исходному и очищенному датафрейму и сравним полученные значения."
   ]
  },
  {
   "cell_type": "code",
   "execution_count": 374,
   "metadata": {},
   "outputs": [
    {
     "data": {
      "text/html": [
       "<div>\n",
       "<style scoped>\n",
       "    .dataframe tbody tr th:only-of-type {\n",
       "        vertical-align: middle;\n",
       "    }\n",
       "\n",
       "    .dataframe tbody tr th {\n",
       "        vertical-align: top;\n",
       "    }\n",
       "\n",
       "    .dataframe thead th {\n",
       "        text-align: right;\n",
       "    }\n",
       "</style>\n",
       "<table border=\"1\" class=\"dataframe\">\n",
       "  <thead>\n",
       "    <tr style=\"text-align: right;\">\n",
       "      <th></th>\n",
       "      <th>cpi</th>\n",
       "      <th>revenue_usd</th>\n",
       "      <th>roi</th>\n",
       "    </tr>\n",
       "    <tr>\n",
       "      <th>media_source</th>\n",
       "      <th></th>\n",
       "      <th></th>\n",
       "      <th></th>\n",
       "    </tr>\n",
       "  </thead>\n",
       "  <tbody>\n",
       "    <tr>\n",
       "      <td>Source 1</td>\n",
       "      <td>1510.6</td>\n",
       "      <td>1398.410461</td>\n",
       "      <td>978.887323</td>\n",
       "    </tr>\n",
       "    <tr>\n",
       "      <td>Source 2</td>\n",
       "      <td>10481.6</td>\n",
       "      <td>20665.202056</td>\n",
       "      <td>14465.641439</td>\n",
       "    </tr>\n",
       "    <tr>\n",
       "      <td>Source 3</td>\n",
       "      <td>612.2</td>\n",
       "      <td>1105.274402</td>\n",
       "      <td>773.692081</td>\n",
       "    </tr>\n",
       "  </tbody>\n",
       "</table>\n",
       "</div>"
      ],
      "text/plain": [
       "                  cpi   revenue_usd           roi\n",
       "media_source                                     \n",
       "Source 1       1510.6   1398.410461    978.887323\n",
       "Source 2      10481.6  20665.202056  14465.641439\n",
       "Source 3        612.2   1105.274402    773.692081"
      ]
     },
     "execution_count": 374,
     "metadata": {},
     "output_type": "execute_result"
    }
   ],
   "source": [
    "source=df.groupby(['media_source']).agg({'cpi': 'sum', 'revenue_usd':'sum'})\n",
    "source['roi']=source['revenue_usd']-source['revenue_usd']*0.3  #комиссия AppStore = 30%\n",
    "source"
   ]
  },
  {
   "cell_type": "code",
   "execution_count": 375,
   "metadata": {},
   "outputs": [
    {
     "data": {
      "text/html": [
       "<div>\n",
       "<style scoped>\n",
       "    .dataframe tbody tr th:only-of-type {\n",
       "        vertical-align: middle;\n",
       "    }\n",
       "\n",
       "    .dataframe tbody tr th {\n",
       "        vertical-align: top;\n",
       "    }\n",
       "\n",
       "    .dataframe thead th {\n",
       "        text-align: right;\n",
       "    }\n",
       "</style>\n",
       "<table border=\"1\" class=\"dataframe\">\n",
       "  <thead>\n",
       "    <tr style=\"text-align: right;\">\n",
       "      <th></th>\n",
       "      <th>roi</th>\n",
       "    </tr>\n",
       "    <tr>\n",
       "      <th>media_source</th>\n",
       "      <th></th>\n",
       "    </tr>\n",
       "  </thead>\n",
       "  <tbody>\n",
       "    <tr>\n",
       "      <td>Source 1</td>\n",
       "      <td>0.648012</td>\n",
       "    </tr>\n",
       "    <tr>\n",
       "      <td>Source 2</td>\n",
       "      <td>1.380099</td>\n",
       "    </tr>\n",
       "    <tr>\n",
       "      <td>Source 3</td>\n",
       "      <td>1.263790</td>\n",
       "    </tr>\n",
       "  </tbody>\n",
       "</table>\n",
       "</div>"
      ],
      "text/plain": [
       "                   roi\n",
       "media_source          \n",
       "Source 1      0.648012\n",
       "Source 2      1.380099\n",
       "Source 3      1.263790"
      ]
     },
     "execution_count": 375,
     "metadata": {},
     "output_type": "execute_result"
    }
   ],
   "source": [
    "roi = source.div(source['cpi'], axis = 0).drop(columns = ['cpi', 'revenue_usd'])\n",
    "roi"
   ]
  },
  {
   "cell_type": "code",
   "execution_count": 376,
   "metadata": {},
   "outputs": [
    {
     "data": {
      "text/plain": [
       "<matplotlib.axes._subplots.AxesSubplot at 0x7f52690e7b10>"
      ]
     },
     "execution_count": 376,
     "metadata": {},
     "output_type": "execute_result"
    },
    {
     "data": {
      "image/png": "[encoded data removed]",
      "text/plain": [
       "<Figure size 1152x360 with 2 Axes>"
      ]
     },
     "metadata": {
      "needs_background": "light"
     },
     "output_type": "display_data"
    }
   ],
   "source": [
    "# считаем ROI\n",
    "\n",
    "plt.figure(figsize=(16, 5))\n",
    "plt.title('ROI по источникам')\n",
    "sns.heatmap(roi, annot=True, fmt='.3f', linewidths=1, linecolor='gray', cmap = 'Blues')"
   ]
  },
  {
   "cell_type": "markdown",
   "metadata": {},
   "source": [
    "Учитвая данные исходного датафрейма, из трех источников трафика не окупился только Source 1."
   ]
  },
  {
   "cell_type": "code",
   "execution_count": 377,
   "metadata": {},
   "outputs": [
    {
     "data": {
      "text/plain": [
       "<matplotlib.axes._subplots.AxesSubplot at 0x7f52687c0d50>"
      ]
     },
     "execution_count": 377,
     "metadata": {},
     "output_type": "execute_result"
    },
    {
     "data": {
      "image/png": "[encoded data removed]",
      "text/plain": [
       "<Figure size 1152x360 with 2 Axes>"
      ]
     },
     "metadata": {
      "needs_background": "light"
     },
     "output_type": "display_data"
    }
   ],
   "source": [
    "source_n=df_n.groupby(['media_source']).agg({'cpi': 'sum', 'revenue_usd':'sum'})\n",
    "source_n['roi']=source_n['revenue_usd']-source_n['revenue_usd']*0.3  #комиссия AppStore = 30%\n",
    "roi_n = source_n.div(source['cpi'], axis = 0).drop(columns = ['cpi', 'revenue_usd'])\n",
    "plt.figure(figsize=(16, 5))\n",
    "plt.title('ROI по источникам')\n",
    "sns.heatmap(roi_n, annot=True, fmt='.3f', linewidths=1, linecolor='gray', cmap = 'Blues')"
   ]
  },
  {
   "cell_type": "markdown",
   "metadata": {},
   "source": [
    "По очищенному датафрейму не окупились все три источника данных."
   ]
  },
  {
   "cell_type": "markdown",
   "metadata": {},
   "source": [
    "### ROI при увеличении CPI до 1,6 дол. по источнику трафика  Source 3"
   ]
  },
  {
   "cell_type": "code",
   "execution_count": 392,
   "metadata": {},
   "outputs": [
    {
     "data": {
      "text/html": [
       "<div>\n",
       "<style scoped>\n",
       "    .dataframe tbody tr th:only-of-type {\n",
       "        vertical-align: middle;\n",
       "    }\n",
       "\n",
       "    .dataframe tbody tr th {\n",
       "        vertical-align: top;\n",
       "    }\n",
       "\n",
       "    .dataframe thead th {\n",
       "        text-align: right;\n",
       "    }\n",
       "</style>\n",
       "<table border=\"1\" class=\"dataframe\">\n",
       "  <thead>\n",
       "    <tr style=\"text-align: right;\">\n",
       "      <th></th>\n",
       "      <th>uid</th>\n",
       "      <th>media_source</th>\n",
       "      <th>placement</th>\n",
       "      <th>cpi</th>\n",
       "      <th>country_code</th>\n",
       "      <th>wifi</th>\n",
       "      <th>platform</th>\n",
       "      <th>device_type</th>\n",
       "      <th>os_version</th>\n",
       "      <th>revenue_usd</th>\n",
       "      <th>cpi_new</th>\n",
       "    </tr>\n",
       "  </thead>\n",
       "  <tbody>\n",
       "    <tr>\n",
       "      <td>0</td>\n",
       "      <td>1509498644000-2089177</td>\n",
       "      <td>Source 3</td>\n",
       "      <td>22564</td>\n",
       "      <td>0.8</td>\n",
       "      <td>FR</td>\n",
       "      <td>True</td>\n",
       "      <td>ios</td>\n",
       "      <td>iPhone 5c</td>\n",
       "      <td>10</td>\n",
       "      <td>0.000000</td>\n",
       "      <td>0.8</td>\n",
       "    </tr>\n",
       "    <tr>\n",
       "      <td>1</td>\n",
       "      <td>1509533912575-3168185</td>\n",
       "      <td>Source 3</td>\n",
       "      <td>26147</td>\n",
       "      <td>0.8</td>\n",
       "      <td>AU</td>\n",
       "      <td>True</td>\n",
       "      <td>ios</td>\n",
       "      <td>iPad Air</td>\n",
       "      <td>10</td>\n",
       "      <td>0.000000</td>\n",
       "      <td>0.8</td>\n",
       "    </tr>\n",
       "    <tr>\n",
       "      <td>2</td>\n",
       "      <td>1509531902000-4045807</td>\n",
       "      <td>Source 3</td>\n",
       "      <td>50117</td>\n",
       "      <td>0.8</td>\n",
       "      <td>AU</td>\n",
       "      <td>True</td>\n",
       "      <td>ios</td>\n",
       "      <td>iPad Air</td>\n",
       "      <td>9</td>\n",
       "      <td>0.000000</td>\n",
       "      <td>0.8</td>\n",
       "    </tr>\n",
       "    <tr>\n",
       "      <td>3</td>\n",
       "      <td>1509434052619-6725738</td>\n",
       "      <td>Source 3</td>\n",
       "      <td>23924</td>\n",
       "      <td>1.0</td>\n",
       "      <td>US</td>\n",
       "      <td>True</td>\n",
       "      <td>ios</td>\n",
       "      <td>iPad Air 2</td>\n",
       "      <td>11</td>\n",
       "      <td>0.000000</td>\n",
       "      <td>1.6</td>\n",
       "    </tr>\n",
       "    <tr>\n",
       "      <td>4</td>\n",
       "      <td>1509471798000-7289726</td>\n",
       "      <td>Source 1</td>\n",
       "      <td>xVa3</td>\n",
       "      <td>1.0</td>\n",
       "      <td>US</td>\n",
       "      <td>True</td>\n",
       "      <td>ios</td>\n",
       "      <td>iPad 2</td>\n",
       "      <td>9</td>\n",
       "      <td>0.000000</td>\n",
       "      <td>1.0</td>\n",
       "    </tr>\n",
       "    <tr>\n",
       "      <td>...</td>\n",
       "      <td>...</td>\n",
       "      <td>...</td>\n",
       "      <td>...</td>\n",
       "      <td>...</td>\n",
       "      <td>...</td>\n",
       "      <td>...</td>\n",
       "      <td>...</td>\n",
       "      <td>...</td>\n",
       "      <td>...</td>\n",
       "      <td>...</td>\n",
       "      <td>...</td>\n",
       "    </tr>\n",
       "    <tr>\n",
       "      <td>9197</td>\n",
       "      <td>1510767826327-1749055</td>\n",
       "      <td>Source 2</td>\n",
       "      <td>59dcdf9dd09cd1c009006157</td>\n",
       "      <td>1.6</td>\n",
       "      <td>US</td>\n",
       "      <td>True</td>\n",
       "      <td>ios</td>\n",
       "      <td>iPhone 6s</td>\n",
       "      <td>11</td>\n",
       "      <td>0.000000</td>\n",
       "      <td>1.6</td>\n",
       "    </tr>\n",
       "    <tr>\n",
       "      <td>9198</td>\n",
       "      <td>1510677970349-8078579</td>\n",
       "      <td>Source 2</td>\n",
       "      <td>56572abbd4adae6874000022</td>\n",
       "      <td>1.6</td>\n",
       "      <td>US</td>\n",
       "      <td>False</td>\n",
       "      <td>ios</td>\n",
       "      <td>iPad Air 2</td>\n",
       "      <td>10</td>\n",
       "      <td>0.000000</td>\n",
       "      <td>1.6</td>\n",
       "    </tr>\n",
       "    <tr>\n",
       "      <td>9199</td>\n",
       "      <td>1510757264531-1142906</td>\n",
       "      <td>Source 2</td>\n",
       "      <td>59965c405169a3b070005a48</td>\n",
       "      <td>1.6</td>\n",
       "      <td>UK</td>\n",
       "      <td>True</td>\n",
       "      <td>ios</td>\n",
       "      <td>iPhone 7</td>\n",
       "      <td>11</td>\n",
       "      <td>11.913727</td>\n",
       "      <td>1.6</td>\n",
       "    </tr>\n",
       "    <tr>\n",
       "      <td>9200</td>\n",
       "      <td>1510789352196-3379853</td>\n",
       "      <td>Source 2</td>\n",
       "      <td>59dcdf9dd09cd1c009006157</td>\n",
       "      <td>1.6</td>\n",
       "      <td>UK</td>\n",
       "      <td>True</td>\n",
       "      <td>ios</td>\n",
       "      <td>iPhone 5s</td>\n",
       "      <td>10</td>\n",
       "      <td>0.000000</td>\n",
       "      <td>1.6</td>\n",
       "    </tr>\n",
       "    <tr>\n",
       "      <td>9201</td>\n",
       "      <td>1510790058000-1007857</td>\n",
       "      <td>Source 2</td>\n",
       "      <td>59dcdf9dd09cd1c009006157</td>\n",
       "      <td>1.6</td>\n",
       "      <td>UK</td>\n",
       "      <td>True</td>\n",
       "      <td>ios</td>\n",
       "      <td>iPhone 5</td>\n",
       "      <td>10</td>\n",
       "      <td>0.000000</td>\n",
       "      <td>1.6</td>\n",
       "    </tr>\n",
       "  </tbody>\n",
       "</table>\n",
       "<p>9201 rows × 11 columns</p>\n",
       "</div>"
      ],
      "text/plain": [
       "                        uid media_source                 placement  cpi  \\\n",
       "0     1509498644000-2089177     Source 3                     22564  0.8   \n",
       "1     1509533912575-3168185     Source 3                     26147  0.8   \n",
       "2     1509531902000-4045807     Source 3                     50117  0.8   \n",
       "3     1509434052619-6725738     Source 3                     23924  1.0   \n",
       "4     1509471798000-7289726     Source 1                      xVa3  1.0   \n",
       "...                     ...          ...                       ...  ...   \n",
       "9197  1510767826327-1749055     Source 2  59dcdf9dd09cd1c009006157  1.6   \n",
       "9198  1510677970349-8078579     Source 2  56572abbd4adae6874000022  1.6   \n",
       "9199  1510757264531-1142906     Source 2  59965c405169a3b070005a48  1.6   \n",
       "9200  1510789352196-3379853     Source 2  59dcdf9dd09cd1c009006157  1.6   \n",
       "9201  1510790058000-1007857     Source 2  59dcdf9dd09cd1c009006157  1.6   \n",
       "\n",
       "     country_code   wifi platform device_type  os_version  revenue_usd  \\\n",
       "0              FR   True      ios   iPhone 5c          10     0.000000   \n",
       "1              AU   True      ios    iPad Air          10     0.000000   \n",
       "2              AU   True      ios    iPad Air           9     0.000000   \n",
       "3              US   True      ios  iPad Air 2          11     0.000000   \n",
       "4              US   True      ios      iPad 2           9     0.000000   \n",
       "...           ...    ...      ...         ...         ...          ...   \n",
       "9197           US   True      ios   iPhone 6s          11     0.000000   \n",
       "9198           US  False      ios  iPad Air 2          10     0.000000   \n",
       "9199           UK   True      ios    iPhone 7          11    11.913727   \n",
       "9200           UK   True      ios   iPhone 5s          10     0.000000   \n",
       "9201           UK   True      ios    iPhone 5          10     0.000000   \n",
       "\n",
       "      cpi_new  \n",
       "0         0.8  \n",
       "1         0.8  \n",
       "2         0.8  \n",
       "3         1.6  \n",
       "4         1.0  \n",
       "...       ...  \n",
       "9197      1.6  \n",
       "9198      1.6  \n",
       "9199      1.6  \n",
       "9200      1.6  \n",
       "9201      1.6  \n",
       "\n",
       "[9201 rows x 11 columns]"
      ]
     },
     "execution_count": 392,
     "metadata": {},
     "output_type": "execute_result"
    }
   ],
   "source": [
    "def cpi(row): #создаём функцию, принимающую один аргумент:cpi\n",
    "    cpi = row['cpi']\n",
    "    if row['media_source'] == 'Source 3' and row['country_code'] == 'US' :\n",
    "        return 1.6\n",
    "    else: \n",
    "        return cpi\n",
    "   \n",
    "df['cpi_new'] = df.apply(cpi, axis = 1)\n",
    "df"
   ]
  },
  {
   "cell_type": "code",
   "execution_count": 393,
   "metadata": {},
   "outputs": [
    {
     "data": {
      "text/plain": [
       "<matplotlib.axes._subplots.AxesSubplot at 0x7f52682fcc50>"
      ]
     },
     "execution_count": 393,
     "metadata": {},
     "output_type": "execute_result"
    },
    {
     "data": {
      "image/png": "[encoded data removed]",
      "text/plain": [
       "<Figure size 1152x360 with 2 Axes>"
      ]
     },
     "metadata": {
      "needs_background": "light"
     },
     "output_type": "display_data"
    }
   ],
   "source": [
    "source_=df_n.groupby(['media_source']).agg({'cpi': 'sum', 'revenue_usd':'sum'})\n",
    "source_n['roi']=source_n['revenue_usd']-source_n['revenue_usd']*0.3  #комиссия AppStore = 30%\n",
    "roi_n = source_n.div(source['cpi'], axis = 0).drop(columns = ['cpi', 'revenue_usd'])\n",
    "plt.figure(figsize=(16, 5))\n",
    "plt.title('ROI по источникам')\n",
    "sns.heatmap(roi_n, annot=True, fmt='.3f', linewidths=1, linecolor='gray', cmap = 'Blues')"
   ]
  },
  {
   "cell_type": "markdown",
   "metadata": {},
   "source": [
    "Даже по неочищенному датафрейму третий источник трафика не окупается при увеличении CPI в USA до 6 долларов.\n",
    "Поэтому данное меоприятие не рекомендуется."
   ]
  },
  {
   "cell_type": "markdown",
   "metadata": {},
   "source": [
    "### Конверсия в платящего в зависимости от наличия WiFi"
   ]
  },
  {
   "cell_type": "markdown",
   "metadata": {},
   "source": [
    "Готовим выборки пользователей, использующих и не использующих WiFi при установке.\n",
    "\n",
    "Так как даты транзакций у нас отсуствуют, чтобы несильно искажать результат, используем очищенный датафрейм."
   ]
  },
  {
   "cell_type": "code",
   "execution_count": 333,
   "metadata": {},
   "outputs": [
    {
     "data": {
      "text/html": [
       "<div>\n",
       "<style scoped>\n",
       "    .dataframe tbody tr th:only-of-type {\n",
       "        vertical-align: middle;\n",
       "    }\n",
       "\n",
       "    .dataframe tbody tr th {\n",
       "        vertical-align: top;\n",
       "    }\n",
       "\n",
       "    .dataframe thead th {\n",
       "        text-align: right;\n",
       "    }\n",
       "</style>\n",
       "<table border=\"1\" class=\"dataframe\">\n",
       "  <thead>\n",
       "    <tr style=\"text-align: right;\">\n",
       "      <th></th>\n",
       "      <th>uid</th>\n",
       "      <th>media_source</th>\n",
       "      <th>placement</th>\n",
       "      <th>cpi</th>\n",
       "      <th>country_code</th>\n",
       "      <th>wifi</th>\n",
       "      <th>platform</th>\n",
       "      <th>device_type</th>\n",
       "      <th>os_version</th>\n",
       "      <th>revenue_usd</th>\n",
       "      <th>payment</th>\n",
       "    </tr>\n",
       "  </thead>\n",
       "  <tbody>\n",
       "    <tr>\n",
       "      <td>5778</td>\n",
       "      <td>1510506672961-273009</td>\n",
       "      <td>Source 2</td>\n",
       "      <td>537b2ea64fb7cc61630002a0</td>\n",
       "      <td>1.6</td>\n",
       "      <td>FR</td>\n",
       "      <td>True</td>\n",
       "      <td>ios</td>\n",
       "      <td>iPhone 6s</td>\n",
       "      <td>11</td>\n",
       "      <td>0.0</td>\n",
       "      <td>0</td>\n",
       "    </tr>\n",
       "    <tr>\n",
       "      <td>967</td>\n",
       "      <td>1509798717406-2060506</td>\n",
       "      <td>Source 1</td>\n",
       "      <td>2yBe</td>\n",
       "      <td>1.0</td>\n",
       "      <td>US</td>\n",
       "      <td>True</td>\n",
       "      <td>ios</td>\n",
       "      <td>iPhone 6s Plus</td>\n",
       "      <td>11</td>\n",
       "      <td>0.0</td>\n",
       "      <td>0</td>\n",
       "    </tr>\n",
       "    <tr>\n",
       "      <td>4357</td>\n",
       "      <td>1510484653128-8403971</td>\n",
       "      <td>Source 2</td>\n",
       "      <td>59dcdf9dd09cd1c009006157</td>\n",
       "      <td>1.6</td>\n",
       "      <td>UK</td>\n",
       "      <td>True</td>\n",
       "      <td>ios</td>\n",
       "      <td>iPhone SE</td>\n",
       "      <td>11</td>\n",
       "      <td>0.0</td>\n",
       "      <td>0</td>\n",
       "    </tr>\n",
       "    <tr>\n",
       "      <td>9151</td>\n",
       "      <td>1510785500560-3802516</td>\n",
       "      <td>Source 2</td>\n",
       "      <td>5991ad5c9a165cfb58005ef6</td>\n",
       "      <td>1.6</td>\n",
       "      <td>NO</td>\n",
       "      <td>True</td>\n",
       "      <td>ios</td>\n",
       "      <td>iPhone 7</td>\n",
       "      <td>11</td>\n",
       "      <td>0.0</td>\n",
       "      <td>0</td>\n",
       "    </tr>\n",
       "    <tr>\n",
       "      <td>8295</td>\n",
       "      <td>1510745970721-7834605</td>\n",
       "      <td>Source 2</td>\n",
       "      <td>56a1169c2ef5591f35000023</td>\n",
       "      <td>1.6</td>\n",
       "      <td>NL</td>\n",
       "      <td>True</td>\n",
       "      <td>ios</td>\n",
       "      <td>iPad 5</td>\n",
       "      <td>10</td>\n",
       "      <td>0.0</td>\n",
       "      <td>0</td>\n",
       "    </tr>\n",
       "    <tr>\n",
       "      <td>3258</td>\n",
       "      <td>1510399796000-3940693</td>\n",
       "      <td>Source 3</td>\n",
       "      <td>26147</td>\n",
       "      <td>0.8</td>\n",
       "      <td>FR</td>\n",
       "      <td>True</td>\n",
       "      <td>ios</td>\n",
       "      <td>iPhone 4s</td>\n",
       "      <td>9</td>\n",
       "      <td>0.0</td>\n",
       "      <td>0</td>\n",
       "    </tr>\n",
       "    <tr>\n",
       "      <td>8572</td>\n",
       "      <td>1510751532728-5646556</td>\n",
       "      <td>Source 2</td>\n",
       "      <td>59d4efb60b9e07c12500358a</td>\n",
       "      <td>1.6</td>\n",
       "      <td>NL</td>\n",
       "      <td>True</td>\n",
       "      <td>ios</td>\n",
       "      <td>iPhone 6</td>\n",
       "      <td>11</td>\n",
       "      <td>0.0</td>\n",
       "      <td>0</td>\n",
       "    </tr>\n",
       "    <tr>\n",
       "      <td>7369</td>\n",
       "      <td>1510662054000-8493005</td>\n",
       "      <td>Source 2</td>\n",
       "      <td>5991ad5c9a165cfb58005ef6</td>\n",
       "      <td>1.6</td>\n",
       "      <td>UK</td>\n",
       "      <td>True</td>\n",
       "      <td>ios</td>\n",
       "      <td>iPhone 5</td>\n",
       "      <td>10</td>\n",
       "      <td>0.0</td>\n",
       "      <td>0</td>\n",
       "    </tr>\n",
       "    <tr>\n",
       "      <td>5295</td>\n",
       "      <td>1510489262312-3749789</td>\n",
       "      <td>Source 2</td>\n",
       "      <td>5196a027a62035e1540000cb</td>\n",
       "      <td>1.6</td>\n",
       "      <td>US</td>\n",
       "      <td>True</td>\n",
       "      <td>ios</td>\n",
       "      <td>iPhone 6</td>\n",
       "      <td>11</td>\n",
       "      <td>0.0</td>\n",
       "      <td>0</td>\n",
       "    </tr>\n",
       "    <tr>\n",
       "      <td>1608</td>\n",
       "      <td>1509953964295-2488206</td>\n",
       "      <td>Source 2</td>\n",
       "      <td>5937fce04a607e854f000941</td>\n",
       "      <td>1.3</td>\n",
       "      <td>FR</td>\n",
       "      <td>True</td>\n",
       "      <td>ios</td>\n",
       "      <td>iPhone 6</td>\n",
       "      <td>11</td>\n",
       "      <td>0.0</td>\n",
       "      <td>0</td>\n",
       "    </tr>\n",
       "  </tbody>\n",
       "</table>\n",
       "</div>"
      ],
      "text/plain": [
       "                        uid media_source                 placement  cpi  \\\n",
       "5778   1510506672961-273009     Source 2  537b2ea64fb7cc61630002a0  1.6   \n",
       "967   1509798717406-2060506     Source 1                      2yBe  1.0   \n",
       "4357  1510484653128-8403971     Source 2  59dcdf9dd09cd1c009006157  1.6   \n",
       "9151  1510785500560-3802516     Source 2  5991ad5c9a165cfb58005ef6  1.6   \n",
       "8295  1510745970721-7834605     Source 2  56a1169c2ef5591f35000023  1.6   \n",
       "3258  1510399796000-3940693     Source 3                     26147  0.8   \n",
       "8572  1510751532728-5646556     Source 2  59d4efb60b9e07c12500358a  1.6   \n",
       "7369  1510662054000-8493005     Source 2  5991ad5c9a165cfb58005ef6  1.6   \n",
       "5295  1510489262312-3749789     Source 2  5196a027a62035e1540000cb  1.6   \n",
       "1608  1509953964295-2488206     Source 2  5937fce04a607e854f000941  1.3   \n",
       "\n",
       "     country_code  wifi platform     device_type  os_version  revenue_usd  \\\n",
       "5778           FR  True      ios       iPhone 6s          11          0.0   \n",
       "967            US  True      ios  iPhone 6s Plus          11          0.0   \n",
       "4357           UK  True      ios       iPhone SE          11          0.0   \n",
       "9151           NO  True      ios        iPhone 7          11          0.0   \n",
       "8295           NL  True      ios          iPad 5          10          0.0   \n",
       "3258           FR  True      ios       iPhone 4s           9          0.0   \n",
       "8572           NL  True      ios        iPhone 6          11          0.0   \n",
       "7369           UK  True      ios        iPhone 5          10          0.0   \n",
       "5295           US  True      ios        iPhone 6          11          0.0   \n",
       "1608           FR  True      ios        iPhone 6          11          0.0   \n",
       "\n",
       "      payment  \n",
       "5778        0  \n",
       "967         0  \n",
       "4357        0  \n",
       "9151        0  \n",
       "8295        0  \n",
       "3258        0  \n",
       "8572        0  \n",
       "7369        0  \n",
       "5295        0  \n",
       "1608        0  "
      ]
     },
     "execution_count": 333,
     "metadata": {},
     "output_type": "execute_result"
    }
   ],
   "source": [
    "wifi = df_n[df_n['wifi'] == True]\n",
    "wifi.sample(10)"
   ]
  },
  {
   "cell_type": "code",
   "execution_count": 334,
   "metadata": {},
   "outputs": [
    {
     "data": {
      "text/html": [
       "<div>\n",
       "<style scoped>\n",
       "    .dataframe tbody tr th:only-of-type {\n",
       "        vertical-align: middle;\n",
       "    }\n",
       "\n",
       "    .dataframe tbody tr th {\n",
       "        vertical-align: top;\n",
       "    }\n",
       "\n",
       "    .dataframe thead th {\n",
       "        text-align: right;\n",
       "    }\n",
       "</style>\n",
       "<table border=\"1\" class=\"dataframe\">\n",
       "  <thead>\n",
       "    <tr style=\"text-align: right;\">\n",
       "      <th></th>\n",
       "      <th>uid</th>\n",
       "      <th>media_source</th>\n",
       "      <th>placement</th>\n",
       "      <th>cpi</th>\n",
       "      <th>country_code</th>\n",
       "      <th>wifi</th>\n",
       "      <th>platform</th>\n",
       "      <th>device_type</th>\n",
       "      <th>os_version</th>\n",
       "      <th>revenue_usd</th>\n",
       "      <th>payment</th>\n",
       "    </tr>\n",
       "  </thead>\n",
       "  <tbody>\n",
       "    <tr>\n",
       "      <td>1400</td>\n",
       "      <td>1509894546046-5032219</td>\n",
       "      <td>Source 1</td>\n",
       "      <td>q6zK</td>\n",
       "      <td>1.0</td>\n",
       "      <td>US</td>\n",
       "      <td>False</td>\n",
       "      <td>ios</td>\n",
       "      <td>iPhone 7 Plus</td>\n",
       "      <td>11</td>\n",
       "      <td>0.000000</td>\n",
       "      <td>0</td>\n",
       "    </tr>\n",
       "    <tr>\n",
       "      <td>3203</td>\n",
       "      <td>1510397112000-5924194</td>\n",
       "      <td>Source 2</td>\n",
       "      <td>591d74f4e3b119532600168b</td>\n",
       "      <td>1.6</td>\n",
       "      <td>NL</td>\n",
       "      <td>False</td>\n",
       "      <td>ios</td>\n",
       "      <td>iPhone 5</td>\n",
       "      <td>10</td>\n",
       "      <td>0.000000</td>\n",
       "      <td>0</td>\n",
       "    </tr>\n",
       "    <tr>\n",
       "      <td>4613</td>\n",
       "      <td>1510402620631-7791299</td>\n",
       "      <td>Source 1</td>\n",
       "      <td>d2d</td>\n",
       "      <td>1.0</td>\n",
       "      <td>US</td>\n",
       "      <td>False</td>\n",
       "      <td>ios</td>\n",
       "      <td>iPhone 6s</td>\n",
       "      <td>10</td>\n",
       "      <td>0.000000</td>\n",
       "      <td>0</td>\n",
       "    </tr>\n",
       "    <tr>\n",
       "      <td>7666</td>\n",
       "      <td>1510672317843-7112018</td>\n",
       "      <td>Source 2</td>\n",
       "      <td>5991ad5c9a165cfb58005ef6</td>\n",
       "      <td>1.6</td>\n",
       "      <td>UK</td>\n",
       "      <td>False</td>\n",
       "      <td>ios</td>\n",
       "      <td>iPhone 6s</td>\n",
       "      <td>10</td>\n",
       "      <td>2.619365</td>\n",
       "      <td>1</td>\n",
       "    </tr>\n",
       "    <tr>\n",
       "      <td>8369</td>\n",
       "      <td>1510752934581-4320926</td>\n",
       "      <td>Source 2</td>\n",
       "      <td>59d4efb60b9e07c12500358a</td>\n",
       "      <td>1.6</td>\n",
       "      <td>NL</td>\n",
       "      <td>False</td>\n",
       "      <td>ios</td>\n",
       "      <td>iPhone 6s</td>\n",
       "      <td>10</td>\n",
       "      <td>0.000000</td>\n",
       "      <td>0</td>\n",
       "    </tr>\n",
       "    <tr>\n",
       "      <td>5939</td>\n",
       "      <td>1510521378320-3068596</td>\n",
       "      <td>Source 2</td>\n",
       "      <td>59dcdf9dd09cd1c009006157</td>\n",
       "      <td>1.6</td>\n",
       "      <td>US</td>\n",
       "      <td>False</td>\n",
       "      <td>ios</td>\n",
       "      <td>iPhone 7</td>\n",
       "      <td>10</td>\n",
       "      <td>0.000000</td>\n",
       "      <td>0</td>\n",
       "    </tr>\n",
       "    <tr>\n",
       "      <td>6760</td>\n",
       "      <td>1510600646372-7166289</td>\n",
       "      <td>Source 2</td>\n",
       "      <td>58d0e99878aed5dc7f0001d7</td>\n",
       "      <td>1.6</td>\n",
       "      <td>NL</td>\n",
       "      <td>False</td>\n",
       "      <td>ios</td>\n",
       "      <td>iPhone 7</td>\n",
       "      <td>11</td>\n",
       "      <td>0.000000</td>\n",
       "      <td>0</td>\n",
       "    </tr>\n",
       "    <tr>\n",
       "      <td>3879</td>\n",
       "      <td>1510421665450-1615820</td>\n",
       "      <td>Source 2</td>\n",
       "      <td>5735de75e02a8cfc550000b2</td>\n",
       "      <td>1.6</td>\n",
       "      <td>US</td>\n",
       "      <td>False</td>\n",
       "      <td>ios</td>\n",
       "      <td>iPhone 6s</td>\n",
       "      <td>11</td>\n",
       "      <td>14.930000</td>\n",
       "      <td>1</td>\n",
       "    </tr>\n",
       "    <tr>\n",
       "      <td>4661</td>\n",
       "      <td>1510497242321-7177917</td>\n",
       "      <td>Source 3</td>\n",
       "      <td>45161</td>\n",
       "      <td>0.8</td>\n",
       "      <td>FR</td>\n",
       "      <td>False</td>\n",
       "      <td>ios</td>\n",
       "      <td>iPhone SE</td>\n",
       "      <td>11</td>\n",
       "      <td>0.000000</td>\n",
       "      <td>0</td>\n",
       "    </tr>\n",
       "    <tr>\n",
       "      <td>7466</td>\n",
       "      <td>1510672563564-6433961</td>\n",
       "      <td>Source 2</td>\n",
       "      <td>59dcdf9dd09cd1c009006157</td>\n",
       "      <td>1.6</td>\n",
       "      <td>UK</td>\n",
       "      <td>False</td>\n",
       "      <td>ios</td>\n",
       "      <td>iPhone 7</td>\n",
       "      <td>11</td>\n",
       "      <td>0.000000</td>\n",
       "      <td>0</td>\n",
       "    </tr>\n",
       "  </tbody>\n",
       "</table>\n",
       "</div>"
      ],
      "text/plain": [
       "                        uid media_source                 placement  cpi  \\\n",
       "1400  1509894546046-5032219     Source 1                      q6zK  1.0   \n",
       "3203  1510397112000-5924194     Source 2  591d74f4e3b119532600168b  1.6   \n",
       "4613  1510402620631-7791299     Source 1                       d2d  1.0   \n",
       "7666  1510672317843-7112018     Source 2  5991ad5c9a165cfb58005ef6  1.6   \n",
       "8369  1510752934581-4320926     Source 2  59d4efb60b9e07c12500358a  1.6   \n",
       "5939  1510521378320-3068596     Source 2  59dcdf9dd09cd1c009006157  1.6   \n",
       "6760  1510600646372-7166289     Source 2  58d0e99878aed5dc7f0001d7  1.6   \n",
       "3879  1510421665450-1615820     Source 2  5735de75e02a8cfc550000b2  1.6   \n",
       "4661  1510497242321-7177917     Source 3                     45161  0.8   \n",
       "7466  1510672563564-6433961     Source 2  59dcdf9dd09cd1c009006157  1.6   \n",
       "\n",
       "     country_code   wifi platform    device_type  os_version  revenue_usd  \\\n",
       "1400           US  False      ios  iPhone 7 Plus          11     0.000000   \n",
       "3203           NL  False      ios       iPhone 5          10     0.000000   \n",
       "4613           US  False      ios      iPhone 6s          10     0.000000   \n",
       "7666           UK  False      ios      iPhone 6s          10     2.619365   \n",
       "8369           NL  False      ios      iPhone 6s          10     0.000000   \n",
       "5939           US  False      ios       iPhone 7          10     0.000000   \n",
       "6760           NL  False      ios       iPhone 7          11     0.000000   \n",
       "3879           US  False      ios      iPhone 6s          11    14.930000   \n",
       "4661           FR  False      ios      iPhone SE          11     0.000000   \n",
       "7466           UK  False      ios       iPhone 7          11     0.000000   \n",
       "\n",
       "      payment  \n",
       "1400        0  \n",
       "3203        0  \n",
       "4613        0  \n",
       "7666        1  \n",
       "8369        0  \n",
       "5939        0  \n",
       "6760        0  \n",
       "3879        1  \n",
       "4661        0  \n",
       "7466        0  "
      ]
     },
     "execution_count": 334,
     "metadata": {},
     "output_type": "execute_result"
    }
   ],
   "source": [
    "notwifi = df_n[df_n['wifi'] == False]\n",
    "notwifi.sample(10)"
   ]
  },
  {
   "cell_type": "markdown",
   "metadata": {},
   "source": [
    "Конверсия в платящего для пользователей, установивших приложение через Wi-Fi:"
   ]
  },
  {
   "cell_type": "code",
   "execution_count": 335,
   "metadata": {},
   "outputs": [
    {
     "data": {
      "text/plain": [
       "0.02230151650312221"
      ]
     },
     "execution_count": 335,
     "metadata": {},
     "output_type": "execute_result"
    }
   ],
   "source": [
    "len(wifi[wifi['revenue_usd'] > 0]) / len(wifi['uid'])"
   ]
  },
  {
   "cell_type": "markdown",
   "metadata": {},
   "source": [
    "Конверсия в платящего для пользователей, не использующих Wi-Fi:"
   ]
  },
  {
   "cell_type": "code",
   "execution_count": 336,
   "metadata": {},
   "outputs": [
    {
     "data": {
      "text/plain": [
       "0.030110935023771792"
      ]
     },
     "execution_count": 336,
     "metadata": {},
     "output_type": "execute_result"
    }
   ],
   "source": [
    "len(notwifi[notwifi['revenue_usd'] > 0]) / len(notwifi['uid'])"
   ]
  },
  {
   "cell_type": "markdown",
   "metadata": {},
   "source": [
    "Проверим, насколько различие статистически значимо. Выше мы убедились, что значения имеют распределение отличное от нормального, значит применим статистический критерий Манна-Уитни.\n",
    "\n",
    "Так как объем выборок больше 1000, задаем критический уровень значимости = 0,001."
   ]
  },
  {
   "cell_type": "markdown",
   "metadata": {},
   "source": [
    "###### Формулируем нулевую гипотезу:\n",
    "Доля пользователей, совершивших платеж, равна среди пользователей, использующих wifi и не использующих.\n",
    "\n",
    "###### Альтернативная гипотеза:\n",
    "Доля пользователей, совершивших платеж, различается между группами пользователей использующих и не использующих wifi."
   ]
  },
  {
   "cell_type": "code",
   "execution_count": 337,
   "metadata": {},
   "outputs": [],
   "source": [
    "def payment(row): #создаём функцию, принимающую один аргумент:платеж\n",
    "    revenue = row['revenue_usd']\n",
    "    if revenue > 0:\n",
    "        return 1\n",
    "    if revenue == 0:\n",
    "        return 0\n",
    "   \n",
    "wifi['payment'] = wifi.apply(payment, axis = 1)\n",
    "notwifi['payment'] = notwifi.apply(payment, axis = 1)"
   ]
  },
  {
   "cell_type": "code",
   "execution_count": 338,
   "metadata": {},
   "outputs": [
    {
     "data": {
      "text/html": [
       "<div>\n",
       "<style scoped>\n",
       "    .dataframe tbody tr th:only-of-type {\n",
       "        vertical-align: middle;\n",
       "    }\n",
       "\n",
       "    .dataframe tbody tr th {\n",
       "        vertical-align: top;\n",
       "    }\n",
       "\n",
       "    .dataframe thead th {\n",
       "        text-align: right;\n",
       "    }\n",
       "</style>\n",
       "<table border=\"1\" class=\"dataframe\">\n",
       "  <thead>\n",
       "    <tr style=\"text-align: right;\">\n",
       "      <th></th>\n",
       "      <th>uid</th>\n",
       "      <th>payment</th>\n",
       "    </tr>\n",
       "  </thead>\n",
       "  <tbody>\n",
       "    <tr>\n",
       "      <td>0</td>\n",
       "      <td>1500824609000-3848881</td>\n",
       "      <td>0</td>\n",
       "    </tr>\n",
       "    <tr>\n",
       "      <td>1</td>\n",
       "      <td>1502019114550-7044211</td>\n",
       "      <td>0</td>\n",
       "    </tr>\n",
       "    <tr>\n",
       "      <td>2</td>\n",
       "      <td>1504348989656-9932209</td>\n",
       "      <td>0</td>\n",
       "    </tr>\n",
       "    <tr>\n",
       "      <td>3</td>\n",
       "      <td>1504596069118-9695463</td>\n",
       "      <td>0</td>\n",
       "    </tr>\n",
       "    <tr>\n",
       "      <td>4</td>\n",
       "      <td>1505586790000-5292270</td>\n",
       "      <td>0</td>\n",
       "    </tr>\n",
       "    <tr>\n",
       "      <td>...</td>\n",
       "      <td>...</td>\n",
       "      <td>...</td>\n",
       "    </tr>\n",
       "    <tr>\n",
       "      <td>7842</td>\n",
       "      <td>1510939393088-8745386</td>\n",
       "      <td>0</td>\n",
       "    </tr>\n",
       "    <tr>\n",
       "      <td>7843</td>\n",
       "      <td>1510993572000-3976793</td>\n",
       "      <td>0</td>\n",
       "    </tr>\n",
       "    <tr>\n",
       "      <td>7844</td>\n",
       "      <td>1511161455000-5628453</td>\n",
       "      <td>0</td>\n",
       "    </tr>\n",
       "    <tr>\n",
       "      <td>7845</td>\n",
       "      <td>1511176814000-6996189</td>\n",
       "      <td>0</td>\n",
       "    </tr>\n",
       "    <tr>\n",
       "      <td>7846</td>\n",
       "      <td>1511923743129-5416086</td>\n",
       "      <td>0</td>\n",
       "    </tr>\n",
       "  </tbody>\n",
       "</table>\n",
       "<p>7847 rows × 2 columns</p>\n",
       "</div>"
      ],
      "text/plain": [
       "                        uid  payment\n",
       "0     1500824609000-3848881        0\n",
       "1     1502019114550-7044211        0\n",
       "2     1504348989656-9932209        0\n",
       "3     1504596069118-9695463        0\n",
       "4     1505586790000-5292270        0\n",
       "...                     ...      ...\n",
       "7842  1510939393088-8745386        0\n",
       "7843  1510993572000-3976793        0\n",
       "7844  1511161455000-5628453        0\n",
       "7845  1511176814000-6996189        0\n",
       "7846  1511923743129-5416086        0\n",
       "\n",
       "[7847 rows x 2 columns]"
      ]
     },
     "execution_count": 338,
     "metadata": {},
     "output_type": "execute_result"
    }
   ],
   "source": [
    "payments_wifi = wifi.groupby('uid')['payment'].sum().reset_index()\n",
    "payments_wifi"
   ]
  },
  {
   "cell_type": "code",
   "execution_count": 339,
   "metadata": {},
   "outputs": [
    {
     "data": {
      "text/html": [
       "<div>\n",
       "<style scoped>\n",
       "    .dataframe tbody tr th:only-of-type {\n",
       "        vertical-align: middle;\n",
       "    }\n",
       "\n",
       "    .dataframe tbody tr th {\n",
       "        vertical-align: top;\n",
       "    }\n",
       "\n",
       "    .dataframe thead th {\n",
       "        text-align: right;\n",
       "    }\n",
       "</style>\n",
       "<table border=\"1\" class=\"dataframe\">\n",
       "  <thead>\n",
       "    <tr style=\"text-align: right;\">\n",
       "      <th></th>\n",
       "      <th>uid</th>\n",
       "      <th>payment</th>\n",
       "    </tr>\n",
       "  </thead>\n",
       "  <tbody>\n",
       "    <tr>\n",
       "      <td>0</td>\n",
       "      <td>1506851831000-6369199</td>\n",
       "      <td>0</td>\n",
       "    </tr>\n",
       "    <tr>\n",
       "      <td>1</td>\n",
       "      <td>1507078038741-5913530</td>\n",
       "      <td>0</td>\n",
       "    </tr>\n",
       "    <tr>\n",
       "      <td>2</td>\n",
       "      <td>1507843752830-6733001</td>\n",
       "      <td>0</td>\n",
       "    </tr>\n",
       "    <tr>\n",
       "      <td>3</td>\n",
       "      <td>1507921566000-8998525</td>\n",
       "      <td>0</td>\n",
       "    </tr>\n",
       "    <tr>\n",
       "      <td>4</td>\n",
       "      <td>1508088149683-9777267</td>\n",
       "      <td>0</td>\n",
       "    </tr>\n",
       "    <tr>\n",
       "      <td>...</td>\n",
       "      <td>...</td>\n",
       "      <td>...</td>\n",
       "    </tr>\n",
       "    <tr>\n",
       "      <td>1257</td>\n",
       "      <td>1510785317394-7813052</td>\n",
       "      <td>0</td>\n",
       "    </tr>\n",
       "    <tr>\n",
       "      <td>1258</td>\n",
       "      <td>1510785883000-5218307</td>\n",
       "      <td>0</td>\n",
       "    </tr>\n",
       "    <tr>\n",
       "      <td>1259</td>\n",
       "      <td>1510785995688-7530624</td>\n",
       "      <td>0</td>\n",
       "    </tr>\n",
       "    <tr>\n",
       "      <td>1260</td>\n",
       "      <td>1510786741923-8314921</td>\n",
       "      <td>0</td>\n",
       "    </tr>\n",
       "    <tr>\n",
       "      <td>1261</td>\n",
       "      <td>1510787436140-3430621</td>\n",
       "      <td>0</td>\n",
       "    </tr>\n",
       "  </tbody>\n",
       "</table>\n",
       "<p>1262 rows × 2 columns</p>\n",
       "</div>"
      ],
      "text/plain": [
       "                        uid  payment\n",
       "0     1506851831000-6369199        0\n",
       "1     1507078038741-5913530        0\n",
       "2     1507843752830-6733001        0\n",
       "3     1507921566000-8998525        0\n",
       "4     1508088149683-9777267        0\n",
       "...                     ...      ...\n",
       "1257  1510785317394-7813052        0\n",
       "1258  1510785883000-5218307        0\n",
       "1259  1510785995688-7530624        0\n",
       "1260  1510786741923-8314921        0\n",
       "1261  1510787436140-3430621        0\n",
       "\n",
       "[1262 rows x 2 columns]"
      ]
     },
     "execution_count": 339,
     "metadata": {},
     "output_type": "execute_result"
    }
   ],
   "source": [
    "payments_notwifi = notwifi.groupby('uid')['payment'].sum().reset_index()\n",
    "payments_notwifi"
   ]
  },
  {
   "cell_type": "markdown",
   "metadata": {},
   "source": [
    "Объявим переменные, в которых пользователям из разных групп будет соответствовать количество платежей. Тем, кто ничего не заказал, будут соответствовать нули. Это нужно, чтобы подготовить выборки к проверке критерием Манна-Уитни."
   ]
  },
  {
   "cell_type": "code",
   "execution_count": 340,
   "metadata": {},
   "outputs": [],
   "source": [
    "sampleWIFI = pd.concat([payments_wifi['payment'],pd.Series(0, index=np.arange(wifi['uid'].nunique() - len(payments_wifi['payment'])), name='payment')],axis=0)\n",
    "\n",
    "sampleNOTWIFI = pd.concat([payments_notwifi['payment'],pd.Series(0, index=np.arange(notwifi['uid'].nunique() - len(payments_notwifi['payment'])), name='payment')],axis=0) "
   ]
  },
  {
   "cell_type": "code",
   "execution_count": 341,
   "metadata": {},
   "outputs": [
    {
     "name": "stdout",
     "output_type": "stream",
     "text": [
      "p-value: 0.044\n",
      "Относительный прирост конверсии группы, не использующей WiFi: 0.350\n"
     ]
    }
   ],
   "source": [
    "print(\"p-value: {0:.3f}\".format(st.mannwhitneyu(sampleWIFI, sampleNOTWIFI)[1])) # критерий Манна-Уитни\n",
    "\n",
    "print(\"Относительный прирост конверсии группы, не использующей WiFi: {0:.3f}\".format(sampleNOTWIFI.mean()/sampleWIFI.mean()-1))"
   ]
  },
  {
   "cell_type": "markdown",
   "metadata": {},
   "source": [
    "Различие конверсии составило 35% в пользу группы, не использующей WiFi.\n",
    "\n",
    "Но при этом p-value больше 0.001. Значит, исходя из имеющихся данных, причин отвергать нулевую гипотезу и считать, что в среднем чеке есть различия, нет.\n",
    "\n",
    "Но мы не знаем, когда были совершены данные платежи. Следует запросить дополнительные данные - дату начала сессии и дату транзакции, чтобы получить значение 'Кол-во пользователей в день', с помощью которого можно добиться более объективного результата теста."
   ]
  },
  {
   "cell_type": "markdown",
   "metadata": {},
   "source": [
    "### Анализ сегментов для оптимизации источников трафиков"
   ]
  },
  {
   "cell_type": "markdown",
   "metadata": {},
   "source": [
    "Поскольку после очищения от выбивающихся значений все источники трафика оказались невыгодными, необходимо их оптимизировать.\n",
    "Выведем графики конверсии по источникам трафика в различных разрезах данных."
   ]
  },
  {
   "cell_type": "code",
   "execution_count": 342,
   "metadata": {},
   "outputs": [],
   "source": [
    "def conv(df,a,b,c):\n",
    "    df['payment'] = df.apply(payment, axis = 1)\n",
    "    conv = df.groupby(['media_source',a]).agg({'uid':'nunique','payment':'sum'}).reset_index() # группируем страны и сортируем по убыванию\n",
    "\n",
    "    conv['conversion'] = conv['payment']/conv['uid']\n",
    "    conv = conv[['media_source',a,'uid','conversion']].sort_values(by = ['uid', 'media_source'], ascending = True)\n",
    "\n",
    "    conv.columns = ['Источник трафика', b, 'Кол-во пользователей', 'Конверсия в платящего']\n",
    "    display(conv.tail(10))\n",
    "\n",
    "    fig = px.bar(conv, x = b, y = 'Кол-во пользователей', color = 'Конверсия в платящего', facet_col='Источник трафика', title = c)\n",
    "\n",
    "    fig.show()"
   ]
  },
  {
   "cell_type": "code",
   "execution_count": 343,
   "metadata": {
    "scrolled": false
   },
   "outputs": [
    {
     "data": {
      "text/html": [
       "<div>\n",
       "<style scoped>\n",
       "    .dataframe tbody tr th:only-of-type {\n",
       "        vertical-align: middle;\n",
       "    }\n",
       "\n",
       "    .dataframe tbody tr th {\n",
       "        vertical-align: top;\n",
       "    }\n",
       "\n",
       "    .dataframe thead th {\n",
       "        text-align: right;\n",
       "    }\n",
       "</style>\n",
       "<table border=\"1\" class=\"dataframe\">\n",
       "  <thead>\n",
       "    <tr style=\"text-align: right;\">\n",
       "      <th></th>\n",
       "      <th>Источник трафика</th>\n",
       "      <th>Страна</th>\n",
       "      <th>Кол-во пользователей</th>\n",
       "      <th>Конверсия в платящего</th>\n",
       "    </tr>\n",
       "  </thead>\n",
       "  <tbody>\n",
       "    <tr>\n",
       "      <td>13</td>\n",
       "      <td>Source 1</td>\n",
       "      <td>UK</td>\n",
       "      <td>224</td>\n",
       "      <td>0.040179</td>\n",
       "    </tr>\n",
       "    <tr>\n",
       "      <td>19</td>\n",
       "      <td>Source 2</td>\n",
       "      <td>DE</td>\n",
       "      <td>227</td>\n",
       "      <td>0.026432</td>\n",
       "    </tr>\n",
       "    <tr>\n",
       "      <td>30</td>\n",
       "      <td>Source 2</td>\n",
       "      <td>SE</td>\n",
       "      <td>290</td>\n",
       "      <td>0.013793</td>\n",
       "    </tr>\n",
       "    <tr>\n",
       "      <td>22</td>\n",
       "      <td>Source 2</td>\n",
       "      <td>FR</td>\n",
       "      <td>387</td>\n",
       "      <td>0.018088</td>\n",
       "    </tr>\n",
       "    <tr>\n",
       "      <td>37</td>\n",
       "      <td>Source 3</td>\n",
       "      <td>FR</td>\n",
       "      <td>423</td>\n",
       "      <td>0.011820</td>\n",
       "    </tr>\n",
       "    <tr>\n",
       "      <td>20</td>\n",
       "      <td>Source 2</td>\n",
       "      <td>DK</td>\n",
       "      <td>474</td>\n",
       "      <td>0.014768</td>\n",
       "    </tr>\n",
       "    <tr>\n",
       "      <td>33</td>\n",
       "      <td>Source 2</td>\n",
       "      <td>US</td>\n",
       "      <td>941</td>\n",
       "      <td>0.047821</td>\n",
       "    </tr>\n",
       "    <tr>\n",
       "      <td>14</td>\n",
       "      <td>Source 1</td>\n",
       "      <td>US</td>\n",
       "      <td>1024</td>\n",
       "      <td>0.028320</td>\n",
       "    </tr>\n",
       "    <tr>\n",
       "      <td>32</td>\n",
       "      <td>Source 2</td>\n",
       "      <td>UK</td>\n",
       "      <td>1613</td>\n",
       "      <td>0.028518</td>\n",
       "    </tr>\n",
       "    <tr>\n",
       "      <td>26</td>\n",
       "      <td>Source 2</td>\n",
       "      <td>NL</td>\n",
       "      <td>2744</td>\n",
       "      <td>0.009840</td>\n",
       "    </tr>\n",
       "  </tbody>\n",
       "</table>\n",
       "</div>"
      ],
      "text/plain": [
       "   Источник трафика Страна  Кол-во пользователей  Конверсия в платящего\n",
       "13         Source 1     UK                   224               0.040179\n",
       "19         Source 2     DE                   227               0.026432\n",
       "30         Source 2     SE                   290               0.013793\n",
       "22         Source 2     FR                   387               0.018088\n",
       "37         Source 3     FR                   423               0.011820\n",
       "20         Source 2     DK                   474               0.014768\n",
       "33         Source 2     US                   941               0.047821\n",
       "14         Source 1     US                  1024               0.028320\n",
       "32         Source 2     UK                  1613               0.028518\n",
       "26         Source 2     NL                  2744               0.009840"
      ]
     },
     "metadata": {},
     "output_type": "display_data"
    },
    {
     "data": {
      "application/vnd.plotly.v1+json": {
       "config": {
        "plotlyServerURL": "https://plot.ly"
       },
       "data": [
        {
         "alignmentgroup": "True",
         "hoverlabel": {
          "namelength": 0
         },
         "hovertemplate": "Источник трафика=Source 1<br>Страна=%{x}<br>Кол-во пользователей=%{y}<br>Конверсия в платящего=%{marker.color}",
         "legendgroup": "",
         "marker": {
          "color": [
           0,
           0,
           0,
           0,
           0,
           0,
           0,
           0,
           0,
           0.07692307692307693,
           0.05952380952380952,
           0.023255813953488372,
           0.014814814814814815,
           0.04017857142857143,
           0.0283203125
          ],
          "coloraxis": "coloraxis"
         },
         "name": "",
         "offsetgroup": "",
         "orientation": "v",
         "showlegend": false,
         "textposition": "auto",
         "type": "bar",
         "x": [
          "AE",
          "IT",
          "MM",
          "MN",
          "RU",
          "SE",
          "JP",
          "LV",
          "ES",
          "AU",
          "DE",
          "CA",
          "FR",
          "UK",
          "US"
         ],
         "xaxis": "x",
         "y": [
          1,
          1,
          1,
          1,
          1,
          1,
          2,
          2,
          3,
          39,
          84,
          86,
          135,
          224,
          1024
         ],
         "yaxis": "y"
        },
        {
         "alignmentgroup": "True",
         "hoverlabel": {
          "namelength": 0
         },
         "hovertemplate": "Источник трафика=Source 2<br>Страна=%{x}<br>Кол-во пользователей=%{y}<br>Конверсия в платящего=%{marker.color}",
         "legendgroup": "",
         "marker": {
          "color": [
           0,
           0,
           0,
           0,
           0,
           0,
           0,
           0,
           0,
           0,
           0,
           0.039473684210526314,
           0.02643171806167401,
           0.013793103448275862,
           0.01808785529715762,
           0.014767932489451477,
           0.04782146652497343,
           0.02851828890266584,
           0.009839650145772596
          ],
          "coloraxis": "coloraxis"
         },
         "name": "",
         "offsetgroup": "",
         "orientation": "v",
         "showlegend": false,
         "textposition": "auto",
         "type": "bar",
         "x": [
          "AL",
          "BH",
          "CA",
          "CY",
          "ES",
          "IE",
          "IT",
          "RO",
          "SA",
          "UA",
          "IL",
          "NO",
          "DE",
          "SE",
          "FR",
          "DK",
          "US",
          "UK",
          "NL"
         ],
         "xaxis": "x2",
         "y": [
          1,
          1,
          1,
          1,
          1,
          1,
          1,
          1,
          1,
          8,
          12,
          76,
          227,
          290,
          387,
          474,
          941,
          1613,
          2744
         ],
         "yaxis": "y2"
        },
        {
         "alignmentgroup": "True",
         "hoverlabel": {
          "namelength": 0
         },
         "hovertemplate": "Источник трафика=Source 3<br>Страна=%{x}<br>Кол-во пользователей=%{y}<br>Конверсия в платящего=%{marker.color}",
         "legendgroup": "",
         "marker": {
          "color": [
           0,
           0.03125,
           0,
           0.03225806451612903,
           0.06756756756756757,
           0.05154639175257732,
           0.01182033096926714
          ],
          "coloraxis": "coloraxis"
         },
         "name": "",
         "offsetgroup": "",
         "orientation": "v",
         "showlegend": false,
         "textposition": "auto",
         "type": "bar",
         "x": [
          "NL",
          "AU",
          "CA",
          "UK",
          "US",
          "DE",
          "FR"
         ],
         "xaxis": "x3",
         "y": [
          1,
          32,
          34,
          62,
          74,
          97,
          423
         ],
         "yaxis": "y3"
        }
       ],
       "layout": {
        "annotations": [
         {
          "font": {},
          "showarrow": false,
          "text": "Источник трафика=Source 1",
          "x": 0.15666666666666665,
          "xanchor": "center",
          "xref": "paper",
          "y": 1,
          "yanchor": "bottom",
          "yref": "paper"
         },
         {
          "font": {},
          "showarrow": false,
          "text": "Источник трафика=Source 2",
          "x": 0.49,
          "xanchor": "center",
          "xref": "paper",
          "y": 1,
          "yanchor": "bottom",
          "yref": "paper"
         },
         {
          "font": {},
          "showarrow": false,
          "text": "Источник трафика=Source 3",
          "x": 0.8233333333333333,
          "xanchor": "center",
          "xref": "paper",
          "y": 1,
          "yanchor": "bottom",
          "yref": "paper"
         }
        ],
        "barmode": "relative",
        "coloraxis": {
         "colorbar": {
          "title": {
           "text": "Конверсия в платящего"
          }
         },
         "colorscale": [
          [
           0,
           "#0d0887"
          ],
          [
           0.1111111111111111,
           "#46039f"
          ],
          [
           0.2222222222222222,
           "#7201a8"
          ],
          [
           0.3333333333333333,
           "#9c179e"
          ],
          [
           0.4444444444444444,
           "#bd3786"
          ],
          [
           0.5555555555555556,
           "#d8576b"
          ],
          [
           0.6666666666666666,
           "#ed7953"
          ],
          [
           0.7777777777777778,
           "#fb9f3a"
          ],
          [
           0.8888888888888888,
           "#fdca26"
          ],
          [
           1,
           "#f0f921"
          ]
         ]
        },
        "height": 600,
        "legend": {
         "tracegroupgap": 0
        },
        "template": {
         "data": {
          "bar": [
           {
            "error_x": {
             "color": "#2a3f5f"
            },
            "error_y": {
             "color": "#2a3f5f"
            },
            "marker": {
             "line": {
              "color": "#E5ECF6",
              "width": 0.5
             }
            },
            "type": "bar"
           }
          ],
          "barpolar": [
           {
            "marker": {
             "line": {
              "color": "#E5ECF6",
              "width": 0.5
             }
            },
            "type": "barpolar"
           }
          ],
          "carpet": [
           {
            "aaxis": {
             "endlinecolor": "#2a3f5f",
             "gridcolor": "white",
             "linecolor": "white",
             "minorgridcolor": "white",
             "startlinecolor": "#2a3f5f"
            },
            "baxis": {
             "endlinecolor": "#2a3f5f",
             "gridcolor": "white",
             "linecolor": "white",
             "minorgridcolor": "white",
             "startlinecolor": "#2a3f5f"
            },
            "type": "carpet"
           }
          ],
          "choropleth": [
           {
            "colorbar": {
             "outlinewidth": 0,
             "ticks": ""
            },
            "type": "choropleth"
           }
          ],
          "contour": [
           {
            "colorbar": {
             "outlinewidth": 0,
             "ticks": ""
            },
            "colorscale": [
             [
              0,
              "#0d0887"
             ],
             [
              0.1111111111111111,
              "#46039f"
             ],
             [
              0.2222222222222222,
              "#7201a8"
             ],
             [
              0.3333333333333333,
              "#9c179e"
             ],
             [
              0.4444444444444444,
              "#bd3786"
             ],
             [
              0.5555555555555556,
              "#d8576b"
             ],
             [
              0.6666666666666666,
              "#ed7953"
             ],
             [
              0.7777777777777778,
              "#fb9f3a"
             ],
             [
              0.8888888888888888,
              "#fdca26"
             ],
             [
              1,
              "#f0f921"
             ]
            ],
            "type": "contour"
           }
          ],
          "contourcarpet": [
           {
            "colorbar": {
             "outlinewidth": 0,
             "ticks": ""
            },
            "type": "contourcarpet"
           }
          ],
          "heatmap": [
           {
            "colorbar": {
             "outlinewidth": 0,
             "ticks": ""
            },
            "colorscale": [
             [
              0,
              "#0d0887"
             ],
             [
              0.1111111111111111,
              "#46039f"
             ],
             [
              0.2222222222222222,
              "#7201a8"
             ],
             [
              0.3333333333333333,
              "#9c179e"
             ],
             [
              0.4444444444444444,
              "#bd3786"
             ],
             [
              0.5555555555555556,
              "#d8576b"
             ],
             [
              0.6666666666666666,
              "#ed7953"
             ],
             [
              0.7777777777777778,
              "#fb9f3a"
             ],
             [
              0.8888888888888888,
              "#fdca26"
             ],
             [
              1,
              "#f0f921"
             ]
            ],
            "type": "heatmap"
           }
          ],
          "heatmapgl": [
           {
            "colorbar": {
             "outlinewidth": 0,
             "ticks": ""
            },
            "colorscale": [
             [
              0,
              "#0d0887"
             ],
             [
              0.1111111111111111,
              "#46039f"
             ],
             [
              0.2222222222222222,
              "#7201a8"
             ],
             [
              0.3333333333333333,
              "#9c179e"
             ],
             [
              0.4444444444444444,
              "#bd3786"
             ],
             [
              0.5555555555555556,
              "#d8576b"
             ],
             [
              0.6666666666666666,
              "#ed7953"
             ],
             [
              0.7777777777777778,
              "#fb9f3a"
             ],
             [
              0.8888888888888888,
              "#fdca26"
             ],
             [
              1,
              "#f0f921"
             ]
            ],
            "type": "heatmapgl"
           }
          ],
          "histogram": [
           {
            "marker": {
             "colorbar": {
              "outlinewidth": 0,
              "ticks": ""
             }
            },
            "type": "histogram"
           }
          ],
          "histogram2d": [
           {
            "colorbar": {
             "outlinewidth": 0,
             "ticks": ""
            },
            "colorscale": [
             [
              0,
              "#0d0887"
             ],
             [
              0.1111111111111111,
              "#46039f"
             ],
             [
              0.2222222222222222,
              "#7201a8"
             ],
             [
              0.3333333333333333,
              "#9c179e"
             ],
             [
              0.4444444444444444,
              "#bd3786"
             ],
             [
              0.5555555555555556,
              "#d8576b"
             ],
             [
              0.6666666666666666,
              "#ed7953"
             ],
             [
              0.7777777777777778,
              "#fb9f3a"
             ],
             [
              0.8888888888888888,
              "#fdca26"
             ],
             [
              1,
              "#f0f921"
             ]
            ],
            "type": "histogram2d"
           }
          ],
          "histogram2dcontour": [
           {
            "colorbar": {
             "outlinewidth": 0,
             "ticks": ""
            },
            "colorscale": [
             [
              0,
              "#0d0887"
             ],
             [
              0.1111111111111111,
              "#46039f"
             ],
             [
              0.2222222222222222,
              "#7201a8"
             ],
             [
              0.3333333333333333,
              "#9c179e"
             ],
             [
              0.4444444444444444,
              "#bd3786"
             ],
             [
              0.5555555555555556,
              "#d8576b"
             ],
             [
              0.6666666666666666,
              "#ed7953"
             ],
             [
              0.7777777777777778,
              "#fb9f3a"
             ],
             [
              0.8888888888888888,
              "#fdca26"
             ],
             [
              1,
              "#f0f921"
             ]
            ],
            "type": "histogram2dcontour"
           }
          ],
          "mesh3d": [
           {
            "colorbar": {
             "outlinewidth": 0,
             "ticks": ""
            },
            "type": "mesh3d"
           }
          ],
          "parcoords": [
           {
            "line": {
             "colorbar": {
              "outlinewidth": 0,
              "ticks": ""
             }
            },
            "type": "parcoords"
           }
          ],
          "scatter": [
           {
            "marker": {
             "colorbar": {
              "outlinewidth": 0,
              "ticks": ""
             }
            },
            "type": "scatter"
           }
          ],
          "scatter3d": [
           {
            "line": {
             "colorbar": {
              "outlinewidth": 0,
              "ticks": ""
             }
            },
            "marker": {
             "colorbar": {
              "outlinewidth": 0,
              "ticks": ""
             }
            },
            "type": "scatter3d"
           }
          ],
          "scattercarpet": [
           {
            "marker": {
             "colorbar": {
              "outlinewidth": 0,
              "ticks": ""
             }
            },
            "type": "scattercarpet"
           }
          ],
          "scattergeo": [
           {
            "marker": {
             "colorbar": {
              "outlinewidth": 0,
              "ticks": ""
             }
            },
            "type": "scattergeo"
           }
          ],
          "scattergl": [
           {
            "marker": {
             "colorbar": {
              "outlinewidth": 0,
              "ticks": ""
             }
            },
            "type": "scattergl"
           }
          ],
          "scattermapbox": [
           {
            "marker": {
             "colorbar": {
              "outlinewidth": 0,
              "ticks": ""
             }
            },
            "type": "scattermapbox"
           }
          ],
          "scatterpolar": [
           {
            "marker": {
             "colorbar": {
              "outlinewidth": 0,
              "ticks": ""
             }
            },
            "type": "scatterpolar"
           }
          ],
          "scatterpolargl": [
           {
            "marker": {
             "colorbar": {
              "outlinewidth": 0,
              "ticks": ""
             }
            },
            "type": "scatterpolargl"
           }
          ],
          "scatterternary": [
           {
            "marker": {
             "colorbar": {
              "outlinewidth": 0,
              "ticks": ""
             }
            },
            "type": "scatterternary"
           }
          ],
          "surface": [
           {
            "colorbar": {
             "outlinewidth": 0,
             "ticks": ""
            },
            "colorscale": [
             [
              0,
              "#0d0887"
             ],
             [
              0.1111111111111111,
              "#46039f"
             ],
             [
              0.2222222222222222,
              "#7201a8"
             ],
             [
              0.3333333333333333,
              "#9c179e"
             ],
             [
              0.4444444444444444,
              "#bd3786"
             ],
             [
              0.5555555555555556,
              "#d8576b"
             ],
             [
              0.6666666666666666,
              "#ed7953"
             ],
             [
              0.7777777777777778,
              "#fb9f3a"
             ],
             [
              0.8888888888888888,
              "#fdca26"
             ],
             [
              1,
              "#f0f921"
             ]
            ],
            "type": "surface"
           }
          ],
          "table": [
           {
            "cells": {
             "fill": {
              "color": "#EBF0F8"
             },
             "line": {
              "color": "white"
             }
            },
            "header": {
             "fill": {
              "color": "#C8D4E3"
             },
             "line": {
              "color": "white"
             }
            },
            "type": "table"
           }
          ]
         },
         "layout": {
          "annotationdefaults": {
           "arrowcolor": "#2a3f5f",
           "arrowhead": 0,
           "arrowwidth": 1
          },
          "colorscale": {
           "diverging": [
            [
             0,
             "#8e0152"
            ],
            [
             0.1,
             "#c51b7d"
            ],
            [
             0.2,
             "#de77ae"
            ],
            [
             0.3,
             "#f1b6da"
            ],
            [
             0.4,
             "#fde0ef"
            ],
            [
             0.5,
             "#f7f7f7"
            ],
            [
             0.6,
             "#e6f5d0"
            ],
            [
             0.7,
             "#b8e186"
            ],
            [
             0.8,
             "#7fbc41"
            ],
            [
             0.9,
             "#4d9221"
            ],
            [
             1,
             "#276419"
            ]
           ],
           "sequential": [
            [
             0,
             "#0d0887"
            ],
            [
             0.1111111111111111,
             "#46039f"
            ],
            [
             0.2222222222222222,
             "#7201a8"
            ],
            [
             0.3333333333333333,
             "#9c179e"
            ],
            [
             0.4444444444444444,
             "#bd3786"
            ],
            [
             0.5555555555555556,
             "#d8576b"
            ],
            [
             0.6666666666666666,
             "#ed7953"
            ],
            [
             0.7777777777777778,
             "#fb9f3a"
            ],
            [
             0.8888888888888888,
             "#fdca26"
            ],
            [
             1,
             "#f0f921"
            ]
           ],
           "sequentialminus": [
            [
             0,
             "#0d0887"
            ],
            [
             0.1111111111111111,
             "#46039f"
            ],
            [
             0.2222222222222222,
             "#7201a8"
            ],
            [
             0.3333333333333333,
             "#9c179e"
            ],
            [
             0.4444444444444444,
             "#bd3786"
            ],
            [
             0.5555555555555556,
             "#d8576b"
            ],
            [
             0.6666666666666666,
             "#ed7953"
            ],
            [
             0.7777777777777778,
             "#fb9f3a"
            ],
            [
             0.8888888888888888,
             "#fdca26"
            ],
            [
             1,
             "#f0f921"
            ]
           ]
          },
          "colorway": [
           "#636efa",
           "#EF553B",
           "#00cc96",
           "#ab63fa",
           "#FFA15A",
           "#19d3f3",
           "#FF6692",
           "#B6E880",
           "#FF97FF",
           "#FECB52"
          ],
          "font": {
           "color": "#2a3f5f"
          },
          "geo": {
           "bgcolor": "white",
           "lakecolor": "white",
           "landcolor": "#E5ECF6",
           "showlakes": true,
           "showland": true,
           "subunitcolor": "white"
          },
          "hoverlabel": {
           "align": "left"
          },
          "hovermode": "closest",
          "mapbox": {
           "style": "light"
          },
          "paper_bgcolor": "white",
          "plot_bgcolor": "#E5ECF6",
          "polar": {
           "angularaxis": {
            "gridcolor": "white",
            "linecolor": "white",
            "ticks": ""
           },
           "bgcolor": "#E5ECF6",
           "radialaxis": {
            "gridcolor": "white",
            "linecolor": "white",
            "ticks": ""
           }
          },
          "scene": {
           "xaxis": {
            "backgroundcolor": "#E5ECF6",
            "gridcolor": "white",
            "gridwidth": 2,
            "linecolor": "white",
            "showbackground": true,
            "ticks": "",
            "zerolinecolor": "white"
           },
           "yaxis": {
            "backgroundcolor": "#E5ECF6",
            "gridcolor": "white",
            "gridwidth": 2,
            "linecolor": "white",
            "showbackground": true,
            "ticks": "",
            "zerolinecolor": "white"
           },
           "zaxis": {
            "backgroundcolor": "#E5ECF6",
            "gridcolor": "white",
            "gridwidth": 2,
            "linecolor": "white",
            "showbackground": true,
            "ticks": "",
            "zerolinecolor": "white"
           }
          },
          "shapedefaults": {
           "line": {
            "color": "#2a3f5f"
           }
          },
          "ternary": {
           "aaxis": {
            "gridcolor": "white",
            "linecolor": "white",
            "ticks": ""
           },
           "baxis": {
            "gridcolor": "white",
            "linecolor": "white",
            "ticks": ""
           },
           "bgcolor": "#E5ECF6",
           "caxis": {
            "gridcolor": "white",
            "linecolor": "white",
            "ticks": ""
           }
          },
          "title": {
           "x": 0.05
          },
          "xaxis": {
           "automargin": true,
           "gridcolor": "white",
           "linecolor": "white",
           "ticks": "",
           "zerolinecolor": "white",
           "zerolinewidth": 2
          },
          "yaxis": {
           "automargin": true,
           "gridcolor": "white",
           "linecolor": "white",
           "ticks": "",
           "zerolinecolor": "white",
           "zerolinewidth": 2
          }
         }
        },
        "title": {
         "text": "Конверсия по источникам в разрезе стран"
        },
        "xaxis": {
         "anchor": "y",
         "domain": [
          0,
          0.3133333333333333
         ],
         "title": {
          "text": "Страна"
         }
        },
        "xaxis2": {
         "anchor": "y2",
         "domain": [
          0.3333333333333333,
          0.6466666666666666
         ],
         "matches": "x",
         "title": {
          "text": "Страна"
         }
        },
        "xaxis3": {
         "anchor": "y3",
         "domain": [
          0.6666666666666666,
          0.98
         ],
         "matches": "x",
         "title": {
          "text": "Страна"
         }
        },
        "yaxis": {
         "anchor": "x",
         "domain": [
          0,
          1
         ],
         "title": {
          "text": "Кол-во пользователей"
         }
        },
        "yaxis2": {
         "anchor": "x2",
         "domain": [
          0,
          1
         ],
         "matches": "y",
         "showticklabels": false
        },
        "yaxis3": {
         "anchor": "x3",
         "domain": [
          0,
          1
         ],
         "matches": "y",
         "showticklabels": false
        }
       }
      },
      "text/html": [
       "<div>\n",
       "        \n",
       "        \n",
       "            <div id=\"5f52a19c-c928-4aaf-87eb-7b2bb58dfe1d\" class=\"plotly-graph-div\" style=\"height:600px; width:100%;\"></div>\n",
       "            <script type=\"text/javascript\">\n",
       "                require([\"plotly\"], function(Plotly) {\n",
       "                    window.PLOTLYENV=window.PLOTLYENV || {};\n",
       "                    \n",
       "                if (document.getElementById(\"5f52a19c-c928-4aaf-87eb-7b2bb58dfe1d\")) {\n",
       "                    Plotly.newPlot(\n",
       "                        '5f52a19c-c928-4aaf-87eb-7b2bb58dfe1d',\n",
       "                        [{\"alignmentgroup\": \"True\", \"hoverlabel\": {\"namelength\": 0}, \"hovertemplate\": \"\\u0418\\u0441\\u0442\\u043e\\u0447\\u043d\\u0438\\u043a \\u0442\\u0440\\u0430\\u0444\\u0438\\u043a\\u0430=Source 1<br>\\u0421\\u0442\\u0440\\u0430\\u043d\\u0430=%{x}<br>\\u041a\\u043e\\u043b-\\u0432\\u043e \\u043f\\u043e\\u043b\\u044c\\u0437\\u043e\\u0432\\u0430\\u0442\\u0435\\u043b\\u0435\\u0439=%{y}<br>\\u041a\\u043e\\u043d\\u0432\\u0435\\u0440\\u0441\\u0438\\u044f \\u0432 \\u043f\\u043b\\u0430\\u0442\\u044f\\u0449\\u0435\\u0433\\u043e=%{marker.color}\", \"legendgroup\": \"\", \"marker\": {\"color\": [0.0, 0.0, 0.0, 0.0, 0.0, 0.0, 0.0, 0.0, 0.0, 0.07692307692307693, 0.05952380952380952, 0.023255813953488372, 0.014814814814814815, 0.04017857142857143, 0.0283203125], \"coloraxis\": \"coloraxis\"}, \"name\": \"\", \"offsetgroup\": \"\", \"orientation\": \"v\", \"showlegend\": false, \"textposition\": \"auto\", \"type\": \"bar\", \"x\": [\"AE\", \"IT\", \"MM\", \"MN\", \"RU\", \"SE\", \"JP\", \"LV\", \"ES\", \"AU\", \"DE\", \"CA\", \"FR\", \"UK\", \"US\"], \"xaxis\": \"x\", \"y\": [1, 1, 1, 1, 1, 1, 2, 2, 3, 39, 84, 86, 135, 224, 1024], \"yaxis\": \"y\"}, {\"alignmentgroup\": \"True\", \"hoverlabel\": {\"namelength\": 0}, \"hovertemplate\": \"\\u0418\\u0441\\u0442\\u043e\\u0447\\u043d\\u0438\\u043a \\u0442\\u0440\\u0430\\u0444\\u0438\\u043a\\u0430=Source 2<br>\\u0421\\u0442\\u0440\\u0430\\u043d\\u0430=%{x}<br>\\u041a\\u043e\\u043b-\\u0432\\u043e \\u043f\\u043e\\u043b\\u044c\\u0437\\u043e\\u0432\\u0430\\u0442\\u0435\\u043b\\u0435\\u0439=%{y}<br>\\u041a\\u043e\\u043d\\u0432\\u0435\\u0440\\u0441\\u0438\\u044f \\u0432 \\u043f\\u043b\\u0430\\u0442\\u044f\\u0449\\u0435\\u0433\\u043e=%{marker.color}\", \"legendgroup\": \"\", \"marker\": {\"color\": [0.0, 0.0, 0.0, 0.0, 0.0, 0.0, 0.0, 0.0, 0.0, 0.0, 0.0, 0.039473684210526314, 0.02643171806167401, 0.013793103448275862, 0.01808785529715762, 0.014767932489451477, 0.04782146652497343, 0.02851828890266584, 0.009839650145772596], \"coloraxis\": \"coloraxis\"}, \"name\": \"\", \"offsetgroup\": \"\", \"orientation\": \"v\", \"showlegend\": false, \"textposition\": \"auto\", \"type\": \"bar\", \"x\": [\"AL\", \"BH\", \"CA\", \"CY\", \"ES\", \"IE\", \"IT\", \"RO\", \"SA\", \"UA\", \"IL\", \"NO\", \"DE\", \"SE\", \"FR\", \"DK\", \"US\", \"UK\", \"NL\"], \"xaxis\": \"x2\", \"y\": [1, 1, 1, 1, 1, 1, 1, 1, 1, 8, 12, 76, 227, 290, 387, 474, 941, 1613, 2744], \"yaxis\": \"y2\"}, {\"alignmentgroup\": \"True\", \"hoverlabel\": {\"namelength\": 0}, \"hovertemplate\": \"\\u0418\\u0441\\u0442\\u043e\\u0447\\u043d\\u0438\\u043a \\u0442\\u0440\\u0430\\u0444\\u0438\\u043a\\u0430=Source 3<br>\\u0421\\u0442\\u0440\\u0430\\u043d\\u0430=%{x}<br>\\u041a\\u043e\\u043b-\\u0432\\u043e \\u043f\\u043e\\u043b\\u044c\\u0437\\u043e\\u0432\\u0430\\u0442\\u0435\\u043b\\u0435\\u0439=%{y}<br>\\u041a\\u043e\\u043d\\u0432\\u0435\\u0440\\u0441\\u0438\\u044f \\u0432 \\u043f\\u043b\\u0430\\u0442\\u044f\\u0449\\u0435\\u0433\\u043e=%{marker.color}\", \"legendgroup\": \"\", \"marker\": {\"color\": [0.0, 0.03125, 0.0, 0.03225806451612903, 0.06756756756756757, 0.05154639175257732, 0.01182033096926714], \"coloraxis\": \"coloraxis\"}, \"name\": \"\", \"offsetgroup\": \"\", \"orientation\": \"v\", \"showlegend\": false, \"textposition\": \"auto\", \"type\": \"bar\", \"x\": [\"NL\", \"AU\", \"CA\", \"UK\", \"US\", \"DE\", \"FR\"], \"xaxis\": \"x3\", \"y\": [1, 32, 34, 62, 74, 97, 423], \"yaxis\": \"y3\"}],\n",
       "                        {\"annotations\": [{\"font\": {}, \"showarrow\": false, \"text\": \"\\u0418\\u0441\\u0442\\u043e\\u0447\\u043d\\u0438\\u043a \\u0442\\u0440\\u0430\\u0444\\u0438\\u043a\\u0430=Source 1\", \"x\": 0.15666666666666665, \"xanchor\": \"center\", \"xref\": \"paper\", \"y\": 1.0, \"yanchor\": \"bottom\", \"yref\": \"paper\"}, {\"font\": {}, \"showarrow\": false, \"text\": \"\\u0418\\u0441\\u0442\\u043e\\u0447\\u043d\\u0438\\u043a \\u0442\\u0440\\u0430\\u0444\\u0438\\u043a\\u0430=Source 2\", \"x\": 0.49, \"xanchor\": \"center\", \"xref\": \"paper\", \"y\": 1.0, \"yanchor\": \"bottom\", \"yref\": \"paper\"}, {\"font\": {}, \"showarrow\": false, \"text\": \"\\u0418\\u0441\\u0442\\u043e\\u0447\\u043d\\u0438\\u043a \\u0442\\u0440\\u0430\\u0444\\u0438\\u043a\\u0430=Source 3\", \"x\": 0.8233333333333333, \"xanchor\": \"center\", \"xref\": \"paper\", \"y\": 1.0, \"yanchor\": \"bottom\", \"yref\": \"paper\"}], \"barmode\": \"relative\", \"coloraxis\": {\"colorbar\": {\"title\": {\"text\": \"\\u041a\\u043e\\u043d\\u0432\\u0435\\u0440\\u0441\\u0438\\u044f \\u0432 \\u043f\\u043b\\u0430\\u0442\\u044f\\u0449\\u0435\\u0433\\u043e\"}}, \"colorscale\": [[0.0, \"#0d0887\"], [0.1111111111111111, \"#46039f\"], [0.2222222222222222, \"#7201a8\"], [0.3333333333333333, \"#9c179e\"], [0.4444444444444444, \"#bd3786\"], [0.5555555555555556, \"#d8576b\"], [0.6666666666666666, \"#ed7953\"], [0.7777777777777778, \"#fb9f3a\"], [0.8888888888888888, \"#fdca26\"], [1.0, \"#f0f921\"]]}, \"height\": 600, \"legend\": {\"tracegroupgap\": 0}, \"template\": {\"data\": {\"bar\": [{\"error_x\": {\"color\": \"#2a3f5f\"}, \"error_y\": {\"color\": \"#2a3f5f\"}, \"marker\": {\"line\": {\"color\": \"#E5ECF6\", \"width\": 0.5}}, \"type\": \"bar\"}], \"barpolar\": [{\"marker\": {\"line\": {\"color\": \"#E5ECF6\", \"width\": 0.5}}, \"type\": \"barpolar\"}], \"carpet\": [{\"aaxis\": {\"endlinecolor\": \"#2a3f5f\", \"gridcolor\": \"white\", \"linecolor\": \"white\", \"minorgridcolor\": \"white\", \"startlinecolor\": \"#2a3f5f\"}, \"baxis\": {\"endlinecolor\": \"#2a3f5f\", \"gridcolor\": \"white\", \"linecolor\": \"white\", \"minorgridcolor\": \"white\", \"startlinecolor\": \"#2a3f5f\"}, \"type\": \"carpet\"}], \"choropleth\": [{\"colorbar\": {\"outlinewidth\": 0, \"ticks\": \"\"}, \"type\": \"choropleth\"}], \"contour\": [{\"colorbar\": {\"outlinewidth\": 0, \"ticks\": \"\"}, \"colorscale\": [[0.0, \"#0d0887\"], [0.1111111111111111, \"#46039f\"], [0.2222222222222222, \"#7201a8\"], [0.3333333333333333, \"#9c179e\"], [0.4444444444444444, \"#bd3786\"], [0.5555555555555556, \"#d8576b\"], [0.6666666666666666, \"#ed7953\"], [0.7777777777777778, \"#fb9f3a\"], [0.8888888888888888, \"#fdca26\"], [1.0, \"#f0f921\"]], \"type\": \"contour\"}], \"contourcarpet\": [{\"colorbar\": {\"outlinewidth\": 0, \"ticks\": \"\"}, \"type\": \"contourcarpet\"}], \"heatmap\": [{\"colorbar\": {\"outlinewidth\": 0, \"ticks\": \"\"}, \"colorscale\": [[0.0, \"#0d0887\"], [0.1111111111111111, \"#46039f\"], [0.2222222222222222, \"#7201a8\"], [0.3333333333333333, \"#9c179e\"], [0.4444444444444444, \"#bd3786\"], [0.5555555555555556, \"#d8576b\"], [0.6666666666666666, \"#ed7953\"], [0.7777777777777778, \"#fb9f3a\"], [0.8888888888888888, \"#fdca26\"], [1.0, \"#f0f921\"]], \"type\": \"heatmap\"}], \"heatmapgl\": [{\"colorbar\": {\"outlinewidth\": 0, \"ticks\": \"\"}, \"colorscale\": [[0.0, \"#0d0887\"], [0.1111111111111111, \"#46039f\"], [0.2222222222222222, \"#7201a8\"], [0.3333333333333333, \"#9c179e\"], [0.4444444444444444, \"#bd3786\"], [0.5555555555555556, \"#d8576b\"], [0.6666666666666666, \"#ed7953\"], [0.7777777777777778, \"#fb9f3a\"], [0.8888888888888888, \"#fdca26\"], [1.0, \"#f0f921\"]], \"type\": \"heatmapgl\"}], \"histogram\": [{\"marker\": {\"colorbar\": {\"outlinewidth\": 0, \"ticks\": \"\"}}, \"type\": \"histogram\"}], \"histogram2d\": [{\"colorbar\": {\"outlinewidth\": 0, \"ticks\": \"\"}, \"colorscale\": [[0.0, \"#0d0887\"], [0.1111111111111111, \"#46039f\"], [0.2222222222222222, \"#7201a8\"], [0.3333333333333333, \"#9c179e\"], [0.4444444444444444, \"#bd3786\"], [0.5555555555555556, \"#d8576b\"], [0.6666666666666666, \"#ed7953\"], [0.7777777777777778, \"#fb9f3a\"], [0.8888888888888888, \"#fdca26\"], [1.0, \"#f0f921\"]], \"type\": \"histogram2d\"}], \"histogram2dcontour\": [{\"colorbar\": {\"outlinewidth\": 0, \"ticks\": \"\"}, \"colorscale\": [[0.0, \"#0d0887\"], [0.1111111111111111, \"#46039f\"], [0.2222222222222222, \"#7201a8\"], [0.3333333333333333, \"#9c179e\"], [0.4444444444444444, \"#bd3786\"], [0.5555555555555556, \"#d8576b\"], [0.6666666666666666, \"#ed7953\"], [0.7777777777777778, \"#fb9f3a\"], [0.8888888888888888, \"#fdca26\"], [1.0, \"#f0f921\"]], \"type\": \"histogram2dcontour\"}], \"mesh3d\": [{\"colorbar\": {\"outlinewidth\": 0, \"ticks\": \"\"}, \"type\": \"mesh3d\"}], \"parcoords\": [{\"line\": {\"colorbar\": {\"outlinewidth\": 0, \"ticks\": \"\"}}, \"type\": \"parcoords\"}], \"scatter\": [{\"marker\": {\"colorbar\": {\"outlinewidth\": 0, \"ticks\": \"\"}}, \"type\": \"scatter\"}], \"scatter3d\": [{\"line\": {\"colorbar\": {\"outlinewidth\": 0, \"ticks\": \"\"}}, \"marker\": {\"colorbar\": {\"outlinewidth\": 0, \"ticks\": \"\"}}, \"type\": \"scatter3d\"}], \"scattercarpet\": [{\"marker\": {\"colorbar\": {\"outlinewidth\": 0, \"ticks\": \"\"}}, \"type\": \"scattercarpet\"}], \"scattergeo\": [{\"marker\": {\"colorbar\": {\"outlinewidth\": 0, \"ticks\": \"\"}}, \"type\": \"scattergeo\"}], \"scattergl\": [{\"marker\": {\"colorbar\": {\"outlinewidth\": 0, \"ticks\": \"\"}}, \"type\": \"scattergl\"}], \"scattermapbox\": [{\"marker\": {\"colorbar\": {\"outlinewidth\": 0, \"ticks\": \"\"}}, \"type\": \"scattermapbox\"}], \"scatterpolar\": [{\"marker\": {\"colorbar\": {\"outlinewidth\": 0, \"ticks\": \"\"}}, \"type\": \"scatterpolar\"}], \"scatterpolargl\": [{\"marker\": {\"colorbar\": {\"outlinewidth\": 0, \"ticks\": \"\"}}, \"type\": \"scatterpolargl\"}], \"scatterternary\": [{\"marker\": {\"colorbar\": {\"outlinewidth\": 0, \"ticks\": \"\"}}, \"type\": \"scatterternary\"}], \"surface\": [{\"colorbar\": {\"outlinewidth\": 0, \"ticks\": \"\"}, \"colorscale\": [[0.0, \"#0d0887\"], [0.1111111111111111, \"#46039f\"], [0.2222222222222222, \"#7201a8\"], [0.3333333333333333, \"#9c179e\"], [0.4444444444444444, \"#bd3786\"], [0.5555555555555556, \"#d8576b\"], [0.6666666666666666, \"#ed7953\"], [0.7777777777777778, \"#fb9f3a\"], [0.8888888888888888, \"#fdca26\"], [1.0, \"#f0f921\"]], \"type\": \"surface\"}], \"table\": [{\"cells\": {\"fill\": {\"color\": \"#EBF0F8\"}, \"line\": {\"color\": \"white\"}}, \"header\": {\"fill\": {\"color\": \"#C8D4E3\"}, \"line\": {\"color\": \"white\"}}, \"type\": \"table\"}]}, \"layout\": {\"annotationdefaults\": {\"arrowcolor\": \"#2a3f5f\", \"arrowhead\": 0, \"arrowwidth\": 1}, \"colorscale\": {\"diverging\": [[0, \"#8e0152\"], [0.1, \"#c51b7d\"], [0.2, \"#de77ae\"], [0.3, \"#f1b6da\"], [0.4, \"#fde0ef\"], [0.5, \"#f7f7f7\"], [0.6, \"#e6f5d0\"], [0.7, \"#b8e186\"], [0.8, \"#7fbc41\"], [0.9, \"#4d9221\"], [1, \"#276419\"]], \"sequential\": [[0.0, \"#0d0887\"], [0.1111111111111111, \"#46039f\"], [0.2222222222222222, \"#7201a8\"], [0.3333333333333333, \"#9c179e\"], [0.4444444444444444, \"#bd3786\"], [0.5555555555555556, \"#d8576b\"], [0.6666666666666666, \"#ed7953\"], [0.7777777777777778, \"#fb9f3a\"], [0.8888888888888888, \"#fdca26\"], [1.0, \"#f0f921\"]], \"sequentialminus\": [[0.0, \"#0d0887\"], [0.1111111111111111, \"#46039f\"], [0.2222222222222222, \"#7201a8\"], [0.3333333333333333, \"#9c179e\"], [0.4444444444444444, \"#bd3786\"], [0.5555555555555556, \"#d8576b\"], [0.6666666666666666, \"#ed7953\"], [0.7777777777777778, \"#fb9f3a\"], [0.8888888888888888, \"#fdca26\"], [1.0, \"#f0f921\"]]}, \"colorway\": [\"#636efa\", \"#EF553B\", \"#00cc96\", \"#ab63fa\", \"#FFA15A\", \"#19d3f3\", \"#FF6692\", \"#B6E880\", \"#FF97FF\", \"#FECB52\"], \"font\": {\"color\": \"#2a3f5f\"}, \"geo\": {\"bgcolor\": \"white\", \"lakecolor\": \"white\", \"landcolor\": \"#E5ECF6\", \"showlakes\": true, \"showland\": true, \"subunitcolor\": \"white\"}, \"hoverlabel\": {\"align\": \"left\"}, \"hovermode\": \"closest\", \"mapbox\": {\"style\": \"light\"}, \"paper_bgcolor\": \"white\", \"plot_bgcolor\": \"#E5ECF6\", \"polar\": {\"angularaxis\": {\"gridcolor\": \"white\", \"linecolor\": \"white\", \"ticks\": \"\"}, \"bgcolor\": \"#E5ECF6\", \"radialaxis\": {\"gridcolor\": \"white\", \"linecolor\": \"white\", \"ticks\": \"\"}}, \"scene\": {\"xaxis\": {\"backgroundcolor\": \"#E5ECF6\", \"gridcolor\": \"white\", \"gridwidth\": 2, \"linecolor\": \"white\", \"showbackground\": true, \"ticks\": \"\", \"zerolinecolor\": \"white\"}, \"yaxis\": {\"backgroundcolor\": \"#E5ECF6\", \"gridcolor\": \"white\", \"gridwidth\": 2, \"linecolor\": \"white\", \"showbackground\": true, \"ticks\": \"\", \"zerolinecolor\": \"white\"}, \"zaxis\": {\"backgroundcolor\": \"#E5ECF6\", \"gridcolor\": \"white\", \"gridwidth\": 2, \"linecolor\": \"white\", \"showbackground\": true, \"ticks\": \"\", \"zerolinecolor\": \"white\"}}, \"shapedefaults\": {\"line\": {\"color\": \"#2a3f5f\"}}, \"ternary\": {\"aaxis\": {\"gridcolor\": \"white\", \"linecolor\": \"white\", \"ticks\": \"\"}, \"baxis\": {\"gridcolor\": \"white\", \"linecolor\": \"white\", \"ticks\": \"\"}, \"bgcolor\": \"#E5ECF6\", \"caxis\": {\"gridcolor\": \"white\", \"linecolor\": \"white\", \"ticks\": \"\"}}, \"title\": {\"x\": 0.05}, \"xaxis\": {\"automargin\": true, \"gridcolor\": \"white\", \"linecolor\": \"white\", \"ticks\": \"\", \"zerolinecolor\": \"white\", \"zerolinewidth\": 2}, \"yaxis\": {\"automargin\": true, \"gridcolor\": \"white\", \"linecolor\": \"white\", \"ticks\": \"\", \"zerolinecolor\": \"white\", \"zerolinewidth\": 2}}}, \"title\": {\"text\": \"\\u041a\\u043e\\u043d\\u0432\\u0435\\u0440\\u0441\\u0438\\u044f \\u043f\\u043e \\u0438\\u0441\\u0442\\u043e\\u0447\\u043d\\u0438\\u043a\\u0430\\u043c \\u0432 \\u0440\\u0430\\u0437\\u0440\\u0435\\u0437\\u0435 \\u0441\\u0442\\u0440\\u0430\\u043d\"}, \"xaxis\": {\"anchor\": \"y\", \"domain\": [0.0, 0.3133333333333333], \"title\": {\"text\": \"\\u0421\\u0442\\u0440\\u0430\\u043d\\u0430\"}}, \"xaxis2\": {\"anchor\": \"y2\", \"domain\": [0.3333333333333333, 0.6466666666666666], \"matches\": \"x\", \"title\": {\"text\": \"\\u0421\\u0442\\u0440\\u0430\\u043d\\u0430\"}}, \"xaxis3\": {\"anchor\": \"y3\", \"domain\": [0.6666666666666666, 0.98], \"matches\": \"x\", \"title\": {\"text\": \"\\u0421\\u0442\\u0440\\u0430\\u043d\\u0430\"}}, \"yaxis\": {\"anchor\": \"x\", \"domain\": [0.0, 1.0], \"title\": {\"text\": \"\\u041a\\u043e\\u043b-\\u0432\\u043e \\u043f\\u043e\\u043b\\u044c\\u0437\\u043e\\u0432\\u0430\\u0442\\u0435\\u043b\\u0435\\u0439\"}}, \"yaxis2\": {\"anchor\": \"x2\", \"domain\": [0.0, 1.0], \"matches\": \"y\", \"showticklabels\": false}, \"yaxis3\": {\"anchor\": \"x3\", \"domain\": [0.0, 1.0], \"matches\": \"y\", \"showticklabels\": false}},\n",
       "                        {\"responsive\": true}\n",
       "                    ).then(function(){\n",
       "                            \n",
       "var gd = document.getElementById('5f52a19c-c928-4aaf-87eb-7b2bb58dfe1d');\n",
       "var x = new MutationObserver(function (mutations, observer) {{\n",
       "        var display = window.getComputedStyle(gd).display;\n",
       "        if (!display || display === 'none') {{\n",
       "            console.log([gd, 'removed!']);\n",
       "            Plotly.purge(gd);\n",
       "            observer.disconnect();\n",
       "        }}\n",
       "}});\n",
       "\n",
       "// Listen for the removal of the full notebook cells\n",
       "var notebookContainer = gd.closest('#notebook-container');\n",
       "if (notebookContainer) {{\n",
       "    x.observe(notebookContainer, {childList: true});\n",
       "}}\n",
       "\n",
       "// Listen for the clearing of the current output cell\n",
       "var outputEl = gd.closest('.output');\n",
       "if (outputEl) {{\n",
       "    x.observe(outputEl, {childList: true});\n",
       "}}\n",
       "\n",
       "                        })\n",
       "                };\n",
       "                });\n",
       "            </script>\n",
       "        </div>"
      ]
     },
     "metadata": {},
     "output_type": "display_data"
    },
    {
     "data": {
      "text/html": [
       "<div>\n",
       "<style scoped>\n",
       "    .dataframe tbody tr th:only-of-type {\n",
       "        vertical-align: middle;\n",
       "    }\n",
       "\n",
       "    .dataframe tbody tr th {\n",
       "        vertical-align: top;\n",
       "    }\n",
       "\n",
       "    .dataframe thead th {\n",
       "        text-align: right;\n",
       "    }\n",
       "</style>\n",
       "<table border=\"1\" class=\"dataframe\">\n",
       "  <thead>\n",
       "    <tr style=\"text-align: right;\">\n",
       "      <th></th>\n",
       "      <th>Источник трафика</th>\n",
       "      <th>Устройство</th>\n",
       "      <th>Кол-во пользователей</th>\n",
       "      <th>Конверсия в платящего</th>\n",
       "    </tr>\n",
       "  </thead>\n",
       "  <tbody>\n",
       "    <tr>\n",
       "      <td>21</td>\n",
       "      <td>Source 1</td>\n",
       "      <td>iPhone 7</td>\n",
       "      <td>329</td>\n",
       "      <td>0.048632</td>\n",
       "    </tr>\n",
       "    <tr>\n",
       "      <td>30</td>\n",
       "      <td>Source 2</td>\n",
       "      <td>iPad 5</td>\n",
       "      <td>396</td>\n",
       "      <td>0.007576</td>\n",
       "    </tr>\n",
       "    <tr>\n",
       "      <td>33</td>\n",
       "      <td>Source 2</td>\n",
       "      <td>iPad Mini 2</td>\n",
       "      <td>433</td>\n",
       "      <td>0.016166</td>\n",
       "    </tr>\n",
       "    <tr>\n",
       "      <td>50</td>\n",
       "      <td>Source 2</td>\n",
       "      <td>iPhone SE</td>\n",
       "      <td>472</td>\n",
       "      <td>0.021186</td>\n",
       "    </tr>\n",
       "    <tr>\n",
       "      <td>31</td>\n",
       "      <td>Source 2</td>\n",
       "      <td>iPad Air</td>\n",
       "      <td>500</td>\n",
       "      <td>0.016000</td>\n",
       "    </tr>\n",
       "    <tr>\n",
       "      <td>46</td>\n",
       "      <td>Source 2</td>\n",
       "      <td>iPhone 7</td>\n",
       "      <td>531</td>\n",
       "      <td>0.045198</td>\n",
       "    </tr>\n",
       "    <tr>\n",
       "      <td>32</td>\n",
       "      <td>Source 2</td>\n",
       "      <td>iPad Air 2</td>\n",
       "      <td>543</td>\n",
       "      <td>0.016575</td>\n",
       "    </tr>\n",
       "    <tr>\n",
       "      <td>44</td>\n",
       "      <td>Source 2</td>\n",
       "      <td>iPhone 6s</td>\n",
       "      <td>699</td>\n",
       "      <td>0.040057</td>\n",
       "    </tr>\n",
       "    <tr>\n",
       "      <td>42</td>\n",
       "      <td>Source 2</td>\n",
       "      <td>iPhone 6</td>\n",
       "      <td>753</td>\n",
       "      <td>0.017264</td>\n",
       "    </tr>\n",
       "    <tr>\n",
       "      <td>41</td>\n",
       "      <td>Source 2</td>\n",
       "      <td>iPhone 5s</td>\n",
       "      <td>948</td>\n",
       "      <td>0.013713</td>\n",
       "    </tr>\n",
       "  </tbody>\n",
       "</table>\n",
       "</div>"
      ],
      "text/plain": [
       "   Источник трафика   Устройство  Кол-во пользователей  Конверсия в платящего\n",
       "21         Source 1     iPhone 7                   329               0.048632\n",
       "30         Source 2       iPad 5                   396               0.007576\n",
       "33         Source 2  iPad Mini 2                   433               0.016166\n",
       "50         Source 2    iPhone SE                   472               0.021186\n",
       "31         Source 2     iPad Air                   500               0.016000\n",
       "46         Source 2     iPhone 7                   531               0.045198\n",
       "32         Source 2   iPad Air 2                   543               0.016575\n",
       "44         Source 2    iPhone 6s                   699               0.040057\n",
       "42         Source 2     iPhone 6                   753               0.017264\n",
       "41         Source 2    iPhone 5s                   948               0.013713"
      ]
     },
     "metadata": {},
     "output_type": "display_data"
    },
    {
     "data": {
      "application/vnd.plotly.v1+json": {
       "config": {
        "plotlyServerURL": "https://plot.ly"
       },
       "data": [
        {
         "alignmentgroup": "True",
         "hoverlabel": {
          "namelength": 0
         },
         "hovertemplate": "Источник трафика=Source 1<br>Устройство=%{x}<br>Кол-во пользователей=%{y}<br>Конверсия в платящего=%{marker.color}",
         "legendgroup": "",
         "marker": {
          "color": [
           0,
           0,
           0,
           0,
           0,
           0,
           0,
           0,
           0,
           0,
           0.14285714285714285,
           0,
           0,
           0,
           0,
           0,
           0.07692307692307693,
           0,
           0.0625,
           0.047619047619047616,
           0,
           0.018867924528301886,
           0.05172413793103448,
           0.010101010101010102,
           0.03125,
           0.017543859649122806,
           0.03508771929824561,
           0.03018867924528302,
           0.0486322188449848
          ],
          "coloraxis": "coloraxis"
         },
         "name": "",
         "offsetgroup": "",
         "orientation": "v",
         "showlegend": false,
         "textposition": "auto",
         "type": "bar",
         "x": [
          "iPad Pro (9.7 inch)",
          "iPad Pro (10.5 inch)",
          "iPad 4",
          "iPad Mini 4",
          "iPad Pro (12.9 inch)",
          "iPad Air",
          "iPad Mini 3",
          "iPad 3",
          "iPhone 4s",
          "iPad 5",
          "iPad Air 2",
          "iPhone X",
          "iPad 2",
          "iPad Mini 1",
          "iPhone 5",
          "iPhone 5c",
          "iPad Mini 2",
          "iPod touch 5",
          "iPod touch 6",
          "iPhone SE",
          "iPhone 5s",
          "iPhone 8",
          "iPhone 8 Plus",
          "iPhone 6 Plus",
          "iPhone 6s Plus",
          "iPhone 6",
          "iPhone 7 Plus",
          "iPhone 6s",
          "iPhone 7"
         ],
         "xaxis": "x",
         "y": [
          1,
          2,
          3,
          3,
          3,
          4,
          4,
          5,
          5,
          7,
          7,
          7,
          8,
          8,
          8,
          11,
          13,
          13,
          16,
          21,
          36,
          53,
          58,
          99,
          160,
          228,
          228,
          265,
          329
         ],
         "yaxis": "y"
        },
        {
         "alignmentgroup": "True",
         "hoverlabel": {
          "namelength": 0
         },
         "hovertemplate": "Источник трафика=Source 3<br>Устройство=%{x}<br>Кол-во пользователей=%{y}<br>Конверсия в платящего=%{marker.color}",
         "legendgroup": "",
         "marker": {
          "color": [
           0,
           0,
           0,
           0.25,
           0,
           0,
           0,
           0,
           0,
           0,
           0.15384615384615385,
           0,
           0,
           0,
           0.043478260869565216,
           0.08695652173913043,
           0,
           0,
           0,
           0,
           0.05405405405405406,
           0,
           0.02,
           0.06,
           0.019230769230769232,
           0.04838709677419355,
           0.015384615384615385,
           0.011764705882352941
          ],
          "coloraxis": "coloraxis"
         },
         "name": "",
         "offsetgroup": "",
         "orientation": "v",
         "showlegend": false,
         "textposition": "auto",
         "type": "bar",
         "x": [
          "iPhone 8",
          "iPhone 8 Plus",
          "iPad Mini 3",
          "iPad Pro (10.5 inch)",
          "iPod touch 5",
          "iPad Mini 4",
          "iPad Pro (9.7 inch)",
          "iPhone 6 Plus",
          "iPhone 4s",
          "iPad 2",
          "iPad Pro (12.9 inch)",
          "iPhone 6s Plus",
          "iPad Mini 1",
          "iPod touch 6",
          "iPad 3",
          "iPad 5",
          "iPhone 5",
          "iPhone 7 Plus",
          "iPad 4",
          "iPhone 5c",
          "iPhone SE",
          "iPad Air",
          "iPad Mini 2",
          "iPhone 6s",
          "iPad Air 2",
          "iPhone 6",
          "iPhone 7",
          "iPhone 5s"
         ],
         "xaxis": "x2",
         "y": [
          1,
          1,
          4,
          4,
          4,
          7,
          7,
          10,
          11,
          12,
          13,
          13,
          14,
          15,
          23,
          23,
          23,
          26,
          32,
          34,
          37,
          45,
          50,
          50,
          52,
          62,
          65,
          85
         ],
         "yaxis": "y2"
        },
        {
         "alignmentgroup": "True",
         "hoverlabel": {
          "namelength": 0
         },
         "hovertemplate": "Источник трафика=Source 2<br>Устройство=%{x}<br>Кол-во пользователей=%{y}<br>Конверсия в платящего=%{marker.color}",
         "legendgroup": "",
         "marker": {
          "color": [
           0,
           0,
           0.07407407407407407,
           0.08823529411764706,
           0.02702702702702703,
           0.021739130434782608,
           0.015151515151515152,
           0,
           0.020618556701030927,
           0.04285714285714286,
           0.031914893617021274,
           0.017777777777777778,
           0.0038910505836575876,
           0.011152416356877323,
           0.007575757575757576,
           0.016166281755196306,
           0.0211864406779661,
           0.016,
           0.04519774011299435,
           0.016574585635359115,
           0.04005722460658083,
           0.017264276228419653,
           0.013713080168776372
          ],
          "coloraxis": "coloraxis"
         },
         "name": "",
         "offsetgroup": "",
         "orientation": "v",
         "showlegend": false,
         "textposition": "auto",
         "type": "bar",
         "x": [
          "iPhone X",
          "iPad Pro (10.5 inch)",
          "iPad Mini 3",
          "iPhone 8 Plus",
          "iPad Pro (12.9 inch)",
          "iPhone 8",
          "iPad Pro (9.7 inch)",
          "iPad Mini 4",
          "iPhone 6 Plus",
          "iPhone 6s Plus",
          "iPhone 7 Plus",
          "iPhone 5c",
          "iPhone 5",
          "iPad 4",
          "iPad 5",
          "iPad Mini 2",
          "iPhone SE",
          "iPad Air",
          "iPhone 7",
          "iPad Air 2",
          "iPhone 6s",
          "iPhone 6",
          "iPhone 5s"
         ],
         "xaxis": "x3",
         "y": [
          9,
          22,
          27,
          34,
          37,
          46,
          66,
          89,
          97,
          140,
          188,
          225,
          257,
          269,
          396,
          433,
          472,
          500,
          531,
          543,
          699,
          753,
          948
         ],
         "yaxis": "y3"
        }
       ],
       "layout": {
        "annotations": [
         {
          "font": {},
          "showarrow": false,
          "text": "Источник трафика=Source 1",
          "x": 0.15666666666666665,
          "xanchor": "center",
          "xref": "paper",
          "y": 1,
          "yanchor": "bottom",
          "yref": "paper"
         },
         {
          "font": {},
          "showarrow": false,
          "text": "Источник трафика=Source 3",
          "x": 0.49,
          "xanchor": "center",
          "xref": "paper",
          "y": 1,
          "yanchor": "bottom",
          "yref": "paper"
         },
         {
          "font": {},
          "showarrow": false,
          "text": "Источник трафика=Source 2",
          "x": 0.8233333333333333,
          "xanchor": "center",
          "xref": "paper",
          "y": 1,
          "yanchor": "bottom",
          "yref": "paper"
         }
        ],
        "barmode": "relative",
        "coloraxis": {
         "colorbar": {
          "title": {
           "text": "Конверсия в платящего"
          }
         },
         "colorscale": [
          [
           0,
           "#0d0887"
          ],
          [
           0.1111111111111111,
           "#46039f"
          ],
          [
           0.2222222222222222,
           "#7201a8"
          ],
          [
           0.3333333333333333,
           "#9c179e"
          ],
          [
           0.4444444444444444,
           "#bd3786"
          ],
          [
           0.5555555555555556,
           "#d8576b"
          ],
          [
           0.6666666666666666,
           "#ed7953"
          ],
          [
           0.7777777777777778,
           "#fb9f3a"
          ],
          [
           0.8888888888888888,
           "#fdca26"
          ],
          [
           1,
           "#f0f921"
          ]
         ]
        },
        "height": 600,
        "legend": {
         "tracegroupgap": 0
        },
        "template": {
         "data": {
          "bar": [
           {
            "error_x": {
             "color": "#2a3f5f"
            },
            "error_y": {
             "color": "#2a3f5f"
            },
            "marker": {
             "line": {
              "color": "#E5ECF6",
              "width": 0.5
             }
            },
            "type": "bar"
           }
          ],
          "barpolar": [
           {
            "marker": {
             "line": {
              "color": "#E5ECF6",
              "width": 0.5
             }
            },
            "type": "barpolar"
           }
          ],
          "carpet": [
           {
            "aaxis": {
             "endlinecolor": "#2a3f5f",
             "gridcolor": "white",
             "linecolor": "white",
             "minorgridcolor": "white",
             "startlinecolor": "#2a3f5f"
            },
            "baxis": {
             "endlinecolor": "#2a3f5f",
             "gridcolor": "white",
             "linecolor": "white",
             "minorgridcolor": "white",
             "startlinecolor": "#2a3f5f"
            },
            "type": "carpet"
           }
          ],
          "choropleth": [
           {
            "colorbar": {
             "outlinewidth": 0,
             "ticks": ""
            },
            "type": "choropleth"
           }
          ],
          "contour": [
           {
            "colorbar": {
             "outlinewidth": 0,
             "ticks": ""
            },
            "colorscale": [
             [
              0,
              "#0d0887"
             ],
             [
              0.1111111111111111,
              "#46039f"
             ],
             [
              0.2222222222222222,
              "#7201a8"
             ],
             [
              0.3333333333333333,
              "#9c179e"
             ],
             [
              0.4444444444444444,
              "#bd3786"
             ],
             [
              0.5555555555555556,
              "#d8576b"
             ],
             [
              0.6666666666666666,
              "#ed7953"
             ],
             [
              0.7777777777777778,
              "#fb9f3a"
             ],
             [
              0.8888888888888888,
              "#fdca26"
             ],
             [
              1,
              "#f0f921"
             ]
            ],
            "type": "contour"
           }
          ],
          "contourcarpet": [
           {
            "colorbar": {
             "outlinewidth": 0,
             "ticks": ""
            },
            "type": "contourcarpet"
           }
          ],
          "heatmap": [
           {
            "colorbar": {
             "outlinewidth": 0,
             "ticks": ""
            },
            "colorscale": [
             [
              0,
              "#0d0887"
             ],
             [
              0.1111111111111111,
              "#46039f"
             ],
             [
              0.2222222222222222,
              "#7201a8"
             ],
             [
              0.3333333333333333,
              "#9c179e"
             ],
             [
              0.4444444444444444,
              "#bd3786"
             ],
             [
              0.5555555555555556,
              "#d8576b"
             ],
             [
              0.6666666666666666,
              "#ed7953"
             ],
             [
              0.7777777777777778,
              "#fb9f3a"
             ],
             [
              0.8888888888888888,
              "#fdca26"
             ],
             [
              1,
              "#f0f921"
             ]
            ],
            "type": "heatmap"
           }
          ],
          "heatmapgl": [
           {
            "colorbar": {
             "outlinewidth": 0,
             "ticks": ""
            },
            "colorscale": [
             [
              0,
              "#0d0887"
             ],
             [
              0.1111111111111111,
              "#46039f"
             ],
             [
              0.2222222222222222,
              "#7201a8"
             ],
             [
              0.3333333333333333,
              "#9c179e"
             ],
             [
              0.4444444444444444,
              "#bd3786"
             ],
             [
              0.5555555555555556,
              "#d8576b"
             ],
             [
              0.6666666666666666,
              "#ed7953"
             ],
             [
              0.7777777777777778,
              "#fb9f3a"
             ],
             [
              0.8888888888888888,
              "#fdca26"
             ],
             [
              1,
              "#f0f921"
             ]
            ],
            "type": "heatmapgl"
           }
          ],
          "histogram": [
           {
            "marker": {
             "colorbar": {
              "outlinewidth": 0,
              "ticks": ""
             }
            },
            "type": "histogram"
           }
          ],
          "histogram2d": [
           {
            "colorbar": {
             "outlinewidth": 0,
             "ticks": ""
            },
            "colorscale": [
             [
              0,
              "#0d0887"
             ],
             [
              0.1111111111111111,
              "#46039f"
             ],
             [
              0.2222222222222222,
              "#7201a8"
             ],
             [
              0.3333333333333333,
              "#9c179e"
             ],
             [
              0.4444444444444444,
              "#bd3786"
             ],
             [
              0.5555555555555556,
              "#d8576b"
             ],
             [
              0.6666666666666666,
              "#ed7953"
             ],
             [
              0.7777777777777778,
              "#fb9f3a"
             ],
             [
              0.8888888888888888,
              "#fdca26"
             ],
             [
              1,
              "#f0f921"
             ]
            ],
            "type": "histogram2d"
           }
          ],
          "histogram2dcontour": [
           {
            "colorbar": {
             "outlinewidth": 0,
             "ticks": ""
            },
            "colorscale": [
             [
              0,
              "#0d0887"
             ],
             [
              0.1111111111111111,
              "#46039f"
             ],
             [
              0.2222222222222222,
              "#7201a8"
             ],
             [
              0.3333333333333333,
              "#9c179e"
             ],
             [
              0.4444444444444444,
              "#bd3786"
             ],
             [
              0.5555555555555556,
              "#d8576b"
             ],
             [
              0.6666666666666666,
              "#ed7953"
             ],
             [
              0.7777777777777778,
              "#fb9f3a"
             ],
             [
              0.8888888888888888,
              "#fdca26"
             ],
             [
              1,
              "#f0f921"
             ]
            ],
            "type": "histogram2dcontour"
           }
          ],
          "mesh3d": [
           {
            "colorbar": {
             "outlinewidth": 0,
             "ticks": ""
            },
            "type": "mesh3d"
           }
          ],
          "parcoords": [
           {
            "line": {
             "colorbar": {
              "outlinewidth": 0,
              "ticks": ""
             }
            },
            "type": "parcoords"
           }
          ],
          "scatter": [
           {
            "marker": {
             "colorbar": {
              "outlinewidth": 0,
              "ticks": ""
             }
            },
            "type": "scatter"
           }
          ],
          "scatter3d": [
           {
            "line": {
             "colorbar": {
              "outlinewidth": 0,
              "ticks": ""
             }
            },
            "marker": {
             "colorbar": {
              "outlinewidth": 0,
              "ticks": ""
             }
            },
            "type": "scatter3d"
           }
          ],
          "scattercarpet": [
           {
            "marker": {
             "colorbar": {
              "outlinewidth": 0,
              "ticks": ""
             }
            },
            "type": "scattercarpet"
           }
          ],
          "scattergeo": [
           {
            "marker": {
             "colorbar": {
              "outlinewidth": 0,
              "ticks": ""
             }
            },
            "type": "scattergeo"
           }
          ],
          "scattergl": [
           {
            "marker": {
             "colorbar": {
              "outlinewidth": 0,
              "ticks": ""
             }
            },
            "type": "scattergl"
           }
          ],
          "scattermapbox": [
           {
            "marker": {
             "colorbar": {
              "outlinewidth": 0,
              "ticks": ""
             }
            },
            "type": "scattermapbox"
           }
          ],
          "scatterpolar": [
           {
            "marker": {
             "colorbar": {
              "outlinewidth": 0,
              "ticks": ""
             }
            },
            "type": "scatterpolar"
           }
          ],
          "scatterpolargl": [
           {
            "marker": {
             "colorbar": {
              "outlinewidth": 0,
              "ticks": ""
             }
            },
            "type": "scatterpolargl"
           }
          ],
          "scatterternary": [
           {
            "marker": {
             "colorbar": {
              "outlinewidth": 0,
              "ticks": ""
             }
            },
            "type": "scatterternary"
           }
          ],
          "surface": [
           {
            "colorbar": {
             "outlinewidth": 0,
             "ticks": ""
            },
            "colorscale": [
             [
              0,
              "#0d0887"
             ],
             [
              0.1111111111111111,
              "#46039f"
             ],
             [
              0.2222222222222222,
              "#7201a8"
             ],
             [
              0.3333333333333333,
              "#9c179e"
             ],
             [
              0.4444444444444444,
              "#bd3786"
             ],
             [
              0.5555555555555556,
              "#d8576b"
             ],
             [
              0.6666666666666666,
              "#ed7953"
             ],
             [
              0.7777777777777778,
              "#fb9f3a"
             ],
             [
              0.8888888888888888,
              "#fdca26"
             ],
             [
              1,
              "#f0f921"
             ]
            ],
            "type": "surface"
           }
          ],
          "table": [
           {
            "cells": {
             "fill": {
              "color": "#EBF0F8"
             },
             "line": {
              "color": "white"
             }
            },
            "header": {
             "fill": {
              "color": "#C8D4E3"
             },
             "line": {
              "color": "white"
             }
            },
            "type": "table"
           }
          ]
         },
         "layout": {
          "annotationdefaults": {
           "arrowcolor": "#2a3f5f",
           "arrowhead": 0,
           "arrowwidth": 1
          },
          "colorscale": {
           "diverging": [
            [
             0,
             "#8e0152"
            ],
            [
             0.1,
             "#c51b7d"
            ],
            [
             0.2,
             "#de77ae"
            ],
            [
             0.3,
             "#f1b6da"
            ],
            [
             0.4,
             "#fde0ef"
            ],
            [
             0.5,
             "#f7f7f7"
            ],
            [
             0.6,
             "#e6f5d0"
            ],
            [
             0.7,
             "#b8e186"
            ],
            [
             0.8,
             "#7fbc41"
            ],
            [
             0.9,
             "#4d9221"
            ],
            [
             1,
             "#276419"
            ]
           ],
           "sequential": [
            [
             0,
             "#0d0887"
            ],
            [
             0.1111111111111111,
             "#46039f"
            ],
            [
             0.2222222222222222,
             "#7201a8"
            ],
            [
             0.3333333333333333,
             "#9c179e"
            ],
            [
             0.4444444444444444,
             "#bd3786"
            ],
            [
             0.5555555555555556,
             "#d8576b"
            ],
            [
             0.6666666666666666,
             "#ed7953"
            ],
            [
             0.7777777777777778,
             "#fb9f3a"
            ],
            [
             0.8888888888888888,
             "#fdca26"
            ],
            [
             1,
             "#f0f921"
            ]
           ],
           "sequentialminus": [
            [
             0,
             "#0d0887"
            ],
            [
             0.1111111111111111,
             "#46039f"
            ],
            [
             0.2222222222222222,
             "#7201a8"
            ],
            [
             0.3333333333333333,
             "#9c179e"
            ],
            [
             0.4444444444444444,
             "#bd3786"
            ],
            [
             0.5555555555555556,
             "#d8576b"
            ],
            [
             0.6666666666666666,
             "#ed7953"
            ],
            [
             0.7777777777777778,
             "#fb9f3a"
            ],
            [
             0.8888888888888888,
             "#fdca26"
            ],
            [
             1,
             "#f0f921"
            ]
           ]
          },
          "colorway": [
           "#636efa",
           "#EF553B",
           "#00cc96",
           "#ab63fa",
           "#FFA15A",
           "#19d3f3",
           "#FF6692",
           "#B6E880",
           "#FF97FF",
           "#FECB52"
          ],
          "font": {
           "color": "#2a3f5f"
          },
          "geo": {
           "bgcolor": "white",
           "lakecolor": "white",
           "landcolor": "#E5ECF6",
           "showlakes": true,
           "showland": true,
           "subunitcolor": "white"
          },
          "hoverlabel": {
           "align": "left"
          },
          "hovermode": "closest",
          "mapbox": {
           "style": "light"
          },
          "paper_bgcolor": "white",
          "plot_bgcolor": "#E5ECF6",
          "polar": {
           "angularaxis": {
            "gridcolor": "white",
            "linecolor": "white",
            "ticks": ""
           },
           "bgcolor": "#E5ECF6",
           "radialaxis": {
            "gridcolor": "white",
            "linecolor": "white",
            "ticks": ""
           }
          },
          "scene": {
           "xaxis": {
            "backgroundcolor": "#E5ECF6",
            "gridcolor": "white",
            "gridwidth": 2,
            "linecolor": "white",
            "showbackground": true,
            "ticks": "",
            "zerolinecolor": "white"
           },
           "yaxis": {
            "backgroundcolor": "#E5ECF6",
            "gridcolor": "white",
            "gridwidth": 2,
            "linecolor": "white",
            "showbackground": true,
            "ticks": "",
            "zerolinecolor": "white"
           },
           "zaxis": {
            "backgroundcolor": "#E5ECF6",
            "gridcolor": "white",
            "gridwidth": 2,
            "linecolor": "white",
            "showbackground": true,
            "ticks": "",
            "zerolinecolor": "white"
           }
          },
          "shapedefaults": {
           "line": {
            "color": "#2a3f5f"
           }
          },
          "ternary": {
           "aaxis": {
            "gridcolor": "white",
            "linecolor": "white",
            "ticks": ""
           },
           "baxis": {
            "gridcolor": "white",
            "linecolor": "white",
            "ticks": ""
           },
           "bgcolor": "#E5ECF6",
           "caxis": {
            "gridcolor": "white",
            "linecolor": "white",
            "ticks": ""
           }
          },
          "title": {
           "x": 0.05
          },
          "xaxis": {
           "automargin": true,
           "gridcolor": "white",
           "linecolor": "white",
           "ticks": "",
           "zerolinecolor": "white",
           "zerolinewidth": 2
          },
          "yaxis": {
           "automargin": true,
           "gridcolor": "white",
           "linecolor": "white",
           "ticks": "",
           "zerolinecolor": "white",
           "zerolinewidth": 2
          }
         }
        },
        "title": {
         "text": "Конверсия по источникам в разрезе устройств"
        },
        "xaxis": {
         "anchor": "y",
         "domain": [
          0,
          0.3133333333333333
         ],
         "title": {
          "text": "Устройство"
         }
        },
        "xaxis2": {
         "anchor": "y2",
         "domain": [
          0.3333333333333333,
          0.6466666666666666
         ],
         "matches": "x",
         "title": {
          "text": "Устройство"
         }
        },
        "xaxis3": {
         "anchor": "y3",
         "domain": [
          0.6666666666666666,
          0.98
         ],
         "matches": "x",
         "title": {
          "text": "Устройство"
         }
        },
        "yaxis": {
         "anchor": "x",
         "domain": [
          0,
          1
         ],
         "title": {
          "text": "Кол-во пользователей"
         }
        },
        "yaxis2": {
         "anchor": "x2",
         "domain": [
          0,
          1
         ],
         "matches": "y",
         "showticklabels": false
        },
        "yaxis3": {
         "anchor": "x3",
         "domain": [
          0,
          1
         ],
         "matches": "y",
         "showticklabels": false
        }
       }
      },
      "text/html": [
       "<div>\n",
       "        \n",
       "        \n",
       "            <div id=\"8c4cd2d4-049b-40e2-9eec-d7b6b382ce7d\" class=\"plotly-graph-div\" style=\"height:600px; width:100%;\"></div>\n",
       "            <script type=\"text/javascript\">\n",
       "                require([\"plotly\"], function(Plotly) {\n",
       "                    window.PLOTLYENV=window.PLOTLYENV || {};\n",
       "                    \n",
       "                if (document.getElementById(\"8c4cd2d4-049b-40e2-9eec-d7b6b382ce7d\")) {\n",
       "                    Plotly.newPlot(\n",
       "                        '8c4cd2d4-049b-40e2-9eec-d7b6b382ce7d',\n",
       "                        [{\"alignmentgroup\": \"True\", \"hoverlabel\": {\"namelength\": 0}, \"hovertemplate\": \"\\u0418\\u0441\\u0442\\u043e\\u0447\\u043d\\u0438\\u043a \\u0442\\u0440\\u0430\\u0444\\u0438\\u043a\\u0430=Source 1<br>\\u0423\\u0441\\u0442\\u0440\\u043e\\u0439\\u0441\\u0442\\u0432\\u043e=%{x}<br>\\u041a\\u043e\\u043b-\\u0432\\u043e \\u043f\\u043e\\u043b\\u044c\\u0437\\u043e\\u0432\\u0430\\u0442\\u0435\\u043b\\u0435\\u0439=%{y}<br>\\u041a\\u043e\\u043d\\u0432\\u0435\\u0440\\u0441\\u0438\\u044f \\u0432 \\u043f\\u043b\\u0430\\u0442\\u044f\\u0449\\u0435\\u0433\\u043e=%{marker.color}\", \"legendgroup\": \"\", \"marker\": {\"color\": [0.0, 0.0, 0.0, 0.0, 0.0, 0.0, 0.0, 0.0, 0.0, 0.0, 0.14285714285714285, 0.0, 0.0, 0.0, 0.0, 0.0, 0.07692307692307693, 0.0, 0.0625, 0.047619047619047616, 0.0, 0.018867924528301886, 0.05172413793103448, 0.010101010101010102, 0.03125, 0.017543859649122806, 0.03508771929824561, 0.03018867924528302, 0.0486322188449848], \"coloraxis\": \"coloraxis\"}, \"name\": \"\", \"offsetgroup\": \"\", \"orientation\": \"v\", \"showlegend\": false, \"textposition\": \"auto\", \"type\": \"bar\", \"x\": [\"iPad Pro (9.7 inch)\", \"iPad Pro (10.5 inch)\", \"iPad 4\", \"iPad Mini 4\", \"iPad Pro (12.9 inch)\", \"iPad Air\", \"iPad Mini 3\", \"iPad 3\", \"iPhone 4s\", \"iPad 5\", \"iPad Air 2\", \"iPhone X\", \"iPad 2\", \"iPad Mini 1\", \"iPhone 5\", \"iPhone 5c\", \"iPad Mini 2\", \"iPod touch 5\", \"iPod touch 6\", \"iPhone SE\", \"iPhone 5s\", \"iPhone 8\", \"iPhone 8 Plus\", \"iPhone 6 Plus\", \"iPhone 6s Plus\", \"iPhone 6\", \"iPhone 7 Plus\", \"iPhone 6s\", \"iPhone 7\"], \"xaxis\": \"x\", \"y\": [1, 2, 3, 3, 3, 4, 4, 5, 5, 7, 7, 7, 8, 8, 8, 11, 13, 13, 16, 21, 36, 53, 58, 99, 160, 228, 228, 265, 329], \"yaxis\": \"y\"}, {\"alignmentgroup\": \"True\", \"hoverlabel\": {\"namelength\": 0}, \"hovertemplate\": \"\\u0418\\u0441\\u0442\\u043e\\u0447\\u043d\\u0438\\u043a \\u0442\\u0440\\u0430\\u0444\\u0438\\u043a\\u0430=Source 3<br>\\u0423\\u0441\\u0442\\u0440\\u043e\\u0439\\u0441\\u0442\\u0432\\u043e=%{x}<br>\\u041a\\u043e\\u043b-\\u0432\\u043e \\u043f\\u043e\\u043b\\u044c\\u0437\\u043e\\u0432\\u0430\\u0442\\u0435\\u043b\\u0435\\u0439=%{y}<br>\\u041a\\u043e\\u043d\\u0432\\u0435\\u0440\\u0441\\u0438\\u044f \\u0432 \\u043f\\u043b\\u0430\\u0442\\u044f\\u0449\\u0435\\u0433\\u043e=%{marker.color}\", \"legendgroup\": \"\", \"marker\": {\"color\": [0.0, 0.0, 0.0, 0.25, 0.0, 0.0, 0.0, 0.0, 0.0, 0.0, 0.15384615384615385, 0.0, 0.0, 0.0, 0.043478260869565216, 0.08695652173913043, 0.0, 0.0, 0.0, 0.0, 0.05405405405405406, 0.0, 0.02, 0.06, 0.019230769230769232, 0.04838709677419355, 0.015384615384615385, 0.011764705882352941], \"coloraxis\": \"coloraxis\"}, \"name\": \"\", \"offsetgroup\": \"\", \"orientation\": \"v\", \"showlegend\": false, \"textposition\": \"auto\", \"type\": \"bar\", \"x\": [\"iPhone 8\", \"iPhone 8 Plus\", \"iPad Mini 3\", \"iPad Pro (10.5 inch)\", \"iPod touch 5\", \"iPad Mini 4\", \"iPad Pro (9.7 inch)\", \"iPhone 6 Plus\", \"iPhone 4s\", \"iPad 2\", \"iPad Pro (12.9 inch)\", \"iPhone 6s Plus\", \"iPad Mini 1\", \"iPod touch 6\", \"iPad 3\", \"iPad 5\", \"iPhone 5\", \"iPhone 7 Plus\", \"iPad 4\", \"iPhone 5c\", \"iPhone SE\", \"iPad Air\", \"iPad Mini 2\", \"iPhone 6s\", \"iPad Air 2\", \"iPhone 6\", \"iPhone 7\", \"iPhone 5s\"], \"xaxis\": \"x2\", \"y\": [1, 1, 4, 4, 4, 7, 7, 10, 11, 12, 13, 13, 14, 15, 23, 23, 23, 26, 32, 34, 37, 45, 50, 50, 52, 62, 65, 85], \"yaxis\": \"y2\"}, {\"alignmentgroup\": \"True\", \"hoverlabel\": {\"namelength\": 0}, \"hovertemplate\": \"\\u0418\\u0441\\u0442\\u043e\\u0447\\u043d\\u0438\\u043a \\u0442\\u0440\\u0430\\u0444\\u0438\\u043a\\u0430=Source 2<br>\\u0423\\u0441\\u0442\\u0440\\u043e\\u0439\\u0441\\u0442\\u0432\\u043e=%{x}<br>\\u041a\\u043e\\u043b-\\u0432\\u043e \\u043f\\u043e\\u043b\\u044c\\u0437\\u043e\\u0432\\u0430\\u0442\\u0435\\u043b\\u0435\\u0439=%{y}<br>\\u041a\\u043e\\u043d\\u0432\\u0435\\u0440\\u0441\\u0438\\u044f \\u0432 \\u043f\\u043b\\u0430\\u0442\\u044f\\u0449\\u0435\\u0433\\u043e=%{marker.color}\", \"legendgroup\": \"\", \"marker\": {\"color\": [0.0, 0.0, 0.07407407407407407, 0.08823529411764706, 0.02702702702702703, 0.021739130434782608, 0.015151515151515152, 0.0, 0.020618556701030927, 0.04285714285714286, 0.031914893617021274, 0.017777777777777778, 0.0038910505836575876, 0.011152416356877323, 0.007575757575757576, 0.016166281755196306, 0.0211864406779661, 0.016, 0.04519774011299435, 0.016574585635359115, 0.04005722460658083, 0.017264276228419653, 0.013713080168776372], \"coloraxis\": \"coloraxis\"}, \"name\": \"\", \"offsetgroup\": \"\", \"orientation\": \"v\", \"showlegend\": false, \"textposition\": \"auto\", \"type\": \"bar\", \"x\": [\"iPhone X\", \"iPad Pro (10.5 inch)\", \"iPad Mini 3\", \"iPhone 8 Plus\", \"iPad Pro (12.9 inch)\", \"iPhone 8\", \"iPad Pro (9.7 inch)\", \"iPad Mini 4\", \"iPhone 6 Plus\", \"iPhone 6s Plus\", \"iPhone 7 Plus\", \"iPhone 5c\", \"iPhone 5\", \"iPad 4\", \"iPad 5\", \"iPad Mini 2\", \"iPhone SE\", \"iPad Air\", \"iPhone 7\", \"iPad Air 2\", \"iPhone 6s\", \"iPhone 6\", \"iPhone 5s\"], \"xaxis\": \"x3\", \"y\": [9, 22, 27, 34, 37, 46, 66, 89, 97, 140, 188, 225, 257, 269, 396, 433, 472, 500, 531, 543, 699, 753, 948], \"yaxis\": \"y3\"}],\n",
       "                        {\"annotations\": [{\"font\": {}, \"showarrow\": false, \"text\": \"\\u0418\\u0441\\u0442\\u043e\\u0447\\u043d\\u0438\\u043a \\u0442\\u0440\\u0430\\u0444\\u0438\\u043a\\u0430=Source 1\", \"x\": 0.15666666666666665, \"xanchor\": \"center\", \"xref\": \"paper\", \"y\": 1.0, \"yanchor\": \"bottom\", \"yref\": \"paper\"}, {\"font\": {}, \"showarrow\": false, \"text\": \"\\u0418\\u0441\\u0442\\u043e\\u0447\\u043d\\u0438\\u043a \\u0442\\u0440\\u0430\\u0444\\u0438\\u043a\\u0430=Source 3\", \"x\": 0.49, \"xanchor\": \"center\", \"xref\": \"paper\", \"y\": 1.0, \"yanchor\": \"bottom\", \"yref\": \"paper\"}, {\"font\": {}, \"showarrow\": false, \"text\": \"\\u0418\\u0441\\u0442\\u043e\\u0447\\u043d\\u0438\\u043a \\u0442\\u0440\\u0430\\u0444\\u0438\\u043a\\u0430=Source 2\", \"x\": 0.8233333333333333, \"xanchor\": \"center\", \"xref\": \"paper\", \"y\": 1.0, \"yanchor\": \"bottom\", \"yref\": \"paper\"}], \"barmode\": \"relative\", \"coloraxis\": {\"colorbar\": {\"title\": {\"text\": \"\\u041a\\u043e\\u043d\\u0432\\u0435\\u0440\\u0441\\u0438\\u044f \\u0432 \\u043f\\u043b\\u0430\\u0442\\u044f\\u0449\\u0435\\u0433\\u043e\"}}, \"colorscale\": [[0.0, \"#0d0887\"], [0.1111111111111111, \"#46039f\"], [0.2222222222222222, \"#7201a8\"], [0.3333333333333333, \"#9c179e\"], [0.4444444444444444, \"#bd3786\"], [0.5555555555555556, \"#d8576b\"], [0.6666666666666666, \"#ed7953\"], [0.7777777777777778, \"#fb9f3a\"], [0.8888888888888888, \"#fdca26\"], [1.0, \"#f0f921\"]]}, \"height\": 600, \"legend\": {\"tracegroupgap\": 0}, \"template\": {\"data\": {\"bar\": [{\"error_x\": {\"color\": \"#2a3f5f\"}, \"error_y\": {\"color\": \"#2a3f5f\"}, \"marker\": {\"line\": {\"color\": \"#E5ECF6\", \"width\": 0.5}}, \"type\": \"bar\"}], \"barpolar\": [{\"marker\": {\"line\": {\"color\": \"#E5ECF6\", \"width\": 0.5}}, \"type\": \"barpolar\"}], \"carpet\": [{\"aaxis\": {\"endlinecolor\": \"#2a3f5f\", \"gridcolor\": \"white\", \"linecolor\": \"white\", \"minorgridcolor\": \"white\", \"startlinecolor\": \"#2a3f5f\"}, \"baxis\": {\"endlinecolor\": \"#2a3f5f\", \"gridcolor\": \"white\", \"linecolor\": \"white\", \"minorgridcolor\": \"white\", \"startlinecolor\": \"#2a3f5f\"}, \"type\": \"carpet\"}], \"choropleth\": [{\"colorbar\": {\"outlinewidth\": 0, \"ticks\": \"\"}, \"type\": \"choropleth\"}], \"contour\": [{\"colorbar\": {\"outlinewidth\": 0, \"ticks\": \"\"}, \"colorscale\": [[0.0, \"#0d0887\"], [0.1111111111111111, \"#46039f\"], [0.2222222222222222, \"#7201a8\"], [0.3333333333333333, \"#9c179e\"], [0.4444444444444444, \"#bd3786\"], [0.5555555555555556, \"#d8576b\"], [0.6666666666666666, \"#ed7953\"], [0.7777777777777778, \"#fb9f3a\"], [0.8888888888888888, \"#fdca26\"], [1.0, \"#f0f921\"]], \"type\": \"contour\"}], \"contourcarpet\": [{\"colorbar\": {\"outlinewidth\": 0, \"ticks\": \"\"}, \"type\": \"contourcarpet\"}], \"heatmap\": [{\"colorbar\": {\"outlinewidth\": 0, \"ticks\": \"\"}, \"colorscale\": [[0.0, \"#0d0887\"], [0.1111111111111111, \"#46039f\"], [0.2222222222222222, \"#7201a8\"], [0.3333333333333333, \"#9c179e\"], [0.4444444444444444, \"#bd3786\"], [0.5555555555555556, \"#d8576b\"], [0.6666666666666666, \"#ed7953\"], [0.7777777777777778, \"#fb9f3a\"], [0.8888888888888888, \"#fdca26\"], [1.0, \"#f0f921\"]], \"type\": \"heatmap\"}], \"heatmapgl\": [{\"colorbar\": {\"outlinewidth\": 0, \"ticks\": \"\"}, \"colorscale\": [[0.0, \"#0d0887\"], [0.1111111111111111, \"#46039f\"], [0.2222222222222222, \"#7201a8\"], [0.3333333333333333, \"#9c179e\"], [0.4444444444444444, \"#bd3786\"], [0.5555555555555556, \"#d8576b\"], [0.6666666666666666, \"#ed7953\"], [0.7777777777777778, \"#fb9f3a\"], [0.8888888888888888, \"#fdca26\"], [1.0, \"#f0f921\"]], \"type\": \"heatmapgl\"}], \"histogram\": [{\"marker\": {\"colorbar\": {\"outlinewidth\": 0, \"ticks\": \"\"}}, \"type\": \"histogram\"}], \"histogram2d\": [{\"colorbar\": {\"outlinewidth\": 0, \"ticks\": \"\"}, \"colorscale\": [[0.0, \"#0d0887\"], [0.1111111111111111, \"#46039f\"], [0.2222222222222222, \"#7201a8\"], [0.3333333333333333, \"#9c179e\"], [0.4444444444444444, \"#bd3786\"], [0.5555555555555556, \"#d8576b\"], [0.6666666666666666, \"#ed7953\"], [0.7777777777777778, \"#fb9f3a\"], [0.8888888888888888, \"#fdca26\"], [1.0, \"#f0f921\"]], \"type\": \"histogram2d\"}], \"histogram2dcontour\": [{\"colorbar\": {\"outlinewidth\": 0, \"ticks\": \"\"}, \"colorscale\": [[0.0, \"#0d0887\"], [0.1111111111111111, \"#46039f\"], [0.2222222222222222, \"#7201a8\"], [0.3333333333333333, \"#9c179e\"], [0.4444444444444444, \"#bd3786\"], [0.5555555555555556, \"#d8576b\"], [0.6666666666666666, \"#ed7953\"], [0.7777777777777778, \"#fb9f3a\"], [0.8888888888888888, \"#fdca26\"], [1.0, \"#f0f921\"]], \"type\": \"histogram2dcontour\"}], \"mesh3d\": [{\"colorbar\": {\"outlinewidth\": 0, \"ticks\": \"\"}, \"type\": \"mesh3d\"}], \"parcoords\": [{\"line\": {\"colorbar\": {\"outlinewidth\": 0, \"ticks\": \"\"}}, \"type\": \"parcoords\"}], \"scatter\": [{\"marker\": {\"colorbar\": {\"outlinewidth\": 0, \"ticks\": \"\"}}, \"type\": \"scatter\"}], \"scatter3d\": [{\"line\": {\"colorbar\": {\"outlinewidth\": 0, \"ticks\": \"\"}}, \"marker\": {\"colorbar\": {\"outlinewidth\": 0, \"ticks\": \"\"}}, \"type\": \"scatter3d\"}], \"scattercarpet\": [{\"marker\": {\"colorbar\": {\"outlinewidth\": 0, \"ticks\": \"\"}}, \"type\": \"scattercarpet\"}], \"scattergeo\": [{\"marker\": {\"colorbar\": {\"outlinewidth\": 0, \"ticks\": \"\"}}, \"type\": \"scattergeo\"}], \"scattergl\": [{\"marker\": {\"colorbar\": {\"outlinewidth\": 0, \"ticks\": \"\"}}, \"type\": \"scattergl\"}], \"scattermapbox\": [{\"marker\": {\"colorbar\": {\"outlinewidth\": 0, \"ticks\": \"\"}}, \"type\": \"scattermapbox\"}], \"scatterpolar\": [{\"marker\": {\"colorbar\": {\"outlinewidth\": 0, \"ticks\": \"\"}}, \"type\": \"scatterpolar\"}], \"scatterpolargl\": [{\"marker\": {\"colorbar\": {\"outlinewidth\": 0, \"ticks\": \"\"}}, \"type\": \"scatterpolargl\"}], \"scatterternary\": [{\"marker\": {\"colorbar\": {\"outlinewidth\": 0, \"ticks\": \"\"}}, \"type\": \"scatterternary\"}], \"surface\": [{\"colorbar\": {\"outlinewidth\": 0, \"ticks\": \"\"}, \"colorscale\": [[0.0, \"#0d0887\"], [0.1111111111111111, \"#46039f\"], [0.2222222222222222, \"#7201a8\"], [0.3333333333333333, \"#9c179e\"], [0.4444444444444444, \"#bd3786\"], [0.5555555555555556, \"#d8576b\"], [0.6666666666666666, \"#ed7953\"], [0.7777777777777778, \"#fb9f3a\"], [0.8888888888888888, \"#fdca26\"], [1.0, \"#f0f921\"]], \"type\": \"surface\"}], \"table\": [{\"cells\": {\"fill\": {\"color\": \"#EBF0F8\"}, \"line\": {\"color\": \"white\"}}, \"header\": {\"fill\": {\"color\": \"#C8D4E3\"}, \"line\": {\"color\": \"white\"}}, \"type\": \"table\"}]}, \"layout\": {\"annotationdefaults\": {\"arrowcolor\": \"#2a3f5f\", \"arrowhead\": 0, \"arrowwidth\": 1}, \"colorscale\": {\"diverging\": [[0, \"#8e0152\"], [0.1, \"#c51b7d\"], [0.2, \"#de77ae\"], [0.3, \"#f1b6da\"], [0.4, \"#fde0ef\"], [0.5, \"#f7f7f7\"], [0.6, \"#e6f5d0\"], [0.7, \"#b8e186\"], [0.8, \"#7fbc41\"], [0.9, \"#4d9221\"], [1, \"#276419\"]], \"sequential\": [[0.0, \"#0d0887\"], [0.1111111111111111, \"#46039f\"], [0.2222222222222222, \"#7201a8\"], [0.3333333333333333, \"#9c179e\"], [0.4444444444444444, \"#bd3786\"], [0.5555555555555556, \"#d8576b\"], [0.6666666666666666, \"#ed7953\"], [0.7777777777777778, \"#fb9f3a\"], [0.8888888888888888, \"#fdca26\"], [1.0, \"#f0f921\"]], \"sequentialminus\": [[0.0, \"#0d0887\"], [0.1111111111111111, \"#46039f\"], [0.2222222222222222, \"#7201a8\"], [0.3333333333333333, \"#9c179e\"], [0.4444444444444444, \"#bd3786\"], [0.5555555555555556, \"#d8576b\"], [0.6666666666666666, \"#ed7953\"], [0.7777777777777778, \"#fb9f3a\"], [0.8888888888888888, \"#fdca26\"], [1.0, \"#f0f921\"]]}, \"colorway\": [\"#636efa\", \"#EF553B\", \"#00cc96\", \"#ab63fa\", \"#FFA15A\", \"#19d3f3\", \"#FF6692\", \"#B6E880\", \"#FF97FF\", \"#FECB52\"], \"font\": {\"color\": \"#2a3f5f\"}, \"geo\": {\"bgcolor\": \"white\", \"lakecolor\": \"white\", \"landcolor\": \"#E5ECF6\", \"showlakes\": true, \"showland\": true, \"subunitcolor\": \"white\"}, \"hoverlabel\": {\"align\": \"left\"}, \"hovermode\": \"closest\", \"mapbox\": {\"style\": \"light\"}, \"paper_bgcolor\": \"white\", \"plot_bgcolor\": \"#E5ECF6\", \"polar\": {\"angularaxis\": {\"gridcolor\": \"white\", \"linecolor\": \"white\", \"ticks\": \"\"}, \"bgcolor\": \"#E5ECF6\", \"radialaxis\": {\"gridcolor\": \"white\", \"linecolor\": \"white\", \"ticks\": \"\"}}, \"scene\": {\"xaxis\": {\"backgroundcolor\": \"#E5ECF6\", \"gridcolor\": \"white\", \"gridwidth\": 2, \"linecolor\": \"white\", \"showbackground\": true, \"ticks\": \"\", \"zerolinecolor\": \"white\"}, \"yaxis\": {\"backgroundcolor\": \"#E5ECF6\", \"gridcolor\": \"white\", \"gridwidth\": 2, \"linecolor\": \"white\", \"showbackground\": true, \"ticks\": \"\", \"zerolinecolor\": \"white\"}, \"zaxis\": {\"backgroundcolor\": \"#E5ECF6\", \"gridcolor\": \"white\", \"gridwidth\": 2, \"linecolor\": \"white\", \"showbackground\": true, \"ticks\": \"\", \"zerolinecolor\": \"white\"}}, \"shapedefaults\": {\"line\": {\"color\": \"#2a3f5f\"}}, \"ternary\": {\"aaxis\": {\"gridcolor\": \"white\", \"linecolor\": \"white\", \"ticks\": \"\"}, \"baxis\": {\"gridcolor\": \"white\", \"linecolor\": \"white\", \"ticks\": \"\"}, \"bgcolor\": \"#E5ECF6\", \"caxis\": {\"gridcolor\": \"white\", \"linecolor\": \"white\", \"ticks\": \"\"}}, \"title\": {\"x\": 0.05}, \"xaxis\": {\"automargin\": true, \"gridcolor\": \"white\", \"linecolor\": \"white\", \"ticks\": \"\", \"zerolinecolor\": \"white\", \"zerolinewidth\": 2}, \"yaxis\": {\"automargin\": true, \"gridcolor\": \"white\", \"linecolor\": \"white\", \"ticks\": \"\", \"zerolinecolor\": \"white\", \"zerolinewidth\": 2}}}, \"title\": {\"text\": \"\\u041a\\u043e\\u043d\\u0432\\u0435\\u0440\\u0441\\u0438\\u044f \\u043f\\u043e \\u0438\\u0441\\u0442\\u043e\\u0447\\u043d\\u0438\\u043a\\u0430\\u043c \\u0432 \\u0440\\u0430\\u0437\\u0440\\u0435\\u0437\\u0435 \\u0443\\u0441\\u0442\\u0440\\u043e\\u0439\\u0441\\u0442\\u0432\"}, \"xaxis\": {\"anchor\": \"y\", \"domain\": [0.0, 0.3133333333333333], \"title\": {\"text\": \"\\u0423\\u0441\\u0442\\u0440\\u043e\\u0439\\u0441\\u0442\\u0432\\u043e\"}}, \"xaxis2\": {\"anchor\": \"y2\", \"domain\": [0.3333333333333333, 0.6466666666666666], \"matches\": \"x\", \"title\": {\"text\": \"\\u0423\\u0441\\u0442\\u0440\\u043e\\u0439\\u0441\\u0442\\u0432\\u043e\"}}, \"xaxis3\": {\"anchor\": \"y3\", \"domain\": [0.6666666666666666, 0.98], \"matches\": \"x\", \"title\": {\"text\": \"\\u0423\\u0441\\u0442\\u0440\\u043e\\u0439\\u0441\\u0442\\u0432\\u043e\"}}, \"yaxis\": {\"anchor\": \"x\", \"domain\": [0.0, 1.0], \"title\": {\"text\": \"\\u041a\\u043e\\u043b-\\u0432\\u043e \\u043f\\u043e\\u043b\\u044c\\u0437\\u043e\\u0432\\u0430\\u0442\\u0435\\u043b\\u0435\\u0439\"}}, \"yaxis2\": {\"anchor\": \"x2\", \"domain\": [0.0, 1.0], \"matches\": \"y\", \"showticklabels\": false}, \"yaxis3\": {\"anchor\": \"x3\", \"domain\": [0.0, 1.0], \"matches\": \"y\", \"showticklabels\": false}},\n",
       "                        {\"responsive\": true}\n",
       "                    ).then(function(){\n",
       "                            \n",
       "var gd = document.getElementById('8c4cd2d4-049b-40e2-9eec-d7b6b382ce7d');\n",
       "var x = new MutationObserver(function (mutations, observer) {{\n",
       "        var display = window.getComputedStyle(gd).display;\n",
       "        if (!display || display === 'none') {{\n",
       "            console.log([gd, 'removed!']);\n",
       "            Plotly.purge(gd);\n",
       "            observer.disconnect();\n",
       "        }}\n",
       "}});\n",
       "\n",
       "// Listen for the removal of the full notebook cells\n",
       "var notebookContainer = gd.closest('#notebook-container');\n",
       "if (notebookContainer) {{\n",
       "    x.observe(notebookContainer, {childList: true});\n",
       "}}\n",
       "\n",
       "// Listen for the clearing of the current output cell\n",
       "var outputEl = gd.closest('.output');\n",
       "if (outputEl) {{\n",
       "    x.observe(outputEl, {childList: true});\n",
       "}}\n",
       "\n",
       "                        })\n",
       "                };\n",
       "                });\n",
       "            </script>\n",
       "        </div>"
      ]
     },
     "metadata": {},
     "output_type": "display_data"
    },
    {
     "data": {
      "text/html": [
       "<div>\n",
       "<style scoped>\n",
       "    .dataframe tbody tr th:only-of-type {\n",
       "        vertical-align: middle;\n",
       "    }\n",
       "\n",
       "    .dataframe tbody tr th {\n",
       "        vertical-align: top;\n",
       "    }\n",
       "\n",
       "    .dataframe thead th {\n",
       "        text-align: right;\n",
       "    }\n",
       "</style>\n",
       "<table border=\"1\" class=\"dataframe\">\n",
       "  <thead>\n",
       "    <tr style=\"text-align: right;\">\n",
       "      <th></th>\n",
       "      <th>Источник трафика</th>\n",
       "      <th>ОС</th>\n",
       "      <th>Кол-во пользователей</th>\n",
       "      <th>Конверсия в платящего</th>\n",
       "    </tr>\n",
       "  </thead>\n",
       "  <tbody>\n",
       "    <tr>\n",
       "      <td>3</td>\n",
       "      <td>Source 2</td>\n",
       "      <td>9</td>\n",
       "      <td>12</td>\n",
       "      <td>0.000000</td>\n",
       "    </tr>\n",
       "    <tr>\n",
       "      <td>6</td>\n",
       "      <td>Source 3</td>\n",
       "      <td>9</td>\n",
       "      <td>88</td>\n",
       "      <td>0.022727</td>\n",
       "    </tr>\n",
       "    <tr>\n",
       "      <td>7</td>\n",
       "      <td>Source 3</td>\n",
       "      <td>10</td>\n",
       "      <td>256</td>\n",
       "      <td>0.007812</td>\n",
       "    </tr>\n",
       "    <tr>\n",
       "      <td>1</td>\n",
       "      <td>Source 1</td>\n",
       "      <td>10</td>\n",
       "      <td>268</td>\n",
       "      <td>0.055970</td>\n",
       "    </tr>\n",
       "    <tr>\n",
       "      <td>8</td>\n",
       "      <td>Source 3</td>\n",
       "      <td>11</td>\n",
       "      <td>379</td>\n",
       "      <td>0.036939</td>\n",
       "    </tr>\n",
       "    <tr>\n",
       "      <td>0</td>\n",
       "      <td>Source 1</td>\n",
       "      <td>9</td>\n",
       "      <td>612</td>\n",
       "      <td>0.001634</td>\n",
       "    </tr>\n",
       "    <tr>\n",
       "      <td>2</td>\n",
       "      <td>Source 1</td>\n",
       "      <td>11</td>\n",
       "      <td>725</td>\n",
       "      <td>0.046897</td>\n",
       "    </tr>\n",
       "    <tr>\n",
       "      <td>4</td>\n",
       "      <td>Source 2</td>\n",
       "      <td>10</td>\n",
       "      <td>2433</td>\n",
       "      <td>0.016441</td>\n",
       "    </tr>\n",
       "    <tr>\n",
       "      <td>5</td>\n",
       "      <td>Source 2</td>\n",
       "      <td>11</td>\n",
       "      <td>4336</td>\n",
       "      <td>0.024216</td>\n",
       "    </tr>\n",
       "  </tbody>\n",
       "</table>\n",
       "</div>"
      ],
      "text/plain": [
       "  Источник трафика  ОС  Кол-во пользователей  Конверсия в платящего\n",
       "3         Source 2   9                    12               0.000000\n",
       "6         Source 3   9                    88               0.022727\n",
       "7         Source 3  10                   256               0.007812\n",
       "1         Source 1  10                   268               0.055970\n",
       "8         Source 3  11                   379               0.036939\n",
       "0         Source 1   9                   612               0.001634\n",
       "2         Source 1  11                   725               0.046897\n",
       "4         Source 2  10                  2433               0.016441\n",
       "5         Source 2  11                  4336               0.024216"
      ]
     },
     "metadata": {},
     "output_type": "display_data"
    },
    {
     "data": {
      "application/vnd.plotly.v1+json": {
       "config": {
        "plotlyServerURL": "https://plot.ly"
       },
       "data": [
        {
         "alignmentgroup": "True",
         "hoverlabel": {
          "namelength": 0
         },
         "hovertemplate": "Источник трафика=Source 2<br>ОС=%{x}<br>Кол-во пользователей=%{y}<br>Конверсия в платящего=%{marker.color}",
         "legendgroup": "",
         "marker": {
          "color": [
           0,
           0.016440608302507192,
           0.02421586715867159
          ],
          "coloraxis": "coloraxis"
         },
         "name": "",
         "offsetgroup": "",
         "orientation": "v",
         "showlegend": false,
         "textposition": "auto",
         "type": "bar",
         "x": [
          9,
          10,
          11
         ],
         "xaxis": "x",
         "y": [
          12,
          2433,
          4336
         ],
         "yaxis": "y"
        },
        {
         "alignmentgroup": "True",
         "hoverlabel": {
          "namelength": 0
         },
         "hovertemplate": "Источник трафика=Source 3<br>ОС=%{x}<br>Кол-во пользователей=%{y}<br>Конверсия в платящего=%{marker.color}",
         "legendgroup": "",
         "marker": {
          "color": [
           0.022727272727272728,
           0.0078125,
           0.036939313984168866
          ],
          "coloraxis": "coloraxis"
         },
         "name": "",
         "offsetgroup": "",
         "orientation": "v",
         "showlegend": false,
         "textposition": "auto",
         "type": "bar",
         "x": [
          9,
          10,
          11
         ],
         "xaxis": "x2",
         "y": [
          88,
          256,
          379
         ],
         "yaxis": "y2"
        },
        {
         "alignmentgroup": "True",
         "hoverlabel": {
          "namelength": 0
         },
         "hovertemplate": "Источник трафика=Source 1<br>ОС=%{x}<br>Кол-во пользователей=%{y}<br>Конверсия в платящего=%{marker.color}",
         "legendgroup": "",
         "marker": {
          "color": [
           0.055970149253731345,
           0.0016339869281045752,
           0.04689655172413793
          ],
          "coloraxis": "coloraxis"
         },
         "name": "",
         "offsetgroup": "",
         "orientation": "v",
         "showlegend": false,
         "textposition": "auto",
         "type": "bar",
         "x": [
          10,
          9,
          11
         ],
         "xaxis": "x3",
         "y": [
          268,
          612,
          725
         ],
         "yaxis": "y3"
        }
       ],
       "layout": {
        "annotations": [
         {
          "font": {},
          "showarrow": false,
          "text": "Источник трафика=Source 2",
          "x": 0.15666666666666665,
          "xanchor": "center",
          "xref": "paper",
          "y": 1,
          "yanchor": "bottom",
          "yref": "paper"
         },
         {
          "font": {},
          "showarrow": false,
          "text": "Источник трафика=Source 3",
          "x": 0.49,
          "xanchor": "center",
          "xref": "paper",
          "y": 1,
          "yanchor": "bottom",
          "yref": "paper"
         },
         {
          "font": {},
          "showarrow": false,
          "text": "Источник трафика=Source 1",
          "x": 0.8233333333333333,
          "xanchor": "center",
          "xref": "paper",
          "y": 1,
          "yanchor": "bottom",
          "yref": "paper"
         }
        ],
        "barmode": "relative",
        "coloraxis": {
         "colorbar": {
          "title": {
           "text": "Конверсия в платящего"
          }
         },
         "colorscale": [
          [
           0,
           "#0d0887"
          ],
          [
           0.1111111111111111,
           "#46039f"
          ],
          [
           0.2222222222222222,
           "#7201a8"
          ],
          [
           0.3333333333333333,
           "#9c179e"
          ],
          [
           0.4444444444444444,
           "#bd3786"
          ],
          [
           0.5555555555555556,
           "#d8576b"
          ],
          [
           0.6666666666666666,
           "#ed7953"
          ],
          [
           0.7777777777777778,
           "#fb9f3a"
          ],
          [
           0.8888888888888888,
           "#fdca26"
          ],
          [
           1,
           "#f0f921"
          ]
         ]
        },
        "height": 600,
        "legend": {
         "tracegroupgap": 0
        },
        "template": {
         "data": {
          "bar": [
           {
            "error_x": {
             "color": "#2a3f5f"
            },
            "error_y": {
             "color": "#2a3f5f"
            },
            "marker": {
             "line": {
              "color": "#E5ECF6",
              "width": 0.5
             }
            },
            "type": "bar"
           }
          ],
          "barpolar": [
           {
            "marker": {
             "line": {
              "color": "#E5ECF6",
              "width": 0.5
             }
            },
            "type": "barpolar"
           }
          ],
          "carpet": [
           {
            "aaxis": {
             "endlinecolor": "#2a3f5f",
             "gridcolor": "white",
             "linecolor": "white",
             "minorgridcolor": "white",
             "startlinecolor": "#2a3f5f"
            },
            "baxis": {
             "endlinecolor": "#2a3f5f",
             "gridcolor": "white",
             "linecolor": "white",
             "minorgridcolor": "white",
             "startlinecolor": "#2a3f5f"
            },
            "type": "carpet"
           }
          ],
          "choropleth": [
           {
            "colorbar": {
             "outlinewidth": 0,
             "ticks": ""
            },
            "type": "choropleth"
           }
          ],
          "contour": [
           {
            "colorbar": {
             "outlinewidth": 0,
             "ticks": ""
            },
            "colorscale": [
             [
              0,
              "#0d0887"
             ],
             [
              0.1111111111111111,
              "#46039f"
             ],
             [
              0.2222222222222222,
              "#7201a8"
             ],
             [
              0.3333333333333333,
              "#9c179e"
             ],
             [
              0.4444444444444444,
              "#bd3786"
             ],
             [
              0.5555555555555556,
              "#d8576b"
             ],
             [
              0.6666666666666666,
              "#ed7953"
             ],
             [
              0.7777777777777778,
              "#fb9f3a"
             ],
             [
              0.8888888888888888,
              "#fdca26"
             ],
             [
              1,
              "#f0f921"
             ]
            ],
            "type": "contour"
           }
          ],
          "contourcarpet": [
           {
            "colorbar": {
             "outlinewidth": 0,
             "ticks": ""
            },
            "type": "contourcarpet"
           }
          ],
          "heatmap": [
           {
            "colorbar": {
             "outlinewidth": 0,
             "ticks": ""
            },
            "colorscale": [
             [
              0,
              "#0d0887"
             ],
             [
              0.1111111111111111,
              "#46039f"
             ],
             [
              0.2222222222222222,
              "#7201a8"
             ],
             [
              0.3333333333333333,
              "#9c179e"
             ],
             [
              0.4444444444444444,
              "#bd3786"
             ],
             [
              0.5555555555555556,
              "#d8576b"
             ],
             [
              0.6666666666666666,
              "#ed7953"
             ],
             [
              0.7777777777777778,
              "#fb9f3a"
             ],
             [
              0.8888888888888888,
              "#fdca26"
             ],
             [
              1,
              "#f0f921"
             ]
            ],
            "type": "heatmap"
           }
          ],
          "heatmapgl": [
           {
            "colorbar": {
             "outlinewidth": 0,
             "ticks": ""
            },
            "colorscale": [
             [
              0,
              "#0d0887"
             ],
             [
              0.1111111111111111,
              "#46039f"
             ],
             [
              0.2222222222222222,
              "#7201a8"
             ],
             [
              0.3333333333333333,
              "#9c179e"
             ],
             [
              0.4444444444444444,
              "#bd3786"
             ],
             [
              0.5555555555555556,
              "#d8576b"
             ],
             [
              0.6666666666666666,
              "#ed7953"
             ],
             [
              0.7777777777777778,
              "#fb9f3a"
             ],
             [
              0.8888888888888888,
              "#fdca26"
             ],
             [
              1,
              "#f0f921"
             ]
            ],
            "type": "heatmapgl"
           }
          ],
          "histogram": [
           {
            "marker": {
             "colorbar": {
              "outlinewidth": 0,
              "ticks": ""
             }
            },
            "type": "histogram"
           }
          ],
          "histogram2d": [
           {
            "colorbar": {
             "outlinewidth": 0,
             "ticks": ""
            },
            "colorscale": [
             [
              0,
              "#0d0887"
             ],
             [
              0.1111111111111111,
              "#46039f"
             ],
             [
              0.2222222222222222,
              "#7201a8"
             ],
             [
              0.3333333333333333,
              "#9c179e"
             ],
             [
              0.4444444444444444,
              "#bd3786"
             ],
             [
              0.5555555555555556,
              "#d8576b"
             ],
             [
              0.6666666666666666,
              "#ed7953"
             ],
             [
              0.7777777777777778,
              "#fb9f3a"
             ],
             [
              0.8888888888888888,
              "#fdca26"
             ],
             [
              1,
              "#f0f921"
             ]
            ],
            "type": "histogram2d"
           }
          ],
          "histogram2dcontour": [
           {
            "colorbar": {
             "outlinewidth": 0,
             "ticks": ""
            },
            "colorscale": [
             [
              0,
              "#0d0887"
             ],
             [
              0.1111111111111111,
              "#46039f"
             ],
             [
              0.2222222222222222,
              "#7201a8"
             ],
             [
              0.3333333333333333,
              "#9c179e"
             ],
             [
              0.4444444444444444,
              "#bd3786"
             ],
             [
              0.5555555555555556,
              "#d8576b"
             ],
             [
              0.6666666666666666,
              "#ed7953"
             ],
             [
              0.7777777777777778,
              "#fb9f3a"
             ],
             [
              0.8888888888888888,
              "#fdca26"
             ],
             [
              1,
              "#f0f921"
             ]
            ],
            "type": "histogram2dcontour"
           }
          ],
          "mesh3d": [
           {
            "colorbar": {
             "outlinewidth": 0,
             "ticks": ""
            },
            "type": "mesh3d"
           }
          ],
          "parcoords": [
           {
            "line": {
             "colorbar": {
              "outlinewidth": 0,
              "ticks": ""
             }
            },
            "type": "parcoords"
           }
          ],
          "scatter": [
           {
            "marker": {
             "colorbar": {
              "outlinewidth": 0,
              "ticks": ""
             }
            },
            "type": "scatter"
           }
          ],
          "scatter3d": [
           {
            "line": {
             "colorbar": {
              "outlinewidth": 0,
              "ticks": ""
             }
            },
            "marker": {
             "colorbar": {
              "outlinewidth": 0,
              "ticks": ""
             }
            },
            "type": "scatter3d"
           }
          ],
          "scattercarpet": [
           {
            "marker": {
             "colorbar": {
              "outlinewidth": 0,
              "ticks": ""
             }
            },
            "type": "scattercarpet"
           }
          ],
          "scattergeo": [
           {
            "marker": {
             "colorbar": {
              "outlinewidth": 0,
              "ticks": ""
             }
            },
            "type": "scattergeo"
           }
          ],
          "scattergl": [
           {
            "marker": {
             "colorbar": {
              "outlinewidth": 0,
              "ticks": ""
             }
            },
            "type": "scattergl"
           }
          ],
          "scattermapbox": [
           {
            "marker": {
             "colorbar": {
              "outlinewidth": 0,
              "ticks": ""
             }
            },
            "type": "scattermapbox"
           }
          ],
          "scatterpolar": [
           {
            "marker": {
             "colorbar": {
              "outlinewidth": 0,
              "ticks": ""
             }
            },
            "type": "scatterpolar"
           }
          ],
          "scatterpolargl": [
           {
            "marker": {
             "colorbar": {
              "outlinewidth": 0,
              "ticks": ""
             }
            },
            "type": "scatterpolargl"
           }
          ],
          "scatterternary": [
           {
            "marker": {
             "colorbar": {
              "outlinewidth": 0,
              "ticks": ""
             }
            },
            "type": "scatterternary"
           }
          ],
          "surface": [
           {
            "colorbar": {
             "outlinewidth": 0,
             "ticks": ""
            },
            "colorscale": [
             [
              0,
              "#0d0887"
             ],
             [
              0.1111111111111111,
              "#46039f"
             ],
             [
              0.2222222222222222,
              "#7201a8"
             ],
             [
              0.3333333333333333,
              "#9c179e"
             ],
             [
              0.4444444444444444,
              "#bd3786"
             ],
             [
              0.5555555555555556,
              "#d8576b"
             ],
             [
              0.6666666666666666,
              "#ed7953"
             ],
             [
              0.7777777777777778,
              "#fb9f3a"
             ],
             [
              0.8888888888888888,
              "#fdca26"
             ],
             [
              1,
              "#f0f921"
             ]
            ],
            "type": "surface"
           }
          ],
          "table": [
           {
            "cells": {
             "fill": {
              "color": "#EBF0F8"
             },
             "line": {
              "color": "white"
             }
            },
            "header": {
             "fill": {
              "color": "#C8D4E3"
             },
             "line": {
              "color": "white"
             }
            },
            "type": "table"
           }
          ]
         },
         "layout": {
          "annotationdefaults": {
           "arrowcolor": "#2a3f5f",
           "arrowhead": 0,
           "arrowwidth": 1
          },
          "colorscale": {
           "diverging": [
            [
             0,
             "#8e0152"
            ],
            [
             0.1,
             "#c51b7d"
            ],
            [
             0.2,
             "#de77ae"
            ],
            [
             0.3,
             "#f1b6da"
            ],
            [
             0.4,
             "#fde0ef"
            ],
            [
             0.5,
             "#f7f7f7"
            ],
            [
             0.6,
             "#e6f5d0"
            ],
            [
             0.7,
             "#b8e186"
            ],
            [
             0.8,
             "#7fbc41"
            ],
            [
             0.9,
             "#4d9221"
            ],
            [
             1,
             "#276419"
            ]
           ],
           "sequential": [
            [
             0,
             "#0d0887"
            ],
            [
             0.1111111111111111,
             "#46039f"
            ],
            [
             0.2222222222222222,
             "#7201a8"
            ],
            [
             0.3333333333333333,
             "#9c179e"
            ],
            [
             0.4444444444444444,
             "#bd3786"
            ],
            [
             0.5555555555555556,
             "#d8576b"
            ],
            [
             0.6666666666666666,
             "#ed7953"
            ],
            [
             0.7777777777777778,
             "#fb9f3a"
            ],
            [
             0.8888888888888888,
             "#fdca26"
            ],
            [
             1,
             "#f0f921"
            ]
           ],
           "sequentialminus": [
            [
             0,
             "#0d0887"
            ],
            [
             0.1111111111111111,
             "#46039f"
            ],
            [
             0.2222222222222222,
             "#7201a8"
            ],
            [
             0.3333333333333333,
             "#9c179e"
            ],
            [
             0.4444444444444444,
             "#bd3786"
            ],
            [
             0.5555555555555556,
             "#d8576b"
            ],
            [
             0.6666666666666666,
             "#ed7953"
            ],
            [
             0.7777777777777778,
             "#fb9f3a"
            ],
            [
             0.8888888888888888,
             "#fdca26"
            ],
            [
             1,
             "#f0f921"
            ]
           ]
          },
          "colorway": [
           "#636efa",
           "#EF553B",
           "#00cc96",
           "#ab63fa",
           "#FFA15A",
           "#19d3f3",
           "#FF6692",
           "#B6E880",
           "#FF97FF",
           "#FECB52"
          ],
          "font": {
           "color": "#2a3f5f"
          },
          "geo": {
           "bgcolor": "white",
           "lakecolor": "white",
           "landcolor": "#E5ECF6",
           "showlakes": true,
           "showland": true,
           "subunitcolor": "white"
          },
          "hoverlabel": {
           "align": "left"
          },
          "hovermode": "closest",
          "mapbox": {
           "style": "light"
          },
          "paper_bgcolor": "white",
          "plot_bgcolor": "#E5ECF6",
          "polar": {
           "angularaxis": {
            "gridcolor": "white",
            "linecolor": "white",
            "ticks": ""
           },
           "bgcolor": "#E5ECF6",
           "radialaxis": {
            "gridcolor": "white",
            "linecolor": "white",
            "ticks": ""
           }
          },
          "scene": {
           "xaxis": {
            "backgroundcolor": "#E5ECF6",
            "gridcolor": "white",
            "gridwidth": 2,
            "linecolor": "white",
            "showbackground": true,
            "ticks": "",
            "zerolinecolor": "white"
           },
           "yaxis": {
            "backgroundcolor": "#E5ECF6",
            "gridcolor": "white",
            "gridwidth": 2,
            "linecolor": "white",
            "showbackground": true,
            "ticks": "",
            "zerolinecolor": "white"
           },
           "zaxis": {
            "backgroundcolor": "#E5ECF6",
            "gridcolor": "white",
            "gridwidth": 2,
            "linecolor": "white",
            "showbackground": true,
            "ticks": "",
            "zerolinecolor": "white"
           }
          },
          "shapedefaults": {
           "line": {
            "color": "#2a3f5f"
           }
          },
          "ternary": {
           "aaxis": {
            "gridcolor": "white",
            "linecolor": "white",
            "ticks": ""
           },
           "baxis": {
            "gridcolor": "white",
            "linecolor": "white",
            "ticks": ""
           },
           "bgcolor": "#E5ECF6",
           "caxis": {
            "gridcolor": "white",
            "linecolor": "white",
            "ticks": ""
           }
          },
          "title": {
           "x": 0.05
          },
          "xaxis": {
           "automargin": true,
           "gridcolor": "white",
           "linecolor": "white",
           "ticks": "",
           "zerolinecolor": "white",
           "zerolinewidth": 2
          },
          "yaxis": {
           "automargin": true,
           "gridcolor": "white",
           "linecolor": "white",
           "ticks": "",
           "zerolinecolor": "white",
           "zerolinewidth": 2
          }
         }
        },
        "title": {
         "text": "Конверсия по источникам в разрезе версии ОС"
        },
        "xaxis": {
         "anchor": "y",
         "domain": [
          0,
          0.3133333333333333
         ],
         "title": {
          "text": "ОС"
         }
        },
        "xaxis2": {
         "anchor": "y2",
         "domain": [
          0.3333333333333333,
          0.6466666666666666
         ],
         "matches": "x",
         "title": {
          "text": "ОС"
         }
        },
        "xaxis3": {
         "anchor": "y3",
         "domain": [
          0.6666666666666666,
          0.98
         ],
         "matches": "x",
         "title": {
          "text": "ОС"
         }
        },
        "yaxis": {
         "anchor": "x",
         "domain": [
          0,
          1
         ],
         "title": {
          "text": "Кол-во пользователей"
         }
        },
        "yaxis2": {
         "anchor": "x2",
         "domain": [
          0,
          1
         ],
         "matches": "y",
         "showticklabels": false
        },
        "yaxis3": {
         "anchor": "x3",
         "domain": [
          0,
          1
         ],
         "matches": "y",
         "showticklabels": false
        }
       }
      },
      "text/html": [
       "<div>\n",
       "        \n",
       "        \n",
       "            <div id=\"3c782ef1-73eb-42a7-a0c1-67c6a1191e19\" class=\"plotly-graph-div\" style=\"height:600px; width:100%;\"></div>\n",
       "            <script type=\"text/javascript\">\n",
       "                require([\"plotly\"], function(Plotly) {\n",
       "                    window.PLOTLYENV=window.PLOTLYENV || {};\n",
       "                    \n",
       "                if (document.getElementById(\"3c782ef1-73eb-42a7-a0c1-67c6a1191e19\")) {\n",
       "                    Plotly.newPlot(\n",
       "                        '3c782ef1-73eb-42a7-a0c1-67c6a1191e19',\n",
       "                        [{\"alignmentgroup\": \"True\", \"hoverlabel\": {\"namelength\": 0}, \"hovertemplate\": \"\\u0418\\u0441\\u0442\\u043e\\u0447\\u043d\\u0438\\u043a \\u0442\\u0440\\u0430\\u0444\\u0438\\u043a\\u0430=Source 2<br>\\u041e\\u0421=%{x}<br>\\u041a\\u043e\\u043b-\\u0432\\u043e \\u043f\\u043e\\u043b\\u044c\\u0437\\u043e\\u0432\\u0430\\u0442\\u0435\\u043b\\u0435\\u0439=%{y}<br>\\u041a\\u043e\\u043d\\u0432\\u0435\\u0440\\u0441\\u0438\\u044f \\u0432 \\u043f\\u043b\\u0430\\u0442\\u044f\\u0449\\u0435\\u0433\\u043e=%{marker.color}\", \"legendgroup\": \"\", \"marker\": {\"color\": [0.0, 0.016440608302507192, 0.02421586715867159], \"coloraxis\": \"coloraxis\"}, \"name\": \"\", \"offsetgroup\": \"\", \"orientation\": \"v\", \"showlegend\": false, \"textposition\": \"auto\", \"type\": \"bar\", \"x\": [9, 10, 11], \"xaxis\": \"x\", \"y\": [12, 2433, 4336], \"yaxis\": \"y\"}, {\"alignmentgroup\": \"True\", \"hoverlabel\": {\"namelength\": 0}, \"hovertemplate\": \"\\u0418\\u0441\\u0442\\u043e\\u0447\\u043d\\u0438\\u043a \\u0442\\u0440\\u0430\\u0444\\u0438\\u043a\\u0430=Source 3<br>\\u041e\\u0421=%{x}<br>\\u041a\\u043e\\u043b-\\u0432\\u043e \\u043f\\u043e\\u043b\\u044c\\u0437\\u043e\\u0432\\u0430\\u0442\\u0435\\u043b\\u0435\\u0439=%{y}<br>\\u041a\\u043e\\u043d\\u0432\\u0435\\u0440\\u0441\\u0438\\u044f \\u0432 \\u043f\\u043b\\u0430\\u0442\\u044f\\u0449\\u0435\\u0433\\u043e=%{marker.color}\", \"legendgroup\": \"\", \"marker\": {\"color\": [0.022727272727272728, 0.0078125, 0.036939313984168866], \"coloraxis\": \"coloraxis\"}, \"name\": \"\", \"offsetgroup\": \"\", \"orientation\": \"v\", \"showlegend\": false, \"textposition\": \"auto\", \"type\": \"bar\", \"x\": [9, 10, 11], \"xaxis\": \"x2\", \"y\": [88, 256, 379], \"yaxis\": \"y2\"}, {\"alignmentgroup\": \"True\", \"hoverlabel\": {\"namelength\": 0}, \"hovertemplate\": \"\\u0418\\u0441\\u0442\\u043e\\u0447\\u043d\\u0438\\u043a \\u0442\\u0440\\u0430\\u0444\\u0438\\u043a\\u0430=Source 1<br>\\u041e\\u0421=%{x}<br>\\u041a\\u043e\\u043b-\\u0432\\u043e \\u043f\\u043e\\u043b\\u044c\\u0437\\u043e\\u0432\\u0430\\u0442\\u0435\\u043b\\u0435\\u0439=%{y}<br>\\u041a\\u043e\\u043d\\u0432\\u0435\\u0440\\u0441\\u0438\\u044f \\u0432 \\u043f\\u043b\\u0430\\u0442\\u044f\\u0449\\u0435\\u0433\\u043e=%{marker.color}\", \"legendgroup\": \"\", \"marker\": {\"color\": [0.055970149253731345, 0.0016339869281045752, 0.04689655172413793], \"coloraxis\": \"coloraxis\"}, \"name\": \"\", \"offsetgroup\": \"\", \"orientation\": \"v\", \"showlegend\": false, \"textposition\": \"auto\", \"type\": \"bar\", \"x\": [10, 9, 11], \"xaxis\": \"x3\", \"y\": [268, 612, 725], \"yaxis\": \"y3\"}],\n",
       "                        {\"annotations\": [{\"font\": {}, \"showarrow\": false, \"text\": \"\\u0418\\u0441\\u0442\\u043e\\u0447\\u043d\\u0438\\u043a \\u0442\\u0440\\u0430\\u0444\\u0438\\u043a\\u0430=Source 2\", \"x\": 0.15666666666666665, \"xanchor\": \"center\", \"xref\": \"paper\", \"y\": 1.0, \"yanchor\": \"bottom\", \"yref\": \"paper\"}, {\"font\": {}, \"showarrow\": false, \"text\": \"\\u0418\\u0441\\u0442\\u043e\\u0447\\u043d\\u0438\\u043a \\u0442\\u0440\\u0430\\u0444\\u0438\\u043a\\u0430=Source 3\", \"x\": 0.49, \"xanchor\": \"center\", \"xref\": \"paper\", \"y\": 1.0, \"yanchor\": \"bottom\", \"yref\": \"paper\"}, {\"font\": {}, \"showarrow\": false, \"text\": \"\\u0418\\u0441\\u0442\\u043e\\u0447\\u043d\\u0438\\u043a \\u0442\\u0440\\u0430\\u0444\\u0438\\u043a\\u0430=Source 1\", \"x\": 0.8233333333333333, \"xanchor\": \"center\", \"xref\": \"paper\", \"y\": 1.0, \"yanchor\": \"bottom\", \"yref\": \"paper\"}], \"barmode\": \"relative\", \"coloraxis\": {\"colorbar\": {\"title\": {\"text\": \"\\u041a\\u043e\\u043d\\u0432\\u0435\\u0440\\u0441\\u0438\\u044f \\u0432 \\u043f\\u043b\\u0430\\u0442\\u044f\\u0449\\u0435\\u0433\\u043e\"}}, \"colorscale\": [[0.0, \"#0d0887\"], [0.1111111111111111, \"#46039f\"], [0.2222222222222222, \"#7201a8\"], [0.3333333333333333, \"#9c179e\"], [0.4444444444444444, \"#bd3786\"], [0.5555555555555556, \"#d8576b\"], [0.6666666666666666, \"#ed7953\"], [0.7777777777777778, \"#fb9f3a\"], [0.8888888888888888, \"#fdca26\"], [1.0, \"#f0f921\"]]}, \"height\": 600, \"legend\": {\"tracegroupgap\": 0}, \"template\": {\"data\": {\"bar\": [{\"error_x\": {\"color\": \"#2a3f5f\"}, \"error_y\": {\"color\": \"#2a3f5f\"}, \"marker\": {\"line\": {\"color\": \"#E5ECF6\", \"width\": 0.5}}, \"type\": \"bar\"}], \"barpolar\": [{\"marker\": {\"line\": {\"color\": \"#E5ECF6\", \"width\": 0.5}}, \"type\": \"barpolar\"}], \"carpet\": [{\"aaxis\": {\"endlinecolor\": \"#2a3f5f\", \"gridcolor\": \"white\", \"linecolor\": \"white\", \"minorgridcolor\": \"white\", \"startlinecolor\": \"#2a3f5f\"}, \"baxis\": {\"endlinecolor\": \"#2a3f5f\", \"gridcolor\": \"white\", \"linecolor\": \"white\", \"minorgridcolor\": \"white\", \"startlinecolor\": \"#2a3f5f\"}, \"type\": \"carpet\"}], \"choropleth\": [{\"colorbar\": {\"outlinewidth\": 0, \"ticks\": \"\"}, \"type\": \"choropleth\"}], \"contour\": [{\"colorbar\": {\"outlinewidth\": 0, \"ticks\": \"\"}, \"colorscale\": [[0.0, \"#0d0887\"], [0.1111111111111111, \"#46039f\"], [0.2222222222222222, \"#7201a8\"], [0.3333333333333333, \"#9c179e\"], [0.4444444444444444, \"#bd3786\"], [0.5555555555555556, \"#d8576b\"], [0.6666666666666666, \"#ed7953\"], [0.7777777777777778, \"#fb9f3a\"], [0.8888888888888888, \"#fdca26\"], [1.0, \"#f0f921\"]], \"type\": \"contour\"}], \"contourcarpet\": [{\"colorbar\": {\"outlinewidth\": 0, \"ticks\": \"\"}, \"type\": \"contourcarpet\"}], \"heatmap\": [{\"colorbar\": {\"outlinewidth\": 0, \"ticks\": \"\"}, \"colorscale\": [[0.0, \"#0d0887\"], [0.1111111111111111, \"#46039f\"], [0.2222222222222222, \"#7201a8\"], [0.3333333333333333, \"#9c179e\"], [0.4444444444444444, \"#bd3786\"], [0.5555555555555556, \"#d8576b\"], [0.6666666666666666, \"#ed7953\"], [0.7777777777777778, \"#fb9f3a\"], [0.8888888888888888, \"#fdca26\"], [1.0, \"#f0f921\"]], \"type\": \"heatmap\"}], \"heatmapgl\": [{\"colorbar\": {\"outlinewidth\": 0, \"ticks\": \"\"}, \"colorscale\": [[0.0, \"#0d0887\"], [0.1111111111111111, \"#46039f\"], [0.2222222222222222, \"#7201a8\"], [0.3333333333333333, \"#9c179e\"], [0.4444444444444444, \"#bd3786\"], [0.5555555555555556, \"#d8576b\"], [0.6666666666666666, \"#ed7953\"], [0.7777777777777778, \"#fb9f3a\"], [0.8888888888888888, \"#fdca26\"], [1.0, \"#f0f921\"]], \"type\": \"heatmapgl\"}], \"histogram\": [{\"marker\": {\"colorbar\": {\"outlinewidth\": 0, \"ticks\": \"\"}}, \"type\": \"histogram\"}], \"histogram2d\": [{\"colorbar\": {\"outlinewidth\": 0, \"ticks\": \"\"}, \"colorscale\": [[0.0, \"#0d0887\"], [0.1111111111111111, \"#46039f\"], [0.2222222222222222, \"#7201a8\"], [0.3333333333333333, \"#9c179e\"], [0.4444444444444444, \"#bd3786\"], [0.5555555555555556, \"#d8576b\"], [0.6666666666666666, \"#ed7953\"], [0.7777777777777778, \"#fb9f3a\"], [0.8888888888888888, \"#fdca26\"], [1.0, \"#f0f921\"]], \"type\": \"histogram2d\"}], \"histogram2dcontour\": [{\"colorbar\": {\"outlinewidth\": 0, \"ticks\": \"\"}, \"colorscale\": [[0.0, \"#0d0887\"], [0.1111111111111111, \"#46039f\"], [0.2222222222222222, \"#7201a8\"], [0.3333333333333333, \"#9c179e\"], [0.4444444444444444, \"#bd3786\"], [0.5555555555555556, \"#d8576b\"], [0.6666666666666666, \"#ed7953\"], [0.7777777777777778, \"#fb9f3a\"], [0.8888888888888888, \"#fdca26\"], [1.0, \"#f0f921\"]], \"type\": \"histogram2dcontour\"}], \"mesh3d\": [{\"colorbar\": {\"outlinewidth\": 0, \"ticks\": \"\"}, \"type\": \"mesh3d\"}], \"parcoords\": [{\"line\": {\"colorbar\": {\"outlinewidth\": 0, \"ticks\": \"\"}}, \"type\": \"parcoords\"}], \"scatter\": [{\"marker\": {\"colorbar\": {\"outlinewidth\": 0, \"ticks\": \"\"}}, \"type\": \"scatter\"}], \"scatter3d\": [{\"line\": {\"colorbar\": {\"outlinewidth\": 0, \"ticks\": \"\"}}, \"marker\": {\"colorbar\": {\"outlinewidth\": 0, \"ticks\": \"\"}}, \"type\": \"scatter3d\"}], \"scattercarpet\": [{\"marker\": {\"colorbar\": {\"outlinewidth\": 0, \"ticks\": \"\"}}, \"type\": \"scattercarpet\"}], \"scattergeo\": [{\"marker\": {\"colorbar\": {\"outlinewidth\": 0, \"ticks\": \"\"}}, \"type\": \"scattergeo\"}], \"scattergl\": [{\"marker\": {\"colorbar\": {\"outlinewidth\": 0, \"ticks\": \"\"}}, \"type\": \"scattergl\"}], \"scattermapbox\": [{\"marker\": {\"colorbar\": {\"outlinewidth\": 0, \"ticks\": \"\"}}, \"type\": \"scattermapbox\"}], \"scatterpolar\": [{\"marker\": {\"colorbar\": {\"outlinewidth\": 0, \"ticks\": \"\"}}, \"type\": \"scatterpolar\"}], \"scatterpolargl\": [{\"marker\": {\"colorbar\": {\"outlinewidth\": 0, \"ticks\": \"\"}}, \"type\": \"scatterpolargl\"}], \"scatterternary\": [{\"marker\": {\"colorbar\": {\"outlinewidth\": 0, \"ticks\": \"\"}}, \"type\": \"scatterternary\"}], \"surface\": [{\"colorbar\": {\"outlinewidth\": 0, \"ticks\": \"\"}, \"colorscale\": [[0.0, \"#0d0887\"], [0.1111111111111111, \"#46039f\"], [0.2222222222222222, \"#7201a8\"], [0.3333333333333333, \"#9c179e\"], [0.4444444444444444, \"#bd3786\"], [0.5555555555555556, \"#d8576b\"], [0.6666666666666666, \"#ed7953\"], [0.7777777777777778, \"#fb9f3a\"], [0.8888888888888888, \"#fdca26\"], [1.0, \"#f0f921\"]], \"type\": \"surface\"}], \"table\": [{\"cells\": {\"fill\": {\"color\": \"#EBF0F8\"}, \"line\": {\"color\": \"white\"}}, \"header\": {\"fill\": {\"color\": \"#C8D4E3\"}, \"line\": {\"color\": \"white\"}}, \"type\": \"table\"}]}, \"layout\": {\"annotationdefaults\": {\"arrowcolor\": \"#2a3f5f\", \"arrowhead\": 0, \"arrowwidth\": 1}, \"colorscale\": {\"diverging\": [[0, \"#8e0152\"], [0.1, \"#c51b7d\"], [0.2, \"#de77ae\"], [0.3, \"#f1b6da\"], [0.4, \"#fde0ef\"], [0.5, \"#f7f7f7\"], [0.6, \"#e6f5d0\"], [0.7, \"#b8e186\"], [0.8, \"#7fbc41\"], [0.9, \"#4d9221\"], [1, \"#276419\"]], \"sequential\": [[0.0, \"#0d0887\"], [0.1111111111111111, \"#46039f\"], [0.2222222222222222, \"#7201a8\"], [0.3333333333333333, \"#9c179e\"], [0.4444444444444444, \"#bd3786\"], [0.5555555555555556, \"#d8576b\"], [0.6666666666666666, \"#ed7953\"], [0.7777777777777778, \"#fb9f3a\"], [0.8888888888888888, \"#fdca26\"], [1.0, \"#f0f921\"]], \"sequentialminus\": [[0.0, \"#0d0887\"], [0.1111111111111111, \"#46039f\"], [0.2222222222222222, \"#7201a8\"], [0.3333333333333333, \"#9c179e\"], [0.4444444444444444, \"#bd3786\"], [0.5555555555555556, \"#d8576b\"], [0.6666666666666666, \"#ed7953\"], [0.7777777777777778, \"#fb9f3a\"], [0.8888888888888888, \"#fdca26\"], [1.0, \"#f0f921\"]]}, \"colorway\": [\"#636efa\", \"#EF553B\", \"#00cc96\", \"#ab63fa\", \"#FFA15A\", \"#19d3f3\", \"#FF6692\", \"#B6E880\", \"#FF97FF\", \"#FECB52\"], \"font\": {\"color\": \"#2a3f5f\"}, \"geo\": {\"bgcolor\": \"white\", \"lakecolor\": \"white\", \"landcolor\": \"#E5ECF6\", \"showlakes\": true, \"showland\": true, \"subunitcolor\": \"white\"}, \"hoverlabel\": {\"align\": \"left\"}, \"hovermode\": \"closest\", \"mapbox\": {\"style\": \"light\"}, \"paper_bgcolor\": \"white\", \"plot_bgcolor\": \"#E5ECF6\", \"polar\": {\"angularaxis\": {\"gridcolor\": \"white\", \"linecolor\": \"white\", \"ticks\": \"\"}, \"bgcolor\": \"#E5ECF6\", \"radialaxis\": {\"gridcolor\": \"white\", \"linecolor\": \"white\", \"ticks\": \"\"}}, \"scene\": {\"xaxis\": {\"backgroundcolor\": \"#E5ECF6\", \"gridcolor\": \"white\", \"gridwidth\": 2, \"linecolor\": \"white\", \"showbackground\": true, \"ticks\": \"\", \"zerolinecolor\": \"white\"}, \"yaxis\": {\"backgroundcolor\": \"#E5ECF6\", \"gridcolor\": \"white\", \"gridwidth\": 2, \"linecolor\": \"white\", \"showbackground\": true, \"ticks\": \"\", \"zerolinecolor\": \"white\"}, \"zaxis\": {\"backgroundcolor\": \"#E5ECF6\", \"gridcolor\": \"white\", \"gridwidth\": 2, \"linecolor\": \"white\", \"showbackground\": true, \"ticks\": \"\", \"zerolinecolor\": \"white\"}}, \"shapedefaults\": {\"line\": {\"color\": \"#2a3f5f\"}}, \"ternary\": {\"aaxis\": {\"gridcolor\": \"white\", \"linecolor\": \"white\", \"ticks\": \"\"}, \"baxis\": {\"gridcolor\": \"white\", \"linecolor\": \"white\", \"ticks\": \"\"}, \"bgcolor\": \"#E5ECF6\", \"caxis\": {\"gridcolor\": \"white\", \"linecolor\": \"white\", \"ticks\": \"\"}}, \"title\": {\"x\": 0.05}, \"xaxis\": {\"automargin\": true, \"gridcolor\": \"white\", \"linecolor\": \"white\", \"ticks\": \"\", \"zerolinecolor\": \"white\", \"zerolinewidth\": 2}, \"yaxis\": {\"automargin\": true, \"gridcolor\": \"white\", \"linecolor\": \"white\", \"ticks\": \"\", \"zerolinecolor\": \"white\", \"zerolinewidth\": 2}}}, \"title\": {\"text\": \"\\u041a\\u043e\\u043d\\u0432\\u0435\\u0440\\u0441\\u0438\\u044f \\u043f\\u043e \\u0438\\u0441\\u0442\\u043e\\u0447\\u043d\\u0438\\u043a\\u0430\\u043c \\u0432 \\u0440\\u0430\\u0437\\u0440\\u0435\\u0437\\u0435 \\u0432\\u0435\\u0440\\u0441\\u0438\\u0438 \\u041e\\u0421\"}, \"xaxis\": {\"anchor\": \"y\", \"domain\": [0.0, 0.3133333333333333], \"title\": {\"text\": \"\\u041e\\u0421\"}}, \"xaxis2\": {\"anchor\": \"y2\", \"domain\": [0.3333333333333333, 0.6466666666666666], \"matches\": \"x\", \"title\": {\"text\": \"\\u041e\\u0421\"}}, \"xaxis3\": {\"anchor\": \"y3\", \"domain\": [0.6666666666666666, 0.98], \"matches\": \"x\", \"title\": {\"text\": \"\\u041e\\u0421\"}}, \"yaxis\": {\"anchor\": \"x\", \"domain\": [0.0, 1.0], \"title\": {\"text\": \"\\u041a\\u043e\\u043b-\\u0432\\u043e \\u043f\\u043e\\u043b\\u044c\\u0437\\u043e\\u0432\\u0430\\u0442\\u0435\\u043b\\u0435\\u0439\"}}, \"yaxis2\": {\"anchor\": \"x2\", \"domain\": [0.0, 1.0], \"matches\": \"y\", \"showticklabels\": false}, \"yaxis3\": {\"anchor\": \"x3\", \"domain\": [0.0, 1.0], \"matches\": \"y\", \"showticklabels\": false}},\n",
       "                        {\"responsive\": true}\n",
       "                    ).then(function(){\n",
       "                            \n",
       "var gd = document.getElementById('3c782ef1-73eb-42a7-a0c1-67c6a1191e19');\n",
       "var x = new MutationObserver(function (mutations, observer) {{\n",
       "        var display = window.getComputedStyle(gd).display;\n",
       "        if (!display || display === 'none') {{\n",
       "            console.log([gd, 'removed!']);\n",
       "            Plotly.purge(gd);\n",
       "            observer.disconnect();\n",
       "        }}\n",
       "}});\n",
       "\n",
       "// Listen for the removal of the full notebook cells\n",
       "var notebookContainer = gd.closest('#notebook-container');\n",
       "if (notebookContainer) {{\n",
       "    x.observe(notebookContainer, {childList: true});\n",
       "}}\n",
       "\n",
       "// Listen for the clearing of the current output cell\n",
       "var outputEl = gd.closest('.output');\n",
       "if (outputEl) {{\n",
       "    x.observe(outputEl, {childList: true});\n",
       "}}\n",
       "\n",
       "                        })\n",
       "                };\n",
       "                });\n",
       "            </script>\n",
       "        </div>"
      ]
     },
     "metadata": {},
     "output_type": "display_data"
    }
   ],
   "source": [
    "conv(df_n,'country_code', 'Страна', 'Конверсия по источникам в разрезе стран')\n",
    "conv(df_n,'device_type', 'Устройство', 'Конверсия по источникам в разрезе устройств')\n",
    "conv(df_n,'os_version', 'ОС', 'Конверсия по источникам в разрезе версии ОС')"
   ]
  },
  {
   "cell_type": "markdown",
   "metadata": {},
   "source": [
    "Для оптимизации всех источников трафика к отключению рекомендуются сегменты, имеющие минимальную конверсию, на которые приходится значительный объем в структуре пользователей.\n",
    "    \n",
    "Во-первых, отключению подлежат сегменты с 9 операционной системой.\n",
    "Во-вторых, отключению подлежат сегменты, использующие устройства iPhone 5, iPhone 5s, iPhone6.\n",
    "В-третьих, в разрезе стран к отключению рекомендуются:\n",
    "* Франция по Source 1 и Source 3,\n",
    "* Нидерланды и Швеция по Source 2"
   ]
  }
 ],
 "metadata": {
  "ExecuteTimeLog": [
   {
    "duration": 3773,
    "start_time": "2021-11-06T08:06:14.581Z"
   },
   {
    "duration": 1987,
    "start_time": "2021-11-06T08:06:22.556Z"
   },
   {
    "duration": 2074,
    "start_time": "2021-11-06T08:07:15.871Z"
   },
   {
    "duration": 4,
    "start_time": "2021-11-06T08:09:23.119Z"
   },
   {
    "duration": 3302,
    "start_time": "2021-11-06T08:09:29.263Z"
   },
   {
    "duration": 1183,
    "start_time": "2021-11-06T08:10:18.417Z"
   },
   {
    "duration": 188,
    "start_time": "2021-11-06T08:10:23.234Z"
   },
   {
    "duration": 120,
    "start_time": "2021-11-06T08:10:30.601Z"
   },
   {
    "duration": 1007,
    "start_time": "2021-11-06T08:11:20.340Z"
   },
   {
    "duration": 12,
    "start_time": "2021-11-06T09:30:01.791Z"
   },
   {
    "duration": 38,
    "start_time": "2021-11-06T09:30:16.857Z"
   },
   {
    "duration": 294,
    "start_time": "2021-11-06T09:32:47.050Z"
   },
   {
    "duration": 6,
    "start_time": "2021-11-06T09:32:51.413Z"
   },
   {
    "duration": 9,
    "start_time": "2021-11-06T09:37:07.585Z"
   },
   {
    "duration": 28,
    "start_time": "2021-11-06T09:37:12.944Z"
   },
   {
    "duration": 17,
    "start_time": "2021-11-06T09:37:54.462Z"
   },
   {
    "duration": 10,
    "start_time": "2021-11-06T09:39:48.088Z"
   },
   {
    "duration": 11,
    "start_time": "2021-11-06T09:41:17.119Z"
   },
   {
    "duration": 18,
    "start_time": "2021-11-06T09:41:49.702Z"
   },
   {
    "duration": 7,
    "start_time": "2021-11-06T09:46:14.011Z"
   },
   {
    "duration": 27,
    "start_time": "2021-11-06T09:46:16.827Z"
   },
   {
    "duration": 13,
    "start_time": "2021-11-06T09:46:46.597Z"
   },
   {
    "duration": 702,
    "start_time": "2021-11-06T09:50:38.352Z"
   },
   {
    "duration": 554,
    "start_time": "2021-11-06T09:51:25.351Z"
   },
   {
    "duration": 1383,
    "start_time": "2021-11-06T09:51:32.966Z"
   },
   {
    "duration": 7,
    "start_time": "2021-11-06T10:01:05.764Z"
   },
   {
    "duration": 29,
    "start_time": "2021-11-06T10:01:13.046Z"
   },
   {
    "duration": 15,
    "start_time": "2021-11-06T10:06:30.632Z"
   },
   {
    "duration": 14,
    "start_time": "2021-11-06T10:25:55.689Z"
   },
   {
    "duration": 14,
    "start_time": "2021-11-06T10:33:53.920Z"
   },
   {
    "duration": 300,
    "start_time": "2021-11-06T10:35:11.143Z"
   },
   {
    "duration": 93,
    "start_time": "2021-11-06T10:35:25.197Z"
   },
   {
    "duration": 13,
    "start_time": "2021-11-06T10:36:33.775Z"
   },
   {
    "duration": 13,
    "start_time": "2021-11-06T10:36:35.075Z"
   },
   {
    "duration": 5,
    "start_time": "2021-11-06T10:36:44.479Z"
   },
   {
    "duration": 222,
    "start_time": "2021-11-06T10:36:44.665Z"
   },
   {
    "duration": 12,
    "start_time": "2021-11-06T10:36:44.890Z"
   },
   {
    "duration": 36,
    "start_time": "2021-11-06T10:36:44.905Z"
   },
   {
    "duration": 6,
    "start_time": "2021-11-06T10:36:45.014Z"
   },
   {
    "duration": 8,
    "start_time": "2021-11-06T10:36:45.105Z"
   },
   {
    "duration": 15,
    "start_time": "2021-11-06T10:36:45.222Z"
   },
   {
    "duration": 18,
    "start_time": "2021-11-06T10:36:45.327Z"
   },
   {
    "duration": 99,
    "start_time": "2021-11-06T10:36:45.441Z"
   },
   {
    "duration": 28,
    "start_time": "2021-11-06T10:36:45.562Z"
   },
   {
    "duration": 15,
    "start_time": "2021-11-06T10:36:45.667Z"
   },
   {
    "duration": 12,
    "start_time": "2021-11-06T10:36:45.773Z"
   },
   {
    "duration": 11,
    "start_time": "2021-11-06T10:36:45.904Z"
   },
   {
    "duration": 7002,
    "start_time": "2021-11-06T10:36:46.027Z"
   },
   {
    "duration": 548,
    "start_time": "2021-11-06T10:37:04.513Z"
   },
   {
    "duration": 548,
    "start_time": "2021-11-06T10:40:56.505Z"
   },
   {
    "duration": 486,
    "start_time": "2021-11-06T10:41:09.616Z"
   },
   {
    "duration": 457,
    "start_time": "2021-11-06T10:41:19.027Z"
   },
   {
    "duration": 4,
    "start_time": "2021-11-06T11:48:36.923Z"
   },
   {
    "duration": 224,
    "start_time": "2021-11-06T11:48:42.445Z"
   },
   {
    "duration": 12,
    "start_time": "2021-11-06T11:48:43.206Z"
   },
   {
    "duration": 35,
    "start_time": "2021-11-06T11:48:43.480Z"
   },
   {
    "duration": 5,
    "start_time": "2021-11-06T11:48:43.676Z"
   },
   {
    "duration": 7,
    "start_time": "2021-11-06T11:48:43.825Z"
   },
   {
    "duration": 14,
    "start_time": "2021-11-06T11:48:43.907Z"
   },
   {
    "duration": 17,
    "start_time": "2021-11-06T11:48:44.065Z"
   },
   {
    "duration": 101,
    "start_time": "2021-11-06T11:48:44.164Z"
   },
   {
    "duration": 28,
    "start_time": "2021-11-06T11:48:44.466Z"
   },
   {
    "duration": 14,
    "start_time": "2021-11-06T11:48:44.763Z"
   },
   {
    "duration": 7,
    "start_time": "2021-11-06T11:48:50.646Z"
   },
   {
    "duration": 28,
    "start_time": "2021-11-06T11:48:52.854Z"
   },
   {
    "duration": 13,
    "start_time": "2021-11-06T11:49:10.355Z"
   },
   {
    "duration": 7,
    "start_time": "2021-11-06T11:49:16.668Z"
   },
   {
    "duration": 29,
    "start_time": "2021-11-06T11:49:16.967Z"
   },
   {
    "duration": 16,
    "start_time": "2021-11-06T11:49:17.471Z"
   },
   {
    "duration": 13,
    "start_time": "2021-11-06T11:49:19.185Z"
   },
   {
    "duration": 12,
    "start_time": "2021-11-06T11:49:19.200Z"
   },
   {
    "duration": 454,
    "start_time": "2021-11-06T11:49:20.670Z"
   },
   {
    "duration": 137147,
    "start_time": "2021-11-06T11:50:38.116Z"
   },
   {
    "duration": 26,
    "start_time": "2021-11-06T11:53:00.474Z"
   },
   {
    "duration": 25,
    "start_time": "2021-11-06T11:53:10.476Z"
   },
   {
    "duration": 1307,
    "start_time": "2021-11-06T11:53:38.058Z"
   },
   {
    "duration": 5,
    "start_time": "2021-11-06T11:53:53.578Z"
   },
   {
    "duration": 1164,
    "start_time": "2021-11-06T11:54:04.139Z"
   },
   {
    "duration": 10,
    "start_time": "2021-11-06T11:54:14.644Z"
   },
   {
    "duration": 23,
    "start_time": "2021-11-06T11:54:42.814Z"
   },
   {
    "duration": 22,
    "start_time": "2021-11-06T11:55:21.878Z"
   },
   {
    "duration": 31,
    "start_time": "2021-11-06T11:55:30.467Z"
   },
   {
    "duration": 31,
    "start_time": "2021-11-06T11:55:37.090Z"
   },
   {
    "duration": 15,
    "start_time": "2021-11-06T12:01:26.030Z"
   },
   {
    "duration": 17,
    "start_time": "2021-11-06T12:01:45.796Z"
   },
   {
    "duration": 8,
    "start_time": "2021-11-06T12:02:10.485Z"
   },
   {
    "duration": 12,
    "start_time": "2021-11-06T12:02:15.780Z"
   },
   {
    "duration": 9,
    "start_time": "2021-11-06T12:02:19.086Z"
   },
   {
    "duration": 9,
    "start_time": "2021-11-06T12:02:59.204Z"
   },
   {
    "duration": 328,
    "start_time": "2021-11-06T12:14:06.093Z"
   },
   {
    "duration": 103,
    "start_time": "2021-11-06T12:16:44.778Z"
   },
   {
    "duration": 295,
    "start_time": "2021-11-06T12:17:29.481Z"
   },
   {
    "duration": 5,
    "start_time": "2021-11-06T12:18:06.700Z"
   },
   {
    "duration": 302,
    "start_time": "2021-11-06T12:18:11.924Z"
   },
   {
    "duration": 103,
    "start_time": "2021-11-06T12:18:58.389Z"
   },
   {
    "duration": 403,
    "start_time": "2021-11-06T12:19:03.518Z"
   },
   {
    "duration": 313,
    "start_time": "2021-11-06T12:19:52.187Z"
   },
   {
    "duration": 316,
    "start_time": "2021-11-06T12:20:31.245Z"
   },
   {
    "duration": 6,
    "start_time": "2021-11-06T12:20:46.691Z"
   },
   {
    "duration": 295,
    "start_time": "2021-11-06T12:21:53.745Z"
   },
   {
    "duration": 14,
    "start_time": "2021-11-06T12:25:01.007Z"
   },
   {
    "duration": 199,
    "start_time": "2021-11-07T09:14:54.244Z"
   },
   {
    "duration": 332,
    "start_time": "2021-11-07T09:14:59.559Z"
   },
   {
    "duration": 2095,
    "start_time": "2021-11-07T09:15:06.804Z"
   },
   {
    "duration": 207,
    "start_time": "2021-11-07T09:15:08.902Z"
   },
   {
    "duration": 12,
    "start_time": "2021-11-07T09:15:09.797Z"
   },
   {
    "duration": 35,
    "start_time": "2021-11-07T09:15:10.032Z"
   },
   {
    "duration": 5,
    "start_time": "2021-11-07T09:15:10.272Z"
   },
   {
    "duration": 8,
    "start_time": "2021-11-07T09:15:10.516Z"
   },
   {
    "duration": 16,
    "start_time": "2021-11-07T09:15:10.809Z"
   },
   {
    "duration": 7,
    "start_time": "2021-11-07T09:15:11.067Z"
   },
   {
    "duration": 27,
    "start_time": "2021-11-07T09:15:11.774Z"
   },
   {
    "duration": 14,
    "start_time": "2021-11-07T09:15:12.294Z"
   },
   {
    "duration": 19,
    "start_time": "2021-11-07T09:15:12.914Z"
   },
   {
    "duration": 11,
    "start_time": "2021-11-07T09:15:13.548Z"
   },
   {
    "duration": 472,
    "start_time": "2021-11-07T09:15:14.574Z"
   },
   {
    "duration": 350,
    "start_time": "2021-11-07T09:15:15.848Z"
   },
   {
    "duration": 5,
    "start_time": "2021-11-07T09:16:17.403Z"
   },
   {
    "duration": 409,
    "start_time": "2021-11-07T09:18:34.688Z"
   },
   {
    "duration": 407,
    "start_time": "2021-11-07T09:18:45.266Z"
   },
   {
    "duration": 355,
    "start_time": "2021-11-07T09:19:02.909Z"
   },
   {
    "duration": 407,
    "start_time": "2021-11-07T09:22:13.076Z"
   },
   {
    "duration": 369,
    "start_time": "2021-11-07T09:23:14.799Z"
   },
   {
    "duration": 13,
    "start_time": "2021-11-07T09:24:27.581Z"
   },
   {
    "duration": 5,
    "start_time": "2021-11-07T09:24:31.835Z"
   },
   {
    "duration": 214,
    "start_time": "2021-11-07T09:24:32.122Z"
   },
   {
    "duration": 15,
    "start_time": "2021-11-07T09:24:32.339Z"
   },
   {
    "duration": 43,
    "start_time": "2021-11-07T09:24:32.480Z"
   },
   {
    "duration": 6,
    "start_time": "2021-11-07T09:24:32.626Z"
   },
   {
    "duration": 7,
    "start_time": "2021-11-07T09:24:32.696Z"
   },
   {
    "duration": 15,
    "start_time": "2021-11-07T09:24:32.835Z"
   },
   {
    "duration": 18,
    "start_time": "2021-11-07T09:24:32.964Z"
   },
   {
    "duration": 8,
    "start_time": "2021-11-07T09:24:33.065Z"
   },
   {
    "duration": 28,
    "start_time": "2021-11-07T09:24:39.485Z"
   },
   {
    "duration": 14,
    "start_time": "2021-11-07T09:24:40.056Z"
   },
   {
    "duration": 12,
    "start_time": "2021-11-07T09:24:40.944Z"
   },
   {
    "duration": 11,
    "start_time": "2021-11-07T09:24:41.647Z"
   },
   {
    "duration": 496,
    "start_time": "2021-11-07T09:24:42.533Z"
   },
   {
    "duration": 455,
    "start_time": "2021-11-07T09:24:44.094Z"
   },
   {
    "duration": 7,
    "start_time": "2021-11-07T09:25:07.830Z"
   },
   {
    "duration": 373,
    "start_time": "2021-11-07T09:26:00.680Z"
   },
   {
    "duration": 372,
    "start_time": "2021-11-07T09:26:18.712Z"
   },
   {
    "duration": 5,
    "start_time": "2021-11-07T09:26:53.239Z"
   },
   {
    "duration": 7,
    "start_time": "2021-11-07T09:26:58.958Z"
   },
   {
    "duration": 272,
    "start_time": "2021-11-07T09:48:13.463Z"
   },
   {
    "duration": 4,
    "start_time": "2021-11-07T09:48:22.820Z"
   },
   {
    "duration": 216,
    "start_time": "2021-11-07T09:48:22.986Z"
   },
   {
    "duration": 11,
    "start_time": "2021-11-07T09:48:23.204Z"
   },
   {
    "duration": 34,
    "start_time": "2021-11-07T09:48:23.306Z"
   },
   {
    "duration": 5,
    "start_time": "2021-11-07T09:48:23.518Z"
   },
   {
    "duration": 7,
    "start_time": "2021-11-07T09:48:23.648Z"
   },
   {
    "duration": 15,
    "start_time": "2021-11-07T09:48:23.806Z"
   },
   {
    "duration": 18,
    "start_time": "2021-11-07T09:48:23.955Z"
   },
   {
    "duration": 8,
    "start_time": "2021-11-07T09:48:24.090Z"
   },
   {
    "duration": 27,
    "start_time": "2021-11-07T09:48:24.229Z"
   },
   {
    "duration": 14,
    "start_time": "2021-11-07T09:48:24.362Z"
   },
   {
    "duration": 13,
    "start_time": "2021-11-07T09:48:24.713Z"
   },
   {
    "duration": 11,
    "start_time": "2021-11-07T09:48:25.022Z"
   },
   {
    "duration": 478,
    "start_time": "2021-11-07T09:48:25.436Z"
   },
   {
    "duration": 360,
    "start_time": "2021-11-07T09:48:26.592Z"
   },
   {
    "duration": 359,
    "start_time": "2021-11-07T09:48:27.306Z"
   },
   {
    "duration": 6,
    "start_time": "2021-11-07T09:48:28.111Z"
   },
   {
    "duration": 30,
    "start_time": "2021-11-07T09:49:12.780Z"
   },
   {
    "duration": 24,
    "start_time": "2021-11-07T09:49:18.802Z"
   },
   {
    "duration": 22,
    "start_time": "2021-11-07T09:49:23.909Z"
   },
   {
    "duration": 30,
    "start_time": "2021-11-07T09:49:36.885Z"
   },
   {
    "duration": 22,
    "start_time": "2021-11-07T09:49:44.190Z"
   },
   {
    "duration": 8,
    "start_time": "2021-11-07T09:49:50.661Z"
   },
   {
    "duration": 8,
    "start_time": "2021-11-07T09:49:52.991Z"
   },
   {
    "duration": 14,
    "start_time": "2021-11-07T09:50:02.631Z"
   },
   {
    "duration": 7474,
    "start_time": "2021-11-07T09:50:04.065Z"
   },
   {
    "duration": 4,
    "start_time": "2021-11-07T09:50:19.868Z"
   },
   {
    "duration": 160,
    "start_time": "2021-11-07T09:50:20.005Z"
   },
   {
    "duration": 12,
    "start_time": "2021-11-07T09:50:20.167Z"
   },
   {
    "duration": 34,
    "start_time": "2021-11-07T09:50:20.301Z"
   },
   {
    "duration": 6,
    "start_time": "2021-11-07T09:50:20.399Z"
   },
   {
    "duration": 8,
    "start_time": "2021-11-07T09:50:20.625Z"
   },
   {
    "duration": 14,
    "start_time": "2021-11-07T09:50:20.756Z"
   },
   {
    "duration": 18,
    "start_time": "2021-11-07T09:50:20.880Z"
   },
   {
    "duration": 7,
    "start_time": "2021-11-07T09:50:21.115Z"
   },
   {
    "duration": 28,
    "start_time": "2021-11-07T09:50:21.234Z"
   },
   {
    "duration": 14,
    "start_time": "2021-11-07T09:50:21.446Z"
   },
   {
    "duration": 13,
    "start_time": "2021-11-07T09:50:21.577Z"
   },
   {
    "duration": 11,
    "start_time": "2021-11-07T09:50:21.679Z"
   },
   {
    "duration": 469,
    "start_time": "2021-11-07T09:50:21.840Z"
   },
   {
    "duration": 366,
    "start_time": "2021-11-07T09:50:23.389Z"
   },
   {
    "duration": 367,
    "start_time": "2021-11-07T09:50:24.260Z"
   },
   {
    "duration": 6,
    "start_time": "2021-11-07T09:50:25.625Z"
   },
   {
    "duration": 28,
    "start_time": "2021-11-07T09:50:28.362Z"
   },
   {
    "duration": 22,
    "start_time": "2021-11-07T09:50:30.594Z"
   },
   {
    "duration": 23,
    "start_time": "2021-11-07T09:50:31.667Z"
   },
   {
    "duration": 9654,
    "start_time": "2021-11-07T09:50:37.137Z"
   },
   {
    "duration": 9,
    "start_time": "2021-11-07T09:52:40.842Z"
   },
   {
    "duration": 40,
    "start_time": "2021-11-07T09:53:17.951Z"
   },
   {
    "duration": 15,
    "start_time": "2021-11-07T09:54:25.088Z"
   },
   {
    "duration": 7336,
    "start_time": "2021-11-07T09:57:18.876Z"
   },
   {
    "duration": 12,
    "start_time": "2021-11-07T09:57:59.911Z"
   },
   {
    "duration": 367,
    "start_time": "2021-11-07T09:58:03.515Z"
   },
   {
    "duration": 4,
    "start_time": "2021-11-07T09:58:46.011Z"
   },
   {
    "duration": 295,
    "start_time": "2021-11-07T09:58:59.082Z"
   },
   {
    "duration": 8,
    "start_time": "2021-11-07T09:59:03.208Z"
   },
   {
    "duration": 19,
    "start_time": "2021-11-07T09:59:28.604Z"
   },
   {
    "duration": 10,
    "start_time": "2021-11-07T09:59:48.516Z"
   },
   {
    "duration": 8151,
    "start_time": "2021-11-07T10:00:38.845Z"
   },
   {
    "duration": 18,
    "start_time": "2021-11-07T10:00:52.301Z"
   },
   {
    "duration": 8941,
    "start_time": "2021-11-07T10:00:56.615Z"
   },
   {
    "duration": 8174,
    "start_time": "2021-11-07T10:02:10.909Z"
   },
   {
    "duration": 8,
    "start_time": "2021-11-07T10:02:21.832Z"
   },
   {
    "duration": 26,
    "start_time": "2021-11-07T10:02:47.862Z"
   },
   {
    "duration": 11,
    "start_time": "2021-11-07T10:02:53.749Z"
   },
   {
    "duration": 8,
    "start_time": "2021-11-07T10:03:00.897Z"
   },
   {
    "duration": 8,
    "start_time": "2021-11-07T10:03:29.642Z"
   },
   {
    "duration": 8,
    "start_time": "2021-11-07T10:03:30.693Z"
   },
   {
    "duration": 403,
    "start_time": "2021-11-07T11:05:18.852Z"
   },
   {
    "duration": 14,
    "start_time": "2021-11-07T11:05:24.646Z"
   },
   {
    "duration": 549,
    "start_time": "2021-11-07T11:05:25.244Z"
   },
   {
    "duration": 326,
    "start_time": "2021-11-07T11:05:58.916Z"
   },
   {
    "duration": 11,
    "start_time": "2021-11-07T11:06:10.112Z"
   },
   {
    "duration": 10,
    "start_time": "2021-11-07T11:06:15.874Z"
   },
   {
    "duration": 11,
    "start_time": "2021-11-07T11:06:19.502Z"
   },
   {
    "duration": 11,
    "start_time": "2021-11-07T11:06:29.975Z"
   },
   {
    "duration": 10,
    "start_time": "2021-11-07T11:06:42.216Z"
   },
   {
    "duration": 10,
    "start_time": "2021-11-07T11:06:49.793Z"
   },
   {
    "duration": 10,
    "start_time": "2021-11-07T11:07:00.517Z"
   },
   {
    "duration": 7,
    "start_time": "2021-11-07T11:07:04.770Z"
   },
   {
    "duration": 6,
    "start_time": "2021-11-07T11:07:13.548Z"
   },
   {
    "duration": 9,
    "start_time": "2021-11-07T11:08:04.614Z"
   },
   {
    "duration": 6,
    "start_time": "2021-11-07T11:19:09.960Z"
   },
   {
    "duration": 6,
    "start_time": "2021-11-07T11:19:19.941Z"
   },
   {
    "duration": 8,
    "start_time": "2021-11-07T11:19:48.713Z"
   },
   {
    "duration": 8,
    "start_time": "2021-11-07T11:20:33.067Z"
   },
   {
    "duration": 8,
    "start_time": "2021-11-07T11:25:32.823Z"
   },
   {
    "duration": 7,
    "start_time": "2021-11-07T11:25:50.755Z"
   },
   {
    "duration": 8,
    "start_time": "2021-11-07T11:26:42.809Z"
   },
   {
    "duration": 10,
    "start_time": "2021-11-07T11:26:45.277Z"
   },
   {
    "duration": 97,
    "start_time": "2021-11-07T11:28:27.782Z"
   },
   {
    "duration": 28,
    "start_time": "2021-11-07T11:28:31.249Z"
   },
   {
    "duration": 36,
    "start_time": "2021-11-07T11:29:25.919Z"
   },
   {
    "duration": 105,
    "start_time": "2021-11-07T11:35:35.162Z"
   },
   {
    "duration": 203,
    "start_time": "2021-11-07T11:35:51.508Z"
   },
   {
    "duration": 196,
    "start_time": "2021-11-07T11:36:04.776Z"
   },
   {
    "duration": 192,
    "start_time": "2021-11-07T11:36:22.027Z"
   },
   {
    "duration": 178,
    "start_time": "2021-11-07T11:36:49.161Z"
   },
   {
    "duration": 41,
    "start_time": "2021-11-07T11:37:00.872Z"
   },
   {
    "duration": 20,
    "start_time": "2021-11-07T11:37:35.701Z"
   },
   {
    "duration": 26,
    "start_time": "2021-11-07T11:38:02.408Z"
   },
   {
    "duration": 13,
    "start_time": "2021-11-07T11:38:08.749Z"
   },
   {
    "duration": 17,
    "start_time": "2021-11-07T11:38:33.723Z"
   },
   {
    "duration": 7899,
    "start_time": "2021-11-07T11:39:09.804Z"
   },
   {
    "duration": 25,
    "start_time": "2021-11-07T11:39:29.615Z"
   },
   {
    "duration": 12,
    "start_time": "2021-11-07T11:39:32.201Z"
   },
   {
    "duration": 311,
    "start_time": "2021-11-07T11:39:35.056Z"
   },
   {
    "duration": 829,
    "start_time": "2021-11-07T11:40:49.045Z"
   },
   {
    "duration": 28,
    "start_time": "2021-11-07T11:41:08.283Z"
   },
   {
    "duration": 12,
    "start_time": "2021-11-07T11:41:22.070Z"
   },
   {
    "duration": 227,
    "start_time": "2021-11-07T11:41:35.975Z"
   },
   {
    "duration": 26,
    "start_time": "2021-11-07T11:41:40.795Z"
   },
   {
    "duration": 16,
    "start_time": "2021-11-07T11:41:43.478Z"
   },
   {
    "duration": 23,
    "start_time": "2021-11-07T11:41:48.074Z"
   },
   {
    "duration": 12,
    "start_time": "2021-11-07T11:41:50.960Z"
   },
   {
    "duration": 8,
    "start_time": "2021-11-07T11:41:52.957Z"
   },
   {
    "duration": 15,
    "start_time": "2021-11-07T11:42:04.703Z"
   },
   {
    "duration": 87,
    "start_time": "2021-11-07T11:42:12.882Z"
   },
   {
    "duration": 25,
    "start_time": "2021-11-07T11:42:21.199Z"
   },
   {
    "duration": 7,
    "start_time": "2021-11-07T11:43:00.801Z"
   },
   {
    "duration": 7,
    "start_time": "2021-11-07T11:43:04.642Z"
   },
   {
    "duration": 8,
    "start_time": "2021-11-07T11:43:22.417Z"
   },
   {
    "duration": 13,
    "start_time": "2021-11-07T11:43:27.591Z"
   },
   {
    "duration": 18,
    "start_time": "2021-11-07T11:43:35.059Z"
   },
   {
    "duration": 11,
    "start_time": "2021-11-07T11:48:12.464Z"
   },
   {
    "duration": 10,
    "start_time": "2021-11-07T11:48:15.504Z"
   },
   {
    "duration": 9,
    "start_time": "2021-11-07T11:48:15.916Z"
   },
   {
    "duration": 415,
    "start_time": "2021-11-07T11:57:42.280Z"
   },
   {
    "duration": 420,
    "start_time": "2021-11-07T11:57:50.201Z"
   },
   {
    "duration": 6,
    "start_time": "2021-11-07T11:58:28.592Z"
   },
   {
    "duration": 229,
    "start_time": "2021-11-07T11:58:28.761Z"
   },
   {
    "duration": 15,
    "start_time": "2021-11-07T11:58:28.993Z"
   },
   {
    "duration": 41,
    "start_time": "2021-11-07T11:58:29.011Z"
   },
   {
    "duration": 6,
    "start_time": "2021-11-07T11:58:29.103Z"
   },
   {
    "duration": 9,
    "start_time": "2021-11-07T11:58:29.199Z"
   },
   {
    "duration": 16,
    "start_time": "2021-11-07T11:58:29.307Z"
   },
   {
    "duration": 18,
    "start_time": "2021-11-07T11:58:29.428Z"
   },
   {
    "duration": 8,
    "start_time": "2021-11-07T11:58:29.576Z"
   },
   {
    "duration": 27,
    "start_time": "2021-11-07T11:58:29.718Z"
   },
   {
    "duration": 15,
    "start_time": "2021-11-07T11:58:29.912Z"
   },
   {
    "duration": 13,
    "start_time": "2021-11-07T11:58:30.050Z"
   },
   {
    "duration": 16,
    "start_time": "2021-11-07T11:58:30.516Z"
   },
   {
    "duration": 478,
    "start_time": "2021-11-07T11:58:31.290Z"
   },
   {
    "duration": 437,
    "start_time": "2021-11-07T11:58:33.423Z"
   },
   {
    "duration": 431,
    "start_time": "2021-11-07T11:58:35.364Z"
   },
   {
    "duration": 177,
    "start_time": "2021-11-07T12:23:26.156Z"
   },
   {
    "duration": 5,
    "start_time": "2021-11-07T12:24:00.963Z"
   },
   {
    "duration": 234,
    "start_time": "2021-11-07T12:24:02.037Z"
   },
   {
    "duration": 17,
    "start_time": "2021-11-07T12:24:02.494Z"
   },
   {
    "duration": 38,
    "start_time": "2021-11-07T12:24:02.762Z"
   },
   {
    "duration": 6,
    "start_time": "2021-11-07T12:24:03.069Z"
   },
   {
    "duration": 8,
    "start_time": "2021-11-07T12:24:03.506Z"
   },
   {
    "duration": 17,
    "start_time": "2021-11-07T12:24:03.857Z"
   },
   {
    "duration": 17,
    "start_time": "2021-11-07T12:24:04.096Z"
   },
   {
    "duration": 8,
    "start_time": "2021-11-07T12:24:04.465Z"
   },
   {
    "duration": 27,
    "start_time": "2021-11-07T12:24:04.932Z"
   },
   {
    "duration": 15,
    "start_time": "2021-11-07T12:24:06.504Z"
   },
   {
    "duration": 16,
    "start_time": "2021-11-07T12:24:07.183Z"
   },
   {
    "duration": 8,
    "start_time": "2021-11-07T12:26:38.311Z"
   },
   {
    "duration": 145,
    "start_time": "2021-11-07T12:26:38.647Z"
   },
   {
    "duration": 16,
    "start_time": "2021-11-07T12:26:39.648Z"
   },
   {
    "duration": 13,
    "start_time": "2021-11-07T12:26:40.142Z"
   },
   {
    "duration": 12,
    "start_time": "2021-11-07T12:26:40.810Z"
   },
   {
    "duration": 440,
    "start_time": "2021-11-07T12:26:41.300Z"
   },
   {
    "duration": 362,
    "start_time": "2021-11-07T12:26:52.546Z"
   },
   {
    "duration": 377,
    "start_time": "2021-11-07T12:26:53.957Z"
   },
   {
    "duration": 6,
    "start_time": "2021-11-07T12:26:54.656Z"
   },
   {
    "duration": 30,
    "start_time": "2021-11-07T12:26:55.269Z"
   },
   {
    "duration": 23,
    "start_time": "2021-11-07T12:26:56.382Z"
   },
   {
    "duration": 24,
    "start_time": "2021-11-07T12:26:56.780Z"
   },
   {
    "duration": 8,
    "start_time": "2021-11-07T12:26:58.377Z"
   },
   {
    "duration": 8,
    "start_time": "2021-11-07T12:27:02.475Z"
   },
   {
    "duration": 167,
    "start_time": "2021-11-07T12:27:04.123Z"
   },
   {
    "duration": 444,
    "start_time": "2021-11-07T12:50:56.759Z"
   },
   {
    "duration": 223,
    "start_time": "2021-11-07T12:51:06.702Z"
   },
   {
    "duration": 313,
    "start_time": "2021-11-07T12:52:40.428Z"
   },
   {
    "duration": 463,
    "start_time": "2021-11-07T12:52:56.624Z"
   },
   {
    "duration": 105,
    "start_time": "2021-11-07T12:53:10.262Z"
   },
   {
    "duration": 292,
    "start_time": "2021-11-07T12:53:13.534Z"
   },
   {
    "duration": 115,
    "start_time": "2021-11-08T18:17:24.517Z"
   },
   {
    "duration": 109,
    "start_time": "2021-11-08T18:18:14.038Z"
   },
   {
    "duration": 393,
    "start_time": "2021-11-08T18:20:21.837Z"
   },
   {
    "duration": 1870,
    "start_time": "2021-11-08T18:20:27.638Z"
   },
   {
    "duration": 233,
    "start_time": "2021-11-08T18:20:29.510Z"
   },
   {
    "duration": 10,
    "start_time": "2021-11-08T18:20:29.746Z"
   },
   {
    "duration": 25,
    "start_time": "2021-11-08T18:20:29.758Z"
   },
   {
    "duration": 4,
    "start_time": "2021-11-08T18:20:29.785Z"
   },
   {
    "duration": 5,
    "start_time": "2021-11-08T18:20:29.807Z"
   },
   {
    "duration": 15,
    "start_time": "2021-11-08T18:20:29.814Z"
   },
   {
    "duration": 12,
    "start_time": "2021-11-08T18:20:29.832Z"
   },
   {
    "duration": 13,
    "start_time": "2021-11-08T18:20:29.846Z"
   },
   {
    "duration": 18,
    "start_time": "2021-11-08T18:20:29.964Z"
   },
   {
    "duration": 12,
    "start_time": "2021-11-08T18:20:30.177Z"
   },
   {
    "duration": 16,
    "start_time": "2021-11-08T18:20:30.307Z"
   },
   {
    "duration": 9,
    "start_time": "2021-11-08T18:20:30.540Z"
   },
   {
    "duration": 364,
    "start_time": "2021-11-08T18:20:30.679Z"
   },
   {
    "duration": 264,
    "start_time": "2021-11-08T18:20:31.372Z"
   },
   {
    "duration": 245,
    "start_time": "2021-11-08T18:20:31.678Z"
   },
   {
    "duration": 5,
    "start_time": "2021-11-08T18:20:32.075Z"
   },
   {
    "duration": 19,
    "start_time": "2021-11-08T18:20:32.423Z"
   },
   {
    "duration": 16,
    "start_time": "2021-11-08T18:20:32.804Z"
   },
   {
    "duration": 15,
    "start_time": "2021-11-08T18:20:33.075Z"
   },
   {
    "duration": 6,
    "start_time": "2021-11-08T18:20:33.761Z"
   },
   {
    "duration": 6,
    "start_time": "2021-11-08T18:20:34.634Z"
   },
   {
    "duration": 111,
    "start_time": "2021-11-08T18:20:35.564Z"
   },
   {
    "duration": 19,
    "start_time": "2021-11-08T18:20:35.859Z"
   },
   {
    "duration": 14,
    "start_time": "2021-11-08T18:20:36.174Z"
   },
   {
    "duration": 10,
    "start_time": "2021-11-08T18:20:37.201Z"
   },
   {
    "duration": 5,
    "start_time": "2021-11-08T18:20:37.540Z"
   },
   {
    "duration": 123,
    "start_time": "2021-11-08T18:20:39.219Z"
   },
   {
    "duration": 14,
    "start_time": "2021-11-08T18:23:11.096Z"
   },
   {
    "duration": 36,
    "start_time": "2021-11-08T18:25:13.883Z"
   },
   {
    "duration": 37,
    "start_time": "2021-11-08T18:25:43.787Z"
   },
   {
    "duration": 121,
    "start_time": "2021-11-08T18:51:10.010Z"
   },
   {
    "duration": 121,
    "start_time": "2021-11-08T18:51:23.154Z"
   },
   {
    "duration": 123,
    "start_time": "2021-11-08T18:51:37.064Z"
   },
   {
    "duration": 8996,
    "start_time": "2021-11-08T18:52:00.036Z"
   },
   {
    "duration": 137590,
    "start_time": "2021-11-08T18:50:27.908Z"
   },
   {
    "duration": 8627,
    "start_time": "2021-11-08T18:52:58.059Z"
   },
   {
    "duration": 10210,
    "start_time": "2021-11-08T18:53:15.163Z"
   },
   {
    "duration": 5,
    "start_time": "2021-11-08T18:53:32.639Z"
   },
   {
    "duration": 10,
    "start_time": "2021-11-08T18:53:44.818Z"
   },
   {
    "duration": 3,
    "start_time": "2021-11-08T18:54:02.117Z"
   },
   {
    "duration": 205,
    "start_time": "2021-11-08T18:54:02.481Z"
   },
   {
    "duration": 9,
    "start_time": "2021-11-08T18:54:02.792Z"
   },
   {
    "duration": 26,
    "start_time": "2021-11-08T18:54:02.931Z"
   },
   {
    "duration": 4,
    "start_time": "2021-11-08T18:54:03.068Z"
   },
   {
    "duration": 6,
    "start_time": "2021-11-08T18:54:03.173Z"
   },
   {
    "duration": 11,
    "start_time": "2021-11-08T18:54:03.290Z"
   },
   {
    "duration": 13,
    "start_time": "2021-11-08T18:54:03.639Z"
   },
   {
    "duration": 5,
    "start_time": "2021-11-08T18:54:03.875Z"
   },
   {
    "duration": 19,
    "start_time": "2021-11-08T18:54:04.017Z"
   },
   {
    "duration": 12,
    "start_time": "2021-11-08T18:54:04.296Z"
   },
   {
    "duration": 9,
    "start_time": "2021-11-08T18:54:04.426Z"
   },
   {
    "duration": 9,
    "start_time": "2021-11-08T18:54:04.551Z"
   },
   {
    "duration": 386,
    "start_time": "2021-11-08T18:54:04.668Z"
   },
   {
    "duration": 257,
    "start_time": "2021-11-08T18:54:05.221Z"
   },
   {
    "duration": 259,
    "start_time": "2021-11-08T18:54:05.488Z"
   },
   {
    "duration": 5,
    "start_time": "2021-11-08T18:54:05.773Z"
   },
   {
    "duration": 25,
    "start_time": "2021-11-08T18:54:06.050Z"
   },
   {
    "duration": 15,
    "start_time": "2021-11-08T18:54:06.307Z"
   },
   {
    "duration": 16,
    "start_time": "2021-11-08T18:54:06.426Z"
   },
   {
    "duration": 6,
    "start_time": "2021-11-08T18:54:07.146Z"
   },
   {
    "duration": 6,
    "start_time": "2021-11-08T18:54:07.447Z"
   },
   {
    "duration": 116,
    "start_time": "2021-11-08T18:54:08.104Z"
   },
   {
    "duration": 18,
    "start_time": "2021-11-08T18:54:08.243Z"
   },
   {
    "duration": 13,
    "start_time": "2021-11-08T18:54:08.390Z"
   },
   {
    "duration": 7,
    "start_time": "2021-11-08T18:54:08.634Z"
   },
   {
    "duration": 6,
    "start_time": "2021-11-08T18:54:08.887Z"
   },
   {
    "duration": 23,
    "start_time": "2021-11-08T18:54:09.537Z"
   },
   {
    "duration": 130,
    "start_time": "2021-11-08T18:54:09.687Z"
   },
   {
    "duration": 14,
    "start_time": "2021-11-08T18:54:09.846Z"
   },
   {
    "duration": 1410,
    "start_time": "2021-11-08T18:54:09.995Z"
   },
   {
    "duration": 123,
    "start_time": "2021-11-08T18:54:31.753Z"
   },
   {
    "duration": 12,
    "start_time": "2021-11-08T18:54:32.541Z"
   },
   {
    "duration": 1463,
    "start_time": "2021-11-08T18:54:45.560Z"
   },
   {
    "duration": 8860,
    "start_time": "2021-11-08T18:56:36.164Z"
   },
   {
    "duration": 5,
    "start_time": "2021-11-08T18:56:52.844Z"
   },
   {
    "duration": 11030,
    "start_time": "2021-11-08T18:57:07.827Z"
   },
   {
    "duration": 9855,
    "start_time": "2021-11-08T18:57:26.191Z"
   },
   {
    "duration": 123,
    "start_time": "2021-11-08T18:57:39.509Z"
   },
   {
    "duration": 13,
    "start_time": "2021-11-08T18:57:40.103Z"
   },
   {
    "duration": 756,
    "start_time": "2021-11-08T18:57:40.693Z"
   },
   {
    "duration": 437,
    "start_time": "2021-11-08T19:13:18.636Z"
   },
   {
    "duration": 8,
    "start_time": "2021-11-08T19:13:27.139Z"
   },
   {
    "duration": 16,
    "start_time": "2021-11-08T19:13:48.393Z"
   },
   {
    "duration": 14,
    "start_time": "2021-11-08T19:24:22.242Z"
   },
   {
    "duration": 652,
    "start_time": "2021-11-08T19:29:31.135Z"
   },
   {
    "duration": 18,
    "start_time": "2021-11-08T19:29:43.705Z"
   },
   {
    "duration": 17,
    "start_time": "2021-11-08T19:30:12.827Z"
   },
   {
    "duration": 860,
    "start_time": "2021-11-08T19:30:21.498Z"
   },
   {
    "duration": 1060,
    "start_time": "2021-11-08T19:33:02.373Z"
   },
   {
    "duration": 655,
    "start_time": "2021-11-08T19:33:16.501Z"
   },
   {
    "duration": 27,
    "start_time": "2021-11-08T19:33:45.085Z"
   },
   {
    "duration": 1061,
    "start_time": "2021-11-08T19:33:50.326Z"
   },
   {
    "duration": 761,
    "start_time": "2021-11-08T19:38:31.218Z"
   },
   {
    "duration": 640,
    "start_time": "2021-11-08T19:40:52.503Z"
   },
   {
    "duration": 22,
    "start_time": "2021-11-08T19:41:10.446Z"
   },
   {
    "duration": 632,
    "start_time": "2021-11-08T19:41:25.014Z"
   },
   {
    "duration": 637,
    "start_time": "2021-11-08T19:44:34.031Z"
   },
   {
    "duration": 668,
    "start_time": "2021-11-08T19:45:08.829Z"
   },
   {
    "duration": 22,
    "start_time": "2021-11-08T19:47:35.189Z"
   },
   {
    "duration": 25,
    "start_time": "2021-11-08T19:47:44.408Z"
   },
   {
    "duration": 10,
    "start_time": "2021-11-08T19:47:45.101Z"
   },
   {
    "duration": 9,
    "start_time": "2021-11-08T19:47:45.593Z"
   },
   {
    "duration": 373,
    "start_time": "2021-11-08T19:47:46.198Z"
   },
   {
    "duration": 4,
    "start_time": "2021-11-08T19:49:49.568Z"
   },
   {
    "duration": 213,
    "start_time": "2021-11-08T19:49:50.013Z"
   },
   {
    "duration": 9,
    "start_time": "2021-11-08T19:49:50.244Z"
   },
   {
    "duration": 26,
    "start_time": "2021-11-08T19:49:50.585Z"
   },
   {
    "duration": 5,
    "start_time": "2021-11-08T19:49:50.759Z"
   },
   {
    "duration": 6,
    "start_time": "2021-11-08T19:49:50.940Z"
   },
   {
    "duration": 11,
    "start_time": "2021-11-08T19:49:51.099Z"
   },
   {
    "duration": 14,
    "start_time": "2021-11-08T19:49:51.635Z"
   },
   {
    "duration": 6,
    "start_time": "2021-11-08T19:49:52.062Z"
   },
   {
    "duration": 21,
    "start_time": "2021-11-08T19:49:52.722Z"
   },
   {
    "duration": 11,
    "start_time": "2021-11-08T19:49:53.406Z"
   },
   {
    "duration": 10,
    "start_time": "2021-11-08T19:49:53.594Z"
   },
   {
    "duration": 9,
    "start_time": "2021-11-08T19:49:53.823Z"
   },
   {
    "duration": 316,
    "start_time": "2021-11-08T19:49:54.042Z"
   },
   {
    "duration": 20,
    "start_time": "2021-11-08T19:49:55.743Z"
   },
   {
    "duration": 38,
    "start_time": "2021-11-08T19:49:56.073Z"
   },
   {
    "duration": 775,
    "start_time": "2021-11-08T19:49:56.427Z"
   },
   {
    "duration": 385,
    "start_time": "2021-11-08T19:50:23.378Z"
   },
   {
    "duration": 362,
    "start_time": "2021-11-08T19:50:49.481Z"
   },
   {
    "duration": 3,
    "start_time": "2021-11-08T19:51:03.101Z"
   },
   {
    "duration": 551,
    "start_time": "2021-11-08T19:51:03.256Z"
   },
   {
    "duration": 9,
    "start_time": "2021-11-08T19:51:03.809Z"
   },
   {
    "duration": 26,
    "start_time": "2021-11-08T19:51:03.821Z"
   },
   {
    "duration": 4,
    "start_time": "2021-11-08T19:51:03.849Z"
   },
   {
    "duration": 10,
    "start_time": "2021-11-08T19:51:03.855Z"
   },
   {
    "duration": 11,
    "start_time": "2021-11-08T19:51:03.987Z"
   },
   {
    "duration": 14,
    "start_time": "2021-11-08T19:51:04.956Z"
   },
   {
    "duration": 6,
    "start_time": "2021-11-08T19:51:05.979Z"
   },
   {
    "duration": 22,
    "start_time": "2021-11-08T19:51:07.047Z"
   },
   {
    "duration": 11,
    "start_time": "2021-11-08T19:51:08.398Z"
   },
   {
    "duration": 10,
    "start_time": "2021-11-08T19:51:08.982Z"
   },
   {
    "duration": 9,
    "start_time": "2021-11-08T19:51:09.325Z"
   },
   {
    "duration": 369,
    "start_time": "2021-11-08T19:51:09.694Z"
   },
   {
    "duration": 19,
    "start_time": "2021-11-08T19:51:10.790Z"
   },
   {
    "duration": 21,
    "start_time": "2021-11-08T19:51:11.876Z"
   },
   {
    "duration": 964,
    "start_time": "2021-11-08T19:51:15.127Z"
   },
   {
    "duration": 850,
    "start_time": "2021-11-08T19:54:31.521Z"
   },
   {
    "duration": 682,
    "start_time": "2021-11-08T19:54:48.442Z"
   },
   {
    "duration": 689,
    "start_time": "2021-11-08T20:03:17.868Z"
   },
   {
    "duration": 922,
    "start_time": "2021-11-08T20:04:13.480Z"
   },
   {
    "duration": 654,
    "start_time": "2021-11-08T20:05:18.511Z"
   },
   {
    "duration": 446,
    "start_time": "2021-11-08T20:05:21.794Z"
   },
   {
    "duration": 588,
    "start_time": "2021-11-08T20:06:41.278Z"
   },
   {
    "duration": 863,
    "start_time": "2021-11-08T20:07:29.502Z"
   },
   {
    "duration": 912,
    "start_time": "2021-11-08T20:08:27.174Z"
   },
   {
    "duration": 3404,
    "start_time": "2021-11-08T20:09:11.945Z"
   },
   {
    "duration": 9739,
    "start_time": "2021-11-08T20:15:11.354Z"
   },
   {
    "duration": 137633,
    "start_time": "2021-11-08T20:13:03.463Z"
   },
   {
    "duration": 137632,
    "start_time": "2021-11-08T20:13:03.466Z"
   },
   {
    "duration": 137629,
    "start_time": "2021-11-08T20:13:03.470Z"
   },
   {
    "duration": 137597,
    "start_time": "2021-11-08T20:13:03.504Z"
   },
   {
    "duration": 137595,
    "start_time": "2021-11-08T20:13:03.507Z"
   },
   {
    "duration": 8,
    "start_time": "2021-11-08T20:15:21.181Z"
   },
   {
    "duration": 14,
    "start_time": "2021-11-08T20:15:21.295Z"
   },
   {
    "duration": 9,
    "start_time": "2021-11-08T20:15:21.621Z"
   },
   {
    "duration": 6,
    "start_time": "2021-11-08T20:15:21.864Z"
   },
   {
    "duration": 20,
    "start_time": "2021-11-08T20:15:21.984Z"
   },
   {
    "duration": 13,
    "start_time": "2021-11-08T20:15:22.216Z"
   },
   {
    "duration": 9,
    "start_time": "2021-11-08T20:15:22.340Z"
   },
   {
    "duration": 9,
    "start_time": "2021-11-08T20:15:22.464Z"
   },
   {
    "duration": 352,
    "start_time": "2021-11-08T20:15:22.583Z"
   },
   {
    "duration": 654,
    "start_time": "2021-11-08T20:15:22.937Z"
   },
   {
    "duration": 894,
    "start_time": "2021-11-08T20:15:23.593Z"
   },
   {
    "duration": 556,
    "start_time": "2021-11-08T20:15:24.490Z"
   },
   {
    "duration": 4388,
    "start_time": "2021-11-08T20:15:25.048Z"
   },
   {
    "duration": 401,
    "start_time": "2021-11-08T20:15:29.439Z"
   },
   {
    "duration": 279,
    "start_time": "2021-11-08T20:15:29.843Z"
   },
   {
    "duration": 5,
    "start_time": "2021-11-08T20:15:30.125Z"
   },
   {
    "duration": 38,
    "start_time": "2021-11-08T20:15:30.132Z"
   },
   {
    "duration": 33,
    "start_time": "2021-11-08T20:15:30.174Z"
   },
   {
    "duration": 25,
    "start_time": "2021-11-08T20:15:30.210Z"
   },
   {
    "duration": 17,
    "start_time": "2021-11-08T20:15:30.238Z"
   },
   {
    "duration": 17,
    "start_time": "2021-11-08T20:15:30.257Z"
   },
   {
    "duration": 122,
    "start_time": "2021-11-08T20:15:30.276Z"
   },
   {
    "duration": 31,
    "start_time": "2021-11-08T20:15:30.401Z"
   },
   {
    "duration": 19,
    "start_time": "2021-11-08T20:15:30.434Z"
   },
   {
    "duration": 21,
    "start_time": "2021-11-08T20:15:30.456Z"
   },
   {
    "duration": 27,
    "start_time": "2021-11-08T20:15:30.481Z"
   },
   {
    "duration": 69,
    "start_time": "2021-11-08T20:15:30.511Z"
   },
   {
    "duration": 196,
    "start_time": "2021-11-08T20:15:30.582Z"
   },
   {
    "duration": 25,
    "start_time": "2021-11-08T20:15:30.781Z"
   },
   {
    "duration": 376,
    "start_time": "2021-11-08T20:22:05.946Z"
   },
   {
    "duration": 1123,
    "start_time": "2021-11-08T20:22:20.543Z"
   },
   {
    "duration": 541,
    "start_time": "2021-11-08T20:23:57.782Z"
   },
   {
    "duration": 470,
    "start_time": "2021-11-08T20:24:26.140Z"
   },
   {
    "duration": 4,
    "start_time": "2021-11-08T20:25:21.409Z"
   },
   {
    "duration": 171,
    "start_time": "2021-11-08T20:25:21.571Z"
   },
   {
    "duration": 9,
    "start_time": "2021-11-08T20:25:21.744Z"
   },
   {
    "duration": 26,
    "start_time": "2021-11-08T20:25:21.799Z"
   },
   {
    "duration": 5,
    "start_time": "2021-11-08T20:25:21.917Z"
   },
   {
    "duration": 6,
    "start_time": "2021-11-08T20:25:22.010Z"
   },
   {
    "duration": 11,
    "start_time": "2021-11-08T20:25:22.114Z"
   },
   {
    "duration": 13,
    "start_time": "2021-11-08T20:25:22.926Z"
   },
   {
    "duration": 6,
    "start_time": "2021-11-08T20:25:23.249Z"
   },
   {
    "duration": 20,
    "start_time": "2021-11-08T20:25:23.694Z"
   },
   {
    "duration": 31,
    "start_time": "2021-11-08T20:25:32.958Z"
   },
   {
    "duration": 132,
    "start_time": "2021-11-08T20:25:38.795Z"
   },
   {
    "duration": 15,
    "start_time": "2021-11-08T20:25:39.299Z"
   },
   {
    "duration": 311,
    "start_time": "2021-11-08T20:25:39.742Z"
   },
   {
    "duration": 4,
    "start_time": "2021-11-08T20:26:05.516Z"
   },
   {
    "duration": 217,
    "start_time": "2021-11-08T20:26:05.684Z"
   },
   {
    "duration": 11,
    "start_time": "2021-11-08T20:26:05.903Z"
   },
   {
    "duration": 26,
    "start_time": "2021-11-08T20:26:05.924Z"
   },
   {
    "duration": 5,
    "start_time": "2021-11-08T20:26:06.428Z"
   },
   {
    "duration": 6,
    "start_time": "2021-11-08T20:26:08.657Z"
   },
   {
    "duration": 13,
    "start_time": "2021-11-08T20:26:09.146Z"
   },
   {
    "duration": 13,
    "start_time": "2021-11-08T20:26:16.438Z"
   },
   {
    "duration": 13,
    "start_time": "2021-11-08T20:26:16.454Z"
   },
   {
    "duration": 19,
    "start_time": "2021-11-08T20:26:16.578Z"
   },
   {
    "duration": 131,
    "start_time": "2021-11-08T20:26:25.476Z"
   },
   {
    "duration": 14,
    "start_time": "2021-11-08T20:26:25.791Z"
   },
   {
    "duration": 495,
    "start_time": "2021-11-08T20:26:26.162Z"
   },
   {
    "duration": 265,
    "start_time": "2021-11-08T20:27:57.205Z"
   },
   {
    "duration": 351,
    "start_time": "2021-11-08T20:29:49.066Z"
   },
   {
    "duration": 404,
    "start_time": "2021-11-08T20:30:25.077Z"
   },
   {
    "duration": 361,
    "start_time": "2021-11-08T20:31:51.254Z"
   },
   {
    "duration": 361,
    "start_time": "2021-11-08T20:31:59.156Z"
   },
   {
    "duration": 288,
    "start_time": "2021-11-08T20:32:28.493Z"
   },
   {
    "duration": 129,
    "start_time": "2021-11-08T20:37:40.058Z"
   },
   {
    "duration": 125,
    "start_time": "2021-11-08T20:38:09.177Z"
   },
   {
    "duration": 14,
    "start_time": "2021-11-08T20:38:31.446Z"
   },
   {
    "duration": 473,
    "start_time": "2021-11-08T20:38:36.814Z"
   },
   {
    "duration": 646,
    "start_time": "2021-11-08T20:52:53.287Z"
   },
   {
    "duration": 732,
    "start_time": "2021-11-08T20:55:55.581Z"
   },
   {
    "duration": 713,
    "start_time": "2021-11-08T20:56:27.497Z"
   },
   {
    "duration": 1062,
    "start_time": "2021-11-08T20:57:32.029Z"
   },
   {
    "duration": 4,
    "start_time": "2021-11-08T20:57:59.028Z"
   },
   {
    "duration": 843,
    "start_time": "2021-11-08T20:58:04.647Z"
   },
   {
    "duration": 841,
    "start_time": "2021-11-08T20:58:46.217Z"
   },
   {
    "duration": 874,
    "start_time": "2021-11-08T20:59:24.827Z"
   },
   {
    "duration": 1248,
    "start_time": "2021-11-08T21:02:49.688Z"
   },
   {
    "duration": 10,
    "start_time": "2021-11-08T21:03:13.506Z"
   },
   {
    "duration": 1187,
    "start_time": "2021-11-08T21:03:39.399Z"
   },
   {
    "duration": 937,
    "start_time": "2021-11-08T21:04:08.247Z"
   },
   {
    "duration": 10,
    "start_time": "2021-11-08T21:04:41.938Z"
   },
   {
    "duration": 692,
    "start_time": "2021-11-08T21:05:00.539Z"
   },
   {
    "duration": 819,
    "start_time": "2021-11-08T21:05:36.514Z"
   },
   {
    "duration": 1217,
    "start_time": "2021-11-08T21:05:47.449Z"
   },
   {
    "duration": 10,
    "start_time": "2021-11-08T21:06:01.517Z"
   },
   {
    "duration": 920,
    "start_time": "2021-11-08T21:06:17.801Z"
   },
   {
    "duration": 1222,
    "start_time": "2021-11-08T21:06:34.777Z"
   },
   {
    "duration": 1167,
    "start_time": "2021-11-08T21:06:56.266Z"
   },
   {
    "duration": 902,
    "start_time": "2021-11-08T21:07:52.994Z"
   },
   {
    "duration": 849,
    "start_time": "2021-11-08T21:08:42.886Z"
   },
   {
    "duration": 1219,
    "start_time": "2021-11-08T21:09:03.324Z"
   },
   {
    "duration": 289,
    "start_time": "2021-11-08T21:10:50.785Z"
   },
   {
    "duration": 9292,
    "start_time": "2021-11-08T21:12:45.056Z"
   },
   {
    "duration": 137612,
    "start_time": "2021-11-08T21:10:36.738Z"
   },
   {
    "duration": 125,
    "start_time": "2021-11-08T21:13:01.471Z"
   },
   {
    "duration": 17,
    "start_time": "2021-11-08T21:13:01.953Z"
   },
   {
    "duration": 293,
    "start_time": "2021-11-08T21:13:02.600Z"
   },
   {
    "duration": 126,
    "start_time": "2021-11-08T21:13:50.794Z"
   },
   {
    "duration": 123,
    "start_time": "2021-11-08T21:14:17.577Z"
   },
   {
    "duration": 540,
    "start_time": "2021-11-08T21:14:18.185Z"
   },
   {
    "duration": 275,
    "start_time": "2021-11-08T21:14:31.745Z"
   },
   {
    "duration": 561,
    "start_time": "2021-11-08T21:16:56.019Z"
   },
   {
    "duration": 10155,
    "start_time": "2021-11-08T21:23:16.583Z"
   },
   {
    "duration": 137631,
    "start_time": "2021-11-08T21:21:39.043Z"
   },
   {
    "duration": 609,
    "start_time": "2021-11-08T21:24:00.755Z"
   },
   {
    "duration": 411,
    "start_time": "2021-11-08T21:25:02.646Z"
   },
   {
    "duration": 405,
    "start_time": "2021-11-08T21:26:37.180Z"
   },
   {
    "duration": 681,
    "start_time": "2021-11-08T21:28:05.760Z"
   },
   {
    "duration": 1053,
    "start_time": "2021-11-08T21:32:53.514Z"
   },
   {
    "duration": 5,
    "start_time": "2021-11-08T21:33:13.984Z"
   },
   {
    "duration": 1424,
    "start_time": "2021-11-08T21:33:18.742Z"
   },
   {
    "duration": 7,
    "start_time": "2021-11-08T21:45:27.188Z"
   },
   {
    "duration": 4,
    "start_time": "2021-11-08T21:47:39.568Z"
   },
   {
    "duration": 219,
    "start_time": "2021-11-08T21:47:41.307Z"
   },
   {
    "duration": 162,
    "start_time": "2021-11-08T21:47:48.185Z"
   },
   {
    "duration": 169,
    "start_time": "2021-11-08T21:47:56.416Z"
   },
   {
    "duration": 4,
    "start_time": "2021-11-08T21:58:38.293Z"
   },
   {
    "duration": 181,
    "start_time": "2021-11-08T21:58:38.458Z"
   },
   {
    "duration": 9,
    "start_time": "2021-11-08T21:58:38.643Z"
   },
   {
    "duration": 26,
    "start_time": "2021-11-08T21:58:38.741Z"
   },
   {
    "duration": 4,
    "start_time": "2021-11-08T21:58:38.998Z"
   },
   {
    "duration": 5,
    "start_time": "2021-11-08T21:58:39.189Z"
   },
   {
    "duration": 11,
    "start_time": "2021-11-08T21:58:39.332Z"
   },
   {
    "duration": 3,
    "start_time": "2021-11-08T21:58:58.174Z"
   },
   {
    "duration": 134,
    "start_time": "2021-11-08T21:58:58.501Z"
   },
   {
    "duration": 10,
    "start_time": "2021-11-08T21:58:58.657Z"
   },
   {
    "duration": 26,
    "start_time": "2021-11-08T21:58:58.821Z"
   },
   {
    "duration": 5,
    "start_time": "2021-11-08T21:58:58.922Z"
   },
   {
    "duration": 6,
    "start_time": "2021-11-08T21:58:59.042Z"
   },
   {
    "duration": 12,
    "start_time": "2021-11-08T21:58:59.130Z"
   },
   {
    "duration": 13,
    "start_time": "2021-11-08T21:58:59.796Z"
   },
   {
    "duration": 6,
    "start_time": "2021-11-08T21:59:00.118Z"
   },
   {
    "duration": 19,
    "start_time": "2021-11-08T21:59:00.265Z"
   },
   {
    "duration": 7,
    "start_time": "2021-11-08T21:59:00.796Z"
   },
   {
    "duration": 12,
    "start_time": "2021-11-08T21:59:00.938Z"
   },
   {
    "duration": 9,
    "start_time": "2021-11-08T21:59:01.097Z"
   },
   {
    "duration": 342,
    "start_time": "2021-11-08T21:59:01.249Z"
   },
   {
    "duration": 231,
    "start_time": "2021-11-08T21:59:01.980Z"
   },
   {
    "duration": 235,
    "start_time": "2021-11-08T21:59:02.371Z"
   },
   {
    "duration": 5,
    "start_time": "2021-11-08T21:59:02.858Z"
   },
   {
    "duration": 20,
    "start_time": "2021-11-08T21:59:03.386Z"
   },
   {
    "duration": 16,
    "start_time": "2021-11-08T21:59:03.776Z"
   },
   {
    "duration": 16,
    "start_time": "2021-11-08T21:59:03.954Z"
   },
   {
    "duration": 6,
    "start_time": "2021-11-08T21:59:04.307Z"
   },
   {
    "duration": 6,
    "start_time": "2021-11-08T21:59:05.046Z"
   },
   {
    "duration": 112,
    "start_time": "2021-11-08T21:59:05.802Z"
   },
   {
    "duration": 19,
    "start_time": "2021-11-08T21:59:06.344Z"
   },
   {
    "duration": 14,
    "start_time": "2021-11-08T21:59:07.013Z"
   },
   {
    "duration": 8,
    "start_time": "2021-11-08T21:59:08.000Z"
   },
   {
    "duration": 6,
    "start_time": "2021-11-08T21:59:08.395Z"
   },
   {
    "duration": 6,
    "start_time": "2021-11-08T21:59:09.484Z"
   },
   {
    "duration": 1413,
    "start_time": "2021-11-08T21:59:10.106Z"
   },
   {
    "duration": 5,
    "start_time": "2021-11-08T21:59:59.424Z"
   },
   {
    "duration": 1433,
    "start_time": "2021-11-08T22:00:03.518Z"
   },
   {
    "duration": 1675,
    "start_time": "2021-11-08T22:00:23.083Z"
   },
   {
    "duration": 275,
    "start_time": "2021-11-08T22:05:36.119Z"
   },
   {
    "duration": 222,
    "start_time": "2021-11-08T22:06:01.787Z"
   },
   {
    "duration": 229,
    "start_time": "2021-11-08T22:08:43.610Z"
   },
   {
    "duration": 372,
    "start_time": "2021-11-08T22:12:56.761Z"
   },
   {
    "duration": 22,
    "start_time": "2021-11-08T22:26:46.457Z"
   },
   {
    "duration": 13,
    "start_time": "2021-11-08T22:26:47.495Z"
   },
   {
    "duration": 8,
    "start_time": "2021-11-08T22:26:47.862Z"
   },
   {
    "duration": 355,
    "start_time": "2021-11-08T22:26:48.156Z"
   },
   {
    "duration": 368,
    "start_time": "2021-11-08T22:26:49.779Z"
   },
   {
    "duration": 2548,
    "start_time": "2021-11-08T22:27:10.758Z"
   },
   {
    "duration": 143,
    "start_time": "2021-11-08T22:27:17.884Z"
   },
   {
    "duration": 20,
    "start_time": "2021-11-08T22:27:21.479Z"
   },
   {
    "duration": 15,
    "start_time": "2021-11-08T22:27:31.439Z"
   },
   {
    "duration": 12,
    "start_time": "2021-11-08T22:27:35.482Z"
   },
   {
    "duration": 9,
    "start_time": "2021-11-08T22:27:35.962Z"
   },
   {
    "duration": 374,
    "start_time": "2021-11-08T22:27:36.171Z"
   },
   {
    "duration": 360,
    "start_time": "2021-11-08T22:27:37.491Z"
   },
   {
    "duration": 17,
    "start_time": "2021-11-08T22:28:02.465Z"
   },
   {
    "duration": 12,
    "start_time": "2021-11-08T22:28:03.536Z"
   },
   {
    "duration": 8,
    "start_time": "2021-11-08T22:28:03.922Z"
   },
   {
    "duration": 308,
    "start_time": "2021-11-08T22:28:04.044Z"
   },
   {
    "duration": 326,
    "start_time": "2021-11-08T22:28:04.958Z"
   },
   {
    "duration": 17,
    "start_time": "2021-11-08T22:28:07.378Z"
   },
   {
    "duration": 16,
    "start_time": "2021-11-08T22:28:07.590Z"
   },
   {
    "duration": 8,
    "start_time": "2021-11-08T22:28:07.932Z"
   },
   {
    "duration": 6,
    "start_time": "2021-11-08T22:28:08.480Z"
   },
   {
    "duration": 111,
    "start_time": "2021-11-08T22:28:09.019Z"
   },
   {
    "duration": 18,
    "start_time": "2021-11-08T22:28:09.479Z"
   },
   {
    "duration": 14,
    "start_time": "2021-11-08T22:28:09.969Z"
   },
   {
    "duration": 9,
    "start_time": "2021-11-08T22:28:10.613Z"
   },
   {
    "duration": 7,
    "start_time": "2021-11-08T22:28:11.110Z"
   },
   {
    "duration": 5,
    "start_time": "2021-11-08T22:28:47.720Z"
   },
   {
    "duration": 1401,
    "start_time": "2021-11-08T22:28:48.823Z"
   },
   {
    "duration": 7,
    "start_time": "2021-11-08T22:31:49.327Z"
   },
   {
    "duration": 12,
    "start_time": "2021-11-08T22:32:00.056Z"
   },
   {
    "duration": 230,
    "start_time": "2021-11-08T22:32:37.057Z"
   },
   {
    "duration": 227,
    "start_time": "2021-11-08T22:32:43.891Z"
   },
   {
    "duration": 16,
    "start_time": "2021-11-08T22:33:33.820Z"
   },
   {
    "duration": 13,
    "start_time": "2021-11-08T22:33:35.106Z"
   },
   {
    "duration": 9,
    "start_time": "2021-11-08T22:33:35.364Z"
   },
   {
    "duration": 336,
    "start_time": "2021-11-08T22:33:35.636Z"
   },
   {
    "duration": 371,
    "start_time": "2021-11-08T22:33:43.796Z"
   },
   {
    "duration": 151,
    "start_time": "2021-11-08T23:23:14.842Z"
   },
   {
    "duration": 141,
    "start_time": "2021-11-08T23:23:46.055Z"
   },
   {
    "duration": 164,
    "start_time": "2021-11-08T23:23:58.461Z"
   },
   {
    "duration": 128,
    "start_time": "2021-11-08T23:24:06.630Z"
   },
   {
    "duration": 102,
    "start_time": "2021-11-08T23:24:26.322Z"
   },
   {
    "duration": 21,
    "start_time": "2021-11-08T23:24:36.327Z"
   },
   {
    "duration": 4,
    "start_time": "2021-11-08T23:25:26.839Z"
   },
   {
    "duration": 228,
    "start_time": "2021-11-08T23:25:27.464Z"
   },
   {
    "duration": 9,
    "start_time": "2021-11-08T23:25:27.717Z"
   },
   {
    "duration": 24,
    "start_time": "2021-11-08T23:25:27.887Z"
   },
   {
    "duration": 5,
    "start_time": "2021-11-08T23:25:28.188Z"
   },
   {
    "duration": 6,
    "start_time": "2021-11-08T23:25:28.343Z"
   },
   {
    "duration": 11,
    "start_time": "2021-11-08T23:25:28.683Z"
   },
   {
    "duration": 12,
    "start_time": "2021-11-08T23:25:29.431Z"
   },
   {
    "duration": 5,
    "start_time": "2021-11-08T23:25:29.872Z"
   },
   {
    "duration": 18,
    "start_time": "2021-11-08T23:25:30.130Z"
   },
   {
    "duration": 9,
    "start_time": "2021-11-08T23:25:31.175Z"
   },
   {
    "duration": 230,
    "start_time": "2021-11-08T23:25:32.367Z"
   },
   {
    "duration": 225,
    "start_time": "2021-11-08T23:25:32.902Z"
   },
   {
    "duration": 4,
    "start_time": "2021-11-08T23:25:35.151Z"
   },
   {
    "duration": 19,
    "start_time": "2021-11-08T23:25:35.157Z"
   },
   {
    "duration": 13,
    "start_time": "2021-11-08T23:25:36.285Z"
   },
   {
    "duration": 8,
    "start_time": "2021-11-08T23:25:36.597Z"
   },
   {
    "duration": 334,
    "start_time": "2021-11-08T23:25:36.892Z"
   },
   {
    "duration": 364,
    "start_time": "2021-11-08T23:25:37.789Z"
   },
   {
    "duration": 623,
    "start_time": "2021-11-08T23:25:38.965Z"
   },
   {
    "duration": 137545,
    "start_time": "2021-11-08T23:23:22.046Z"
   },
   {
    "duration": 3,
    "start_time": "2021-11-08T23:26:02.369Z"
   },
   {
    "duration": 747,
    "start_time": "2021-11-08T23:26:12.526Z"
   },
   {
    "duration": 3,
    "start_time": "2021-11-08T23:27:35.932Z"
   },
   {
    "duration": 203,
    "start_time": "2021-11-08T23:27:39.659Z"
   },
   {
    "duration": 220,
    "start_time": "2021-11-08T23:27:45.288Z"
   },
   {
    "duration": 3,
    "start_time": "2021-11-08T23:28:43.210Z"
   },
   {
    "duration": 225,
    "start_time": "2021-11-08T23:28:46.034Z"
   },
   {
    "duration": 221,
    "start_time": "2021-11-08T23:29:46.880Z"
   },
   {
    "duration": 217,
    "start_time": "2021-11-08T23:29:58.170Z"
   },
   {
    "duration": 325,
    "start_time": "2021-11-08T23:33:06.614Z"
   },
   {
    "duration": 230,
    "start_time": "2021-11-08T23:35:00.867Z"
   },
   {
    "duration": 322,
    "start_time": "2021-11-08T23:35:03.846Z"
   },
   {
    "duration": 226,
    "start_time": "2021-11-08T23:35:24.321Z"
   },
   {
    "duration": 175,
    "start_time": "2021-11-08T23:36:13.048Z"
   },
   {
    "duration": 349,
    "start_time": "2021-11-08T23:36:15.573Z"
   }
  ],
  "kernelspec": {
   "display_name": "Python 3",
   "language": "python",
   "name": "python3"
  },
  "language_info": {
   "codemirror_mode": {
    "name": "ipython",
    "version": 3
   },
   "file_extension": ".py",
   "mimetype": "text/x-python",
   "name": "python",
   "nbconvert_exporter": "python",
   "pygments_lexer": "ipython3",
   "version": "3.7.8"
  },
  "toc": {
   "base_numbering": 1,
   "nav_menu": {},
   "number_sections": true,
   "sideBar": true,
   "skip_h1_title": true,
   "title_cell": "Table of Contents",
   "title_sidebar": "Contents",
   "toc_cell": false,
   "toc_position": {},
   "toc_section_display": true,
   "toc_window_display": false
  }
 },
 "nbformat": 4,
 "nbformat_minor": 2
}
