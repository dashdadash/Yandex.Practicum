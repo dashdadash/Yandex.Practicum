{
  "nbformat": 4,
  "nbformat_minor": 0,
  "metadata": {
    "colab": {
      "name": "Untitled3.ipynb",
      "provenance": [],
      "authorship_tag": "ABX9TyO8anvgFEnwoXqfAdHthcGh"
    },
    "kernelspec": {
      "name": "python3",
      "display_name": "Python 3"
    },
    "language_info": {
      "name": "python"
    },
    "accelerator": "GPU"
  },
  "cells": [
    {
      "cell_type": "code",
      "metadata": {
        "id": "IQkMZCdW4bHK"
      },
      "source": [
        "import pandas as pd\n",
        "import numpy as np\n",
        "import matplotlib.pyplot as plt\n",
        "import scipy.stats as stats\n",
        "from datetime import datetime\n",
        "from pandas.plotting import register_matplotlib_converters\n",
        "import warnings\n",
        "warnings.filterwarnings('ignore')"
      ],
      "execution_count": 18,
      "outputs": []
    },
    {
      "cell_type": "code",
      "metadata": {
        "id": "85kQlw7P4zkf"
      },
      "source": [
        "payments = pd.read_csv('/content/payments.csv')\n",
        "sessions = pd.read_csv('/content/sessions.csv')"
      ],
      "execution_count": 19,
      "outputs": []
    },
    {
      "cell_type": "code",
      "metadata": {
        "colab": {
          "base_uri": "https://localhost:8080/"
        },
        "id": "diax9tzn469V",
        "outputId": "a34c1fa7-3a58-4def-cc98-52a8ae47193e"
      },
      "source": [
        "payments.info()"
      ],
      "execution_count": 20,
      "outputs": [
        {
          "output_type": "stream",
          "name": "stdout",
          "text": [
            "<class 'pandas.core.frame.DataFrame'>\n",
            "RangeIndex: 4265 entries, 0 to 4264\n",
            "Data columns (total 5 columns):\n",
            " #   Column         Non-Null Count  Dtype  \n",
            "---  ------         --------------  -----  \n",
            " 0   #0 timestamp   4265 non-null   int64  \n",
            " 1   #1 user id     4265 non-null   object \n",
            " 2   #2 Event name  4265 non-null   object \n",
            " 3   #3 is_trial    4265 non-null   bool   \n",
            " 4   price          4265 non-null   float64\n",
            "dtypes: bool(1), float64(1), int64(1), object(2)\n",
            "memory usage: 137.6+ KB\n"
          ]
        }
      ]
    },
    {
      "cell_type": "code",
      "metadata": {
        "colab": {
          "base_uri": "https://localhost:8080/"
        },
        "id": "WGfHGXt54-dq",
        "outputId": "0ce10973-4f06-4c99-837b-ca0c0168d097"
      },
      "source": [
        "sessions.info()"
      ],
      "execution_count": 21,
      "outputs": [
        {
          "output_type": "stream",
          "name": "stdout",
          "text": [
            "<class 'pandas.core.frame.DataFrame'>\n",
            "RangeIndex: 8076 entries, 0 to 8075\n",
            "Data columns (total 4 columns):\n",
            " #   Column         Non-Null Count  Dtype \n",
            "---  ------         --------------  ----- \n",
            " 0   #0 timestamp   8076 non-null   int64 \n",
            " 1   #1 user id     8076 non-null   object\n",
            " 2   #2 Test group  8076 non-null   object\n",
            " 3   #3 Event name  8076 non-null   object\n",
            "dtypes: int64(1), object(3)\n",
            "memory usage: 252.5+ KB\n"
          ]
        }
      ]
    },
    {
      "cell_type": "code",
      "metadata": {
        "id": "wnVIUDK05BOm"
      },
      "source": [
        "def describe(df):\n",
        "    for column in df.columns:\n",
        "        if df[column].dtype == 'object':\n",
        "        \n",
        "            print(column)\n",
        "        \n",
        "            print()\n",
        "        \n",
        "            print(df[column].unique())\n",
        "        \n",
        "            print()\n",
        "    \n",
        "        else:\n",
        "        \n",
        "            print(column)\n",
        "        \n",
        "            print()\n",
        "        \n",
        "            print(df[column].describe())\n",
        "        \n",
        "            print()"
      ],
      "execution_count": 22,
      "outputs": []
    },
    {
      "cell_type": "code",
      "metadata": {
        "colab": {
          "base_uri": "https://localhost:8080/"
        },
        "id": "s50USnYV5D2F",
        "outputId": "ee029174-86ff-4e0e-dfd6-5483e31d17fb"
      },
      "source": [
        "describe(payments)"
      ],
      "execution_count": 23,
      "outputs": [
        {
          "output_type": "stream",
          "name": "stdout",
          "text": [
            "#0 timestamp\n",
            "\n",
            "count    4.265000e+03\n",
            "mean     1.516267e+09\n",
            "std      6.751001e+05\n",
            "min      1.514754e+09\n",
            "25%      1.515871e+09\n",
            "50%      1.516393e+09\n",
            "75%      1.516823e+09\n",
            "max      1.517432e+09\n",
            "Name: #0 timestamp, dtype: float64\n",
            "\n",
            "#1 user id\n",
            "\n",
            "['59c856ca5638e80001b8bad2' '32eb44a1-4c44-49e1-8322-253ef00ac52c'\n",
            " 'acfaee6d-abe2-4c8c-a243-98331eb5a736' ...\n",
            " '0e6ae29b-2056-4d2b-94cf-853bc66d779a'\n",
            " 'b9e6387f-9a66-4951-b569-6f42185d52c0'\n",
            " '80378737-946c-4309-b2ff-bdef513ff815']\n",
            "\n",
            "#2 Event name\n",
            "\n",
            "['payment']\n",
            "\n",
            "#3 is_trial\n",
            "\n",
            "count     4265\n",
            "unique       2\n",
            "top       True\n",
            "freq      2263\n",
            "Name: #3 is_trial, dtype: object\n",
            "\n",
            "price\n",
            "\n",
            "count    4265.000000\n",
            "mean        3.452982\n",
            "std         4.159743\n",
            "min         0.000000\n",
            "25%         0.000000\n",
            "50%         0.000000\n",
            "75%         7.990000\n",
            "max        39.990000\n",
            "Name: price, dtype: float64\n",
            "\n"
          ]
        }
      ]
    },
    {
      "cell_type": "code",
      "metadata": {
        "colab": {
          "base_uri": "https://localhost:8080/"
        },
        "id": "CZeYAuyp5F58",
        "outputId": "a5d8389c-1209-4768-e2b2-6280ba51637e"
      },
      "source": [
        "describe(sessions)"
      ],
      "execution_count": 24,
      "outputs": [
        {
          "output_type": "stream",
          "name": "stdout",
          "text": [
            "#0 timestamp\n",
            "\n",
            "count    8.076000e+03\n",
            "mean     1.516759e+09\n",
            "std      3.408544e+05\n",
            "min      1.514769e+09\n",
            "25%      1.516479e+09\n",
            "50%      1.516713e+09\n",
            "75%      1.517038e+09\n",
            "max      1.517432e+09\n",
            "Name: #0 timestamp, dtype: float64\n",
            "\n",
            "#1 user id\n",
            "\n",
            "['ab3a0b4e-6286-4748-90a1-e7d58273594d'\n",
            " 'e64698c1-0168-4523-9592-f5226e63b9e6'\n",
            " 'a8436498-ca01-4f09-9bac-de1bf217e00e' ...\n",
            " 'e6130b35-ee13-495d-89e0-5a7c6af5a981'\n",
            " '6c5a4326-3668-4f82-8d8a-5dc43132ff5d'\n",
            " 'd21e2ee9-290d-4d1f-b749-3558db98d32b']\n",
            "\n",
            "#2 Test group\n",
            "\n",
            "['05_12FTD_control_group' '05_12FTD_test_group']\n",
            "\n",
            "#3 Event name\n",
            "\n",
            "['session start']\n",
            "\n"
          ]
        }
      ]
    },
    {
      "cell_type": "code",
      "metadata": {
        "colab": {
          "base_uri": "https://localhost:8080/"
        },
        "id": "3vdSo-vT5IIk",
        "outputId": "a7d66103-9fed-4ae4-f764-f4612c0e89db"
      },
      "source": [
        "payments.columns.tolist()"
      ],
      "execution_count": 25,
      "outputs": [
        {
          "output_type": "execute_result",
          "data": {
            "text/plain": [
              "['#0 timestamp', '#1 user id', '#2 Event name', '#3 is_trial', 'price']"
            ]
          },
          "metadata": {},
          "execution_count": 25
        }
      ]
    },
    {
      "cell_type": "code",
      "metadata": {
        "id": "Sc0NO-S_5LyH"
      },
      "source": [
        "payments = payments.rename(columns = {'#0 timestamp':'timestamp', '#1 user id':'uid', '#2 Event name':'event_name', '#3 is_trial':'is_trial',  'price':'price'})"
      ],
      "execution_count": 26,
      "outputs": []
    },
    {
      "cell_type": "code",
      "metadata": {
        "colab": {
          "base_uri": "https://localhost:8080/"
        },
        "id": "In-4lFpZ5NY8",
        "outputId": "af6b4716-0fd6-4ac0-857e-cc1e775a8e5c"
      },
      "source": [
        "sessions.columns.tolist()"
      ],
      "execution_count": 27,
      "outputs": [
        {
          "output_type": "execute_result",
          "data": {
            "text/plain": [
              "['#0 timestamp', '#1 user id', '#2 Test group', '#3 Event name']"
            ]
          },
          "metadata": {},
          "execution_count": 27
        }
      ]
    },
    {
      "cell_type": "code",
      "metadata": {
        "id": "Z8ivW3FQ5Pc9"
      },
      "source": [
        "sessions = sessions.rename(columns = {'#0 timestamp':'session_start', '#1 user id':'uid', '#2 Test group':'test_group', '#3 Event name':'session'})"
      ],
      "execution_count": 28,
      "outputs": []
    },
    {
      "cell_type": "code",
      "metadata": {
        "colab": {
          "base_uri": "https://localhost:8080/",
          "height": 359
        },
        "id": "PI7PoQWZ5RKH",
        "outputId": "8a5f5344-c800-4a77-f0dd-e27e077d6dd4"
      },
      "source": [
        "sessions.sample(10)"
      ],
      "execution_count": 29,
      "outputs": [
        {
          "output_type": "execute_result",
          "data": {
            "text/html": [
              "<div>\n",
              "<style scoped>\n",
              "    .dataframe tbody tr th:only-of-type {\n",
              "        vertical-align: middle;\n",
              "    }\n",
              "\n",
              "    .dataframe tbody tr th {\n",
              "        vertical-align: top;\n",
              "    }\n",
              "\n",
              "    .dataframe thead th {\n",
              "        text-align: right;\n",
              "    }\n",
              "</style>\n",
              "<table border=\"1\" class=\"dataframe\">\n",
              "  <thead>\n",
              "    <tr style=\"text-align: right;\">\n",
              "      <th></th>\n",
              "      <th>session_start</th>\n",
              "      <th>uid</th>\n",
              "      <th>test_group</th>\n",
              "      <th>session</th>\n",
              "    </tr>\n",
              "  </thead>\n",
              "  <tbody>\n",
              "    <tr>\n",
              "      <th>5289</th>\n",
              "      <td>1516917840</td>\n",
              "      <td>8010ae54-5e88-4d36-8033-a28a3409d729</td>\n",
              "      <td>05_12FTD_test_group</td>\n",
              "      <td>session start</td>\n",
              "    </tr>\n",
              "    <tr>\n",
              "      <th>7246</th>\n",
              "      <td>1517247240</td>\n",
              "      <td>deaf364e-0b08-4016-92b8-3bef14a73065</td>\n",
              "      <td>05_12FTD_control_group</td>\n",
              "      <td>session start</td>\n",
              "    </tr>\n",
              "    <tr>\n",
              "      <th>1950</th>\n",
              "      <td>1516474320</td>\n",
              "      <td>2ad78e05-4f5f-4516-a829-108e25351e79</td>\n",
              "      <td>05_12FTD_test_group</td>\n",
              "      <td>session start</td>\n",
              "    </tr>\n",
              "    <tr>\n",
              "      <th>3018</th>\n",
              "      <td>1516570800</td>\n",
              "      <td>d5b65d10-9054-42a1-a808-0b0b822de81b</td>\n",
              "      <td>05_12FTD_control_group</td>\n",
              "      <td>session start</td>\n",
              "    </tr>\n",
              "    <tr>\n",
              "      <th>3193</th>\n",
              "      <td>1516583880</td>\n",
              "      <td>5a69910a-1478-481c-9b9d-4bdda696263e</td>\n",
              "      <td>05_12FTD_control_group</td>\n",
              "      <td>session start</td>\n",
              "    </tr>\n",
              "    <tr>\n",
              "      <th>2114</th>\n",
              "      <td>1516484640</td>\n",
              "      <td>5c5ba667-d987-43af-a0af-37fa89735ac8</td>\n",
              "      <td>05_12FTD_control_group</td>\n",
              "      <td>session start</td>\n",
              "    </tr>\n",
              "    <tr>\n",
              "      <th>1916</th>\n",
              "      <td>1516471560</td>\n",
              "      <td>2eab4ba3-666f-4e6f-ade7-6f668226c932</td>\n",
              "      <td>05_12FTD_control_group</td>\n",
              "      <td>session start</td>\n",
              "    </tr>\n",
              "    <tr>\n",
              "      <th>7651</th>\n",
              "      <td>1517339160</td>\n",
              "      <td>8bae6b87-5ea1-4ad4-915c-1fe73eb52387</td>\n",
              "      <td>05_12FTD_test_group</td>\n",
              "      <td>session start</td>\n",
              "    </tr>\n",
              "    <tr>\n",
              "      <th>2549</th>\n",
              "      <td>1516528800</td>\n",
              "      <td>f064bc4b-7f81-4c15-927d-d14417111a54</td>\n",
              "      <td>05_12FTD_control_group</td>\n",
              "      <td>session start</td>\n",
              "    </tr>\n",
              "    <tr>\n",
              "      <th>128</th>\n",
              "      <td>1516286880</td>\n",
              "      <td>f7db8c05-f970-49e1-80bd-c89a308eddb3</td>\n",
              "      <td>05_12FTD_test_group</td>\n",
              "      <td>session start</td>\n",
              "    </tr>\n",
              "  </tbody>\n",
              "</table>\n",
              "</div>"
            ],
            "text/plain": [
              "      session_start  ...        session\n",
              "5289     1516917840  ...  session start\n",
              "7246     1517247240  ...  session start\n",
              "1950     1516474320  ...  session start\n",
              "3018     1516570800  ...  session start\n",
              "3193     1516583880  ...  session start\n",
              "2114     1516484640  ...  session start\n",
              "1916     1516471560  ...  session start\n",
              "7651     1517339160  ...  session start\n",
              "2549     1516528800  ...  session start\n",
              "128      1516286880  ...  session start\n",
              "\n",
              "[10 rows x 4 columns]"
            ]
          },
          "metadata": {},
          "execution_count": 29
        }
      ]
    },
    {
      "cell_type": "code",
      "metadata": {
        "colab": {
          "base_uri": "https://localhost:8080/",
          "height": 359
        },
        "id": "Cy5GzN8K5Udc",
        "outputId": "2f0bc3c0-5fa4-4ae0-92ab-333506f002d9"
      },
      "source": [
        "payments.sample(10)"
      ],
      "execution_count": 30,
      "outputs": [
        {
          "output_type": "execute_result",
          "data": {
            "text/html": [
              "<div>\n",
              "<style scoped>\n",
              "    .dataframe tbody tr th:only-of-type {\n",
              "        vertical-align: middle;\n",
              "    }\n",
              "\n",
              "    .dataframe tbody tr th {\n",
              "        vertical-align: top;\n",
              "    }\n",
              "\n",
              "    .dataframe thead th {\n",
              "        text-align: right;\n",
              "    }\n",
              "</style>\n",
              "<table border=\"1\" class=\"dataframe\">\n",
              "  <thead>\n",
              "    <tr style=\"text-align: right;\">\n",
              "      <th></th>\n",
              "      <th>timestamp</th>\n",
              "      <th>uid</th>\n",
              "      <th>event_name</th>\n",
              "      <th>is_trial</th>\n",
              "      <th>price</th>\n",
              "    </tr>\n",
              "  </thead>\n",
              "  <tbody>\n",
              "    <tr>\n",
              "      <th>1523</th>\n",
              "      <td>1515989760</td>\n",
              "      <td>89efb00b-55d9-4662-9814-ec0be939f3a3</td>\n",
              "      <td>payment</td>\n",
              "      <td>True</td>\n",
              "      <td>0.00</td>\n",
              "    </tr>\n",
              "    <tr>\n",
              "      <th>546</th>\n",
              "      <td>1515361620</td>\n",
              "      <td>2543bc51-af31-40dc-adf0-bb0d4d83cf08</td>\n",
              "      <td>payment</td>\n",
              "      <td>True</td>\n",
              "      <td>0.00</td>\n",
              "    </tr>\n",
              "    <tr>\n",
              "      <th>140</th>\n",
              "      <td>1514980200</td>\n",
              "      <td>a0fc0ea2-dd66-4bc6-90c8-ba955bae83cf</td>\n",
              "      <td>payment</td>\n",
              "      <td>False</td>\n",
              "      <td>7.99</td>\n",
              "    </tr>\n",
              "    <tr>\n",
              "      <th>3769</th>\n",
              "      <td>1517137500</td>\n",
              "      <td>32e22cc7-423e-413b-8d72-038dda26f8ab</td>\n",
              "      <td>payment</td>\n",
              "      <td>False</td>\n",
              "      <td>7.99</td>\n",
              "    </tr>\n",
              "    <tr>\n",
              "      <th>4024</th>\n",
              "      <td>1517243040</td>\n",
              "      <td>0f5b65f8-cbfa-42b5-8c58-948bfaeb01cf</td>\n",
              "      <td>payment</td>\n",
              "      <td>False</td>\n",
              "      <td>7.99</td>\n",
              "    </tr>\n",
              "    <tr>\n",
              "      <th>4186</th>\n",
              "      <td>1517324880</td>\n",
              "      <td>37b9ec76-97fd-43b9-85dc-d003b56cbdfa</td>\n",
              "      <td>payment</td>\n",
              "      <td>True</td>\n",
              "      <td>0.00</td>\n",
              "    </tr>\n",
              "    <tr>\n",
              "      <th>2621</th>\n",
              "      <td>1516562460</td>\n",
              "      <td>94d11c8e-d3c1-4b58-b84c-b389d68502b6</td>\n",
              "      <td>payment</td>\n",
              "      <td>True</td>\n",
              "      <td>0.00</td>\n",
              "    </tr>\n",
              "    <tr>\n",
              "      <th>2318</th>\n",
              "      <td>1516482960</td>\n",
              "      <td>8e242f8e-17de-43c9-805e-2f615f4062cb</td>\n",
              "      <td>payment</td>\n",
              "      <td>True</td>\n",
              "      <td>0.00</td>\n",
              "    </tr>\n",
              "    <tr>\n",
              "      <th>2235</th>\n",
              "      <td>1516469400</td>\n",
              "      <td>98bf54bc-1c2f-4dc7-9ffb-67fca0e57d31</td>\n",
              "      <td>payment</td>\n",
              "      <td>False</td>\n",
              "      <td>7.99</td>\n",
              "    </tr>\n",
              "    <tr>\n",
              "      <th>4158</th>\n",
              "      <td>1517282580</td>\n",
              "      <td>1383bd45-7dd7-4b16-b4db-f44f13308b71</td>\n",
              "      <td>payment</td>\n",
              "      <td>True</td>\n",
              "      <td>0.00</td>\n",
              "    </tr>\n",
              "  </tbody>\n",
              "</table>\n",
              "</div>"
            ],
            "text/plain": [
              "       timestamp                                   uid  ... is_trial  price\n",
              "1523  1515989760  89efb00b-55d9-4662-9814-ec0be939f3a3  ...     True   0.00\n",
              "546   1515361620  2543bc51-af31-40dc-adf0-bb0d4d83cf08  ...     True   0.00\n",
              "140   1514980200  a0fc0ea2-dd66-4bc6-90c8-ba955bae83cf  ...    False   7.99\n",
              "3769  1517137500  32e22cc7-423e-413b-8d72-038dda26f8ab  ...    False   7.99\n",
              "4024  1517243040  0f5b65f8-cbfa-42b5-8c58-948bfaeb01cf  ...    False   7.99\n",
              "4186  1517324880  37b9ec76-97fd-43b9-85dc-d003b56cbdfa  ...     True   0.00\n",
              "2621  1516562460  94d11c8e-d3c1-4b58-b84c-b389d68502b6  ...     True   0.00\n",
              "2318  1516482960  8e242f8e-17de-43c9-805e-2f615f4062cb  ...     True   0.00\n",
              "2235  1516469400  98bf54bc-1c2f-4dc7-9ffb-67fca0e57d31  ...    False   7.99\n",
              "4158  1517282580  1383bd45-7dd7-4b16-b4db-f44f13308b71  ...     True   0.00\n",
              "\n",
              "[10 rows x 5 columns]"
            ]
          },
          "metadata": {},
          "execution_count": 30
        }
      ]
    },
    {
      "cell_type": "code",
      "metadata": {
        "colab": {
          "base_uri": "https://localhost:8080/"
        },
        "id": "QIJ7aVmX5YkH",
        "outputId": "d9257ef8-2625-4343-be0a-488933a78d7e"
      },
      "source": [
        "payments.duplicated().sum()"
      ],
      "execution_count": 31,
      "outputs": [
        {
          "output_type": "execute_result",
          "data": {
            "text/plain": [
              "0"
            ]
          },
          "metadata": {},
          "execution_count": 31
        }
      ]
    },
    {
      "cell_type": "code",
      "metadata": {
        "colab": {
          "base_uri": "https://localhost:8080/"
        },
        "id": "yRnNk6sZ5ZTA",
        "outputId": "15105e49-b81a-43e9-b725-438510b31bae"
      },
      "source": [
        "sessions.duplicated().sum()"
      ],
      "execution_count": 32,
      "outputs": [
        {
          "output_type": "execute_result",
          "data": {
            "text/plain": [
              "0"
            ]
          },
          "metadata": {},
          "execution_count": 32
        }
      ]
    },
    {
      "cell_type": "markdown",
      "metadata": {
        "id": "MWRL1Hy35cqT"
      },
      "source": [
        "Дубликатов нет"
      ]
    },
    {
      "cell_type": "code",
      "metadata": {
        "colab": {
          "base_uri": "https://localhost:8080/",
          "height": 419
        },
        "id": "L0gSTDnY5bCC",
        "outputId": "0f58db5f-9a4e-4d62-c282-b1a2845a94d9"
      },
      "source": [
        "payments['timestamp']= pd.to_datetime(payments['timestamp'], unit='s')\n",
        "payments['timestamp'] = pd.to_datetime(payments['timestamp'], format='%Y-%m-%d')\n",
        "payments['date'] = (payments['timestamp']).dt.date\n",
        "payments"
      ],
      "execution_count": 33,
      "outputs": [
        {
          "output_type": "execute_result",
          "data": {
            "text/html": [
              "<div>\n",
              "<style scoped>\n",
              "    .dataframe tbody tr th:only-of-type {\n",
              "        vertical-align: middle;\n",
              "    }\n",
              "\n",
              "    .dataframe tbody tr th {\n",
              "        vertical-align: top;\n",
              "    }\n",
              "\n",
              "    .dataframe thead th {\n",
              "        text-align: right;\n",
              "    }\n",
              "</style>\n",
              "<table border=\"1\" class=\"dataframe\">\n",
              "  <thead>\n",
              "    <tr style=\"text-align: right;\">\n",
              "      <th></th>\n",
              "      <th>timestamp</th>\n",
              "      <th>uid</th>\n",
              "      <th>event_name</th>\n",
              "      <th>is_trial</th>\n",
              "      <th>price</th>\n",
              "      <th>date</th>\n",
              "    </tr>\n",
              "  </thead>\n",
              "  <tbody>\n",
              "    <tr>\n",
              "      <th>0</th>\n",
              "      <td>2017-12-31 21:00:00</td>\n",
              "      <td>59c856ca5638e80001b8bad2</td>\n",
              "      <td>payment</td>\n",
              "      <td>False</td>\n",
              "      <td>2.99</td>\n",
              "      <td>2017-12-31</td>\n",
              "    </tr>\n",
              "    <tr>\n",
              "      <th>1</th>\n",
              "      <td>2017-12-31 21:18:00</td>\n",
              "      <td>32eb44a1-4c44-49e1-8322-253ef00ac52c</td>\n",
              "      <td>payment</td>\n",
              "      <td>True</td>\n",
              "      <td>0.00</td>\n",
              "      <td>2017-12-31</td>\n",
              "    </tr>\n",
              "    <tr>\n",
              "      <th>2</th>\n",
              "      <td>2017-12-31 21:41:00</td>\n",
              "      <td>acfaee6d-abe2-4c8c-a243-98331eb5a736</td>\n",
              "      <td>payment</td>\n",
              "      <td>True</td>\n",
              "      <td>0.00</td>\n",
              "      <td>2017-12-31</td>\n",
              "    </tr>\n",
              "    <tr>\n",
              "      <th>3</th>\n",
              "      <td>2017-12-31 23:18:00</td>\n",
              "      <td>58c2e0bf-6fd6-4f79-bcc1-9c21e2ef0e0a</td>\n",
              "      <td>payment</td>\n",
              "      <td>True</td>\n",
              "      <td>0.00</td>\n",
              "      <td>2017-12-31</td>\n",
              "    </tr>\n",
              "    <tr>\n",
              "      <th>4</th>\n",
              "      <td>2017-12-31 23:38:00</td>\n",
              "      <td>1cd8ccf6-09a0-4dc8-ab9b-786c392ca3e4</td>\n",
              "      <td>payment</td>\n",
              "      <td>True</td>\n",
              "      <td>0.00</td>\n",
              "      <td>2017-12-31</td>\n",
              "    </tr>\n",
              "    <tr>\n",
              "      <th>...</th>\n",
              "      <td>...</td>\n",
              "      <td>...</td>\n",
              "      <td>...</td>\n",
              "      <td>...</td>\n",
              "      <td>...</td>\n",
              "      <td>...</td>\n",
              "    </tr>\n",
              "    <tr>\n",
              "      <th>4260</th>\n",
              "      <td>2018-01-31 20:15:00</td>\n",
              "      <td>59b60e2b5638e800019776a7</td>\n",
              "      <td>payment</td>\n",
              "      <td>False</td>\n",
              "      <td>2.99</td>\n",
              "      <td>2018-01-31</td>\n",
              "    </tr>\n",
              "    <tr>\n",
              "      <th>4261</th>\n",
              "      <td>2018-01-31 20:35:00</td>\n",
              "      <td>b9e6387f-9a66-4951-b569-6f42185d52c0</td>\n",
              "      <td>payment</td>\n",
              "      <td>True</td>\n",
              "      <td>0.00</td>\n",
              "      <td>2018-01-31</td>\n",
              "    </tr>\n",
              "    <tr>\n",
              "      <th>4262</th>\n",
              "      <td>2018-01-31 20:38:00</td>\n",
              "      <td>80378737-946c-4309-b2ff-bdef513ff815</td>\n",
              "      <td>payment</td>\n",
              "      <td>True</td>\n",
              "      <td>0.00</td>\n",
              "      <td>2018-01-31</td>\n",
              "    </tr>\n",
              "    <tr>\n",
              "      <th>4263</th>\n",
              "      <td>2018-01-31 20:40:00</td>\n",
              "      <td>402e5074-360b-416d-b3fc-d7c29c9ab2c3</td>\n",
              "      <td>payment</td>\n",
              "      <td>False</td>\n",
              "      <td>7.99</td>\n",
              "      <td>2018-01-31</td>\n",
              "    </tr>\n",
              "    <tr>\n",
              "      <th>4264</th>\n",
              "      <td>2018-01-31 20:50:00</td>\n",
              "      <td>0c7888e5-094f-433c-abba-190cd83f5206</td>\n",
              "      <td>payment</td>\n",
              "      <td>False</td>\n",
              "      <td>7.99</td>\n",
              "      <td>2018-01-31</td>\n",
              "    </tr>\n",
              "  </tbody>\n",
              "</table>\n",
              "<p>4265 rows × 6 columns</p>\n",
              "</div>"
            ],
            "text/plain": [
              "               timestamp  ...        date\n",
              "0    2017-12-31 21:00:00  ...  2017-12-31\n",
              "1    2017-12-31 21:18:00  ...  2017-12-31\n",
              "2    2017-12-31 21:41:00  ...  2017-12-31\n",
              "3    2017-12-31 23:18:00  ...  2017-12-31\n",
              "4    2017-12-31 23:38:00  ...  2017-12-31\n",
              "...                  ...  ...         ...\n",
              "4260 2018-01-31 20:15:00  ...  2018-01-31\n",
              "4261 2018-01-31 20:35:00  ...  2018-01-31\n",
              "4262 2018-01-31 20:38:00  ...  2018-01-31\n",
              "4263 2018-01-31 20:40:00  ...  2018-01-31\n",
              "4264 2018-01-31 20:50:00  ...  2018-01-31\n",
              "\n",
              "[4265 rows x 6 columns]"
            ]
          },
          "metadata": {},
          "execution_count": 33
        }
      ]
    },
    {
      "cell_type": "code",
      "metadata": {
        "colab": {
          "base_uri": "https://localhost:8080/",
          "height": 419
        },
        "id": "lzRhoGPS5gVe",
        "outputId": "6894e62a-f424-4670-8890-f6bf93ded1f4"
      },
      "source": [
        "sessions['session_start']= pd.to_datetime(sessions['session_start'], unit='s')\n",
        "sessions['session_start'] = pd.to_datetime(sessions['session_start'], format='%Y-%m-%dT%H:%M:%S')\n",
        "sessions['date'] = (sessions['session_start']).dt.date\n",
        "\n",
        "sessions "
      ],
      "execution_count": 34,
      "outputs": [
        {
          "output_type": "execute_result",
          "data": {
            "text/html": [
              "<div>\n",
              "<style scoped>\n",
              "    .dataframe tbody tr th:only-of-type {\n",
              "        vertical-align: middle;\n",
              "    }\n",
              "\n",
              "    .dataframe tbody tr th {\n",
              "        vertical-align: top;\n",
              "    }\n",
              "\n",
              "    .dataframe thead th {\n",
              "        text-align: right;\n",
              "    }\n",
              "</style>\n",
              "<table border=\"1\" class=\"dataframe\">\n",
              "  <thead>\n",
              "    <tr style=\"text-align: right;\">\n",
              "      <th></th>\n",
              "      <th>session_start</th>\n",
              "      <th>uid</th>\n",
              "      <th>test_group</th>\n",
              "      <th>session</th>\n",
              "      <th>date</th>\n",
              "    </tr>\n",
              "  </thead>\n",
              "  <tbody>\n",
              "    <tr>\n",
              "      <th>0</th>\n",
              "      <td>2018-01-01 01:07:00</td>\n",
              "      <td>ab3a0b4e-6286-4748-90a1-e7d58273594d</td>\n",
              "      <td>05_12FTD_control_group</td>\n",
              "      <td>session start</td>\n",
              "      <td>2018-01-01</td>\n",
              "    </tr>\n",
              "    <tr>\n",
              "      <th>1</th>\n",
              "      <td>2018-01-01 04:51:00</td>\n",
              "      <td>e64698c1-0168-4523-9592-f5226e63b9e6</td>\n",
              "      <td>05_12FTD_control_group</td>\n",
              "      <td>session start</td>\n",
              "      <td>2018-01-01</td>\n",
              "    </tr>\n",
              "    <tr>\n",
              "      <th>2</th>\n",
              "      <td>2018-01-01 13:03:00</td>\n",
              "      <td>a8436498-ca01-4f09-9bac-de1bf217e00e</td>\n",
              "      <td>05_12FTD_control_group</td>\n",
              "      <td>session start</td>\n",
              "      <td>2018-01-01</td>\n",
              "    </tr>\n",
              "    <tr>\n",
              "      <th>3</th>\n",
              "      <td>2018-01-01 18:31:00</td>\n",
              "      <td>6e5830b2-85b7-44b3-b7dd-3cb2e18c2897</td>\n",
              "      <td>05_12FTD_test_group</td>\n",
              "      <td>session start</td>\n",
              "      <td>2018-01-01</td>\n",
              "    </tr>\n",
              "    <tr>\n",
              "      <th>4</th>\n",
              "      <td>2018-01-01 18:39:00</td>\n",
              "      <td>3b1809fe-e495-49e2-a8d1-b888d0a6948e</td>\n",
              "      <td>05_12FTD_control_group</td>\n",
              "      <td>session start</td>\n",
              "      <td>2018-01-01</td>\n",
              "    </tr>\n",
              "    <tr>\n",
              "      <th>...</th>\n",
              "      <td>...</td>\n",
              "      <td>...</td>\n",
              "      <td>...</td>\n",
              "      <td>...</td>\n",
              "      <td>...</td>\n",
              "    </tr>\n",
              "    <tr>\n",
              "      <th>8071</th>\n",
              "      <td>2018-01-31 20:53:00</td>\n",
              "      <td>8a64d64b-db9a-4993-980c-6b3c8a51d9a1</td>\n",
              "      <td>05_12FTD_control_group</td>\n",
              "      <td>session start</td>\n",
              "      <td>2018-01-31</td>\n",
              "    </tr>\n",
              "    <tr>\n",
              "      <th>8072</th>\n",
              "      <td>2018-01-31 20:53:00</td>\n",
              "      <td>d19e10b4-e929-45c9-80b6-09b288b62cfb</td>\n",
              "      <td>05_12FTD_test_group</td>\n",
              "      <td>session start</td>\n",
              "      <td>2018-01-31</td>\n",
              "    </tr>\n",
              "    <tr>\n",
              "      <th>8073</th>\n",
              "      <td>2018-01-31 20:56:00</td>\n",
              "      <td>97c42130-df1f-4127-af7e-6b0e3e14a207</td>\n",
              "      <td>05_12FTD_test_group</td>\n",
              "      <td>session start</td>\n",
              "      <td>2018-01-31</td>\n",
              "    </tr>\n",
              "    <tr>\n",
              "      <th>8074</th>\n",
              "      <td>2018-01-31 20:56:00</td>\n",
              "      <td>d21e2ee9-290d-4d1f-b749-3558db98d32b</td>\n",
              "      <td>05_12FTD_test_group</td>\n",
              "      <td>session start</td>\n",
              "      <td>2018-01-31</td>\n",
              "    </tr>\n",
              "    <tr>\n",
              "      <th>8075</th>\n",
              "      <td>2018-01-31 20:58:00</td>\n",
              "      <td>99f29848-892e-4e1d-b43d-b3f0662670e3</td>\n",
              "      <td>05_12FTD_control_group</td>\n",
              "      <td>session start</td>\n",
              "      <td>2018-01-31</td>\n",
              "    </tr>\n",
              "  </tbody>\n",
              "</table>\n",
              "<p>8076 rows × 5 columns</p>\n",
              "</div>"
            ],
            "text/plain": [
              "           session_start  ...        date\n",
              "0    2018-01-01 01:07:00  ...  2018-01-01\n",
              "1    2018-01-01 04:51:00  ...  2018-01-01\n",
              "2    2018-01-01 13:03:00  ...  2018-01-01\n",
              "3    2018-01-01 18:31:00  ...  2018-01-01\n",
              "4    2018-01-01 18:39:00  ...  2018-01-01\n",
              "...                  ...  ...         ...\n",
              "8071 2018-01-31 20:53:00  ...  2018-01-31\n",
              "8072 2018-01-31 20:53:00  ...  2018-01-31\n",
              "8073 2018-01-31 20:56:00  ...  2018-01-31\n",
              "8074 2018-01-31 20:56:00  ...  2018-01-31\n",
              "8075 2018-01-31 20:58:00  ...  2018-01-31\n",
              "\n",
              "[8076 rows x 5 columns]"
            ]
          },
          "metadata": {},
          "execution_count": 34
        }
      ]
    },
    {
      "cell_type": "code",
      "metadata": {
        "id": "LZIVB-mH5ij2"
      },
      "source": [
        "test=sessions[sessions['test_group'] == '05_12FTD_test_group']\n",
        "control=sessions[sessions['test_group'] == '05_12FTD_control_group'] "
      ],
      "execution_count": 35,
      "outputs": []
    },
    {
      "cell_type": "code",
      "metadata": {
        "colab": {
          "base_uri": "https://localhost:8080/"
        },
        "id": "tnFacR1D5luP",
        "outputId": "4decd46a-95da-467d-d1e5-9d90de79ad45"
      },
      "source": [
        "print('Кол-во уникальных пользователей в общем массиве: {}'.format(sessions['uid'].nunique()))\n",
        "print('Кол-во уникальных пользователей в тестовой группе: {}'.format(test['uid'].nunique()))\n",
        "print('Кол-во уникальных пользователей в контрольной группе: {}'.format(control['uid'].nunique()))"
      ],
      "execution_count": 36,
      "outputs": [
        {
          "output_type": "stream",
          "name": "stdout",
          "text": [
            "Кол-во уникальных пользователей в общем массиве: 2218\n",
            "Кол-во уникальных пользователей в тестовой группе: 1163\n",
            "Кол-во уникальных пользователей в контрольной группе: 1055\n"
          ]
        }
      ]
    },
    {
      "cell_type": "markdown",
      "metadata": {
        "id": "7k8qkzt45rXG"
      },
      "source": [
        "Пользователи в тестовой и контрольной группах не пересекаются"
      ]
    },
    {
      "cell_type": "markdown",
      "metadata": {
        "id": "J8EBgxUE5t2L"
      },
      "source": [
        " ##  2. Анализ A/B теста\n",
        "\n"
      ]
    },
    {
      "cell_type": "markdown",
      "metadata": {
        "id": "93v6QH0J5_pH"
      },
      "source": [
        "### 2.1  Кумулятивная выручка по группам"
      ]
    },
    {
      "cell_type": "markdown",
      "metadata": {
        "id": "AKTKMvca6D7s"
      },
      "source": [
        "Исключать из таблицы с платежами пробные подписки не будем, т.к. они тоже являются индикатором привлечения клиентов."
      ]
    },
    {
      "cell_type": "code",
      "metadata": {
        "colab": {
          "base_uri": "https://localhost:8080/",
          "height": 450
        },
        "id": "Zc7IvUJf5nP6",
        "outputId": "b9a96316-1c52-4585-8cee-fbffa9e137fe"
      },
      "source": [
        "#В таблицу с платежами добавим информацию о принадлежности юзера к тестовой или контрольной группе\n",
        "group = sessions.groupby('uid')['test_group'].unique().to_frame()\n",
        "group"
      ],
      "execution_count": 37,
      "outputs": [
        {
          "output_type": "execute_result",
          "data": {
            "text/html": [
              "<div>\n",
              "<style scoped>\n",
              "    .dataframe tbody tr th:only-of-type {\n",
              "        vertical-align: middle;\n",
              "    }\n",
              "\n",
              "    .dataframe tbody tr th {\n",
              "        vertical-align: top;\n",
              "    }\n",
              "\n",
              "    .dataframe thead th {\n",
              "        text-align: right;\n",
              "    }\n",
              "</style>\n",
              "<table border=\"1\" class=\"dataframe\">\n",
              "  <thead>\n",
              "    <tr style=\"text-align: right;\">\n",
              "      <th></th>\n",
              "      <th>test_group</th>\n",
              "    </tr>\n",
              "    <tr>\n",
              "      <th>uid</th>\n",
              "      <th></th>\n",
              "    </tr>\n",
              "  </thead>\n",
              "  <tbody>\n",
              "    <tr>\n",
              "      <th>000bc22e-8d71-46b4-a758-5ced24c1917c</th>\n",
              "      <td>[05_12FTD_test_group]</td>\n",
              "    </tr>\n",
              "    <tr>\n",
              "      <th>001dba29-f45e-445e-a70f-5336fdee16cd</th>\n",
              "      <td>[05_12FTD_control_group]</td>\n",
              "    </tr>\n",
              "    <tr>\n",
              "      <th>00ca0411-611d-4030-8d51-b519857a9014</th>\n",
              "      <td>[05_12FTD_test_group]</td>\n",
              "    </tr>\n",
              "    <tr>\n",
              "      <th>00d24fcb-b782-4c34-84cd-57ea22547df9</th>\n",
              "      <td>[05_12FTD_control_group]</td>\n",
              "    </tr>\n",
              "    <tr>\n",
              "      <th>00f3de2d-537c-4620-9979-d968854d78d0</th>\n",
              "      <td>[05_12FTD_control_group]</td>\n",
              "    </tr>\n",
              "    <tr>\n",
              "      <th>...</th>\n",
              "      <td>...</td>\n",
              "    </tr>\n",
              "    <tr>\n",
              "      <th>ff7318a2-8343-4e8c-b3da-1ebc51e7b378</th>\n",
              "      <td>[05_12FTD_test_group]</td>\n",
              "    </tr>\n",
              "    <tr>\n",
              "      <th>ff987204-4417-4a79-8c88-d4d0731ddfb6</th>\n",
              "      <td>[05_12FTD_control_group]</td>\n",
              "    </tr>\n",
              "    <tr>\n",
              "      <th>ffb4f5fc-f843-4417-b3aa-4df3ed192923</th>\n",
              "      <td>[05_12FTD_control_group]</td>\n",
              "    </tr>\n",
              "    <tr>\n",
              "      <th>ffe7e0d8-e224-4002-bc24-256f36fcf2bc</th>\n",
              "      <td>[05_12FTD_control_group]</td>\n",
              "    </tr>\n",
              "    <tr>\n",
              "      <th>ffed519a-cb8c-4204-acb3-01772287ac4e</th>\n",
              "      <td>[05_12FTD_test_group]</td>\n",
              "    </tr>\n",
              "  </tbody>\n",
              "</table>\n",
              "<p>2218 rows × 1 columns</p>\n",
              "</div>"
            ],
            "text/plain": [
              "                                                    test_group\n",
              "uid                                                           \n",
              "000bc22e-8d71-46b4-a758-5ced24c1917c     [05_12FTD_test_group]\n",
              "001dba29-f45e-445e-a70f-5336fdee16cd  [05_12FTD_control_group]\n",
              "00ca0411-611d-4030-8d51-b519857a9014     [05_12FTD_test_group]\n",
              "00d24fcb-b782-4c34-84cd-57ea22547df9  [05_12FTD_control_group]\n",
              "00f3de2d-537c-4620-9979-d968854d78d0  [05_12FTD_control_group]\n",
              "...                                                        ...\n",
              "ff7318a2-8343-4e8c-b3da-1ebc51e7b378     [05_12FTD_test_group]\n",
              "ff987204-4417-4a79-8c88-d4d0731ddfb6  [05_12FTD_control_group]\n",
              "ffb4f5fc-f843-4417-b3aa-4df3ed192923  [05_12FTD_control_group]\n",
              "ffe7e0d8-e224-4002-bc24-256f36fcf2bc  [05_12FTD_control_group]\n",
              "ffed519a-cb8c-4204-acb3-01772287ac4e     [05_12FTD_test_group]\n",
              "\n",
              "[2218 rows x 1 columns]"
            ]
          },
          "metadata": {},
          "execution_count": 37
        }
      ]
    },
    {
      "cell_type": "code",
      "metadata": {
        "colab": {
          "base_uri": "https://localhost:8080/",
          "height": 589
        },
        "id": "LYH48S2d6HpP",
        "outputId": "7a689b1e-04b8-4337-802c-3de7bcf1f00e"
      },
      "source": [
        "payments=payments.merge(group,on='uid')\n",
        "payments"
      ],
      "execution_count": 38,
      "outputs": [
        {
          "output_type": "execute_result",
          "data": {
            "text/html": [
              "<div>\n",
              "<style scoped>\n",
              "    .dataframe tbody tr th:only-of-type {\n",
              "        vertical-align: middle;\n",
              "    }\n",
              "\n",
              "    .dataframe tbody tr th {\n",
              "        vertical-align: top;\n",
              "    }\n",
              "\n",
              "    .dataframe thead th {\n",
              "        text-align: right;\n",
              "    }\n",
              "</style>\n",
              "<table border=\"1\" class=\"dataframe\">\n",
              "  <thead>\n",
              "    <tr style=\"text-align: right;\">\n",
              "      <th></th>\n",
              "      <th>timestamp</th>\n",
              "      <th>uid</th>\n",
              "      <th>event_name</th>\n",
              "      <th>is_trial</th>\n",
              "      <th>price</th>\n",
              "      <th>date</th>\n",
              "      <th>test_group</th>\n",
              "    </tr>\n",
              "  </thead>\n",
              "  <tbody>\n",
              "    <tr>\n",
              "      <th>0</th>\n",
              "      <td>2017-12-31 23:45:00</td>\n",
              "      <td>de7cd31c-36b4-42d8-bcc9-74642447b58c</td>\n",
              "      <td>payment</td>\n",
              "      <td>True</td>\n",
              "      <td>0.00</td>\n",
              "      <td>2017-12-31</td>\n",
              "      <td>[05_12FTD_test_group]</td>\n",
              "    </tr>\n",
              "    <tr>\n",
              "      <th>1</th>\n",
              "      <td>2018-01-08 02:40:00</td>\n",
              "      <td>de7cd31c-36b4-42d8-bcc9-74642447b58c</td>\n",
              "      <td>payment</td>\n",
              "      <td>False</td>\n",
              "      <td>7.99</td>\n",
              "      <td>2018-01-08</td>\n",
              "      <td>[05_12FTD_test_group]</td>\n",
              "    </tr>\n",
              "    <tr>\n",
              "      <th>2</th>\n",
              "      <td>2018-01-08 15:10:00</td>\n",
              "      <td>de7cd31c-36b4-42d8-bcc9-74642447b58c</td>\n",
              "      <td>payment</td>\n",
              "      <td>False</td>\n",
              "      <td>7.99</td>\n",
              "      <td>2018-01-08</td>\n",
              "      <td>[05_12FTD_test_group]</td>\n",
              "    </tr>\n",
              "    <tr>\n",
              "      <th>3</th>\n",
              "      <td>2018-01-01 15:48:00</td>\n",
              "      <td>68230d15-2408-4c0b-b5aa-62a4d82f3486</td>\n",
              "      <td>payment</td>\n",
              "      <td>True</td>\n",
              "      <td>0.00</td>\n",
              "      <td>2018-01-01</td>\n",
              "      <td>[05_12FTD_control_group]</td>\n",
              "    </tr>\n",
              "    <tr>\n",
              "      <th>4</th>\n",
              "      <td>2018-01-08 10:30:00</td>\n",
              "      <td>68230d15-2408-4c0b-b5aa-62a4d82f3486</td>\n",
              "      <td>payment</td>\n",
              "      <td>False</td>\n",
              "      <td>7.99</td>\n",
              "      <td>2018-01-08</td>\n",
              "      <td>[05_12FTD_control_group]</td>\n",
              "    </tr>\n",
              "    <tr>\n",
              "      <th>...</th>\n",
              "      <td>...</td>\n",
              "      <td>...</td>\n",
              "      <td>...</td>\n",
              "      <td>...</td>\n",
              "      <td>...</td>\n",
              "      <td>...</td>\n",
              "      <td>...</td>\n",
              "    </tr>\n",
              "    <tr>\n",
              "      <th>234</th>\n",
              "      <td>2018-01-29 04:43:00</td>\n",
              "      <td>d76fb501-8b1b-4e6d-9d11-f7a49de3ac2b</td>\n",
              "      <td>payment</td>\n",
              "      <td>True</td>\n",
              "      <td>0.00</td>\n",
              "      <td>2018-01-29</td>\n",
              "      <td>[05_12FTD_test_group]</td>\n",
              "    </tr>\n",
              "    <tr>\n",
              "      <th>235</th>\n",
              "      <td>2018-01-30 10:20:00</td>\n",
              "      <td>8ffa1c7c-5d0d-40ab-a7b1-c5cc3bfd1215</td>\n",
              "      <td>payment</td>\n",
              "      <td>False</td>\n",
              "      <td>7.99</td>\n",
              "      <td>2018-01-30</td>\n",
              "      <td>[05_12FTD_test_group]</td>\n",
              "    </tr>\n",
              "    <tr>\n",
              "      <th>236</th>\n",
              "      <td>2018-01-30 20:17:00</td>\n",
              "      <td>5fc42716-2bfe-4a8e-8476-e198bee2ed3e</td>\n",
              "      <td>payment</td>\n",
              "      <td>True</td>\n",
              "      <td>0.00</td>\n",
              "      <td>2018-01-30</td>\n",
              "      <td>[05_12FTD_test_group]</td>\n",
              "    </tr>\n",
              "    <tr>\n",
              "      <th>237</th>\n",
              "      <td>2018-01-31 03:42:00</td>\n",
              "      <td>9bb2a648-f9be-445e-b2ff-59826046051e</td>\n",
              "      <td>payment</td>\n",
              "      <td>True</td>\n",
              "      <td>0.00</td>\n",
              "      <td>2018-01-31</td>\n",
              "      <td>[05_12FTD_test_group]</td>\n",
              "    </tr>\n",
              "    <tr>\n",
              "      <th>238</th>\n",
              "      <td>2018-01-31 15:07:00</td>\n",
              "      <td>6d8cdcdd-964c-4922-970e-cdb63535c1ea</td>\n",
              "      <td>payment</td>\n",
              "      <td>True</td>\n",
              "      <td>0.00</td>\n",
              "      <td>2018-01-31</td>\n",
              "      <td>[05_12FTD_control_group]</td>\n",
              "    </tr>\n",
              "  </tbody>\n",
              "</table>\n",
              "<p>239 rows × 7 columns</p>\n",
              "</div>"
            ],
            "text/plain": [
              "              timestamp  ...                test_group\n",
              "0   2017-12-31 23:45:00  ...     [05_12FTD_test_group]\n",
              "1   2018-01-08 02:40:00  ...     [05_12FTD_test_group]\n",
              "2   2018-01-08 15:10:00  ...     [05_12FTD_test_group]\n",
              "3   2018-01-01 15:48:00  ...  [05_12FTD_control_group]\n",
              "4   2018-01-08 10:30:00  ...  [05_12FTD_control_group]\n",
              "..                  ...  ...                       ...\n",
              "234 2018-01-29 04:43:00  ...     [05_12FTD_test_group]\n",
              "235 2018-01-30 10:20:00  ...     [05_12FTD_test_group]\n",
              "236 2018-01-30 20:17:00  ...     [05_12FTD_test_group]\n",
              "237 2018-01-31 03:42:00  ...     [05_12FTD_test_group]\n",
              "238 2018-01-31 15:07:00  ...  [05_12FTD_control_group]\n",
              "\n",
              "[239 rows x 7 columns]"
            ]
          },
          "metadata": {},
          "execution_count": 38
        }
      ]
    },
    {
      "cell_type": "code",
      "metadata": {
        "id": "gh8Ax7Db6J2Y"
      },
      "source": [
        "def test_group(row): \n",
        "    group = row['test_group']\n",
        "    if group == '05_12FTD_control_group':\n",
        "            return 0\n",
        "    if group == '05_12FTD_test_group':\n",
        "            return 1\n",
        "payments['test_group'] = payments.apply(test_group, axis = 1)\n"
      ],
      "execution_count": 39,
      "outputs": []
    },
    {
      "cell_type": "markdown",
      "metadata": {
        "id": "JlMQ87l-6OYj"
      },
      "source": [
        "Итого, имеем 239 платежей.\n",
        "\n",
        "Чтобы исключить проблему подсматривания, проанализируем графики накапливаемых данных."
      ]
    },
    {
      "cell_type": "code",
      "metadata": {
        "colab": {
          "base_uri": "https://localhost:8080/",
          "height": 1000
        },
        "id": "TgY4jTXr6Mdo",
        "outputId": "cbad9f7b-993d-48ee-ad54-c3eee970dc64"
      },
      "source": [
        "# создаем массив уникальных пар значений дат и групп теста\n",
        "datesGroups = payments[['date','test_group']].drop_duplicates()\n",
        "datesGroups"
      ],
      "execution_count": 40,
      "outputs": [
        {
          "output_type": "execute_result",
          "data": {
            "text/html": [
              "<div>\n",
              "<style scoped>\n",
              "    .dataframe tbody tr th:only-of-type {\n",
              "        vertical-align: middle;\n",
              "    }\n",
              "\n",
              "    .dataframe tbody tr th {\n",
              "        vertical-align: top;\n",
              "    }\n",
              "\n",
              "    .dataframe thead th {\n",
              "        text-align: right;\n",
              "    }\n",
              "</style>\n",
              "<table border=\"1\" class=\"dataframe\">\n",
              "  <thead>\n",
              "    <tr style=\"text-align: right;\">\n",
              "      <th></th>\n",
              "      <th>date</th>\n",
              "      <th>test_group</th>\n",
              "    </tr>\n",
              "  </thead>\n",
              "  <tbody>\n",
              "    <tr>\n",
              "      <th>0</th>\n",
              "      <td>2017-12-31</td>\n",
              "      <td>1</td>\n",
              "    </tr>\n",
              "    <tr>\n",
              "      <th>1</th>\n",
              "      <td>2018-01-08</td>\n",
              "      <td>1</td>\n",
              "    </tr>\n",
              "    <tr>\n",
              "      <th>3</th>\n",
              "      <td>2018-01-01</td>\n",
              "      <td>0</td>\n",
              "    </tr>\n",
              "    <tr>\n",
              "      <th>4</th>\n",
              "      <td>2018-01-08</td>\n",
              "      <td>0</td>\n",
              "    </tr>\n",
              "    <tr>\n",
              "      <th>5</th>\n",
              "      <td>2018-01-01</td>\n",
              "      <td>1</td>\n",
              "    </tr>\n",
              "    <tr>\n",
              "      <th>7</th>\n",
              "      <td>2018-01-09</td>\n",
              "      <td>1</td>\n",
              "    </tr>\n",
              "    <tr>\n",
              "      <th>10</th>\n",
              "      <td>2018-01-02</td>\n",
              "      <td>1</td>\n",
              "    </tr>\n",
              "    <tr>\n",
              "      <th>15</th>\n",
              "      <td>2018-01-02</td>\n",
              "      <td>0</td>\n",
              "    </tr>\n",
              "    <tr>\n",
              "      <th>16</th>\n",
              "      <td>2018-01-03</td>\n",
              "      <td>0</td>\n",
              "    </tr>\n",
              "    <tr>\n",
              "      <th>18</th>\n",
              "      <td>2018-01-04</td>\n",
              "      <td>0</td>\n",
              "    </tr>\n",
              "    <tr>\n",
              "      <th>19</th>\n",
              "      <td>2018-01-03</td>\n",
              "      <td>1</td>\n",
              "    </tr>\n",
              "    <tr>\n",
              "      <th>20</th>\n",
              "      <td>2018-01-10</td>\n",
              "      <td>1</td>\n",
              "    </tr>\n",
              "    <tr>\n",
              "      <th>22</th>\n",
              "      <td>2018-01-10</td>\n",
              "      <td>0</td>\n",
              "    </tr>\n",
              "    <tr>\n",
              "      <th>23</th>\n",
              "      <td>2018-01-11</td>\n",
              "      <td>0</td>\n",
              "    </tr>\n",
              "    <tr>\n",
              "      <th>26</th>\n",
              "      <td>2018-01-04</td>\n",
              "      <td>1</td>\n",
              "    </tr>\n",
              "    <tr>\n",
              "      <th>27</th>\n",
              "      <td>2018-01-05</td>\n",
              "      <td>1</td>\n",
              "    </tr>\n",
              "    <tr>\n",
              "      <th>28</th>\n",
              "      <td>2018-01-12</td>\n",
              "      <td>1</td>\n",
              "    </tr>\n",
              "    <tr>\n",
              "      <th>30</th>\n",
              "      <td>2018-01-05</td>\n",
              "      <td>0</td>\n",
              "    </tr>\n",
              "    <tr>\n",
              "      <th>32</th>\n",
              "      <td>2018-01-06</td>\n",
              "      <td>0</td>\n",
              "    </tr>\n",
              "    <tr>\n",
              "      <th>36</th>\n",
              "      <td>2018-01-19</td>\n",
              "      <td>1</td>\n",
              "    </tr>\n",
              "    <tr>\n",
              "      <th>39</th>\n",
              "      <td>2018-01-06</td>\n",
              "      <td>1</td>\n",
              "    </tr>\n",
              "    <tr>\n",
              "      <th>40</th>\n",
              "      <td>2018-01-13</td>\n",
              "      <td>1</td>\n",
              "    </tr>\n",
              "    <tr>\n",
              "      <th>42</th>\n",
              "      <td>2018-01-13</td>\n",
              "      <td>0</td>\n",
              "    </tr>\n",
              "    <tr>\n",
              "      <th>46</th>\n",
              "      <td>2018-01-14</td>\n",
              "      <td>1</td>\n",
              "    </tr>\n",
              "    <tr>\n",
              "      <th>50</th>\n",
              "      <td>2018-01-07</td>\n",
              "      <td>1</td>\n",
              "    </tr>\n",
              "    <tr>\n",
              "      <th>55</th>\n",
              "      <td>2018-01-07</td>\n",
              "      <td>0</td>\n",
              "    </tr>\n",
              "    <tr>\n",
              "      <th>56</th>\n",
              "      <td>2018-01-14</td>\n",
              "      <td>0</td>\n",
              "    </tr>\n",
              "    <tr>\n",
              "      <th>76</th>\n",
              "      <td>2018-01-26</td>\n",
              "      <td>1</td>\n",
              "    </tr>\n",
              "    <tr>\n",
              "      <th>97</th>\n",
              "      <td>2018-01-15</td>\n",
              "      <td>0</td>\n",
              "    </tr>\n",
              "    <tr>\n",
              "      <th>114</th>\n",
              "      <td>2018-01-15</td>\n",
              "      <td>1</td>\n",
              "    </tr>\n",
              "    <tr>\n",
              "      <th>124</th>\n",
              "      <td>2018-01-16</td>\n",
              "      <td>0</td>\n",
              "    </tr>\n",
              "    <tr>\n",
              "      <th>143</th>\n",
              "      <td>2018-01-16</td>\n",
              "      <td>1</td>\n",
              "    </tr>\n",
              "    <tr>\n",
              "      <th>151</th>\n",
              "      <td>2018-01-09</td>\n",
              "      <td>0</td>\n",
              "    </tr>\n",
              "    <tr>\n",
              "      <th>154</th>\n",
              "      <td>2018-01-17</td>\n",
              "      <td>1</td>\n",
              "    </tr>\n",
              "    <tr>\n",
              "      <th>158</th>\n",
              "      <td>2018-01-11</td>\n",
              "      <td>1</td>\n",
              "    </tr>\n",
              "    <tr>\n",
              "      <th>159</th>\n",
              "      <td>2018-01-18</td>\n",
              "      <td>1</td>\n",
              "    </tr>\n",
              "    <tr>\n",
              "      <th>162</th>\n",
              "      <td>2018-01-20</td>\n",
              "      <td>1</td>\n",
              "    </tr>\n",
              "    <tr>\n",
              "      <th>166</th>\n",
              "      <td>2018-01-21</td>\n",
              "      <td>1</td>\n",
              "    </tr>\n",
              "    <tr>\n",
              "      <th>168</th>\n",
              "      <td>2018-01-21</td>\n",
              "      <td>0</td>\n",
              "    </tr>\n",
              "    <tr>\n",
              "      <th>172</th>\n",
              "      <td>2018-01-22</td>\n",
              "      <td>0</td>\n",
              "    </tr>\n",
              "    <tr>\n",
              "      <th>175</th>\n",
              "      <td>2018-01-17</td>\n",
              "      <td>0</td>\n",
              "    </tr>\n",
              "    <tr>\n",
              "      <th>177</th>\n",
              "      <td>2018-01-29</td>\n",
              "      <td>1</td>\n",
              "    </tr>\n",
              "    <tr>\n",
              "      <th>179</th>\n",
              "      <td>2018-01-23</td>\n",
              "      <td>0</td>\n",
              "    </tr>\n",
              "    <tr>\n",
              "      <th>180</th>\n",
              "      <td>2018-01-24</td>\n",
              "      <td>0</td>\n",
              "    </tr>\n",
              "    <tr>\n",
              "      <th>184</th>\n",
              "      <td>2018-01-23</td>\n",
              "      <td>1</td>\n",
              "    </tr>\n",
              "    <tr>\n",
              "      <th>185</th>\n",
              "      <td>2018-01-18</td>\n",
              "      <td>0</td>\n",
              "    </tr>\n",
              "    <tr>\n",
              "      <th>189</th>\n",
              "      <td>2018-01-19</td>\n",
              "      <td>0</td>\n",
              "    </tr>\n",
              "    <tr>\n",
              "      <th>190</th>\n",
              "      <td>2018-01-26</td>\n",
              "      <td>0</td>\n",
              "    </tr>\n",
              "    <tr>\n",
              "      <th>196</th>\n",
              "      <td>2018-01-27</td>\n",
              "      <td>0</td>\n",
              "    </tr>\n",
              "    <tr>\n",
              "      <th>200</th>\n",
              "      <td>2018-01-27</td>\n",
              "      <td>1</td>\n",
              "    </tr>\n",
              "    <tr>\n",
              "      <th>205</th>\n",
              "      <td>2018-01-28</td>\n",
              "      <td>1</td>\n",
              "    </tr>\n",
              "    <tr>\n",
              "      <th>214</th>\n",
              "      <td>2018-01-22</td>\n",
              "      <td>1</td>\n",
              "    </tr>\n",
              "    <tr>\n",
              "      <th>218</th>\n",
              "      <td>2018-01-30</td>\n",
              "      <td>0</td>\n",
              "    </tr>\n",
              "    <tr>\n",
              "      <th>219</th>\n",
              "      <td>2018-01-24</td>\n",
              "      <td>1</td>\n",
              "    </tr>\n",
              "    <tr>\n",
              "      <th>222</th>\n",
              "      <td>2018-01-31</td>\n",
              "      <td>0</td>\n",
              "    </tr>\n",
              "    <tr>\n",
              "      <th>223</th>\n",
              "      <td>2018-01-25</td>\n",
              "      <td>0</td>\n",
              "    </tr>\n",
              "    <tr>\n",
              "      <th>224</th>\n",
              "      <td>2018-01-25</td>\n",
              "      <td>1</td>\n",
              "    </tr>\n",
              "    <tr>\n",
              "      <th>231</th>\n",
              "      <td>2018-01-28</td>\n",
              "      <td>0</td>\n",
              "    </tr>\n",
              "    <tr>\n",
              "      <th>235</th>\n",
              "      <td>2018-01-30</td>\n",
              "      <td>1</td>\n",
              "    </tr>\n",
              "    <tr>\n",
              "      <th>237</th>\n",
              "      <td>2018-01-31</td>\n",
              "      <td>1</td>\n",
              "    </tr>\n",
              "  </tbody>\n",
              "</table>\n",
              "</div>"
            ],
            "text/plain": [
              "           date  test_group\n",
              "0    2017-12-31           1\n",
              "1    2018-01-08           1\n",
              "3    2018-01-01           0\n",
              "4    2018-01-08           0\n",
              "5    2018-01-01           1\n",
              "7    2018-01-09           1\n",
              "10   2018-01-02           1\n",
              "15   2018-01-02           0\n",
              "16   2018-01-03           0\n",
              "18   2018-01-04           0\n",
              "19   2018-01-03           1\n",
              "20   2018-01-10           1\n",
              "22   2018-01-10           0\n",
              "23   2018-01-11           0\n",
              "26   2018-01-04           1\n",
              "27   2018-01-05           1\n",
              "28   2018-01-12           1\n",
              "30   2018-01-05           0\n",
              "32   2018-01-06           0\n",
              "36   2018-01-19           1\n",
              "39   2018-01-06           1\n",
              "40   2018-01-13           1\n",
              "42   2018-01-13           0\n",
              "46   2018-01-14           1\n",
              "50   2018-01-07           1\n",
              "55   2018-01-07           0\n",
              "56   2018-01-14           0\n",
              "76   2018-01-26           1\n",
              "97   2018-01-15           0\n",
              "114  2018-01-15           1\n",
              "124  2018-01-16           0\n",
              "143  2018-01-16           1\n",
              "151  2018-01-09           0\n",
              "154  2018-01-17           1\n",
              "158  2018-01-11           1\n",
              "159  2018-01-18           1\n",
              "162  2018-01-20           1\n",
              "166  2018-01-21           1\n",
              "168  2018-01-21           0\n",
              "172  2018-01-22           0\n",
              "175  2018-01-17           0\n",
              "177  2018-01-29           1\n",
              "179  2018-01-23           0\n",
              "180  2018-01-24           0\n",
              "184  2018-01-23           1\n",
              "185  2018-01-18           0\n",
              "189  2018-01-19           0\n",
              "190  2018-01-26           0\n",
              "196  2018-01-27           0\n",
              "200  2018-01-27           1\n",
              "205  2018-01-28           1\n",
              "214  2018-01-22           1\n",
              "218  2018-01-30           0\n",
              "219  2018-01-24           1\n",
              "222  2018-01-31           0\n",
              "223  2018-01-25           0\n",
              "224  2018-01-25           1\n",
              "231  2018-01-28           0\n",
              "235  2018-01-30           1\n",
              "237  2018-01-31           1"
            ]
          },
          "metadata": {},
          "execution_count": 40
        }
      ]
    },
    {
      "cell_type": "code",
      "metadata": {
        "colab": {
          "base_uri": "https://localhost:8080/",
          "height": 1000
        },
        "id": "uBlFnvdF6Qvx",
        "outputId": "9a201c1f-e9f5-4f0f-b111-8290abdd7d2f"
      },
      "source": [
        "# получаем агрегированные кумулятивные по дням данные о транзакциях \n",
        "ordersAggregated = datesGroups.apply(lambda x: payments[np.logical_and(payments['date'] <= x['date'], payments['test_group'] == x['test_group'])].agg({'date' : 'max', 'test_group' : 'max', 'event_name' : pd.Series.count, 'uid' : pd.Series.nunique, 'price' : 'sum'}), axis=1).sort_values(by=['date','test_group'])\n",
        "ordersAggregated"
      ],
      "execution_count": 41,
      "outputs": [
        {
          "output_type": "execute_result",
          "data": {
            "text/html": [
              "<div>\n",
              "<style scoped>\n",
              "    .dataframe tbody tr th:only-of-type {\n",
              "        vertical-align: middle;\n",
              "    }\n",
              "\n",
              "    .dataframe tbody tr th {\n",
              "        vertical-align: top;\n",
              "    }\n",
              "\n",
              "    .dataframe thead th {\n",
              "        text-align: right;\n",
              "    }\n",
              "</style>\n",
              "<table border=\"1\" class=\"dataframe\">\n",
              "  <thead>\n",
              "    <tr style=\"text-align: right;\">\n",
              "      <th></th>\n",
              "      <th>date</th>\n",
              "      <th>test_group</th>\n",
              "      <th>event_name</th>\n",
              "      <th>uid</th>\n",
              "      <th>price</th>\n",
              "    </tr>\n",
              "  </thead>\n",
              "  <tbody>\n",
              "    <tr>\n",
              "      <th>0</th>\n",
              "      <td>2017-12-31</td>\n",
              "      <td>1</td>\n",
              "      <td>1</td>\n",
              "      <td>1</td>\n",
              "      <td>0.00</td>\n",
              "    </tr>\n",
              "    <tr>\n",
              "      <th>3</th>\n",
              "      <td>2018-01-01</td>\n",
              "      <td>0</td>\n",
              "      <td>1</td>\n",
              "      <td>1</td>\n",
              "      <td>0.00</td>\n",
              "    </tr>\n",
              "    <tr>\n",
              "      <th>5</th>\n",
              "      <td>2018-01-01</td>\n",
              "      <td>1</td>\n",
              "      <td>3</td>\n",
              "      <td>3</td>\n",
              "      <td>0.00</td>\n",
              "    </tr>\n",
              "    <tr>\n",
              "      <th>15</th>\n",
              "      <td>2018-01-02</td>\n",
              "      <td>0</td>\n",
              "      <td>2</td>\n",
              "      <td>2</td>\n",
              "      <td>7.99</td>\n",
              "    </tr>\n",
              "    <tr>\n",
              "      <th>10</th>\n",
              "      <td>2018-01-02</td>\n",
              "      <td>1</td>\n",
              "      <td>7</td>\n",
              "      <td>6</td>\n",
              "      <td>55.97</td>\n",
              "    </tr>\n",
              "    <tr>\n",
              "      <th>16</th>\n",
              "      <td>2018-01-03</td>\n",
              "      <td>0</td>\n",
              "      <td>5</td>\n",
              "      <td>4</td>\n",
              "      <td>23.97</td>\n",
              "    </tr>\n",
              "    <tr>\n",
              "      <th>19</th>\n",
              "      <td>2018-01-03</td>\n",
              "      <td>1</td>\n",
              "      <td>9</td>\n",
              "      <td>8</td>\n",
              "      <td>55.97</td>\n",
              "    </tr>\n",
              "    <tr>\n",
              "      <th>18</th>\n",
              "      <td>2018-01-04</td>\n",
              "      <td>0</td>\n",
              "      <td>6</td>\n",
              "      <td>4</td>\n",
              "      <td>31.96</td>\n",
              "    </tr>\n",
              "    <tr>\n",
              "      <th>26</th>\n",
              "      <td>2018-01-04</td>\n",
              "      <td>1</td>\n",
              "      <td>10</td>\n",
              "      <td>9</td>\n",
              "      <td>95.96</td>\n",
              "    </tr>\n",
              "    <tr>\n",
              "      <th>30</th>\n",
              "      <td>2018-01-05</td>\n",
              "      <td>0</td>\n",
              "      <td>10</td>\n",
              "      <td>8</td>\n",
              "      <td>55.93</td>\n",
              "    </tr>\n",
              "    <tr>\n",
              "      <th>27</th>\n",
              "      <td>2018-01-05</td>\n",
              "      <td>1</td>\n",
              "      <td>12</td>\n",
              "      <td>11</td>\n",
              "      <td>95.96</td>\n",
              "    </tr>\n",
              "    <tr>\n",
              "      <th>32</th>\n",
              "      <td>2018-01-06</td>\n",
              "      <td>0</td>\n",
              "      <td>17</td>\n",
              "      <td>13</td>\n",
              "      <td>79.90</td>\n",
              "    </tr>\n",
              "    <tr>\n",
              "      <th>39</th>\n",
              "      <td>2018-01-06</td>\n",
              "      <td>1</td>\n",
              "      <td>15</td>\n",
              "      <td>14</td>\n",
              "      <td>95.96</td>\n",
              "    </tr>\n",
              "    <tr>\n",
              "      <th>55</th>\n",
              "      <td>2018-01-07</td>\n",
              "      <td>0</td>\n",
              "      <td>41</td>\n",
              "      <td>37</td>\n",
              "      <td>79.90</td>\n",
              "    </tr>\n",
              "    <tr>\n",
              "      <th>50</th>\n",
              "      <td>2018-01-07</td>\n",
              "      <td>1</td>\n",
              "      <td>22</td>\n",
              "      <td>21</td>\n",
              "      <td>103.95</td>\n",
              "    </tr>\n",
              "    <tr>\n",
              "      <th>4</th>\n",
              "      <td>2018-01-08</td>\n",
              "      <td>0</td>\n",
              "      <td>48</td>\n",
              "      <td>43</td>\n",
              "      <td>87.89</td>\n",
              "    </tr>\n",
              "    <tr>\n",
              "      <th>1</th>\n",
              "      <td>2018-01-08</td>\n",
              "      <td>1</td>\n",
              "      <td>36</td>\n",
              "      <td>31</td>\n",
              "      <td>135.91</td>\n",
              "    </tr>\n",
              "    <tr>\n",
              "      <th>151</th>\n",
              "      <td>2018-01-09</td>\n",
              "      <td>0</td>\n",
              "      <td>50</td>\n",
              "      <td>45</td>\n",
              "      <td>87.89</td>\n",
              "    </tr>\n",
              "    <tr>\n",
              "      <th>7</th>\n",
              "      <td>2018-01-09</td>\n",
              "      <td>1</td>\n",
              "      <td>41</td>\n",
              "      <td>33</td>\n",
              "      <td>159.88</td>\n",
              "    </tr>\n",
              "    <tr>\n",
              "      <th>22</th>\n",
              "      <td>2018-01-10</td>\n",
              "      <td>0</td>\n",
              "      <td>52</td>\n",
              "      <td>46</td>\n",
              "      <td>103.87</td>\n",
              "    </tr>\n",
              "    <tr>\n",
              "      <th>20</th>\n",
              "      <td>2018-01-10</td>\n",
              "      <td>1</td>\n",
              "      <td>43</td>\n",
              "      <td>33</td>\n",
              "      <td>175.86</td>\n",
              "    </tr>\n",
              "    <tr>\n",
              "      <th>23</th>\n",
              "      <td>2018-01-11</td>\n",
              "      <td>0</td>\n",
              "      <td>53</td>\n",
              "      <td>46</td>\n",
              "      <td>111.86</td>\n",
              "    </tr>\n",
              "    <tr>\n",
              "      <th>158</th>\n",
              "      <td>2018-01-11</td>\n",
              "      <td>1</td>\n",
              "      <td>44</td>\n",
              "      <td>34</td>\n",
              "      <td>175.86</td>\n",
              "    </tr>\n",
              "    <tr>\n",
              "      <th>28</th>\n",
              "      <td>2018-01-12</td>\n",
              "      <td>1</td>\n",
              "      <td>47</td>\n",
              "      <td>35</td>\n",
              "      <td>191.84</td>\n",
              "    </tr>\n",
              "    <tr>\n",
              "      <th>42</th>\n",
              "      <td>2018-01-13</td>\n",
              "      <td>0</td>\n",
              "      <td>54</td>\n",
              "      <td>46</td>\n",
              "      <td>119.85</td>\n",
              "    </tr>\n",
              "    <tr>\n",
              "      <th>40</th>\n",
              "      <td>2018-01-13</td>\n",
              "      <td>1</td>\n",
              "      <td>50</td>\n",
              "      <td>36</td>\n",
              "      <td>207.82</td>\n",
              "    </tr>\n",
              "    <tr>\n",
              "      <th>56</th>\n",
              "      <td>2018-01-14</td>\n",
              "      <td>0</td>\n",
              "      <td>84</td>\n",
              "      <td>48</td>\n",
              "      <td>343.57</td>\n",
              "    </tr>\n",
              "    <tr>\n",
              "      <th>46</th>\n",
              "      <td>2018-01-14</td>\n",
              "      <td>1</td>\n",
              "      <td>62</td>\n",
              "      <td>39</td>\n",
              "      <td>279.73</td>\n",
              "    </tr>\n",
              "    <tr>\n",
              "      <th>97</th>\n",
              "      <td>2018-01-15</td>\n",
              "      <td>0</td>\n",
              "      <td>91</td>\n",
              "      <td>49</td>\n",
              "      <td>391.51</td>\n",
              "    </tr>\n",
              "    <tr>\n",
              "      <th>114</th>\n",
              "      <td>2018-01-15</td>\n",
              "      <td>1</td>\n",
              "      <td>69</td>\n",
              "      <td>39</td>\n",
              "      <td>335.66</td>\n",
              "    </tr>\n",
              "    <tr>\n",
              "      <th>124</th>\n",
              "      <td>2018-01-16</td>\n",
              "      <td>0</td>\n",
              "      <td>97</td>\n",
              "      <td>52</td>\n",
              "      <td>415.48</td>\n",
              "    </tr>\n",
              "    <tr>\n",
              "      <th>143</th>\n",
              "      <td>2018-01-16</td>\n",
              "      <td>1</td>\n",
              "      <td>72</td>\n",
              "      <td>40</td>\n",
              "      <td>351.64</td>\n",
              "    </tr>\n",
              "    <tr>\n",
              "      <th>175</th>\n",
              "      <td>2018-01-17</td>\n",
              "      <td>0</td>\n",
              "      <td>98</td>\n",
              "      <td>52</td>\n",
              "      <td>423.47</td>\n",
              "    </tr>\n",
              "    <tr>\n",
              "      <th>154</th>\n",
              "      <td>2018-01-17</td>\n",
              "      <td>1</td>\n",
              "      <td>74</td>\n",
              "      <td>41</td>\n",
              "      <td>359.63</td>\n",
              "    </tr>\n",
              "    <tr>\n",
              "      <th>185</th>\n",
              "      <td>2018-01-18</td>\n",
              "      <td>0</td>\n",
              "      <td>100</td>\n",
              "      <td>54</td>\n",
              "      <td>423.47</td>\n",
              "    </tr>\n",
              "    <tr>\n",
              "      <th>159</th>\n",
              "      <td>2018-01-18</td>\n",
              "      <td>1</td>\n",
              "      <td>76</td>\n",
              "      <td>42</td>\n",
              "      <td>367.62</td>\n",
              "    </tr>\n",
              "    <tr>\n",
              "      <th>189</th>\n",
              "      <td>2018-01-19</td>\n",
              "      <td>0</td>\n",
              "      <td>102</td>\n",
              "      <td>56</td>\n",
              "      <td>423.47</td>\n",
              "    </tr>\n",
              "    <tr>\n",
              "      <th>36</th>\n",
              "      <td>2018-01-19</td>\n",
              "      <td>1</td>\n",
              "      <td>79</td>\n",
              "      <td>44</td>\n",
              "      <td>375.61</td>\n",
              "    </tr>\n",
              "    <tr>\n",
              "      <th>162</th>\n",
              "      <td>2018-01-20</td>\n",
              "      <td>1</td>\n",
              "      <td>83</td>\n",
              "      <td>47</td>\n",
              "      <td>383.60</td>\n",
              "    </tr>\n",
              "    <tr>\n",
              "      <th>168</th>\n",
              "      <td>2018-01-21</td>\n",
              "      <td>0</td>\n",
              "      <td>104</td>\n",
              "      <td>56</td>\n",
              "      <td>439.45</td>\n",
              "    </tr>\n",
              "    <tr>\n",
              "      <th>166</th>\n",
              "      <td>2018-01-21</td>\n",
              "      <td>1</td>\n",
              "      <td>89</td>\n",
              "      <td>52</td>\n",
              "      <td>399.58</td>\n",
              "    </tr>\n",
              "    <tr>\n",
              "      <th>172</th>\n",
              "      <td>2018-01-22</td>\n",
              "      <td>0</td>\n",
              "      <td>106</td>\n",
              "      <td>56</td>\n",
              "      <td>455.43</td>\n",
              "    </tr>\n",
              "    <tr>\n",
              "      <th>214</th>\n",
              "      <td>2018-01-22</td>\n",
              "      <td>1</td>\n",
              "      <td>90</td>\n",
              "      <td>53</td>\n",
              "      <td>399.58</td>\n",
              "    </tr>\n",
              "    <tr>\n",
              "      <th>179</th>\n",
              "      <td>2018-01-23</td>\n",
              "      <td>0</td>\n",
              "      <td>107</td>\n",
              "      <td>56</td>\n",
              "      <td>463.42</td>\n",
              "    </tr>\n",
              "    <tr>\n",
              "      <th>184</th>\n",
              "      <td>2018-01-23</td>\n",
              "      <td>1</td>\n",
              "      <td>92</td>\n",
              "      <td>54</td>\n",
              "      <td>407.57</td>\n",
              "    </tr>\n",
              "    <tr>\n",
              "      <th>180</th>\n",
              "      <td>2018-01-24</td>\n",
              "      <td>0</td>\n",
              "      <td>110</td>\n",
              "      <td>58</td>\n",
              "      <td>471.41</td>\n",
              "    </tr>\n",
              "    <tr>\n",
              "      <th>219</th>\n",
              "      <td>2018-01-24</td>\n",
              "      <td>1</td>\n",
              "      <td>94</td>\n",
              "      <td>56</td>\n",
              "      <td>407.57</td>\n",
              "    </tr>\n",
              "    <tr>\n",
              "      <th>223</th>\n",
              "      <td>2018-01-25</td>\n",
              "      <td>0</td>\n",
              "      <td>111</td>\n",
              "      <td>59</td>\n",
              "      <td>471.41</td>\n",
              "    </tr>\n",
              "    <tr>\n",
              "      <th>224</th>\n",
              "      <td>2018-01-25</td>\n",
              "      <td>1</td>\n",
              "      <td>95</td>\n",
              "      <td>57</td>\n",
              "      <td>447.56</td>\n",
              "    </tr>\n",
              "    <tr>\n",
              "      <th>190</th>\n",
              "      <td>2018-01-26</td>\n",
              "      <td>0</td>\n",
              "      <td>114</td>\n",
              "      <td>59</td>\n",
              "      <td>495.38</td>\n",
              "    </tr>\n",
              "    <tr>\n",
              "      <th>76</th>\n",
              "      <td>2018-01-26</td>\n",
              "      <td>1</td>\n",
              "      <td>98</td>\n",
              "      <td>58</td>\n",
              "      <td>463.54</td>\n",
              "    </tr>\n",
              "    <tr>\n",
              "      <th>196</th>\n",
              "      <td>2018-01-27</td>\n",
              "      <td>0</td>\n",
              "      <td>115</td>\n",
              "      <td>59</td>\n",
              "      <td>503.37</td>\n",
              "    </tr>\n",
              "    <tr>\n",
              "      <th>200</th>\n",
              "      <td>2018-01-27</td>\n",
              "      <td>1</td>\n",
              "      <td>102</td>\n",
              "      <td>59</td>\n",
              "      <td>487.51</td>\n",
              "    </tr>\n",
              "    <tr>\n",
              "      <th>231</th>\n",
              "      <td>2018-01-28</td>\n",
              "      <td>0</td>\n",
              "      <td>118</td>\n",
              "      <td>62</td>\n",
              "      <td>503.37</td>\n",
              "    </tr>\n",
              "    <tr>\n",
              "      <th>205</th>\n",
              "      <td>2018-01-28</td>\n",
              "      <td>1</td>\n",
              "      <td>110</td>\n",
              "      <td>63</td>\n",
              "      <td>535.45</td>\n",
              "    </tr>\n",
              "    <tr>\n",
              "      <th>177</th>\n",
              "      <td>2018-01-29</td>\n",
              "      <td>1</td>\n",
              "      <td>115</td>\n",
              "      <td>64</td>\n",
              "      <td>567.41</td>\n",
              "    </tr>\n",
              "    <tr>\n",
              "      <th>218</th>\n",
              "      <td>2018-01-30</td>\n",
              "      <td>0</td>\n",
              "      <td>119</td>\n",
              "      <td>62</td>\n",
              "      <td>511.36</td>\n",
              "    </tr>\n",
              "    <tr>\n",
              "      <th>235</th>\n",
              "      <td>2018-01-30</td>\n",
              "      <td>1</td>\n",
              "      <td>117</td>\n",
              "      <td>66</td>\n",
              "      <td>575.40</td>\n",
              "    </tr>\n",
              "    <tr>\n",
              "      <th>222</th>\n",
              "      <td>2018-01-31</td>\n",
              "      <td>0</td>\n",
              "      <td>121</td>\n",
              "      <td>63</td>\n",
              "      <td>519.35</td>\n",
              "    </tr>\n",
              "    <tr>\n",
              "      <th>237</th>\n",
              "      <td>2018-01-31</td>\n",
              "      <td>1</td>\n",
              "      <td>118</td>\n",
              "      <td>67</td>\n",
              "      <td>575.40</td>\n",
              "    </tr>\n",
              "  </tbody>\n",
              "</table>\n",
              "</div>"
            ],
            "text/plain": [
              "           date  test_group  event_name  uid   price\n",
              "0    2017-12-31           1           1    1    0.00\n",
              "3    2018-01-01           0           1    1    0.00\n",
              "5    2018-01-01           1           3    3    0.00\n",
              "15   2018-01-02           0           2    2    7.99\n",
              "10   2018-01-02           1           7    6   55.97\n",
              "16   2018-01-03           0           5    4   23.97\n",
              "19   2018-01-03           1           9    8   55.97\n",
              "18   2018-01-04           0           6    4   31.96\n",
              "26   2018-01-04           1          10    9   95.96\n",
              "30   2018-01-05           0          10    8   55.93\n",
              "27   2018-01-05           1          12   11   95.96\n",
              "32   2018-01-06           0          17   13   79.90\n",
              "39   2018-01-06           1          15   14   95.96\n",
              "55   2018-01-07           0          41   37   79.90\n",
              "50   2018-01-07           1          22   21  103.95\n",
              "4    2018-01-08           0          48   43   87.89\n",
              "1    2018-01-08           1          36   31  135.91\n",
              "151  2018-01-09           0          50   45   87.89\n",
              "7    2018-01-09           1          41   33  159.88\n",
              "22   2018-01-10           0          52   46  103.87\n",
              "20   2018-01-10           1          43   33  175.86\n",
              "23   2018-01-11           0          53   46  111.86\n",
              "158  2018-01-11           1          44   34  175.86\n",
              "28   2018-01-12           1          47   35  191.84\n",
              "42   2018-01-13           0          54   46  119.85\n",
              "40   2018-01-13           1          50   36  207.82\n",
              "56   2018-01-14           0          84   48  343.57\n",
              "46   2018-01-14           1          62   39  279.73\n",
              "97   2018-01-15           0          91   49  391.51\n",
              "114  2018-01-15           1          69   39  335.66\n",
              "124  2018-01-16           0          97   52  415.48\n",
              "143  2018-01-16           1          72   40  351.64\n",
              "175  2018-01-17           0          98   52  423.47\n",
              "154  2018-01-17           1          74   41  359.63\n",
              "185  2018-01-18           0         100   54  423.47\n",
              "159  2018-01-18           1          76   42  367.62\n",
              "189  2018-01-19           0         102   56  423.47\n",
              "36   2018-01-19           1          79   44  375.61\n",
              "162  2018-01-20           1          83   47  383.60\n",
              "168  2018-01-21           0         104   56  439.45\n",
              "166  2018-01-21           1          89   52  399.58\n",
              "172  2018-01-22           0         106   56  455.43\n",
              "214  2018-01-22           1          90   53  399.58\n",
              "179  2018-01-23           0         107   56  463.42\n",
              "184  2018-01-23           1          92   54  407.57\n",
              "180  2018-01-24           0         110   58  471.41\n",
              "219  2018-01-24           1          94   56  407.57\n",
              "223  2018-01-25           0         111   59  471.41\n",
              "224  2018-01-25           1          95   57  447.56\n",
              "190  2018-01-26           0         114   59  495.38\n",
              "76   2018-01-26           1          98   58  463.54\n",
              "196  2018-01-27           0         115   59  503.37\n",
              "200  2018-01-27           1         102   59  487.51\n",
              "231  2018-01-28           0         118   62  503.37\n",
              "205  2018-01-28           1         110   63  535.45\n",
              "177  2018-01-29           1         115   64  567.41\n",
              "218  2018-01-30           0         119   62  511.36\n",
              "235  2018-01-30           1         117   66  575.40\n",
              "222  2018-01-31           0         121   63  519.35\n",
              "237  2018-01-31           1         118   67  575.40"
            ]
          },
          "metadata": {},
          "execution_count": 41
        }
      ]
    },
    {
      "cell_type": "code",
      "metadata": {
        "id": "PFlvQMBP6TU1"
      },
      "source": [
        "sessions['test_group'] = sessions.apply(test_group, axis = 1)"
      ],
      "execution_count": 42,
      "outputs": []
    },
    {
      "cell_type": "code",
      "metadata": {
        "colab": {
          "base_uri": "https://localhost:8080/",
          "height": 1000
        },
        "id": "NZm_cQAQ6VzR",
        "outputId": "003841bf-1229-4e2d-8f70-0f642e4426ac"
      },
      "source": [
        "# получаем агрегированные кумулятивные по дням данные о посетителях  \n",
        "visitorsAggregated = datesGroups.apply(lambda x: sessions[np.logical_and(sessions['date'] <= x['date'], sessions['test_group'] == x['test_group'])].agg({'date' : 'max', 'test_group' : 'max', 'uid' : 'nunique'}), axis=1).sort_values(by=['date','test_group'])\n",
        "visitorsAggregated"
      ],
      "execution_count": 43,
      "outputs": [
        {
          "output_type": "execute_result",
          "data": {
            "text/html": [
              "<div>\n",
              "<style scoped>\n",
              "    .dataframe tbody tr th:only-of-type {\n",
              "        vertical-align: middle;\n",
              "    }\n",
              "\n",
              "    .dataframe tbody tr th {\n",
              "        vertical-align: top;\n",
              "    }\n",
              "\n",
              "    .dataframe thead th {\n",
              "        text-align: right;\n",
              "    }\n",
              "</style>\n",
              "<table border=\"1\" class=\"dataframe\">\n",
              "  <thead>\n",
              "    <tr style=\"text-align: right;\">\n",
              "      <th></th>\n",
              "      <th>date</th>\n",
              "      <th>test_group</th>\n",
              "      <th>uid</th>\n",
              "    </tr>\n",
              "  </thead>\n",
              "  <tbody>\n",
              "    <tr>\n",
              "      <th>3</th>\n",
              "      <td>2018-01-01</td>\n",
              "      <td>0.0</td>\n",
              "      <td>4.0</td>\n",
              "    </tr>\n",
              "    <tr>\n",
              "      <th>5</th>\n",
              "      <td>2018-01-01</td>\n",
              "      <td>1.0</td>\n",
              "      <td>1.0</td>\n",
              "    </tr>\n",
              "    <tr>\n",
              "      <th>4</th>\n",
              "      <td>2018-01-02</td>\n",
              "      <td>0.0</td>\n",
              "      <td>5.0</td>\n",
              "    </tr>\n",
              "    <tr>\n",
              "      <th>15</th>\n",
              "      <td>2018-01-02</td>\n",
              "      <td>0.0</td>\n",
              "      <td>5.0</td>\n",
              "    </tr>\n",
              "    <tr>\n",
              "      <th>16</th>\n",
              "      <td>2018-01-02</td>\n",
              "      <td>0.0</td>\n",
              "      <td>5.0</td>\n",
              "    </tr>\n",
              "    <tr>\n",
              "      <th>18</th>\n",
              "      <td>2018-01-02</td>\n",
              "      <td>0.0</td>\n",
              "      <td>5.0</td>\n",
              "    </tr>\n",
              "    <tr>\n",
              "      <th>30</th>\n",
              "      <td>2018-01-02</td>\n",
              "      <td>0.0</td>\n",
              "      <td>5.0</td>\n",
              "    </tr>\n",
              "    <tr>\n",
              "      <th>32</th>\n",
              "      <td>2018-01-02</td>\n",
              "      <td>0.0</td>\n",
              "      <td>5.0</td>\n",
              "    </tr>\n",
              "    <tr>\n",
              "      <th>55</th>\n",
              "      <td>2018-01-02</td>\n",
              "      <td>0.0</td>\n",
              "      <td>5.0</td>\n",
              "    </tr>\n",
              "    <tr>\n",
              "      <th>10</th>\n",
              "      <td>2018-01-02</td>\n",
              "      <td>1.0</td>\n",
              "      <td>1.0</td>\n",
              "    </tr>\n",
              "    <tr>\n",
              "      <th>19</th>\n",
              "      <td>2018-01-03</td>\n",
              "      <td>1.0</td>\n",
              "      <td>2.0</td>\n",
              "    </tr>\n",
              "    <tr>\n",
              "      <th>26</th>\n",
              "      <td>2018-01-04</td>\n",
              "      <td>1.0</td>\n",
              "      <td>3.0</td>\n",
              "    </tr>\n",
              "    <tr>\n",
              "      <th>27</th>\n",
              "      <td>2018-01-05</td>\n",
              "      <td>1.0</td>\n",
              "      <td>5.0</td>\n",
              "    </tr>\n",
              "    <tr>\n",
              "      <th>39</th>\n",
              "      <td>2018-01-06</td>\n",
              "      <td>1.0</td>\n",
              "      <td>6.0</td>\n",
              "    </tr>\n",
              "    <tr>\n",
              "      <th>50</th>\n",
              "      <td>2018-01-07</td>\n",
              "      <td>1.0</td>\n",
              "      <td>7.0</td>\n",
              "    </tr>\n",
              "    <tr>\n",
              "      <th>1</th>\n",
              "      <td>2018-01-08</td>\n",
              "      <td>1.0</td>\n",
              "      <td>9.0</td>\n",
              "    </tr>\n",
              "    <tr>\n",
              "      <th>22</th>\n",
              "      <td>2018-01-09</td>\n",
              "      <td>0.0</td>\n",
              "      <td>6.0</td>\n",
              "    </tr>\n",
              "    <tr>\n",
              "      <th>23</th>\n",
              "      <td>2018-01-09</td>\n",
              "      <td>0.0</td>\n",
              "      <td>6.0</td>\n",
              "    </tr>\n",
              "    <tr>\n",
              "      <th>151</th>\n",
              "      <td>2018-01-09</td>\n",
              "      <td>0.0</td>\n",
              "      <td>6.0</td>\n",
              "    </tr>\n",
              "    <tr>\n",
              "      <th>7</th>\n",
              "      <td>2018-01-09</td>\n",
              "      <td>1.0</td>\n",
              "      <td>12.0</td>\n",
              "    </tr>\n",
              "    <tr>\n",
              "      <th>20</th>\n",
              "      <td>2018-01-10</td>\n",
              "      <td>1.0</td>\n",
              "      <td>13.0</td>\n",
              "    </tr>\n",
              "    <tr>\n",
              "      <th>158</th>\n",
              "      <td>2018-01-11</td>\n",
              "      <td>1.0</td>\n",
              "      <td>14.0</td>\n",
              "    </tr>\n",
              "    <tr>\n",
              "      <th>28</th>\n",
              "      <td>2018-01-12</td>\n",
              "      <td>1.0</td>\n",
              "      <td>15.0</td>\n",
              "    </tr>\n",
              "    <tr>\n",
              "      <th>42</th>\n",
              "      <td>2018-01-13</td>\n",
              "      <td>0.0</td>\n",
              "      <td>9.0</td>\n",
              "    </tr>\n",
              "    <tr>\n",
              "      <th>40</th>\n",
              "      <td>2018-01-13</td>\n",
              "      <td>1.0</td>\n",
              "      <td>16.0</td>\n",
              "    </tr>\n",
              "    <tr>\n",
              "      <th>46</th>\n",
              "      <td>2018-01-13</td>\n",
              "      <td>1.0</td>\n",
              "      <td>16.0</td>\n",
              "    </tr>\n",
              "    <tr>\n",
              "      <th>56</th>\n",
              "      <td>2018-01-14</td>\n",
              "      <td>0.0</td>\n",
              "      <td>10.0</td>\n",
              "    </tr>\n",
              "    <tr>\n",
              "      <th>97</th>\n",
              "      <td>2018-01-14</td>\n",
              "      <td>0.0</td>\n",
              "      <td>10.0</td>\n",
              "    </tr>\n",
              "    <tr>\n",
              "      <th>114</th>\n",
              "      <td>2018-01-15</td>\n",
              "      <td>1.0</td>\n",
              "      <td>18.0</td>\n",
              "    </tr>\n",
              "    <tr>\n",
              "      <th>143</th>\n",
              "      <td>2018-01-15</td>\n",
              "      <td>1.0</td>\n",
              "      <td>18.0</td>\n",
              "    </tr>\n",
              "    <tr>\n",
              "      <th>124</th>\n",
              "      <td>2018-01-16</td>\n",
              "      <td>0.0</td>\n",
              "      <td>10.0</td>\n",
              "    </tr>\n",
              "    <tr>\n",
              "      <th>175</th>\n",
              "      <td>2018-01-16</td>\n",
              "      <td>0.0</td>\n",
              "      <td>10.0</td>\n",
              "    </tr>\n",
              "    <tr>\n",
              "      <th>154</th>\n",
              "      <td>2018-01-17</td>\n",
              "      <td>1.0</td>\n",
              "      <td>18.0</td>\n",
              "    </tr>\n",
              "    <tr>\n",
              "      <th>185</th>\n",
              "      <td>2018-01-18</td>\n",
              "      <td>0.0</td>\n",
              "      <td>174.0</td>\n",
              "    </tr>\n",
              "    <tr>\n",
              "      <th>159</th>\n",
              "      <td>2018-01-18</td>\n",
              "      <td>1.0</td>\n",
              "      <td>186.0</td>\n",
              "    </tr>\n",
              "    <tr>\n",
              "      <th>189</th>\n",
              "      <td>2018-01-19</td>\n",
              "      <td>0.0</td>\n",
              "      <td>323.0</td>\n",
              "    </tr>\n",
              "    <tr>\n",
              "      <th>36</th>\n",
              "      <td>2018-01-19</td>\n",
              "      <td>1.0</td>\n",
              "      <td>378.0</td>\n",
              "    </tr>\n",
              "    <tr>\n",
              "      <th>162</th>\n",
              "      <td>2018-01-20</td>\n",
              "      <td>1.0</td>\n",
              "      <td>559.0</td>\n",
              "    </tr>\n",
              "    <tr>\n",
              "      <th>168</th>\n",
              "      <td>2018-01-21</td>\n",
              "      <td>0.0</td>\n",
              "      <td>591.0</td>\n",
              "    </tr>\n",
              "    <tr>\n",
              "      <th>166</th>\n",
              "      <td>2018-01-21</td>\n",
              "      <td>1.0</td>\n",
              "      <td>688.0</td>\n",
              "    </tr>\n",
              "    <tr>\n",
              "      <th>172</th>\n",
              "      <td>2018-01-22</td>\n",
              "      <td>0.0</td>\n",
              "      <td>657.0</td>\n",
              "    </tr>\n",
              "    <tr>\n",
              "      <th>214</th>\n",
              "      <td>2018-01-22</td>\n",
              "      <td>1.0</td>\n",
              "      <td>762.0</td>\n",
              "    </tr>\n",
              "    <tr>\n",
              "      <th>179</th>\n",
              "      <td>2018-01-23</td>\n",
              "      <td>0.0</td>\n",
              "      <td>712.0</td>\n",
              "    </tr>\n",
              "    <tr>\n",
              "      <th>184</th>\n",
              "      <td>2018-01-23</td>\n",
              "      <td>1.0</td>\n",
              "      <td>823.0</td>\n",
              "    </tr>\n",
              "    <tr>\n",
              "      <th>180</th>\n",
              "      <td>2018-01-24</td>\n",
              "      <td>0.0</td>\n",
              "      <td>770.0</td>\n",
              "    </tr>\n",
              "    <tr>\n",
              "      <th>219</th>\n",
              "      <td>2018-01-24</td>\n",
              "      <td>1.0</td>\n",
              "      <td>877.0</td>\n",
              "    </tr>\n",
              "    <tr>\n",
              "      <th>223</th>\n",
              "      <td>2018-01-25</td>\n",
              "      <td>0.0</td>\n",
              "      <td>829.0</td>\n",
              "    </tr>\n",
              "    <tr>\n",
              "      <th>224</th>\n",
              "      <td>2018-01-25</td>\n",
              "      <td>1.0</td>\n",
              "      <td>930.0</td>\n",
              "    </tr>\n",
              "    <tr>\n",
              "      <th>190</th>\n",
              "      <td>2018-01-26</td>\n",
              "      <td>0.0</td>\n",
              "      <td>867.0</td>\n",
              "    </tr>\n",
              "    <tr>\n",
              "      <th>76</th>\n",
              "      <td>2018-01-26</td>\n",
              "      <td>1.0</td>\n",
              "      <td>984.0</td>\n",
              "    </tr>\n",
              "    <tr>\n",
              "      <th>196</th>\n",
              "      <td>2018-01-27</td>\n",
              "      <td>0.0</td>\n",
              "      <td>930.0</td>\n",
              "    </tr>\n",
              "    <tr>\n",
              "      <th>200</th>\n",
              "      <td>2018-01-27</td>\n",
              "      <td>1.0</td>\n",
              "      <td>1041.0</td>\n",
              "    </tr>\n",
              "    <tr>\n",
              "      <th>231</th>\n",
              "      <td>2018-01-28</td>\n",
              "      <td>0.0</td>\n",
              "      <td>973.0</td>\n",
              "    </tr>\n",
              "    <tr>\n",
              "      <th>205</th>\n",
              "      <td>2018-01-28</td>\n",
              "      <td>1.0</td>\n",
              "      <td>1089.0</td>\n",
              "    </tr>\n",
              "    <tr>\n",
              "      <th>177</th>\n",
              "      <td>2018-01-29</td>\n",
              "      <td>1.0</td>\n",
              "      <td>1118.0</td>\n",
              "    </tr>\n",
              "    <tr>\n",
              "      <th>218</th>\n",
              "      <td>2018-01-30</td>\n",
              "      <td>0.0</td>\n",
              "      <td>1038.0</td>\n",
              "    </tr>\n",
              "    <tr>\n",
              "      <th>235</th>\n",
              "      <td>2018-01-30</td>\n",
              "      <td>1.0</td>\n",
              "      <td>1140.0</td>\n",
              "    </tr>\n",
              "    <tr>\n",
              "      <th>222</th>\n",
              "      <td>2018-01-31</td>\n",
              "      <td>0.0</td>\n",
              "      <td>1055.0</td>\n",
              "    </tr>\n",
              "    <tr>\n",
              "      <th>237</th>\n",
              "      <td>2018-01-31</td>\n",
              "      <td>1.0</td>\n",
              "      <td>1163.0</td>\n",
              "    </tr>\n",
              "    <tr>\n",
              "      <th>0</th>\n",
              "      <td>NaN</td>\n",
              "      <td>NaN</td>\n",
              "      <td>0.0</td>\n",
              "    </tr>\n",
              "  </tbody>\n",
              "</table>\n",
              "</div>"
            ],
            "text/plain": [
              "           date  test_group     uid\n",
              "3    2018-01-01         0.0     4.0\n",
              "5    2018-01-01         1.0     1.0\n",
              "4    2018-01-02         0.0     5.0\n",
              "15   2018-01-02         0.0     5.0\n",
              "16   2018-01-02         0.0     5.0\n",
              "18   2018-01-02         0.0     5.0\n",
              "30   2018-01-02         0.0     5.0\n",
              "32   2018-01-02         0.0     5.0\n",
              "55   2018-01-02         0.0     5.0\n",
              "10   2018-01-02         1.0     1.0\n",
              "19   2018-01-03         1.0     2.0\n",
              "26   2018-01-04         1.0     3.0\n",
              "27   2018-01-05         1.0     5.0\n",
              "39   2018-01-06         1.0     6.0\n",
              "50   2018-01-07         1.0     7.0\n",
              "1    2018-01-08         1.0     9.0\n",
              "22   2018-01-09         0.0     6.0\n",
              "23   2018-01-09         0.0     6.0\n",
              "151  2018-01-09         0.0     6.0\n",
              "7    2018-01-09         1.0    12.0\n",
              "20   2018-01-10         1.0    13.0\n",
              "158  2018-01-11         1.0    14.0\n",
              "28   2018-01-12         1.0    15.0\n",
              "42   2018-01-13         0.0     9.0\n",
              "40   2018-01-13         1.0    16.0\n",
              "46   2018-01-13         1.0    16.0\n",
              "56   2018-01-14         0.0    10.0\n",
              "97   2018-01-14         0.0    10.0\n",
              "114  2018-01-15         1.0    18.0\n",
              "143  2018-01-15         1.0    18.0\n",
              "124  2018-01-16         0.0    10.0\n",
              "175  2018-01-16         0.0    10.0\n",
              "154  2018-01-17         1.0    18.0\n",
              "185  2018-01-18         0.0   174.0\n",
              "159  2018-01-18         1.0   186.0\n",
              "189  2018-01-19         0.0   323.0\n",
              "36   2018-01-19         1.0   378.0\n",
              "162  2018-01-20         1.0   559.0\n",
              "168  2018-01-21         0.0   591.0\n",
              "166  2018-01-21         1.0   688.0\n",
              "172  2018-01-22         0.0   657.0\n",
              "214  2018-01-22         1.0   762.0\n",
              "179  2018-01-23         0.0   712.0\n",
              "184  2018-01-23         1.0   823.0\n",
              "180  2018-01-24         0.0   770.0\n",
              "219  2018-01-24         1.0   877.0\n",
              "223  2018-01-25         0.0   829.0\n",
              "224  2018-01-25         1.0   930.0\n",
              "190  2018-01-26         0.0   867.0\n",
              "76   2018-01-26         1.0   984.0\n",
              "196  2018-01-27         0.0   930.0\n",
              "200  2018-01-27         1.0  1041.0\n",
              "231  2018-01-28         0.0   973.0\n",
              "205  2018-01-28         1.0  1089.0\n",
              "177  2018-01-29         1.0  1118.0\n",
              "218  2018-01-30         0.0  1038.0\n",
              "235  2018-01-30         1.0  1140.0\n",
              "222  2018-01-31         0.0  1055.0\n",
              "237  2018-01-31         1.0  1163.0\n",
              "0           NaN         NaN     0.0"
            ]
          },
          "metadata": {},
          "execution_count": 43
        }
      ]
    },
    {
      "cell_type": "code",
      "metadata": {
        "colab": {
          "base_uri": "https://localhost:8080/",
          "height": 204
        },
        "id": "01Gno29l6XSa",
        "outputId": "c8aba484-6fca-491a-d6ec-8edc21639b32"
      },
      "source": [
        "# объединяем кумулятивные данные в одной таблице и присваиваем ее столбцам понятные названия\n",
        "cumulativeData = ordersAggregated.merge(visitorsAggregated, left_on=['date', 'test_group'], right_on=['date', 'test_group'])\n",
        "cumulativeData.columns = ['date', 'test_group', 'payments', 'buyers', 'revenue', 'visitors']\n",
        "cumulativeData.head(5)"
      ],
      "execution_count": 44,
      "outputs": [
        {
          "output_type": "execute_result",
          "data": {
            "text/html": [
              "<div>\n",
              "<style scoped>\n",
              "    .dataframe tbody tr th:only-of-type {\n",
              "        vertical-align: middle;\n",
              "    }\n",
              "\n",
              "    .dataframe tbody tr th {\n",
              "        vertical-align: top;\n",
              "    }\n",
              "\n",
              "    .dataframe thead th {\n",
              "        text-align: right;\n",
              "    }\n",
              "</style>\n",
              "<table border=\"1\" class=\"dataframe\">\n",
              "  <thead>\n",
              "    <tr style=\"text-align: right;\">\n",
              "      <th></th>\n",
              "      <th>date</th>\n",
              "      <th>test_group</th>\n",
              "      <th>payments</th>\n",
              "      <th>buyers</th>\n",
              "      <th>revenue</th>\n",
              "      <th>visitors</th>\n",
              "    </tr>\n",
              "  </thead>\n",
              "  <tbody>\n",
              "    <tr>\n",
              "      <th>0</th>\n",
              "      <td>2018-01-01</td>\n",
              "      <td>0</td>\n",
              "      <td>1</td>\n",
              "      <td>1</td>\n",
              "      <td>0.00</td>\n",
              "      <td>4.0</td>\n",
              "    </tr>\n",
              "    <tr>\n",
              "      <th>1</th>\n",
              "      <td>2018-01-01</td>\n",
              "      <td>1</td>\n",
              "      <td>3</td>\n",
              "      <td>3</td>\n",
              "      <td>0.00</td>\n",
              "      <td>1.0</td>\n",
              "    </tr>\n",
              "    <tr>\n",
              "      <th>2</th>\n",
              "      <td>2018-01-02</td>\n",
              "      <td>0</td>\n",
              "      <td>2</td>\n",
              "      <td>2</td>\n",
              "      <td>7.99</td>\n",
              "      <td>5.0</td>\n",
              "    </tr>\n",
              "    <tr>\n",
              "      <th>3</th>\n",
              "      <td>2018-01-02</td>\n",
              "      <td>0</td>\n",
              "      <td>2</td>\n",
              "      <td>2</td>\n",
              "      <td>7.99</td>\n",
              "      <td>5.0</td>\n",
              "    </tr>\n",
              "    <tr>\n",
              "      <th>4</th>\n",
              "      <td>2018-01-02</td>\n",
              "      <td>0</td>\n",
              "      <td>2</td>\n",
              "      <td>2</td>\n",
              "      <td>7.99</td>\n",
              "      <td>5.0</td>\n",
              "    </tr>\n",
              "  </tbody>\n",
              "</table>\n",
              "</div>"
            ],
            "text/plain": [
              "         date  test_group  payments  buyers  revenue  visitors\n",
              "0  2018-01-01           0         1       1     0.00       4.0\n",
              "1  2018-01-01           1         3       3     0.00       1.0\n",
              "2  2018-01-02           0         2       2     7.99       5.0\n",
              "3  2018-01-02           0         2       2     7.99       5.0\n",
              "4  2018-01-02           0         2       2     7.99       5.0"
            ]
          },
          "metadata": {},
          "execution_count": 44
        }
      ]
    },
    {
      "cell_type": "code",
      "metadata": {
        "id": "-X5emafC6ZqO"
      },
      "source": [
        "# датафрейм с кумулятивным количеством заказов и кумулятивной выручкой по дням в группе А\n",
        "cumulativeRevenueA = cumulativeData[cumulativeData['test_group']==1][['date','revenue', 'payments']]\n",
        "\n",
        "# датафрейм с кумулятивным количеством заказов и кумулятивной выручкой по дням в группе B\n",
        "cumulativeRevenueB = cumulativeData[cumulativeData['test_group']==0][['date','revenue', 'payments']]"
      ],
      "execution_count": 45,
      "outputs": []
    },
    {
      "cell_type": "code",
      "metadata": {
        "colab": {
          "base_uri": "https://localhost:8080/",
          "height": 421
        },
        "id": "xxm5PNaz6b-4",
        "outputId": "8cb10996-a55f-42c7-a844-a4d1e8827210"
      },
      "source": [
        "plt.figure(figsize = (12, 6))\n",
        "plt.title('График кумулятивной выручки по группам')\n",
        "plt.xlabel('Дата')\n",
        "plt.ylabel('Кумулятивная выручка')\n",
        "\n",
        "# Строим график выручки группы А\n",
        "fig = plt.plot(cumulativeRevenueA['date'], cumulativeRevenueA['revenue'], label='A')\n",
        "\n",
        "# Строим график выручки группы B\n",
        "fig = plt.plot(cumulativeRevenueB['date'], cumulativeRevenueB['revenue'], label='B')\n",
        "\n",
        "plt.legend()"
      ],
      "execution_count": 46,
      "outputs": [
        {
          "output_type": "execute_result",
          "data": {
            "text/plain": [
              "<matplotlib.legend.Legend at 0x7fdd4dea0dd0>"
            ]
          },
          "metadata": {},
          "execution_count": 46
        },
        {
          "output_type": "display_data",
          "data": {
            "image/png": "[encoded data removed]",
            "text/plain": [
              "<Figure size 864x432 with 1 Axes>"
            ]
          },
          "metadata": {
            "needs_background": "light"
          }
        }
      ]
    },
    {
      "cell_type": "markdown",
      "metadata": {
        "id": "FmmyI4eT6iJv"
      },
      "source": [
        "График выручки двух групп увеличивается в течение всего периода и находится примерно на одном уровне по двум группам. Однако график выручки группы B резко и значительно вырос примерно 13.01.2018. Это может сигнализировать о всплеске числа платных подписок(после окончания пробного периода), либо о появлении очень дорогих покупок в выборке."
      ]
    },
    {
      "cell_type": "markdown",
      "metadata": {
        "id": "Aw8OwssE6kEm"
      },
      "source": [
        "## 2.2  Кумулятивный средний чек по группам"
      ]
    },
    {
      "cell_type": "code",
      "metadata": {
        "colab": {
          "base_uri": "https://localhost:8080/",
          "height": 421
        },
        "id": "wWRG6Ovq6dl8",
        "outputId": "d3297265-fb09-4d97-cf42-d7cb0d74a59c"
      },
      "source": [
        "# разделим кумулятивную выручку на кумулятивное число платежей\n",
        "plt.figure(figsize = (12, 6))\n",
        "plt.title('График кумулятивного среднего чека по группам')\n",
        "plt.xlabel('Дата')\n",
        "plt.ylabel('Кумулятивный средний чек')\n",
        "plt.plot(cumulativeRevenueA['date'], cumulativeRevenueA['revenue']/cumulativeRevenueA['payments'], label='A')\n",
        "plt.plot(cumulativeRevenueB['date'], cumulativeRevenueB['revenue']/cumulativeRevenueB['payments'], label='B')\n",
        "plt.legend() "
      ],
      "execution_count": 47,
      "outputs": [
        {
          "output_type": "execute_result",
          "data": {
            "text/plain": [
              "<matplotlib.legend.Legend at 0x7fdd4df05650>"
            ]
          },
          "metadata": {},
          "execution_count": 47
        },
        {
          "output_type": "display_data",
          "data": {
            "image/png": "[encoded data removed]",
            "text/plain": [
              "<Figure size 864x432 with 1 Axes>"
            ]
          },
          "metadata": {
            "needs_background": "light"
          }
        }
      ]
    },
    {
      "cell_type": "markdown",
      "metadata": {
        "id": "PT03ZOi36tPy"
      },
      "source": [
        "Из данного графика видно, что всплеск общей выручки группы B связан не с увеличением среднего чека клиента, а с увеличением числа платящих клиентов. В тестовой группе A, наоборот, были аномальные суммы платежей на клиента в начале тестирования.\n",
        "\n",
        "В середине теста графики стабилизировались. Средней чек группы А больше, чем у группы В. Но поскольку могли иметь место выбросы, мы снова не можем сделать вывод о преимуществе какой-либо из групп."
      ]
    },
    {
      "cell_type": "markdown",
      "metadata": {
        "id": "VgOaSPwH6unl"
      },
      "source": [
        "### 2.3  Кумулятивная конверсия по группам"
      ]
    },
    {
      "cell_type": "code",
      "metadata": {
        "colab": {
          "base_uri": "https://localhost:8080/",
          "height": 421
        },
        "id": "M7eJorsU6o-2",
        "outputId": "1628e285-ba42-4279-8c6a-09001f21e564"
      },
      "source": [
        "plt.figure(figsize = (12, 6))\n",
        "plt.title('График кумулятивной конверсии по группам')\n",
        "plt.xlabel('Дата')\n",
        "plt.ylabel('Кумулятивная конверсия')\n",
        "\n",
        "# считаем кумулятивную конверсию\n",
        "cumulativeData['conversion'] = cumulativeData['payments']/cumulativeData['visitors']\n",
        "\n",
        "# отделяем данные по группе A\n",
        "cumulativeDataA = cumulativeData[cumulativeData['test_group']==1]\n",
        "\n",
        "# отделяем данные по группе B\n",
        "cumulativeDataB = cumulativeData[cumulativeData['test_group']==0]\n",
        "\n",
        "# строим графики\n",
        "plt.plot(cumulativeDataA['date'], cumulativeDataA['conversion'], label='A')\n",
        "plt.plot(cumulativeDataB['date'], cumulativeDataB['conversion'], label='B')\n",
        "plt.legend()\n",
        "\n"
      ],
      "execution_count": 48,
      "outputs": [
        {
          "output_type": "execute_result",
          "data": {
            "text/plain": [
              "<matplotlib.legend.Legend at 0x7fdd4deb34d0>"
            ]
          },
          "metadata": {},
          "execution_count": 48
        },
        {
          "output_type": "display_data",
          "data": {
            "image/png": "[encoded data removed]",
            "text/plain": [
              "<Figure size 864x432 with 1 Axes>"
            ]
          },
          "metadata": {
            "needs_background": "light"
          }
        }
      ]
    },
    {
      "cell_type": "markdown",
      "metadata": {
        "id": "NvzT-rlC66OI"
      },
      "source": [
        "График демонстрирует всплеск конверсии 17.01.2018 по двум группам, в особенности по группе B, где покупок стало значительно больше, чем уникальных пользователей. Стартовая сраница действительно привлекла пользователей.\n",
        "\n",
        "Несмотря на увеличивающуюся выручку, конверсия в транзакцию значительно снизилась к концу теста и сравнялась по обеим группам. Можем сделать вывод, что стартовая страница не оправдала ожидания пользователей от сервиса, поэтому новых стало меньше."
      ]
    },
    {
      "cell_type": "markdown",
      "metadata": {
        "id": "B6_qTI3_7Cjj"
      },
      "source": [
        "### 2.4  Относительное изменение кумулятивной конверсии группы B к группе A"
      ]
    },
    {
      "cell_type": "code",
      "metadata": {
        "colab": {
          "base_uri": "https://localhost:8080/",
          "height": 421
        },
        "id": "d06BA8mf6zQ-",
        "outputId": "7a8f211f-6d93-420e-fe22-534d53275339"
      },
      "source": [
        "plt.figure(figsize = (12, 6))\n",
        "plt.title('График относительного изменения кумулятивной конверсии группы B к группе A')\n",
        "plt.xlabel('Дата')\n",
        "plt.ylabel('Кумулятивная конверсия')\n",
        "\n",
        "mergedCumulativeConversions = cumulativeDataA[['date','conversion']].merge(cumulativeDataB[['date','conversion']], left_on='date', right_on='date', how='left', suffixes=['A', 'B'])\n",
        "\n",
        "mergedCumulativeConversions=mergedCumulativeConversions.dropna()\n",
        "\n",
        "plt.plot(mergedCumulativeConversions['date'], mergedCumulativeConversions['conversionB']/mergedCumulativeConversions['conversionA']-1, label=\"Относительный прирост конверсии группы B относительно группы A\")\n",
        "plt.legend()\n",
        "\n",
        "plt.axhline(y=0, color='black', linestyle='--')\n",
        "plt.axhline(y=-0.1, color='grey', linestyle='--') "
      ],
      "execution_count": 49,
      "outputs": [
        {
          "output_type": "execute_result",
          "data": {
            "text/plain": [
              "<matplotlib.lines.Line2D at 0x7fdd4cc316d0>"
            ]
          },
          "metadata": {},
          "execution_count": 49
        },
        {
          "output_type": "display_data",
          "data": {
            "image/png": "[encoded data removed]",
            "text/plain": [
              "<Figure size 864x432 with 1 Axes>"
            ]
          },
          "metadata": {
            "needs_background": "light"
          }
        }
      ]
    },
    {
      "cell_type": "markdown",
      "metadata": {
        "id": "j8f5fEk88LBJ"
      },
      "source": [
        "По данному графику видим, что небольшое преимущество по конверсии остается за группой B к концу теста."
      ]
    },
    {
      "cell_type": "markdown",
      "metadata": {
        "id": "3FUoOOjN8PFX"
      },
      "source": [
        "### 2.5  Анализ выбросов. Количество платежей по пользователям"
      ]
    },
    {
      "cell_type": "markdown",
      "metadata": {
        "id": "wJPEfUZf8XO2"
      },
      "source": [
        "Результаты теста могут искажаться аномалиями. Изучим распределения данных, чтобы выявить эти аномальные значения."
      ]
    },
    {
      "cell_type": "code",
      "metadata": {
        "id": "4f6XnYR78UYn"
      },
      "source": [
        "paymentsByUsers = payments.drop(['test_group', 'price', 'date'], axis=1).groupby('uid', as_index=False).agg({'event_name' : pd.Series.count})\n",
        "\n",
        "paymentsByUsers.columns = ['uid','payments']"
      ],
      "execution_count": 50,
      "outputs": []
    },
    {
      "cell_type": "code",
      "metadata": {
        "colab": {
          "base_uri": "https://localhost:8080/",
          "height": 455
        },
        "id": "15VkivnK7Joj",
        "outputId": "b5ff1c0d-ced0-4441-8adc-a8327d973cba"
      },
      "source": [
        "plt.figure(figsize = (12, 6))\n",
        "plt.title('Распределение количества платежей на одного пользователя')\n",
        "plt.xlabel('Количество платежей')\n",
        "plt.ylabel('Частота')\n",
        "plt.hist(paymentsByUsers['payments'])"
      ],
      "execution_count": 51,
      "outputs": [
        {
          "output_type": "execute_result",
          "data": {
            "text/plain": [
              "(array([48.,  0.,  0.,  0.,  0., 55.,  0.,  0.,  0., 27.]),\n",
              " array([1. , 1.2, 1.4, 1.6, 1.8, 2. , 2.2, 2.4, 2.6, 2.8, 3. ]),\n",
              " <a list of 10 Patch objects>)"
            ]
          },
          "metadata": {},
          "execution_count": 51
        },
        {
          "output_type": "display_data",
          "data": {
            "image/png": "[encoded data removed]",
            "text/plain": [
              "<Figure size 864x432 with 1 Axes>"
            ]
          },
          "metadata": {
            "needs_background": "light"
          }
        }
      ]
    },
    {
      "cell_type": "markdown",
      "metadata": {
        "id": "jPkWFVjG8lDf"
      },
      "source": [
        "Пользователи, как правило совершают 1-2 платежа.\n",
        "\n",
        "Принято исключать отсеивать от 1% до 5% наблюдений с крайними значениями. Расчитаем 95 и 99 перцентили, чтобы определить, является ли 3 платежа аномальным значением."
      ]
    },
    {
      "cell_type": "code",
      "metadata": {
        "colab": {
          "base_uri": "https://localhost:8080/"
        },
        "id": "4ITslTku8ih6",
        "outputId": "5b9daf89-68e8-4b5b-bdfd-71f792862995"
      },
      "source": [
        "print(np.percentile(paymentsByUsers['payments'], [95, 99])) "
      ],
      "execution_count": 52,
      "outputs": [
        {
          "output_type": "stream",
          "name": "stdout",
          "text": [
            "[3. 3.]\n"
          ]
        }
      ]
    },
    {
      "cell_type": "markdown",
      "metadata": {
        "id": "syMAdtIY8pae"
      },
      "source": [
        "Значение попадает на 99 перцентиль, значит аномальным значением не является."
      ]
    },
    {
      "cell_type": "markdown",
      "metadata": {
        "id": "Zb_Px6h88u4I"
      },
      "source": [
        "### 2.6  Анализ выбросов.Стоимость заказов"
      ]
    },
    {
      "cell_type": "markdown",
      "metadata": {
        "id": "UIiNH_Ji805j"
      },
      "source": [
        "Анологично отображаем распределение стоимости заказов."
      ]
    },
    {
      "cell_type": "code",
      "metadata": {
        "colab": {
          "base_uri": "https://localhost:8080/",
          "height": 472
        },
        "id": "KOyN5-bv8sCC",
        "outputId": "fccb2eaf-caee-4170-e755-c96c2e409795"
      },
      "source": [
        "plt.figure(figsize = (12, 6))\n",
        "plt.title('Распределение сумм платежей')\n",
        "plt.xlabel('Сумма платежа')\n",
        "plt.ylabel('Частота')\n",
        "plt.hist(payments['price']) "
      ],
      "execution_count": 53,
      "outputs": [
        {
          "output_type": "execute_result",
          "data": {
            "text/plain": [
              "(array([114., 122.,   0.,   0.,   0.,   0.,   0.,   0.,   0.,   3.]),\n",
              " array([ 0.   ,  3.999,  7.998, 11.997, 15.996, 19.995, 23.994, 27.993,\n",
              "        31.992, 35.991, 39.99 ]),\n",
              " <a list of 10 Patch objects>)"
            ]
          },
          "metadata": {},
          "execution_count": 53
        },
        {
          "output_type": "display_data",
          "data": {
            "image/png": "[encoded data removed]",
            "text/plain": [
              "<Figure size 864x432 with 1 Axes>"
            ]
          },
          "metadata": {
            "needs_background": "light"
          }
        }
      ]
    },
    {
      "cell_type": "markdown",
      "metadata": {
        "id": "BwopTSdQ86qq"
      },
      "source": [
        "Чаще всего стоимость заказа не превышает 13 долларов. Сложно определить точную границу выбросов, поэтому также находим 95 и 99 перцентили."
      ]
    },
    {
      "cell_type": "code",
      "metadata": {
        "colab": {
          "base_uri": "https://localhost:8080/"
        },
        "id": "slt7r1US8f9M",
        "outputId": "df54b03e-1ac9-4d10-c895-f09c984e9c91"
      },
      "source": [
        "print(np.percentile(payments['price'], [95, 99])) "
      ],
      "execution_count": 54,
      "outputs": [
        {
          "output_type": "stream",
          "name": "stdout",
          "text": [
            "[ 7.99 27.83]\n"
          ]
        }
      ]
    },
    {
      "cell_type": "markdown",
      "metadata": {
        "id": "nnZfDwLg8_Tj"
      },
      "source": [
        "С помощью перцентилей убеждаемся, что имеются выбросы примерно от 26 долларов. Избавимся от них, чтобы не искажать итог:"
      ]
    },
    {
      "cell_type": "code",
      "metadata": {
        "id": "b4rmWsXw89UG"
      },
      "source": [
        "payments= payments[payments['price']<=26]"
      ],
      "execution_count": 55,
      "outputs": []
    },
    {
      "cell_type": "markdown",
      "metadata": {
        "id": "xBU3kseC9QFn"
      },
      "source": [
        "### 2.7  Статистическая значимость различий в конверсии между группами"
      ]
    },
    {
      "cell_type": "markdown",
      "metadata": {
        "id": "fAsBaxx49T2h"
      },
      "source": [
        "Так как значения имеют распределение отличное от нормального, применим статистический критерий Манна-Уитни к выборкам среднего чека."
      ]
    },
    {
      "cell_type": "code",
      "metadata": {
        "id": "kxt_WIDd9Nne"
      },
      "source": [
        "visitorsADaily = sessions[sessions['test_group']==1][['date', 'uid']]\n",
        "visitorsADaily.columns = ['date', 'visitorsPerDateA'] #  количество пользователей в выбранную дату в группе A\n",
        "\n",
        "visitorsACummulative = visitorsADaily.apply(lambda x: visitorsADaily[visitorsADaily['date'] <= x['date']].agg({'date' : 'max', 'visitorsPerDateA' : 'count'}), axis=1)\n",
        "visitorsACummulative.columns = ['date', 'visitorsCummulativeA'] # количество пользователей до выбранной даты включительно в группе A\n",
        "\n",
        "visitorsBDaily = sessions[sessions['test_group']==0][['date', 'uid']]\n",
        "visitorsBDaily.columns = ['date', 'visitorsPerDateB'] #  количество пользователей в выбранную дату в группе B\n",
        "\n",
        "visitorsBCummulative = visitorsBDaily.apply(lambda x: visitorsBDaily[visitorsBDaily['date'] <= x['date']].agg({'date' : 'max', 'visitorsPerDateB' : 'count'}), axis=1)\n",
        "visitorsBCummulative.columns = ['date', 'visitorsCummulativeB'] # количество пользователей до выбранной даты включительно в группе B\n"
      ],
      "execution_count": 56,
      "outputs": []
    },
    {
      "cell_type": "code",
      "metadata": {
        "id": "xrVUOLcb9WXT"
      },
      "source": [
        "paymentsADaily = payments[payments['test_group']==1][['date', 'event_name', 'uid', 'price']]\\\n",
        "    .groupby('date', as_index=False)\\\n",
        "    .agg({'event_name' : pd.Series.count, 'price' : 'sum'})\n",
        "paymentsADaily.columns = ['date', 'paymentsPerDateA', 'revenuePerDateA']  # количество заказов в выбранную дату и суммарная выручка в группе A\n",
        "\n",
        "paymentsACummulative = paymentsADaily.apply(\n",
        "    lambda x: \\\n",
        "        paymentsADaily[paymentsADaily['date'] <= x['date']]\\\n",
        "            .agg({\n",
        "                'date' : 'max',\n",
        "                'paymentsPerDateA' : 'sum',\n",
        "                'revenuePerDateA' : 'sum'}), axis=1).sort_values(by=['date'])\n",
        "paymentsACummulative.columns = ['date', 'paymentsCummulativeA', 'revenueCummulativeA'] # суммарная выручка до выбранной даты включительно в группе A\n",
        "\n",
        "paymentsBDaily = payments[payments['test_group']==0][['date', 'event_name', 'uid', 'price']]\\\n",
        "    .groupby('date', as_index=False)\\\n",
        "    .agg({'event_name' : pd.Series.count, 'price' : 'sum'})\n",
        "paymentsBDaily.columns = ['date', 'paymentsPerDateB', 'revenuePerDateB'] # количество заказов в выбранную дату и суммарная выручка в группе B\n",
        "\n",
        "paymentsBCummulative = paymentsBDaily.apply(\n",
        "    lambda x: \\\n",
        "        paymentsBDaily[paymentsBDaily['date'] <= x['date']]\\\n",
        "            .agg({\n",
        "                'date' : 'max',\n",
        "                'paymentsPerDateB' : 'sum',\n",
        "                'revenuePerDateB' : 'sum'}), axis=1).sort_values(by=['date'])\n",
        "paymentsBCummulative.columns = ['date', 'paymentsCummulativeB', 'revenueCummulativeB'] # суммарная выручка до выбранной даты включительно в группе B\n"
      ],
      "execution_count": 57,
      "outputs": []
    },
    {
      "cell_type": "code",
      "metadata": {
        "id": "ryACBVAn9dnh"
      },
      "source": [
        "data = paymentsADaily.merge(paymentsBDaily, left_on='date', right_on='date', how='left')\\\n",
        "    .merge(paymentsACummulative, left_on='date', right_on='date', how='left')\\\n",
        "    .merge(paymentsBCummulative, left_on='date', right_on='date', how='left')\n",
        "    "
      ],
      "execution_count": 58,
      "outputs": []
    },
    {
      "cell_type": "code",
      "metadata": {
        "id": "WYunNYsbCMaW"
      },
      "source": [
        "data = data.merge(visitorsADaily, left_on='date', right_on='date', how='left')\\\n",
        "    .merge(visitorsBDaily, left_on='date', right_on='date', how='left')"
      ],
      "execution_count": 59,
      "outputs": []
    },
    {
      "cell_type": "code",
      "metadata": {
        "id": "0u6i16sKC3x1"
      },
      "source": [
        "data = data.merge(visitorsACummulative, left_on='date', right_on='date', how='left')"
      ],
      "execution_count": null,
      "outputs": []
    },
    {
      "cell_type": "code",
      "metadata": {
        "id": "4TGjCWvoC_3_"
      },
      "source": [
        "data = data.merge(visitorsBCummulative, left_on='date', right_on='date', how='left')\n",
        "data"
      ],
      "execution_count": null,
      "outputs": []
    },
    {
      "cell_type": "code",
      "metadata": {
        "id": "SKbim1hT9gAN"
      },
      "source": [
        "# укажем число совершенных заказов для пользователей по группам\n",
        "paymentsByUsersA = payments[payments['test_group']==1].groupby('uid', as_index=False).agg({'event_name' : pd.Series.count})\n",
        "paymentsByUsersA.columns = ['uid', 'payments']\n",
        "\n",
        "paymentsByUsersB = payments[payments['test_group']==0].groupby('uid', as_index=False).agg({'event_name' : pd.Series.count})\n",
        "paymentsByUsersB.columns = ['uid', 'payments']"
      ],
      "execution_count": null,
      "outputs": []
    },
    {
      "cell_type": "code",
      "metadata": {
        "id": "3FgnjEzlCR0G"
      },
      "source": [
        ""
      ],
      "execution_count": null,
      "outputs": []
    }
  ]
}