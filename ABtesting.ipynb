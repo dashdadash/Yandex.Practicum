{
 "cells": [
  {
   "cell_type": "code",
   "execution_count": 67,
   "metadata": {},
   "outputs": [],
   "source": [
    "import pandas as pd\n",
    "import numpy as np\n",
    "import matplotlib.pyplot as plt\n",
    "import scipy.stats as stats\n",
    "from datetime import datetime\n",
    "from pandas.plotting import register_matplotlib_converters\n",
    "import warnings\n",
    "warnings.filterwarnings('ignore')"
   ]
  },
  {
   "cell_type": "markdown",
   "metadata": {},
   "source": [
    "# A/B test стартовых историй приложения"
   ]
  },
  {
   "cell_type": "markdown",
   "metadata": {},
   "source": [
    "В приложении с подпиской для чтения историй был проведен A/B-тест. Двум группам игроков были предложены разные стартовые истории при первом запуске приложения. Необходимо оценить результаты проведенного A/B-теста.\n",
    "\n",
    "Основные пункты работы:\n",
    "\n",
    "1. Подготовка данных\n",
    "2. Анализ A/B теста\n",
    "  1. Кумулятивная выручка по группам\n",
    "  2. Кумулятивный средний чек по группам\n",
    "  3. Кумулятивная конверсия по группам\n",
    "  4. Относительное изменение кумулятивной конверсии группы B к группе A\n",
    "  5. Количество платежей по пользователям\n",
    "  6. Стоимость заказов\n",
    "  7. Статистическая значимость различий в конверсии между группами\n",
    "  8. Статистическая значимость различий в среднем чеке покупателя\n",
    "  "
   ]
  },
  {
   "cell_type": "markdown",
   "metadata": {},
   "source": [
    "## 1 Подготовка данных"
   ]
  },
  {
   "cell_type": "code",
   "execution_count": 68,
   "metadata": {},
   "outputs": [],
   "source": [
    "payments = pd.read_csv('payments.csv')\n",
    "sessions = pd.read_csv('sessions.csv')"
   ]
  },
  {
   "cell_type": "code",
   "execution_count": 69,
   "metadata": {},
   "outputs": [
    {
     "data": {
      "text/html": [
       "<div>\n",
       "<style scoped>\n",
       "    .dataframe tbody tr th:only-of-type {\n",
       "        vertical-align: middle;\n",
       "    }\n",
       "\n",
       "    .dataframe tbody tr th {\n",
       "        vertical-align: top;\n",
       "    }\n",
       "\n",
       "    .dataframe thead th {\n",
       "        text-align: right;\n",
       "    }\n",
       "</style>\n",
       "<table border=\"1\" class=\"dataframe\">\n",
       "  <thead>\n",
       "    <tr style=\"text-align: right;\">\n",
       "      <th></th>\n",
       "      <th>#0 timestamp</th>\n",
       "      <th>#1 user id</th>\n",
       "      <th>#2 Event name</th>\n",
       "      <th>#3 is_trial</th>\n",
       "      <th>price</th>\n",
       "    </tr>\n",
       "  </thead>\n",
       "  <tbody>\n",
       "    <tr>\n",
       "      <th>151</th>\n",
       "      <td>1514997900</td>\n",
       "      <td>59d54ad25638e80001b8befa</td>\n",
       "      <td>payment</td>\n",
       "      <td>False</td>\n",
       "      <td>2.99</td>\n",
       "    </tr>\n",
       "    <tr>\n",
       "      <th>2468</th>\n",
       "      <td>1516522800</td>\n",
       "      <td>80bbf662-d5dd-42ba-bc37-33f7fb764275</td>\n",
       "      <td>payment</td>\n",
       "      <td>False</td>\n",
       "      <td>7.99</td>\n",
       "    </tr>\n",
       "    <tr>\n",
       "      <th>1953</th>\n",
       "      <td>1516202400</td>\n",
       "      <td>59e37d245638e80001f0d225</td>\n",
       "      <td>payment</td>\n",
       "      <td>False</td>\n",
       "      <td>2.99</td>\n",
       "    </tr>\n",
       "    <tr>\n",
       "      <th>2615</th>\n",
       "      <td>1516561440</td>\n",
       "      <td>4617e52b-87cc-4e8a-aba7-d913b0b2fa4c</td>\n",
       "      <td>payment</td>\n",
       "      <td>True</td>\n",
       "      <td>0.00</td>\n",
       "    </tr>\n",
       "    <tr>\n",
       "      <th>3950</th>\n",
       "      <td>1517222400</td>\n",
       "      <td>e57af986-f647-4671-9a64-295a01b31be8</td>\n",
       "      <td>payment</td>\n",
       "      <td>False</td>\n",
       "      <td>7.99</td>\n",
       "    </tr>\n",
       "    <tr>\n",
       "      <th>3782</th>\n",
       "      <td>1517146500</td>\n",
       "      <td>02a57153-21ab-453f-92df-c3acf7b6dfe6</td>\n",
       "      <td>payment</td>\n",
       "      <td>False</td>\n",
       "      <td>7.99</td>\n",
       "    </tr>\n",
       "    <tr>\n",
       "      <th>2519</th>\n",
       "      <td>1516540500</td>\n",
       "      <td>54ab5fc9-999d-4c45-b761-446ff3148d7f</td>\n",
       "      <td>payment</td>\n",
       "      <td>False</td>\n",
       "      <td>7.99</td>\n",
       "    </tr>\n",
       "    <tr>\n",
       "      <th>2888</th>\n",
       "      <td>1516631400</td>\n",
       "      <td>e0ea27d7-70b6-4dbf-894d-3965ba135adb</td>\n",
       "      <td>payment</td>\n",
       "      <td>False</td>\n",
       "      <td>7.99</td>\n",
       "    </tr>\n",
       "    <tr>\n",
       "      <th>4008</th>\n",
       "      <td>1517242920</td>\n",
       "      <td>ba3e6604-3cab-4025-8bd6-ae4870afd58c</td>\n",
       "      <td>payment</td>\n",
       "      <td>False</td>\n",
       "      <td>7.99</td>\n",
       "    </tr>\n",
       "    <tr>\n",
       "      <th>1048</th>\n",
       "      <td>1515867780</td>\n",
       "      <td>7c309a84-24f3-4ba4-a4e2-d090e271a345</td>\n",
       "      <td>payment</td>\n",
       "      <td>True</td>\n",
       "      <td>0.00</td>\n",
       "    </tr>\n",
       "  </tbody>\n",
       "</table>\n",
       "</div>"
      ],
      "text/plain": [
       "      #0 timestamp                            #1 user id #2 Event name  \\\n",
       "151     1514997900              59d54ad25638e80001b8befa       payment   \n",
       "2468    1516522800  80bbf662-d5dd-42ba-bc37-33f7fb764275       payment   \n",
       "1953    1516202400              59e37d245638e80001f0d225       payment   \n",
       "2615    1516561440  4617e52b-87cc-4e8a-aba7-d913b0b2fa4c       payment   \n",
       "3950    1517222400  e57af986-f647-4671-9a64-295a01b31be8       payment   \n",
       "3782    1517146500  02a57153-21ab-453f-92df-c3acf7b6dfe6       payment   \n",
       "2519    1516540500  54ab5fc9-999d-4c45-b761-446ff3148d7f       payment   \n",
       "2888    1516631400  e0ea27d7-70b6-4dbf-894d-3965ba135adb       payment   \n",
       "4008    1517242920  ba3e6604-3cab-4025-8bd6-ae4870afd58c       payment   \n",
       "1048    1515867780  7c309a84-24f3-4ba4-a4e2-d090e271a345       payment   \n",
       "\n",
       "      #3 is_trial  price  \n",
       "151         False   2.99  \n",
       "2468        False   7.99  \n",
       "1953        False   2.99  \n",
       "2615         True   0.00  \n",
       "3950        False   7.99  \n",
       "3782        False   7.99  \n",
       "2519        False   7.99  \n",
       "2888        False   7.99  \n",
       "4008        False   7.99  \n",
       "1048         True   0.00  "
      ]
     },
     "execution_count": 69,
     "metadata": {},
     "output_type": "execute_result"
    }
   ],
   "source": [
    "payments.sample(10)"
   ]
  },
  {
   "cell_type": "code",
   "execution_count": 70,
   "metadata": {},
   "outputs": [
    {
     "data": {
      "text/html": [
       "<div>\n",
       "<style scoped>\n",
       "    .dataframe tbody tr th:only-of-type {\n",
       "        vertical-align: middle;\n",
       "    }\n",
       "\n",
       "    .dataframe tbody tr th {\n",
       "        vertical-align: top;\n",
       "    }\n",
       "\n",
       "    .dataframe thead th {\n",
       "        text-align: right;\n",
       "    }\n",
       "</style>\n",
       "<table border=\"1\" class=\"dataframe\">\n",
       "  <thead>\n",
       "    <tr style=\"text-align: right;\">\n",
       "      <th></th>\n",
       "      <th>#0 timestamp</th>\n",
       "      <th>#1 user id</th>\n",
       "      <th>#2 Test group</th>\n",
       "      <th>#3 Event name</th>\n",
       "    </tr>\n",
       "  </thead>\n",
       "  <tbody>\n",
       "    <tr>\n",
       "      <th>2037</th>\n",
       "      <td>1516479900</td>\n",
       "      <td>e4373ffa-c26e-4424-b693-69d4ddf4363d</td>\n",
       "      <td>05_12FTD_control_group</td>\n",
       "      <td>session start</td>\n",
       "    </tr>\n",
       "    <tr>\n",
       "      <th>6127</th>\n",
       "      <td>1517055120</td>\n",
       "      <td>85f33888-084d-4e3f-a0ee-779c5b9be22e</td>\n",
       "      <td>05_12FTD_test_group</td>\n",
       "      <td>session start</td>\n",
       "    </tr>\n",
       "    <tr>\n",
       "      <th>1487</th>\n",
       "      <td>1516421280</td>\n",
       "      <td>abed0e97-ef27-42e2-ac17-760ba6f2f27e</td>\n",
       "      <td>05_12FTD_control_group</td>\n",
       "      <td>session start</td>\n",
       "    </tr>\n",
       "    <tr>\n",
       "      <th>5154</th>\n",
       "      <td>1516904100</td>\n",
       "      <td>f7db8c05-f970-49e1-80bd-c89a308eddb3</td>\n",
       "      <td>05_12FTD_test_group</td>\n",
       "      <td>session start</td>\n",
       "    </tr>\n",
       "    <tr>\n",
       "      <th>3211</th>\n",
       "      <td>1516585380</td>\n",
       "      <td>0726161f-bb62-438b-89cb-28fb9bd81e8c</td>\n",
       "      <td>05_12FTD_control_group</td>\n",
       "      <td>session start</td>\n",
       "    </tr>\n",
       "    <tr>\n",
       "      <th>4157</th>\n",
       "      <td>1516732080</td>\n",
       "      <td>0b28712c-619e-4fe4-9eac-cc415cc44617</td>\n",
       "      <td>05_12FTD_control_group</td>\n",
       "      <td>session start</td>\n",
       "    </tr>\n",
       "    <tr>\n",
       "      <th>4720</th>\n",
       "      <td>1516826280</td>\n",
       "      <td>8eef4e4b-247e-40a5-9625-0179a6b31be3</td>\n",
       "      <td>05_12FTD_control_group</td>\n",
       "      <td>session start</td>\n",
       "    </tr>\n",
       "    <tr>\n",
       "      <th>4151</th>\n",
       "      <td>1516731660</td>\n",
       "      <td>17908287-e1f0-435c-9106-dbeea9ec3482</td>\n",
       "      <td>05_12FTD_test_group</td>\n",
       "      <td>session start</td>\n",
       "    </tr>\n",
       "    <tr>\n",
       "      <th>7797</th>\n",
       "      <td>1517359740</td>\n",
       "      <td>8eb1f2d7-30cd-4229-8d48-62bdc01cfc00</td>\n",
       "      <td>05_12FTD_test_group</td>\n",
       "      <td>session start</td>\n",
       "    </tr>\n",
       "    <tr>\n",
       "      <th>5936</th>\n",
       "      <td>1517019180</td>\n",
       "      <td>0d85ba00-112a-4cc5-a001-8469f028627f</td>\n",
       "      <td>05_12FTD_test_group</td>\n",
       "      <td>session start</td>\n",
       "    </tr>\n",
       "  </tbody>\n",
       "</table>\n",
       "</div>"
      ],
      "text/plain": [
       "      #0 timestamp                            #1 user id  \\\n",
       "2037    1516479900  e4373ffa-c26e-4424-b693-69d4ddf4363d   \n",
       "6127    1517055120  85f33888-084d-4e3f-a0ee-779c5b9be22e   \n",
       "1487    1516421280  abed0e97-ef27-42e2-ac17-760ba6f2f27e   \n",
       "5154    1516904100  f7db8c05-f970-49e1-80bd-c89a308eddb3   \n",
       "3211    1516585380  0726161f-bb62-438b-89cb-28fb9bd81e8c   \n",
       "4157    1516732080  0b28712c-619e-4fe4-9eac-cc415cc44617   \n",
       "4720    1516826280  8eef4e4b-247e-40a5-9625-0179a6b31be3   \n",
       "4151    1516731660  17908287-e1f0-435c-9106-dbeea9ec3482   \n",
       "7797    1517359740  8eb1f2d7-30cd-4229-8d48-62bdc01cfc00   \n",
       "5936    1517019180  0d85ba00-112a-4cc5-a001-8469f028627f   \n",
       "\n",
       "               #2 Test group  #3 Event name  \n",
       "2037  05_12FTD_control_group  session start  \n",
       "6127     05_12FTD_test_group  session start  \n",
       "1487  05_12FTD_control_group  session start  \n",
       "5154     05_12FTD_test_group  session start  \n",
       "3211  05_12FTD_control_group  session start  \n",
       "4157  05_12FTD_control_group  session start  \n",
       "4720  05_12FTD_control_group  session start  \n",
       "4151     05_12FTD_test_group  session start  \n",
       "7797     05_12FTD_test_group  session start  \n",
       "5936     05_12FTD_test_group  session start  "
      ]
     },
     "execution_count": 70,
     "metadata": {},
     "output_type": "execute_result"
    }
   ],
   "source": [
    "sessions.sample(10)"
   ]
  },
  {
   "cell_type": "code",
   "execution_count": 71,
   "metadata": {},
   "outputs": [
    {
     "name": "stdout",
     "output_type": "stream",
     "text": [
      "<class 'pandas.core.frame.DataFrame'>\n",
      "RangeIndex: 4265 entries, 0 to 4264\n",
      "Data columns (total 5 columns):\n",
      " #   Column         Non-Null Count  Dtype  \n",
      "---  ------         --------------  -----  \n",
      " 0   #0 timestamp   4265 non-null   int64  \n",
      " 1   #1 user id     4265 non-null   object \n",
      " 2   #2 Event name  4265 non-null   object \n",
      " 3   #3 is_trial    4265 non-null   bool   \n",
      " 4   price          4265 non-null   float64\n",
      "dtypes: bool(1), float64(1), int64(1), object(2)\n",
      "memory usage: 137.6+ KB\n"
     ]
    }
   ],
   "source": [
    "payments.info()"
   ]
  },
  {
   "cell_type": "code",
   "execution_count": 72,
   "metadata": {},
   "outputs": [
    {
     "name": "stdout",
     "output_type": "stream",
     "text": [
      "<class 'pandas.core.frame.DataFrame'>\n",
      "RangeIndex: 8076 entries, 0 to 8075\n",
      "Data columns (total 4 columns):\n",
      " #   Column         Non-Null Count  Dtype \n",
      "---  ------         --------------  ----- \n",
      " 0   #0 timestamp   8076 non-null   int64 \n",
      " 1   #1 user id     8076 non-null   object\n",
      " 2   #2 Test group  8076 non-null   object\n",
      " 3   #3 Event name  8076 non-null   object\n",
      "dtypes: int64(1), object(3)\n",
      "memory usage: 252.5+ KB\n"
     ]
    }
   ],
   "source": [
    "sessions.info()"
   ]
  },
  {
   "cell_type": "code",
   "execution_count": 73,
   "metadata": {},
   "outputs": [],
   "source": [
    "def describe(df):\n",
    "    for column in df.columns:\n",
    "        if df[column].dtype == 'object':\n",
    "        \n",
    "            print(column)\n",
    "        \n",
    "            print()\n",
    "        \n",
    "            print(df[column].unique())\n",
    "        \n",
    "            print()\n",
    "    \n",
    "        else:\n",
    "        \n",
    "            print(column)\n",
    "        \n",
    "            print()\n",
    "        \n",
    "            print(df[column].describe())\n",
    "        \n",
    "            print()"
   ]
  },
  {
   "cell_type": "code",
   "execution_count": 74,
   "metadata": {},
   "outputs": [
    {
     "name": "stdout",
     "output_type": "stream",
     "text": [
      "#0 timestamp\n",
      "\n",
      "count    4.265000e+03\n",
      "mean     1.516267e+09\n",
      "std      6.751001e+05\n",
      "min      1.514754e+09\n",
      "25%      1.515871e+09\n",
      "50%      1.516393e+09\n",
      "75%      1.516823e+09\n",
      "max      1.517432e+09\n",
      "Name: #0 timestamp, dtype: float64\n",
      "\n",
      "#1 user id\n",
      "\n",
      "['59c856ca5638e80001b8bad2' '32eb44a1-4c44-49e1-8322-253ef00ac52c'\n",
      " 'acfaee6d-abe2-4c8c-a243-98331eb5a736' ...\n",
      " '0e6ae29b-2056-4d2b-94cf-853bc66d779a'\n",
      " 'b9e6387f-9a66-4951-b569-6f42185d52c0'\n",
      " '80378737-946c-4309-b2ff-bdef513ff815']\n",
      "\n",
      "#2 Event name\n",
      "\n",
      "['payment']\n",
      "\n",
      "#3 is_trial\n",
      "\n",
      "count     4265\n",
      "unique       2\n",
      "top       True\n",
      "freq      2263\n",
      "Name: #3 is_trial, dtype: object\n",
      "\n",
      "price\n",
      "\n",
      "count    4265.000000\n",
      "mean        3.452982\n",
      "std         4.159743\n",
      "min         0.000000\n",
      "25%         0.000000\n",
      "50%         0.000000\n",
      "75%         7.990000\n",
      "max        39.990000\n",
      "Name: price, dtype: float64\n",
      "\n"
     ]
    }
   ],
   "source": [
    "describe(payments)"
   ]
  },
  {
   "cell_type": "code",
   "execution_count": 75,
   "metadata": {},
   "outputs": [
    {
     "name": "stdout",
     "output_type": "stream",
     "text": [
      "#0 timestamp\n",
      "\n",
      "count    8.076000e+03\n",
      "mean     1.516759e+09\n",
      "std      3.408544e+05\n",
      "min      1.514769e+09\n",
      "25%      1.516479e+09\n",
      "50%      1.516713e+09\n",
      "75%      1.517038e+09\n",
      "max      1.517432e+09\n",
      "Name: #0 timestamp, dtype: float64\n",
      "\n",
      "#1 user id\n",
      "\n",
      "['ab3a0b4e-6286-4748-90a1-e7d58273594d'\n",
      " 'e64698c1-0168-4523-9592-f5226e63b9e6'\n",
      " 'a8436498-ca01-4f09-9bac-de1bf217e00e' ...\n",
      " 'e6130b35-ee13-495d-89e0-5a7c6af5a981'\n",
      " '6c5a4326-3668-4f82-8d8a-5dc43132ff5d'\n",
      " 'd21e2ee9-290d-4d1f-b749-3558db98d32b']\n",
      "\n",
      "#2 Test group\n",
      "\n",
      "['05_12FTD_control_group' '05_12FTD_test_group']\n",
      "\n",
      "#3 Event name\n",
      "\n",
      "['session start']\n",
      "\n"
     ]
    }
   ],
   "source": [
    "describe(sessions)"
   ]
  },
  {
   "cell_type": "markdown",
   "metadata": {},
   "source": [
    "Переименуем столбцы для удобства"
   ]
  },
  {
   "cell_type": "code",
   "execution_count": 76,
   "metadata": {},
   "outputs": [
    {
     "data": {
      "text/plain": [
       "['#0 timestamp', '#1 user id', '#2 Event name', '#3 is_trial', 'price']"
      ]
     },
     "execution_count": 76,
     "metadata": {},
     "output_type": "execute_result"
    }
   ],
   "source": [
    "payments.columns.tolist()"
   ]
  },
  {
   "cell_type": "code",
   "execution_count": 77,
   "metadata": {},
   "outputs": [],
   "source": [
    "payments = payments.rename(columns = {'#0 timestamp':'timestamp', '#1 user id':'uid', '#2 Event name':'event_name', '#3 is_trial':'is_trial',  'price':'price'})"
   ]
  },
  {
   "cell_type": "code",
   "execution_count": 78,
   "metadata": {},
   "outputs": [
    {
     "data": {
      "text/plain": [
       "['#0 timestamp', '#1 user id', '#2 Test group', '#3 Event name']"
      ]
     },
     "execution_count": 78,
     "metadata": {},
     "output_type": "execute_result"
    }
   ],
   "source": [
    "sessions.columns.tolist()"
   ]
  },
  {
   "cell_type": "code",
   "execution_count": 79,
   "metadata": {},
   "outputs": [],
   "source": [
    "sessions = sessions.rename(columns = {'#0 timestamp':'session_start', '#1 user id':'uid', '#2 Test group':'test_group', '#3 Event name':'session'})"
   ]
  },
  {
   "cell_type": "code",
   "execution_count": 80,
   "metadata": {},
   "outputs": [
    {
     "data": {
      "text/html": [
       "<div>\n",
       "<style scoped>\n",
       "    .dataframe tbody tr th:only-of-type {\n",
       "        vertical-align: middle;\n",
       "    }\n",
       "\n",
       "    .dataframe tbody tr th {\n",
       "        vertical-align: top;\n",
       "    }\n",
       "\n",
       "    .dataframe thead th {\n",
       "        text-align: right;\n",
       "    }\n",
       "</style>\n",
       "<table border=\"1\" class=\"dataframe\">\n",
       "  <thead>\n",
       "    <tr style=\"text-align: right;\">\n",
       "      <th></th>\n",
       "      <th>session_start</th>\n",
       "      <th>uid</th>\n",
       "      <th>test_group</th>\n",
       "      <th>session</th>\n",
       "    </tr>\n",
       "  </thead>\n",
       "  <tbody>\n",
       "    <tr>\n",
       "      <th>6590</th>\n",
       "      <td>1517118540</td>\n",
       "      <td>4facc7bb-1598-4b7c-9ff3-d4c3216b8d37</td>\n",
       "      <td>05_12FTD_control_group</td>\n",
       "      <td>session start</td>\n",
       "    </tr>\n",
       "    <tr>\n",
       "      <th>820</th>\n",
       "      <td>1516354200</td>\n",
       "      <td>4b93108c-4d95-4997-a6cf-1a6ec48ca939</td>\n",
       "      <td>05_12FTD_test_group</td>\n",
       "      <td>session start</td>\n",
       "    </tr>\n",
       "    <tr>\n",
       "      <th>3802</th>\n",
       "      <td>1516668180</td>\n",
       "      <td>35b8181c-aede-4bd1-921b-d36a54c3d267</td>\n",
       "      <td>05_12FTD_test_group</td>\n",
       "      <td>session start</td>\n",
       "    </tr>\n",
       "    <tr>\n",
       "      <th>3382</th>\n",
       "      <td>1516617840</td>\n",
       "      <td>939c8d81-fff0-4c56-b0a8-f623e779b8ff</td>\n",
       "      <td>05_12FTD_control_group</td>\n",
       "      <td>session start</td>\n",
       "    </tr>\n",
       "    <tr>\n",
       "      <th>7865</th>\n",
       "      <td>1517370840</td>\n",
       "      <td>d378cea5-1755-489d-8ba8-bd35e73d799f</td>\n",
       "      <td>05_12FTD_test_group</td>\n",
       "      <td>session start</td>\n",
       "    </tr>\n",
       "    <tr>\n",
       "      <th>1175</th>\n",
       "      <td>1516395600</td>\n",
       "      <td>22a15d75-02d9-403b-89e7-1539591f7ad1</td>\n",
       "      <td>05_12FTD_test_group</td>\n",
       "      <td>session start</td>\n",
       "    </tr>\n",
       "    <tr>\n",
       "      <th>7277</th>\n",
       "      <td>1517252940</td>\n",
       "      <td>7fc31023-d56e-4a67-9d5f-e47dfb3b47ab</td>\n",
       "      <td>05_12FTD_test_group</td>\n",
       "      <td>session start</td>\n",
       "    </tr>\n",
       "    <tr>\n",
       "      <th>5415</th>\n",
       "      <td>1516931820</td>\n",
       "      <td>cb3f13e3-4d7e-4b4b-81c7-48e04a2986f2</td>\n",
       "      <td>05_12FTD_control_group</td>\n",
       "      <td>session start</td>\n",
       "    </tr>\n",
       "    <tr>\n",
       "      <th>2054</th>\n",
       "      <td>1516481340</td>\n",
       "      <td>2c4753b6-efda-4a33-899f-4a2ca285e85b</td>\n",
       "      <td>05_12FTD_control_group</td>\n",
       "      <td>session start</td>\n",
       "    </tr>\n",
       "    <tr>\n",
       "      <th>185</th>\n",
       "      <td>1516291980</td>\n",
       "      <td>8cea0e08-07fe-4d69-85ac-37d13a65231f</td>\n",
       "      <td>05_12FTD_test_group</td>\n",
       "      <td>session start</td>\n",
       "    </tr>\n",
       "  </tbody>\n",
       "</table>\n",
       "</div>"
      ],
      "text/plain": [
       "      session_start                                   uid  \\\n",
       "6590     1517118540  4facc7bb-1598-4b7c-9ff3-d4c3216b8d37   \n",
       "820      1516354200  4b93108c-4d95-4997-a6cf-1a6ec48ca939   \n",
       "3802     1516668180  35b8181c-aede-4bd1-921b-d36a54c3d267   \n",
       "3382     1516617840  939c8d81-fff0-4c56-b0a8-f623e779b8ff   \n",
       "7865     1517370840  d378cea5-1755-489d-8ba8-bd35e73d799f   \n",
       "1175     1516395600  22a15d75-02d9-403b-89e7-1539591f7ad1   \n",
       "7277     1517252940  7fc31023-d56e-4a67-9d5f-e47dfb3b47ab   \n",
       "5415     1516931820  cb3f13e3-4d7e-4b4b-81c7-48e04a2986f2   \n",
       "2054     1516481340  2c4753b6-efda-4a33-899f-4a2ca285e85b   \n",
       "185      1516291980  8cea0e08-07fe-4d69-85ac-37d13a65231f   \n",
       "\n",
       "                  test_group        session  \n",
       "6590  05_12FTD_control_group  session start  \n",
       "820      05_12FTD_test_group  session start  \n",
       "3802     05_12FTD_test_group  session start  \n",
       "3382  05_12FTD_control_group  session start  \n",
       "7865     05_12FTD_test_group  session start  \n",
       "1175     05_12FTD_test_group  session start  \n",
       "7277     05_12FTD_test_group  session start  \n",
       "5415  05_12FTD_control_group  session start  \n",
       "2054  05_12FTD_control_group  session start  \n",
       "185      05_12FTD_test_group  session start  "
      ]
     },
     "execution_count": 80,
     "metadata": {},
     "output_type": "execute_result"
    }
   ],
   "source": [
    "sessions.sample(10)"
   ]
  },
  {
   "cell_type": "code",
   "execution_count": 81,
   "metadata": {},
   "outputs": [
    {
     "data": {
      "text/plain": [
       "0"
      ]
     },
     "execution_count": 81,
     "metadata": {},
     "output_type": "execute_result"
    }
   ],
   "source": [
    "payments.duplicated().sum()"
   ]
  },
  {
   "cell_type": "code",
   "execution_count": 82,
   "metadata": {},
   "outputs": [
    {
     "data": {
      "text/plain": [
       "0"
      ]
     },
     "execution_count": 82,
     "metadata": {},
     "output_type": "execute_result"
    }
   ],
   "source": [
    "sessions.duplicated().sum()"
   ]
  },
  {
   "cell_type": "markdown",
   "metadata": {},
   "source": [
    "Дубликатов нет"
   ]
  },
  {
   "cell_type": "code",
   "execution_count": 83,
   "metadata": {},
   "outputs": [
    {
     "data": {
      "text/html": [
       "<div>\n",
       "<style scoped>\n",
       "    .dataframe tbody tr th:only-of-type {\n",
       "        vertical-align: middle;\n",
       "    }\n",
       "\n",
       "    .dataframe tbody tr th {\n",
       "        vertical-align: top;\n",
       "    }\n",
       "\n",
       "    .dataframe thead th {\n",
       "        text-align: right;\n",
       "    }\n",
       "</style>\n",
       "<table border=\"1\" class=\"dataframe\">\n",
       "  <thead>\n",
       "    <tr style=\"text-align: right;\">\n",
       "      <th></th>\n",
       "      <th>timestamp</th>\n",
       "      <th>uid</th>\n",
       "      <th>event_name</th>\n",
       "      <th>is_trial</th>\n",
       "      <th>price</th>\n",
       "      <th>date</th>\n",
       "    </tr>\n",
       "  </thead>\n",
       "  <tbody>\n",
       "    <tr>\n",
       "      <th>1809</th>\n",
       "      <td>2018-01-16 08:45:00</td>\n",
       "      <td>bba51423-3e31-41f5-89de-555d739a7158</td>\n",
       "      <td>payment</td>\n",
       "      <td>False</td>\n",
       "      <td>7.99</td>\n",
       "      <td>2018-01-16</td>\n",
       "    </tr>\n",
       "    <tr>\n",
       "      <th>271</th>\n",
       "      <td>2018-01-05 22:00:00</td>\n",
       "      <td>9c32ce04-bcc5-4ddb-ab3e-b9858f148256</td>\n",
       "      <td>payment</td>\n",
       "      <td>False</td>\n",
       "      <td>7.99</td>\n",
       "      <td>2018-01-05</td>\n",
       "    </tr>\n",
       "    <tr>\n",
       "      <th>746</th>\n",
       "      <td>2018-01-09 00:16:00</td>\n",
       "      <td>966c335d-96bc-4d87-a5c6-40d1139bdf65</td>\n",
       "      <td>payment</td>\n",
       "      <td>True</td>\n",
       "      <td>0.00</td>\n",
       "      <td>2018-01-09</td>\n",
       "    </tr>\n",
       "    <tr>\n",
       "      <th>3356</th>\n",
       "      <td>2018-01-25 11:49:00</td>\n",
       "      <td>5e3601d7-d168-448d-becc-b23768db611e</td>\n",
       "      <td>payment</td>\n",
       "      <td>True</td>\n",
       "      <td>0.00</td>\n",
       "      <td>2018-01-25</td>\n",
       "    </tr>\n",
       "    <tr>\n",
       "      <th>397</th>\n",
       "      <td>2018-01-07 01:05:00</td>\n",
       "      <td>c5547ae8-efdd-42ec-802f-4f8d1e59d0ca</td>\n",
       "      <td>payment</td>\n",
       "      <td>False</td>\n",
       "      <td>7.99</td>\n",
       "      <td>2018-01-07</td>\n",
       "    </tr>\n",
       "  </tbody>\n",
       "</table>\n",
       "</div>"
      ],
      "text/plain": [
       "               timestamp                                   uid event_name  \\\n",
       "1809 2018-01-16 08:45:00  bba51423-3e31-41f5-89de-555d739a7158    payment   \n",
       "271  2018-01-05 22:00:00  9c32ce04-bcc5-4ddb-ab3e-b9858f148256    payment   \n",
       "746  2018-01-09 00:16:00  966c335d-96bc-4d87-a5c6-40d1139bdf65    payment   \n",
       "3356 2018-01-25 11:49:00  5e3601d7-d168-448d-becc-b23768db611e    payment   \n",
       "397  2018-01-07 01:05:00  c5547ae8-efdd-42ec-802f-4f8d1e59d0ca    payment   \n",
       "\n",
       "      is_trial  price        date  \n",
       "1809     False   7.99  2018-01-16  \n",
       "271      False   7.99  2018-01-05  \n",
       "746       True   0.00  2018-01-09  \n",
       "3356      True   0.00  2018-01-25  \n",
       "397      False   7.99  2018-01-07  "
      ]
     },
     "execution_count": 83,
     "metadata": {},
     "output_type": "execute_result"
    }
   ],
   "source": [
    "payments['timestamp']= pd.to_datetime(payments['timestamp'], unit='s')\n",
    "payments['timestamp'] = pd.to_datetime(payments['timestamp'], format='%Y-%m-%d')\n",
    "payments['date'] = (payments['timestamp']).dt.date\n",
    "payments.sample(5)"
   ]
  },
  {
   "cell_type": "code",
   "execution_count": 84,
   "metadata": {},
   "outputs": [
    {
     "data": {
      "text/html": [
       "<div>\n",
       "<style scoped>\n",
       "    .dataframe tbody tr th:only-of-type {\n",
       "        vertical-align: middle;\n",
       "    }\n",
       "\n",
       "    .dataframe tbody tr th {\n",
       "        vertical-align: top;\n",
       "    }\n",
       "\n",
       "    .dataframe thead th {\n",
       "        text-align: right;\n",
       "    }\n",
       "</style>\n",
       "<table border=\"1\" class=\"dataframe\">\n",
       "  <thead>\n",
       "    <tr style=\"text-align: right;\">\n",
       "      <th></th>\n",
       "      <th>session_start</th>\n",
       "      <th>uid</th>\n",
       "      <th>test_group</th>\n",
       "      <th>session</th>\n",
       "      <th>date</th>\n",
       "    </tr>\n",
       "  </thead>\n",
       "  <tbody>\n",
       "    <tr>\n",
       "      <th>3217</th>\n",
       "      <td>2018-01-22 01:48:00</td>\n",
       "      <td>0287dd67-191d-4091-92ca-2ed23e1340c8</td>\n",
       "      <td>05_12FTD_control_group</td>\n",
       "      <td>session start</td>\n",
       "      <td>2018-01-22</td>\n",
       "    </tr>\n",
       "    <tr>\n",
       "      <th>2519</th>\n",
       "      <td>2018-01-21 08:04:00</td>\n",
       "      <td>c381aee0-6852-4b05-ae7f-61f6e6f1beeb</td>\n",
       "      <td>05_12FTD_test_group</td>\n",
       "      <td>session start</td>\n",
       "      <td>2018-01-21</td>\n",
       "    </tr>\n",
       "    <tr>\n",
       "      <th>7752</th>\n",
       "      <td>2018-01-30 22:59:00</td>\n",
       "      <td>91bb9f2e-204e-44ad-824a-31e11451a72f</td>\n",
       "      <td>05_12FTD_test_group</td>\n",
       "      <td>session start</td>\n",
       "      <td>2018-01-30</td>\n",
       "    </tr>\n",
       "    <tr>\n",
       "      <th>7561</th>\n",
       "      <td>2018-01-30 13:11:00</td>\n",
       "      <td>2a671f83-0e45-4137-bc62-045b8955d3d3</td>\n",
       "      <td>05_12FTD_control_group</td>\n",
       "      <td>session start</td>\n",
       "      <td>2018-01-30</td>\n",
       "    </tr>\n",
       "    <tr>\n",
       "      <th>4831</th>\n",
       "      <td>2018-01-25 00:01:00</td>\n",
       "      <td>b740cb1a-1486-4aff-a9d1-d881b981fb64</td>\n",
       "      <td>05_12FTD_test_group</td>\n",
       "      <td>session start</td>\n",
       "      <td>2018-01-25</td>\n",
       "    </tr>\n",
       "  </tbody>\n",
       "</table>\n",
       "</div>"
      ],
      "text/plain": [
       "           session_start                                   uid  \\\n",
       "3217 2018-01-22 01:48:00  0287dd67-191d-4091-92ca-2ed23e1340c8   \n",
       "2519 2018-01-21 08:04:00  c381aee0-6852-4b05-ae7f-61f6e6f1beeb   \n",
       "7752 2018-01-30 22:59:00  91bb9f2e-204e-44ad-824a-31e11451a72f   \n",
       "7561 2018-01-30 13:11:00  2a671f83-0e45-4137-bc62-045b8955d3d3   \n",
       "4831 2018-01-25 00:01:00  b740cb1a-1486-4aff-a9d1-d881b981fb64   \n",
       "\n",
       "                  test_group        session        date  \n",
       "3217  05_12FTD_control_group  session start  2018-01-22  \n",
       "2519     05_12FTD_test_group  session start  2018-01-21  \n",
       "7752     05_12FTD_test_group  session start  2018-01-30  \n",
       "7561  05_12FTD_control_group  session start  2018-01-30  \n",
       "4831     05_12FTD_test_group  session start  2018-01-25  "
      ]
     },
     "execution_count": 84,
     "metadata": {},
     "output_type": "execute_result"
    }
   ],
   "source": [
    "sessions['session_start']= pd.to_datetime(sessions['session_start'], unit='s')\n",
    "sessions['session_start'] = pd.to_datetime(sessions['session_start'], format='%Y-%m-%dT%H:%M:%S')\n",
    "sessions['date'] = (sessions['session_start']).dt.date\n",
    "\n",
    "sessions.sample(5)"
   ]
  },
  {
   "cell_type": "code",
   "execution_count": 85,
   "metadata": {},
   "outputs": [],
   "source": [
    "test=sessions[sessions['test_group'] == '05_12FTD_test_group']\n",
    "control=sessions[sessions['test_group'] == '05_12FTD_control_group'] "
   ]
  },
  {
   "cell_type": "code",
   "execution_count": 86,
   "metadata": {},
   "outputs": [
    {
     "name": "stdout",
     "output_type": "stream",
     "text": [
      "Кол-во уникальных пользователей в общем массиве: 2218\n",
      "Кол-во уникальных пользователей в тестовой группе: 1163\n",
      "Кол-во уникальных пользователей в контрольной группе: 1055\n"
     ]
    }
   ],
   "source": [
    "print('Кол-во уникальных пользователей в общем массиве: {}'.format(sessions['uid'].nunique()))\n",
    "print('Кол-во уникальных пользователей в тестовой группе: {}'.format(test['uid'].nunique()))\n",
    "print('Кол-во уникальных пользователей в контрольной группе: {}'.format(control['uid'].nunique()))"
   ]
  },
  {
   "cell_type": "markdown",
   "metadata": {},
   "source": [
    "Пользователи в тестовой и контрольной группах не пересекаются"
   ]
  },
  {
   "cell_type": "markdown",
   "metadata": {},
   "source": [
    "## 2 Анализ A/B теста"
   ]
  },
  {
   "cell_type": "markdown",
   "metadata": {},
   "source": [
    "### 2.1 Кумулятивная выручка по группам"
   ]
  },
  {
   "cell_type": "markdown",
   "metadata": {},
   "source": [
    "Исключать из таблицы с платежами пробные подписки не будем, т.к. они тоже являются индикатором привлечения клиентов."
   ]
  },
  {
   "cell_type": "code",
   "execution_count": 87,
   "metadata": {},
   "outputs": [
    {
     "data": {
      "text/html": [
       "<div>\n",
       "<style scoped>\n",
       "    .dataframe tbody tr th:only-of-type {\n",
       "        vertical-align: middle;\n",
       "    }\n",
       "\n",
       "    .dataframe tbody tr th {\n",
       "        vertical-align: top;\n",
       "    }\n",
       "\n",
       "    .dataframe thead th {\n",
       "        text-align: right;\n",
       "    }\n",
       "</style>\n",
       "<table border=\"1\" class=\"dataframe\">\n",
       "  <thead>\n",
       "    <tr style=\"text-align: right;\">\n",
       "      <th></th>\n",
       "      <th>test_group</th>\n",
       "    </tr>\n",
       "    <tr>\n",
       "      <th>uid</th>\n",
       "      <th></th>\n",
       "    </tr>\n",
       "  </thead>\n",
       "  <tbody>\n",
       "    <tr>\n",
       "      <th>c95c0dc5-d889-46dc-aa12-d6b1a8e4c5a1</th>\n",
       "      <td>[05_12FTD_test_group]</td>\n",
       "    </tr>\n",
       "    <tr>\n",
       "      <th>d8c76924-d80a-4661-9a2e-bc29331d67b8</th>\n",
       "      <td>[05_12FTD_test_group]</td>\n",
       "    </tr>\n",
       "    <tr>\n",
       "      <th>64bbedff-6339-4288-8cd4-1fb87e9b0059</th>\n",
       "      <td>[05_12FTD_test_group]</td>\n",
       "    </tr>\n",
       "    <tr>\n",
       "      <th>9bd54fa5-149a-428f-aeab-f7d8289f5926</th>\n",
       "      <td>[05_12FTD_control_group]</td>\n",
       "    </tr>\n",
       "    <tr>\n",
       "      <th>8ffa1c7c-5d0d-40ab-a7b1-c5cc3bfd1215</th>\n",
       "      <td>[05_12FTD_test_group]</td>\n",
       "    </tr>\n",
       "  </tbody>\n",
       "</table>\n",
       "</div>"
      ],
      "text/plain": [
       "                                                    test_group\n",
       "uid                                                           \n",
       "c95c0dc5-d889-46dc-aa12-d6b1a8e4c5a1     [05_12FTD_test_group]\n",
       "d8c76924-d80a-4661-9a2e-bc29331d67b8     [05_12FTD_test_group]\n",
       "64bbedff-6339-4288-8cd4-1fb87e9b0059     [05_12FTD_test_group]\n",
       "9bd54fa5-149a-428f-aeab-f7d8289f5926  [05_12FTD_control_group]\n",
       "8ffa1c7c-5d0d-40ab-a7b1-c5cc3bfd1215     [05_12FTD_test_group]"
      ]
     },
     "execution_count": 87,
     "metadata": {},
     "output_type": "execute_result"
    }
   ],
   "source": [
    "#В таблицу с платежами добавим информацию о принадлежности юзера к тестовой или контрольной группе\n",
    "group = sessions.groupby('uid')['test_group'].unique().to_frame()\n",
    "group.sample(5)"
   ]
  },
  {
   "cell_type": "code",
   "execution_count": 88,
   "metadata": {},
   "outputs": [
    {
     "data": {
      "text/html": [
       "<div>\n",
       "<style scoped>\n",
       "    .dataframe tbody tr th:only-of-type {\n",
       "        vertical-align: middle;\n",
       "    }\n",
       "\n",
       "    .dataframe tbody tr th {\n",
       "        vertical-align: top;\n",
       "    }\n",
       "\n",
       "    .dataframe thead th {\n",
       "        text-align: right;\n",
       "    }\n",
       "</style>\n",
       "<table border=\"1\" class=\"dataframe\">\n",
       "  <thead>\n",
       "    <tr style=\"text-align: right;\">\n",
       "      <th></th>\n",
       "      <th>timestamp</th>\n",
       "      <th>uid</th>\n",
       "      <th>event_name</th>\n",
       "      <th>is_trial</th>\n",
       "      <th>price</th>\n",
       "      <th>date</th>\n",
       "      <th>test_group</th>\n",
       "    </tr>\n",
       "  </thead>\n",
       "  <tbody>\n",
       "    <tr>\n",
       "      <th>232</th>\n",
       "      <td>2018-01-28 22:42:00</td>\n",
       "      <td>a5cd720a-8cd0-42e9-aa91-583af0e4d31d</td>\n",
       "      <td>payment</td>\n",
       "      <td>True</td>\n",
       "      <td>0.00</td>\n",
       "      <td>2018-01-28</td>\n",
       "      <td>[05_12FTD_control_group]</td>\n",
       "    </tr>\n",
       "    <tr>\n",
       "      <th>54</th>\n",
       "      <td>2018-01-14 16:05:00</td>\n",
       "      <td>08d9dcad-4ca4-465e-bbb2-ea5a76b15a0b</td>\n",
       "      <td>payment</td>\n",
       "      <td>False</td>\n",
       "      <td>7.99</td>\n",
       "      <td>2018-01-14</td>\n",
       "      <td>[05_12FTD_test_group]</td>\n",
       "    </tr>\n",
       "    <tr>\n",
       "      <th>235</th>\n",
       "      <td>2018-01-30 10:20:00</td>\n",
       "      <td>8ffa1c7c-5d0d-40ab-a7b1-c5cc3bfd1215</td>\n",
       "      <td>payment</td>\n",
       "      <td>False</td>\n",
       "      <td>7.99</td>\n",
       "      <td>2018-01-30</td>\n",
       "      <td>[05_12FTD_test_group]</td>\n",
       "    </tr>\n",
       "    <tr>\n",
       "      <th>18</th>\n",
       "      <td>2018-01-04 19:11:00</td>\n",
       "      <td>4baa9387-c164-499a-97b7-4ea13c0c6d4d</td>\n",
       "      <td>payment</td>\n",
       "      <td>False</td>\n",
       "      <td>7.99</td>\n",
       "      <td>2018-01-04</td>\n",
       "      <td>[05_12FTD_control_group]</td>\n",
       "    </tr>\n",
       "    <tr>\n",
       "      <th>194</th>\n",
       "      <td>2018-01-19 20:53:00</td>\n",
       "      <td>7efc4405-1a94-4260-8ca0-bb9fc5060775</td>\n",
       "      <td>payment</td>\n",
       "      <td>True</td>\n",
       "      <td>0.00</td>\n",
       "      <td>2018-01-19</td>\n",
       "      <td>[05_12FTD_control_group]</td>\n",
       "    </tr>\n",
       "    <tr>\n",
       "      <th>52</th>\n",
       "      <td>2018-01-07 01:01:00</td>\n",
       "      <td>08d9dcad-4ca4-465e-bbb2-ea5a76b15a0b</td>\n",
       "      <td>payment</td>\n",
       "      <td>True</td>\n",
       "      <td>0.00</td>\n",
       "      <td>2018-01-07</td>\n",
       "      <td>[05_12FTD_test_group]</td>\n",
       "    </tr>\n",
       "    <tr>\n",
       "      <th>182</th>\n",
       "      <td>2018-01-16 22:03:00</td>\n",
       "      <td>daa593c1-a14b-4dd4-b4c0-07d0e2cd78d5</td>\n",
       "      <td>payment</td>\n",
       "      <td>True</td>\n",
       "      <td>0.00</td>\n",
       "      <td>2018-01-16</td>\n",
       "      <td>[05_12FTD_control_group]</td>\n",
       "    </tr>\n",
       "    <tr>\n",
       "      <th>168</th>\n",
       "      <td>2018-01-21 11:20:00</td>\n",
       "      <td>520b29b6-d453-4cfe-a999-1a79a596c825</td>\n",
       "      <td>payment</td>\n",
       "      <td>False</td>\n",
       "      <td>7.99</td>\n",
       "      <td>2018-01-21</td>\n",
       "      <td>[05_12FTD_control_group]</td>\n",
       "    </tr>\n",
       "    <tr>\n",
       "      <th>6</th>\n",
       "      <td>2018-01-08 20:35:00</td>\n",
       "      <td>c9a6e320-3d41-4547-961b-ba58ce7797d8</td>\n",
       "      <td>payment</td>\n",
       "      <td>False</td>\n",
       "      <td>7.99</td>\n",
       "      <td>2018-01-08</td>\n",
       "      <td>[05_12FTD_test_group]</td>\n",
       "    </tr>\n",
       "    <tr>\n",
       "      <th>41</th>\n",
       "      <td>2018-01-06 16:31:00</td>\n",
       "      <td>9bf3db77-170a-467a-b5ae-14bcc17f281f</td>\n",
       "      <td>payment</td>\n",
       "      <td>True</td>\n",
       "      <td>0.00</td>\n",
       "      <td>2018-01-06</td>\n",
       "      <td>[05_12FTD_control_group]</td>\n",
       "    </tr>\n",
       "  </tbody>\n",
       "</table>\n",
       "</div>"
      ],
      "text/plain": [
       "              timestamp                                   uid event_name  \\\n",
       "232 2018-01-28 22:42:00  a5cd720a-8cd0-42e9-aa91-583af0e4d31d    payment   \n",
       "54  2018-01-14 16:05:00  08d9dcad-4ca4-465e-bbb2-ea5a76b15a0b    payment   \n",
       "235 2018-01-30 10:20:00  8ffa1c7c-5d0d-40ab-a7b1-c5cc3bfd1215    payment   \n",
       "18  2018-01-04 19:11:00  4baa9387-c164-499a-97b7-4ea13c0c6d4d    payment   \n",
       "194 2018-01-19 20:53:00  7efc4405-1a94-4260-8ca0-bb9fc5060775    payment   \n",
       "52  2018-01-07 01:01:00  08d9dcad-4ca4-465e-bbb2-ea5a76b15a0b    payment   \n",
       "182 2018-01-16 22:03:00  daa593c1-a14b-4dd4-b4c0-07d0e2cd78d5    payment   \n",
       "168 2018-01-21 11:20:00  520b29b6-d453-4cfe-a999-1a79a596c825    payment   \n",
       "6   2018-01-08 20:35:00  c9a6e320-3d41-4547-961b-ba58ce7797d8    payment   \n",
       "41  2018-01-06 16:31:00  9bf3db77-170a-467a-b5ae-14bcc17f281f    payment   \n",
       "\n",
       "     is_trial  price        date                test_group  \n",
       "232      True   0.00  2018-01-28  [05_12FTD_control_group]  \n",
       "54      False   7.99  2018-01-14     [05_12FTD_test_group]  \n",
       "235     False   7.99  2018-01-30     [05_12FTD_test_group]  \n",
       "18      False   7.99  2018-01-04  [05_12FTD_control_group]  \n",
       "194      True   0.00  2018-01-19  [05_12FTD_control_group]  \n",
       "52       True   0.00  2018-01-07     [05_12FTD_test_group]  \n",
       "182      True   0.00  2018-01-16  [05_12FTD_control_group]  \n",
       "168     False   7.99  2018-01-21  [05_12FTD_control_group]  \n",
       "6       False   7.99  2018-01-08     [05_12FTD_test_group]  \n",
       "41       True   0.00  2018-01-06  [05_12FTD_control_group]  "
      ]
     },
     "execution_count": 88,
     "metadata": {},
     "output_type": "execute_result"
    }
   ],
   "source": [
    "payments=payments.merge(group,on='uid')\n",
    "payments.sample(10)"
   ]
  },
  {
   "cell_type": "code",
   "execution_count": 89,
   "metadata": {},
   "outputs": [],
   "source": [
    "def test_group(row): \n",
    "    group = row['test_group']\n",
    "    if group == '05_12FTD_control_group':\n",
    "            return 0\n",
    "    if group == '05_12FTD_test_group':\n",
    "            return 1\n",
    "payments['test_group'] = payments.apply(test_group, axis = 1)\n"
   ]
  },
  {
   "cell_type": "markdown",
   "metadata": {},
   "source": [
    "Итого, имеем 239 платежей."
   ]
  },
  {
   "cell_type": "markdown",
   "metadata": {},
   "source": [
    "Чтобы исключить проблему подсматривания, проанализируем графики накапливаемых данных."
   ]
  },
  {
   "cell_type": "code",
   "execution_count": 90,
   "metadata": {},
   "outputs": [
    {
     "data": {
      "text/html": [
       "<div>\n",
       "<style scoped>\n",
       "    .dataframe tbody tr th:only-of-type {\n",
       "        vertical-align: middle;\n",
       "    }\n",
       "\n",
       "    .dataframe tbody tr th {\n",
       "        vertical-align: top;\n",
       "    }\n",
       "\n",
       "    .dataframe thead th {\n",
       "        text-align: right;\n",
       "    }\n",
       "</style>\n",
       "<table border=\"1\" class=\"dataframe\">\n",
       "  <thead>\n",
       "    <tr style=\"text-align: right;\">\n",
       "      <th></th>\n",
       "      <th>date</th>\n",
       "      <th>test_group</th>\n",
       "    </tr>\n",
       "  </thead>\n",
       "  <tbody>\n",
       "    <tr>\n",
       "      <th>0</th>\n",
       "      <td>2017-12-31</td>\n",
       "      <td>1</td>\n",
       "    </tr>\n",
       "    <tr>\n",
       "      <th>1</th>\n",
       "      <td>2018-01-08</td>\n",
       "      <td>1</td>\n",
       "    </tr>\n",
       "    <tr>\n",
       "      <th>3</th>\n",
       "      <td>2018-01-01</td>\n",
       "      <td>0</td>\n",
       "    </tr>\n",
       "    <tr>\n",
       "      <th>4</th>\n",
       "      <td>2018-01-08</td>\n",
       "      <td>0</td>\n",
       "    </tr>\n",
       "    <tr>\n",
       "      <th>5</th>\n",
       "      <td>2018-01-01</td>\n",
       "      <td>1</td>\n",
       "    </tr>\n",
       "  </tbody>\n",
       "</table>\n",
       "</div>"
      ],
      "text/plain": [
       "         date  test_group\n",
       "0  2017-12-31           1\n",
       "1  2018-01-08           1\n",
       "3  2018-01-01           0\n",
       "4  2018-01-08           0\n",
       "5  2018-01-01           1"
      ]
     },
     "execution_count": 90,
     "metadata": {},
     "output_type": "execute_result"
    }
   ],
   "source": [
    "# создаем массив уникальных пар значений дат и групп теста\n",
    "datesGroups = payments[['date','test_group']].drop_duplicates()\n",
    "datesGroups.head(5)"
   ]
  },
  {
   "cell_type": "code",
   "execution_count": 91,
   "metadata": {},
   "outputs": [
    {
     "data": {
      "text/html": [
       "<div>\n",
       "<style scoped>\n",
       "    .dataframe tbody tr th:only-of-type {\n",
       "        vertical-align: middle;\n",
       "    }\n",
       "\n",
       "    .dataframe tbody tr th {\n",
       "        vertical-align: top;\n",
       "    }\n",
       "\n",
       "    .dataframe thead th {\n",
       "        text-align: right;\n",
       "    }\n",
       "</style>\n",
       "<table border=\"1\" class=\"dataframe\">\n",
       "  <thead>\n",
       "    <tr style=\"text-align: right;\">\n",
       "      <th></th>\n",
       "      <th>date</th>\n",
       "      <th>test_group</th>\n",
       "      <th>event_name</th>\n",
       "      <th>uid</th>\n",
       "      <th>price</th>\n",
       "    </tr>\n",
       "  </thead>\n",
       "  <tbody>\n",
       "    <tr>\n",
       "      <th>0</th>\n",
       "      <td>2017-12-31</td>\n",
       "      <td>1</td>\n",
       "      <td>1</td>\n",
       "      <td>1</td>\n",
       "      <td>0.00</td>\n",
       "    </tr>\n",
       "    <tr>\n",
       "      <th>3</th>\n",
       "      <td>2018-01-01</td>\n",
       "      <td>0</td>\n",
       "      <td>1</td>\n",
       "      <td>1</td>\n",
       "      <td>0.00</td>\n",
       "    </tr>\n",
       "    <tr>\n",
       "      <th>5</th>\n",
       "      <td>2018-01-01</td>\n",
       "      <td>1</td>\n",
       "      <td>3</td>\n",
       "      <td>3</td>\n",
       "      <td>0.00</td>\n",
       "    </tr>\n",
       "    <tr>\n",
       "      <th>15</th>\n",
       "      <td>2018-01-02</td>\n",
       "      <td>0</td>\n",
       "      <td>2</td>\n",
       "      <td>2</td>\n",
       "      <td>7.99</td>\n",
       "    </tr>\n",
       "    <tr>\n",
       "      <th>10</th>\n",
       "      <td>2018-01-02</td>\n",
       "      <td>1</td>\n",
       "      <td>7</td>\n",
       "      <td>6</td>\n",
       "      <td>55.97</td>\n",
       "    </tr>\n",
       "  </tbody>\n",
       "</table>\n",
       "</div>"
      ],
      "text/plain": [
       "          date  test_group  event_name  uid  price\n",
       "0   2017-12-31           1           1    1   0.00\n",
       "3   2018-01-01           0           1    1   0.00\n",
       "5   2018-01-01           1           3    3   0.00\n",
       "15  2018-01-02           0           2    2   7.99\n",
       "10  2018-01-02           1           7    6  55.97"
      ]
     },
     "execution_count": 91,
     "metadata": {},
     "output_type": "execute_result"
    }
   ],
   "source": [
    "# получаем агрегированные кумулятивные по дням данные о транзакциях \n",
    "\n",
    "ordersAggregated = datesGroups.apply(lambda x: payments[np.logical_and(payments['date'] <= x['date'], payments['test_group'] == x['test_group'])].agg({'date' : 'max', 'test_group' : 'max', 'event_name' : pd.Series.count, 'uid' : pd.Series.nunique, 'price' : 'sum'}), axis=1).sort_values(by=['date','test_group'])\n",
    "ordersAggregated.head(5)"
   ]
  },
  {
   "cell_type": "code",
   "execution_count": 92,
   "metadata": {},
   "outputs": [],
   "source": [
    "sessions['test_group'] = sessions.apply(test_group, axis = 1)"
   ]
  },
  {
   "cell_type": "code",
   "execution_count": 122,
   "metadata": {},
   "outputs": [
    {
     "data": {
      "text/html": [
       "<div>\n",
       "<style scoped>\n",
       "    .dataframe tbody tr th:only-of-type {\n",
       "        vertical-align: middle;\n",
       "    }\n",
       "\n",
       "    .dataframe tbody tr th {\n",
       "        vertical-align: top;\n",
       "    }\n",
       "\n",
       "    .dataframe thead th {\n",
       "        text-align: right;\n",
       "    }\n",
       "</style>\n",
       "<table border=\"1\" class=\"dataframe\">\n",
       "  <thead>\n",
       "    <tr style=\"text-align: right;\">\n",
       "      <th></th>\n",
       "      <th>date</th>\n",
       "      <th>test_group</th>\n",
       "      <th>uid</th>\n",
       "    </tr>\n",
       "  </thead>\n",
       "  <tbody>\n",
       "    <tr>\n",
       "      <th>3</th>\n",
       "      <td>2018-01-01</td>\n",
       "      <td>0.0</td>\n",
       "      <td>4.0</td>\n",
       "    </tr>\n",
       "    <tr>\n",
       "      <th>5</th>\n",
       "      <td>2018-01-01</td>\n",
       "      <td>1.0</td>\n",
       "      <td>1.0</td>\n",
       "    </tr>\n",
       "    <tr>\n",
       "      <th>4</th>\n",
       "      <td>2018-01-02</td>\n",
       "      <td>0.0</td>\n",
       "      <td>5.0</td>\n",
       "    </tr>\n",
       "    <tr>\n",
       "      <th>10</th>\n",
       "      <td>2018-01-02</td>\n",
       "      <td>1.0</td>\n",
       "      <td>1.0</td>\n",
       "    </tr>\n",
       "    <tr>\n",
       "      <th>19</th>\n",
       "      <td>2018-01-03</td>\n",
       "      <td>1.0</td>\n",
       "      <td>2.0</td>\n",
       "    </tr>\n",
       "  </tbody>\n",
       "</table>\n",
       "</div>"
      ],
      "text/plain": [
       "          date  test_group  uid\n",
       "3   2018-01-01         0.0  4.0\n",
       "5   2018-01-01         1.0  1.0\n",
       "4   2018-01-02         0.0  5.0\n",
       "10  2018-01-02         1.0  1.0\n",
       "19  2018-01-03         1.0  2.0"
      ]
     },
     "execution_count": 122,
     "metadata": {},
     "output_type": "execute_result"
    }
   ],
   "source": [
    "# получаем агрегированные кумулятивные по дням данные о посетителях  \n",
    "visitorsAggregated = datesGroups.apply(lambda x: sessions[np.logical_and(sessions['date'] <= x['date'], sessions['test_group'] == x['test_group'])].agg({'date' : 'max', 'test_group' : 'max', 'uid' : 'nunique'}), axis=1).sort_values(by=['date','test_group'])\n",
    "visitorsAggregated=visitorsAggregated.drop_duplicates()\n",
    "visitorsAggregated.head(5)"
   ]
  },
  {
   "cell_type": "code",
   "execution_count": 121,
   "metadata": {},
   "outputs": [
    {
     "data": {
      "text/html": [
       "<div>\n",
       "<style scoped>\n",
       "    .dataframe tbody tr th:only-of-type {\n",
       "        vertical-align: middle;\n",
       "    }\n",
       "\n",
       "    .dataframe tbody tr th {\n",
       "        vertical-align: top;\n",
       "    }\n",
       "\n",
       "    .dataframe thead th {\n",
       "        text-align: right;\n",
       "    }\n",
       "</style>\n",
       "<table border=\"1\" class=\"dataframe\">\n",
       "  <thead>\n",
       "    <tr style=\"text-align: right;\">\n",
       "      <th></th>\n",
       "      <th>date</th>\n",
       "      <th>test_group</th>\n",
       "      <th>payments</th>\n",
       "      <th>buyers</th>\n",
       "      <th>revenue</th>\n",
       "      <th>visitors</th>\n",
       "    </tr>\n",
       "  </thead>\n",
       "  <tbody>\n",
       "    <tr>\n",
       "      <th>0</th>\n",
       "      <td>2018-01-01</td>\n",
       "      <td>0</td>\n",
       "      <td>1</td>\n",
       "      <td>1</td>\n",
       "      <td>0.00</td>\n",
       "      <td>4.0</td>\n",
       "    </tr>\n",
       "    <tr>\n",
       "      <th>1</th>\n",
       "      <td>2018-01-01</td>\n",
       "      <td>1</td>\n",
       "      <td>3</td>\n",
       "      <td>3</td>\n",
       "      <td>0.00</td>\n",
       "      <td>1.0</td>\n",
       "    </tr>\n",
       "    <tr>\n",
       "      <th>2</th>\n",
       "      <td>2018-01-02</td>\n",
       "      <td>0</td>\n",
       "      <td>2</td>\n",
       "      <td>2</td>\n",
       "      <td>7.99</td>\n",
       "      <td>5.0</td>\n",
       "    </tr>\n",
       "    <tr>\n",
       "      <th>3</th>\n",
       "      <td>2018-01-02</td>\n",
       "      <td>1</td>\n",
       "      <td>7</td>\n",
       "      <td>6</td>\n",
       "      <td>55.97</td>\n",
       "      <td>1.0</td>\n",
       "    </tr>\n",
       "    <tr>\n",
       "      <th>4</th>\n",
       "      <td>2018-01-03</td>\n",
       "      <td>1</td>\n",
       "      <td>9</td>\n",
       "      <td>8</td>\n",
       "      <td>55.97</td>\n",
       "      <td>2.0</td>\n",
       "    </tr>\n",
       "  </tbody>\n",
       "</table>\n",
       "</div>"
      ],
      "text/plain": [
       "         date  test_group  payments  buyers  revenue  visitors\n",
       "0  2018-01-01           0         1       1     0.00       4.0\n",
       "1  2018-01-01           1         3       3     0.00       1.0\n",
       "2  2018-01-02           0         2       2     7.99       5.0\n",
       "3  2018-01-02           1         7       6    55.97       1.0\n",
       "4  2018-01-03           1         9       8    55.97       2.0"
      ]
     },
     "execution_count": 121,
     "metadata": {},
     "output_type": "execute_result"
    }
   ],
   "source": [
    "# объединяем кумулятивные данные в одной таблице и присваиваем ее столбцам понятные названия\n",
    "cumulativeData = ordersAggregated.merge(visitorsAggregated, left_on=['date', 'test_group'], right_on=['date', 'test_group'])\n",
    "cumulativeData.columns = ['date', 'test_group', 'payments', 'buyers', 'revenue', 'visitors']\n",
    "cumulativeData.head(5)"
   ]
  },
  {
   "cell_type": "code",
   "execution_count": 118,
   "metadata": {},
   "outputs": [],
   "source": [
    "# датафрейм с кумулятивным количеством заказов и кумулятивной выручкой по дням в группе А\n",
    "cumulativeRevenueA = cumulativeData[cumulativeData['test_group']==1][['date','revenue', 'payments']]\n",
    "\n",
    "# датафрейм с кумулятивным количеством заказов и кумулятивной выручкой по дням в группе B\n",
    "cumulativeRevenueB = cumulativeData[cumulativeData['test_group']==0][['date','revenue', 'payments']]"
   ]
  },
  {
   "cell_type": "code",
   "execution_count": 119,
   "metadata": {},
   "outputs": [
    {
     "data": {
      "text/plain": [
       "<matplotlib.legend.Legend at 0x284a4c13040>"
      ]
     },
     "execution_count": 119,
     "metadata": {},
     "output_type": "execute_result"
    },
    {
     "data": {
      "image/png": "[encoded data removed]",
      "text/plain": [
       "<Figure size 864x432 with 1 Axes>"
      ]
     },
     "metadata": {
      "needs_background": "light"
     },
     "output_type": "display_data"
    }
   ],
   "source": [
    "plt.figure(figsize = (12, 6))\n",
    "plt.title('График кумулятивной выручки по группам')\n",
    "plt.xlabel('Дата')\n",
    "plt.ylabel('Кумулятивная выручка')\n",
    "\n",
    "# Строим график выручки группы А\n",
    "fig = plt.plot(cumulativeRevenueA['date'], cumulativeRevenueA['revenue'], label='A')\n",
    "\n",
    "# Строим график выручки группы B\n",
    "fig = plt.plot(cumulativeRevenueB['date'], cumulativeRevenueB['revenue'], label='B')\n",
    "\n",
    "plt.legend()"
   ]
  },
  {
   "cell_type": "markdown",
   "metadata": {},
   "source": [
    "График выручки двух групп увеличивается в течение всего периода и находится примерно на одном уровне по двум группам. Однако график выручки группы B резко и значительно вырос примерно 13.01.2018. Это может сигнализировать о всплеске числа платных подписок(после окончания пробного периода), либо о появлении очень дорогих покупок в выборке."
   ]
  },
  {
   "cell_type": "markdown",
   "metadata": {},
   "source": [
    "### 2.2 Кумулятивный средний чек по группам"
   ]
  },
  {
   "cell_type": "code",
   "execution_count": 120,
   "metadata": {},
   "outputs": [
    {
     "data": {
      "text/plain": [
       "<matplotlib.legend.Legend at 0x284a4c707f0>"
      ]
     },
     "execution_count": 120,
     "metadata": {},
     "output_type": "execute_result"
    },
    {
     "data": {
      "image/png": "[encoded data removed]",
      "text/plain": [
       "<Figure size 864x432 with 1 Axes>"
      ]
     },
     "metadata": {
      "needs_background": "light"
     },
     "output_type": "display_data"
    }
   ],
   "source": [
    "# разделим кумулятивную выручку на кумулятивное число платежей\n",
    "plt.figure(figsize = (12, 6))\n",
    "plt.title('График кумулятивного среднего чека по группам')\n",
    "plt.xlabel('Дата')\n",
    "plt.ylabel('Кумулятивный средний чек')\n",
    "plt.plot(cumulativeRevenueA['date'], cumulativeRevenueA['revenue']/cumulativeRevenueA['payments'], label='A')\n",
    "plt.plot(cumulativeRevenueB['date'], cumulativeRevenueB['revenue']/cumulativeRevenueB['payments'], label='B')\n",
    "plt.legend() "
   ]
  },
  {
   "cell_type": "markdown",
   "metadata": {},
   "source": [
    "Из данного графика видно, что всплеск общей выручки группы B связан не с увеличением среднего чека клиента, а с увеличением числа платящих клиентов. В тестовой группе A, наоборот, были аномальные суммы платежей на клиента в начале тестирования. \n",
    "\n",
    "В середине теста графики стабилизировались. Средней чек группы А больше, чем у группы В. Но поскольку могли иметь место выбросы, мы снова не можем сделать вывод о преимуществе какой-либо из групп."
   ]
  },
  {
   "cell_type": "markdown",
   "metadata": {},
   "source": [
    "### 2.3 Кумулятивная конверсия по группам"
   ]
  },
  {
   "cell_type": "code",
   "execution_count": 98,
   "metadata": {},
   "outputs": [
    {
     "data": {
      "text/plain": [
       "<matplotlib.legend.Legend at 0x284a3bf1f10>"
      ]
     },
     "execution_count": 98,
     "metadata": {},
     "output_type": "execute_result"
    },
    {
     "data": {
      "image/png": "[encoded data removed]",
      "text/plain": [
       "<Figure size 864x432 with 1 Axes>"
      ]
     },
     "metadata": {
      "needs_background": "light"
     },
     "output_type": "display_data"
    }
   ],
   "source": [
    "plt.figure(figsize = (12, 6))\n",
    "plt.title('График кумулятивной конверсии по группам')\n",
    "plt.xlabel('Дата')\n",
    "plt.ylabel('Кумулятивная конверсия')\n",
    "\n",
    "# считаем кумулятивную конверсию\n",
    "cumulativeData['conversion'] = cumulativeData['payments']/cumulativeData['visitors']\n",
    "\n",
    "# отделяем данные по группе A\n",
    "cumulativeDataA = cumulativeData[cumulativeData['test_group']==1]\n",
    "\n",
    "# отделяем данные по группе B\n",
    "cumulativeDataB = cumulativeData[cumulativeData['test_group']==0]\n",
    "\n",
    "# строим графики\n",
    "plt.plot(cumulativeDataA['date'], cumulativeDataA['conversion'], label='A')\n",
    "plt.plot(cumulativeDataB['date'], cumulativeDataB['conversion'], label='B')\n",
    "plt.legend()\n",
    "\n"
   ]
  },
  {
   "cell_type": "markdown",
   "metadata": {},
   "source": [
    "График демонстрирует всплеск конверсии 17.01.2018 по двум группам, в особенности по группе B, где покупок стало значительно больше, чем уникальных пользователей. Стартовая сраница действительно привлекла пользователей.\n",
    "\n",
    "Несмотря на увеличивающуюся выручку, конверсия в транзакцию значительно снизилась к концу теста и сравнялась по обеим группам. Можем сделать вывод, что стартовая страница не оправдала ожидания пользователей от сервиса, поэтому новых стало меньше."
   ]
  },
  {
   "cell_type": "markdown",
   "metadata": {},
   "source": [
    "### 2.4 Относительное изменение кумулятивной конверсии группы B к группе A"
   ]
  },
  {
   "cell_type": "code",
   "execution_count": 99,
   "metadata": {},
   "outputs": [
    {
     "data": {
      "text/plain": [
       "<matplotlib.lines.Line2D at 0x284a4720ac0>"
      ]
     },
     "execution_count": 99,
     "metadata": {},
     "output_type": "execute_result"
    },
    {
     "data": {
      "image/png": "[encoded data removed]",
      "text/plain": [
       "<Figure size 864x432 with 1 Axes>"
      ]
     },
     "metadata": {
      "needs_background": "light"
     },
     "output_type": "display_data"
    }
   ],
   "source": [
    "plt.figure(figsize = (12, 6))\n",
    "plt.title('График относительного изменения кумулятивной конверсии группы B к группе A')\n",
    "plt.xlabel('Дата')\n",
    "plt.ylabel('Кумулятивная конверсия')\n",
    "\n",
    "mergedCumulativeConversions = cumulativeDataA[['date','conversion']].merge(cumulativeDataB[['date','conversion']], left_on='date', right_on='date', how='left', suffixes=['A', 'B'])\n",
    "\n",
    "mergedCumulativeConversions=mergedCumulativeConversions.dropna()\n",
    "\n",
    "plt.plot(mergedCumulativeConversions['date'], mergedCumulativeConversions['conversionB']/mergedCumulativeConversions['conversionA']-1, label=\"Относительный прирост конверсии группы B относительно группы A\")\n",
    "plt.legend()\n",
    "\n",
    "plt.axhline(y=0, color='black', linestyle='--')\n",
    "plt.axhline(y=-0.1, color='grey', linestyle='--') "
   ]
  },
  {
   "cell_type": "markdown",
   "metadata": {},
   "source": [
    "По данному графику видим, что преимущество по конверсии остается за группой B к концу теста."
   ]
  },
  {
   "cell_type": "markdown",
   "metadata": {},
   "source": [
    "### 2.5 Количество платежей по пользователям"
   ]
  },
  {
   "cell_type": "markdown",
   "metadata": {},
   "source": [
    "Результаты теста могут искажаться аномалиями. Изучим распределения данных, чтобы выявить эти аномальные значения."
   ]
  },
  {
   "cell_type": "code",
   "execution_count": 100,
   "metadata": {},
   "outputs": [],
   "source": [
    "paymentsByUsers = payments.drop(['test_group', 'price', 'date'], axis=1).groupby('uid', as_index=False).agg({'event_name' : pd.Series.count})\n",
    "\n",
    "paymentsByUsers.columns = ['uid','payments']"
   ]
  },
  {
   "cell_type": "code",
   "execution_count": 101,
   "metadata": {},
   "outputs": [
    {
     "data": {
      "text/plain": [
       "(array([48.,  0.,  0.,  0.,  0., 55.,  0.,  0.,  0., 27.]),\n",
       " array([1. , 1.2, 1.4, 1.6, 1.8, 2. , 2.2, 2.4, 2.6, 2.8, 3. ]),\n",
       " <BarContainer object of 10 artists>)"
      ]
     },
     "execution_count": 101,
     "metadata": {},
     "output_type": "execute_result"
    },
    {
     "data": {
      "image/png": "[encoded data removed]",
      "text/plain": [
       "<Figure size 864x432 with 1 Axes>"
      ]
     },
     "metadata": {
      "needs_background": "light"
     },
     "output_type": "display_data"
    }
   ],
   "source": [
    "plt.figure(figsize = (12, 6))\n",
    "plt.title('Распределение количества платежей на одного пользователя')\n",
    "plt.xlabel('Количество платежей')\n",
    "plt.ylabel('Частота')\n",
    "plt.hist(paymentsByUsers['payments'])"
   ]
  },
  {
   "cell_type": "markdown",
   "metadata": {},
   "source": [
    "Пользователи, как правило совершают 1-2 платежа.\n",
    "\n",
    "Принято исключать отсеивать от 1% до 5% наблюдений с крайними значениями. Расчитаем 95 и 99 перцентили, чтобы определить, является ли 3 платежа аномальным значением."
   ]
  },
  {
   "cell_type": "code",
   "execution_count": 102,
   "metadata": {},
   "outputs": [
    {
     "name": "stdout",
     "output_type": "stream",
     "text": [
      "[3. 3.]\n"
     ]
    }
   ],
   "source": [
    "print(np.percentile(paymentsByUsers['payments'], [95, 99])) "
   ]
  },
  {
   "cell_type": "markdown",
   "metadata": {},
   "source": [
    "Значение попадает на 99 перцентиль, значит аномальным значением не является."
   ]
  },
  {
   "cell_type": "markdown",
   "metadata": {},
   "source": [
    "### 2.6 Стоимость заказов"
   ]
  },
  {
   "cell_type": "markdown",
   "metadata": {},
   "source": [
    "Анологично отображаем распределение стоимости заказов."
   ]
  },
  {
   "cell_type": "code",
   "execution_count": 103,
   "metadata": {},
   "outputs": [
    {
     "data": {
      "text/plain": [
       "(array([114., 122.,   0.,   0.,   0.,   0.,   0.,   0.,   0.,   3.]),\n",
       " array([ 0.   ,  3.999,  7.998, 11.997, 15.996, 19.995, 23.994, 27.993,\n",
       "        31.992, 35.991, 39.99 ]),\n",
       " <BarContainer object of 10 artists>)"
      ]
     },
     "execution_count": 103,
     "metadata": {},
     "output_type": "execute_result"
    },
    {
     "data": {
      "image/png": "[encoded data removed]",
      "text/plain": [
       "<Figure size 864x432 with 1 Axes>"
      ]
     },
     "metadata": {
      "needs_background": "light"
     },
     "output_type": "display_data"
    }
   ],
   "source": [
    "plt.figure(figsize = (12, 6))\n",
    "plt.title('Распределение сумм платежей')\n",
    "plt.xlabel('Сумма платежа')\n",
    "plt.ylabel('Частота')\n",
    "plt.hist(payments['price']) "
   ]
  },
  {
   "cell_type": "markdown",
   "metadata": {},
   "source": [
    "Чаще всего стоимость заказа не превышает 13 долларов. Сложно определить точную границу выбросов, поэтому также находим 95 и 99 перцентили."
   ]
  },
  {
   "cell_type": "code",
   "execution_count": 104,
   "metadata": {},
   "outputs": [
    {
     "name": "stdout",
     "output_type": "stream",
     "text": [
      "[ 7.99 27.83]\n"
     ]
    }
   ],
   "source": [
    "print(np.percentile(payments['price'], [95, 99])) "
   ]
  },
  {
   "cell_type": "markdown",
   "metadata": {},
   "source": [
    "С помощью перцентилей убеждаемся, что имеются выбросы примерно от 26 долларов. Избавимся от них, чтобы не искажать итог:"
   ]
  },
  {
   "cell_type": "code",
   "execution_count": 105,
   "metadata": {},
   "outputs": [],
   "source": [
    "payments= payments[payments['price']<=26]"
   ]
  },
  {
   "cell_type": "markdown",
   "metadata": {},
   "source": [
    "### 2.7 Статистическая значимость различий в конверсии между группами"
   ]
  },
  {
   "cell_type": "markdown",
   "metadata": {},
   "source": [
    "Так как значения имеют распределение отличное от нормального, применим статистический критерий Манна-Уитни к выборкам."
   ]
  },
  {
   "cell_type": "code",
   "execution_count": 106,
   "metadata": {},
   "outputs": [],
   "source": [
    "visitorsADaily = sessions[sessions['test_group']==1][['date', 'uid']]\n",
    "visitorsADaily= visitorsADaily.groupby('date')['uid'].agg('nunique').reset_index()\n",
    "visitorsADaily.columns = ['date', 'visitorsPerDateA'] #  количество пользователей в выбранную дату в группе A\n",
    "\n",
    "visitorsACummulative = visitorsADaily.apply(lambda x: visitorsADaily[visitorsADaily['date'] <= x['date']].agg({'date' : 'max', 'visitorsPerDateA' : 'sum'}), axis=1)\n",
    "visitorsACummulative.columns = ['date', 'visitorsCummulativeA'] # количество пользователей до выбранной даты включительно в группе A\n",
    "\n",
    "visitorsBDaily = sessions[sessions['test_group']==0][['date', 'uid']]\n",
    "visitorsBDaily= visitorsBDaily.groupby('date')['uid'].agg('nunique').reset_index()\n",
    "visitorsBDaily.columns = ['date', 'visitorsPerDateB'] #  количество пользователей в выбранную дату в группе B\n",
    "\n",
    "visitorsBCummulative = visitorsBDaily.apply(lambda x: visitorsBDaily[visitorsBDaily['date'] <= x['date']].agg({'date' : 'max', 'visitorsPerDateB' : 'sum'}), axis=1)\n",
    "visitorsBCummulative.columns = ['date', 'visitorsCummulativeB'] # количество пользователей до выбранной даты включительно в группе B\n"
   ]
  },
  {
   "cell_type": "code",
   "execution_count": 107,
   "metadata": {},
   "outputs": [],
   "source": [
    "paymentsADaily = payments[payments['test_group']==1][['date', 'event_name', 'uid', 'price']]\\\n",
    "    .groupby('date', as_index=False)\\\n",
    "    .agg({'event_name' : pd.Series.count, 'price' : 'sum'})\n",
    "paymentsADaily.columns = ['date', 'paymentsPerDateA', 'revenuePerDateA']  # количество заказов в выбранную дату и суммарная выручка в группе A\n",
    "\n",
    "paymentsACummulative = paymentsADaily.apply(\n",
    "    lambda x: \\\n",
    "        paymentsADaily[paymentsADaily['date'] <= x['date']]\\\n",
    "            .agg({\n",
    "                'date' : 'max',\n",
    "                'paymentsPerDateA' : 'sum',\n",
    "                'revenuePerDateA' : 'sum'}), axis=1).sort_values(by=['date'])\n",
    "paymentsACummulative.columns = ['date', 'paymentsCummulativeA', 'revenueCummulativeA'] # суммарная выручка до выбранной даты включительно в группе A\n",
    "\n",
    "paymentsBDaily = payments[payments['test_group']==0][['date', 'event_name', 'uid', 'price']]\\\n",
    "    .groupby('date', as_index=False)\\\n",
    "    .agg({'event_name' : pd.Series.count, 'price' : 'sum'})\n",
    "paymentsBDaily.columns = ['date', 'paymentsPerDateB', 'revenuePerDateB'] # количество заказов в выбранную дату и суммарная выручка в группе B\n",
    "\n",
    "paymentsBCummulative = paymentsBDaily.apply(\n",
    "    lambda x: \\\n",
    "        paymentsBDaily[paymentsBDaily['date'] <= x['date']]\\\n",
    "            .agg({\n",
    "                'date' : 'max',\n",
    "                'paymentsPerDateB' : 'sum',\n",
    "                'revenuePerDateB' : 'sum'}), axis=1).sort_values(by=['date'])\n",
    "paymentsBCummulative.columns = ['date', 'paymentsCummulativeB', 'revenueCummulativeB'] # суммарная выручка до выбранной даты включительно в группе B\n"
   ]
  },
  {
   "cell_type": "code",
   "execution_count": 108,
   "metadata": {},
   "outputs": [
    {
     "data": {
      "text/html": [
       "<div>\n",
       "<style scoped>\n",
       "    .dataframe tbody tr th:only-of-type {\n",
       "        vertical-align: middle;\n",
       "    }\n",
       "\n",
       "    .dataframe tbody tr th {\n",
       "        vertical-align: top;\n",
       "    }\n",
       "\n",
       "    .dataframe thead th {\n",
       "        text-align: right;\n",
       "    }\n",
       "</style>\n",
       "<table border=\"1\" class=\"dataframe\">\n",
       "  <thead>\n",
       "    <tr style=\"text-align: right;\">\n",
       "      <th></th>\n",
       "      <th>date</th>\n",
       "      <th>paymentsPerDateA</th>\n",
       "      <th>revenuePerDateA</th>\n",
       "      <th>paymentsPerDateB</th>\n",
       "      <th>revenuePerDateB</th>\n",
       "      <th>paymentsCummulativeA</th>\n",
       "      <th>revenueCummulativeA</th>\n",
       "      <th>paymentsCummulativeB</th>\n",
       "      <th>revenueCummulativeB</th>\n",
       "      <th>visitorsPerDateA</th>\n",
       "      <th>visitorsPerDateB</th>\n",
       "      <th>visitorsCummulativeA</th>\n",
       "      <th>visitorsCummulativeB</th>\n",
       "    </tr>\n",
       "  </thead>\n",
       "  <tbody>\n",
       "    <tr>\n",
       "      <th>28</th>\n",
       "      <td>2018-01-30</td>\n",
       "      <td>2</td>\n",
       "      <td>7.99</td>\n",
       "      <td>1.0</td>\n",
       "      <td>7.99</td>\n",
       "      <td>114</td>\n",
       "      <td>455.43</td>\n",
       "      <td>119.0</td>\n",
       "      <td>511.36</td>\n",
       "      <td>99.0</td>\n",
       "      <td>118.0</td>\n",
       "      <td>2281.0</td>\n",
       "      <td>2167.0</td>\n",
       "    </tr>\n",
       "    <tr>\n",
       "      <th>10</th>\n",
       "      <td>2018-01-11</td>\n",
       "      <td>1</td>\n",
       "      <td>0.00</td>\n",
       "      <td>1.0</td>\n",
       "      <td>7.99</td>\n",
       "      <td>42</td>\n",
       "      <td>95.88</td>\n",
       "      <td>53.0</td>\n",
       "      <td>111.86</td>\n",
       "      <td>2.0</td>\n",
       "      <td>NaN</td>\n",
       "      <td>18.0</td>\n",
       "      <td>NaN</td>\n",
       "    </tr>\n",
       "    <tr>\n",
       "      <th>29</th>\n",
       "      <td>2018-01-31</td>\n",
       "      <td>1</td>\n",
       "      <td>0.00</td>\n",
       "      <td>2.0</td>\n",
       "      <td>7.99</td>\n",
       "      <td>115</td>\n",
       "      <td>455.43</td>\n",
       "      <td>121.0</td>\n",
       "      <td>519.35</td>\n",
       "      <td>98.0</td>\n",
       "      <td>74.0</td>\n",
       "      <td>2379.0</td>\n",
       "      <td>2241.0</td>\n",
       "    </tr>\n",
       "    <tr>\n",
       "      <th>27</th>\n",
       "      <td>2018-01-29</td>\n",
       "      <td>5</td>\n",
       "      <td>31.96</td>\n",
       "      <td>NaN</td>\n",
       "      <td>NaN</td>\n",
       "      <td>112</td>\n",
       "      <td>447.44</td>\n",
       "      <td>NaN</td>\n",
       "      <td>NaN</td>\n",
       "      <td>117.0</td>\n",
       "      <td>113.0</td>\n",
       "      <td>2182.0</td>\n",
       "      <td>2049.0</td>\n",
       "    </tr>\n",
       "    <tr>\n",
       "      <th>22</th>\n",
       "      <td>2018-01-23</td>\n",
       "      <td>2</td>\n",
       "      <td>7.99</td>\n",
       "      <td>1.0</td>\n",
       "      <td>7.99</td>\n",
       "      <td>90</td>\n",
       "      <td>327.59</td>\n",
       "      <td>107.0</td>\n",
       "      <td>463.42</td>\n",
       "      <td>161.0</td>\n",
       "      <td>157.0</td>\n",
       "      <td>1293.0</td>\n",
       "      <td>1167.0</td>\n",
       "    </tr>\n",
       "  </tbody>\n",
       "</table>\n",
       "</div>"
      ],
      "text/plain": [
       "          date  paymentsPerDateA  revenuePerDateA  paymentsPerDateB  \\\n",
       "28  2018-01-30                 2             7.99               1.0   \n",
       "10  2018-01-11                 1             0.00               1.0   \n",
       "29  2018-01-31                 1             0.00               2.0   \n",
       "27  2018-01-29                 5            31.96               NaN   \n",
       "22  2018-01-23                 2             7.99               1.0   \n",
       "\n",
       "    revenuePerDateB  paymentsCummulativeA  revenueCummulativeA  \\\n",
       "28             7.99                   114               455.43   \n",
       "10             7.99                    42                95.88   \n",
       "29             7.99                   115               455.43   \n",
       "27              NaN                   112               447.44   \n",
       "22             7.99                    90               327.59   \n",
       "\n",
       "    paymentsCummulativeB  revenueCummulativeB  visitorsPerDateA  \\\n",
       "28                 119.0               511.36              99.0   \n",
       "10                  53.0               111.86               2.0   \n",
       "29                 121.0               519.35              98.0   \n",
       "27                   NaN                  NaN             117.0   \n",
       "22                 107.0               463.42             161.0   \n",
       "\n",
       "    visitorsPerDateB  visitorsCummulativeA  visitorsCummulativeB  \n",
       "28             118.0                2281.0                2167.0  \n",
       "10               NaN                  18.0                   NaN  \n",
       "29              74.0                2379.0                2241.0  \n",
       "27             113.0                2182.0                2049.0  \n",
       "22             157.0                1293.0                1167.0  "
      ]
     },
     "execution_count": 108,
     "metadata": {},
     "output_type": "execute_result"
    }
   ],
   "source": [
    "data = paymentsADaily.merge(paymentsBDaily, left_on='date', right_on='date', how='left')\\\n",
    "    .merge(paymentsACummulative, left_on='date', right_on='date', how='left')\\\n",
    "    .merge(paymentsBCummulative, left_on='date', right_on='date', how='left')\\\n",
    "    .merge(visitorsADaily, left_on='date', right_on='date', how='left')\\\n",
    "    .merge(visitorsBDaily, left_on='date', right_on='date', how='left')\\\n",
    "    .merge(visitorsACummulative, left_on='date', right_on='date', how='left')\\\n",
    "    .merge(visitorsBCummulative, left_on='date', right_on='date', how='left')\n",
    "data.sample(5)"
   ]
  },
  {
   "cell_type": "code",
   "execution_count": 109,
   "metadata": {},
   "outputs": [],
   "source": [
    "# укажем число совершенных заказов для пользователей по группам\n",
    "paymentsByUsersA = payments[payments['test_group']==1].groupby('uid', as_index=False).agg({'event_name' : pd.Series.count})\n",
    "paymentsByUsersA.columns = ['uid', 'payments']\n",
    "\n",
    "paymentsByUsersB = payments[payments['test_group']==0].groupby('uid', as_index=False).agg({'event_name' : pd.Series.count})\n",
    "paymentsByUsersB.columns = ['uid', 'payments']"
   ]
  },
  {
   "cell_type": "markdown",
   "metadata": {},
   "source": [
    "Объявим переменные sampleA и sampleB, в которых пользователям из разных групп будет соответствовать количество заказов. Тем, кто ничего не заказал, будут соответствовать нули. Это нужно, чтобы подготовить выборки к проверке критерием Манна-Уитни."
   ]
  },
  {
   "cell_type": "code",
   "execution_count": 110,
   "metadata": {},
   "outputs": [],
   "source": [
    "sampleA = pd.concat([paymentsByUsersA['payments'],pd.Series(0, index=np.arange(data['visitorsPerDateA'].sum() - len(paymentsByUsersA['payments'])), name='payments')],axis=0)\n",
    "\n",
    "sampleB = pd.concat([paymentsByUsersB['payments'],pd.Series(0, index=np.arange(data['visitorsPerDateB'].sum() - len(paymentsByUsersB['payments'])), name='payments')],axis=0) "
   ]
  },
  {
   "cell_type": "markdown",
   "metadata": {},
   "source": [
    "Так как значения имеют распределение отличное от нормального, применим статистический критерий Манна-Уитни.\n",
    "\n",
    "Так как объем выборок больше 1000, задаем критический уровень значимости = 0,001."
   ]
  },
  {
   "cell_type": "markdown",
   "metadata": {},
   "source": [
    "##### Нулевая гипотеза: статистически значимых различий в конверсии между группами нет.\n",
    "\n",
    "##### Альтернативная гипотеза: статистически значимые различия в конверсии между группами есть."
   ]
  },
  {
   "cell_type": "code",
   "execution_count": 111,
   "metadata": {},
   "outputs": [
    {
     "name": "stdout",
     "output_type": "stream",
     "text": [
      "p-value: 0.418\n",
      "Относительный прирост конверсии группы B: 0.121\n"
     ]
    }
   ],
   "source": [
    "print(\"p-value: {0:.3f}\".format(stats.mannwhitneyu(sampleA, sampleB)[1])) # критерий Манна-Уитни\n",
    "\n",
    "print(\"Относительный прирост конверсии группы B: {0:.3f}\".format(sampleB.mean()/sampleA.mean()-1)) "
   ]
  },
  {
   "cell_type": "markdown",
   "metadata": {},
   "source": [
    "p-value больше 0.05, следовательно, нулевую гипотезу не отвергаем. Между группами отсутствуют статистически значимые различия в конверсии.\n",
    "\n",
    "Различие конверсии в данном случае составляет 12.1%, но мы не можем утверждать, что группа B лучше."
   ]
  },
  {
   "cell_type": "markdown",
   "metadata": {},
   "source": [
    "### 2.8 Статистическая значимость различий в среднем чеке покупателя"
   ]
  },
  {
   "cell_type": "markdown",
   "metadata": {},
   "source": [
    "##### Нулевая гипотеза: статистически значимых различий в среднем чеке между группами нет.\n",
    "\n",
    "##### Альтернативная гипотеза: статистически значимые различия в среднем чеке между группами есть."
   ]
  },
  {
   "cell_type": "code",
   "execution_count": 112,
   "metadata": {},
   "outputs": [
    {
     "name": "stdout",
     "output_type": "stream",
     "text": [
      "p-value: 0.262\n",
      "Относительный прирост среднего чека группы B: 0.084\n"
     ]
    }
   ],
   "source": [
    "print(\"p-value: {0:.3f}\".format(stats.mannwhitneyu(payments[payments['test_group']==1]['price'], payments[payments['test_group']==0]['price'])[1]))\n",
    "\n",
    "print(\"Относительный прирост среднего чека группы B: {0:.3f}\".format(payments[payments['test_group']==0]['price'].mean()/payments[payments['test_group']==1]['price'].mean()-1))"
   ]
  },
  {
   "cell_type": "markdown",
   "metadata": {},
   "source": [
    "Различие среднего чека составляет 8.4% в пользу группы B.\n",
    "\n",
    "Но при этом `p-value` больше 0.001, Значит, причин отвергать нулевую гипотезу и считать, что в среднем чеке есть различия, нет.\n"
   ]
  },
  {
   "cell_type": "markdown",
   "metadata": {},
   "source": [
    "## Вывод"
   ]
  },
  {
   "cell_type": "markdown",
   "metadata": {},
   "source": [
    "Были проанализированы данные по двум группам: контрольной и тестовой.\n",
    "    \n",
    "Прежде всего, необходимо было исключить проблему подсматривания. Расчитав накопительные `выручку`,`средний чек` и `конверсию`, мы убедились, что графики стабилизировались и тест можно считать завершенным. \n",
    "\n",
    "Относительные различия данных метрик по двум группам показали, что небольшое преимущество у группы B, несмотря на то что в начале теста группа А имела значительный всплеск по сумме среднего чека.\n",
    "\n",
    "Проверив данные на наличие выбросов, было обнаружено, что группа А имеет аномальные значения среднего чека, поэтому менее 5% таких значений были исключены для более объективного результата.\n",
    "\n",
    "Для определения статистической значимости был применен статистический критерий Манна-Уитни, т.к. распределения данных по суммам платежа и кол-ву платежей на пользователя являются отличными от нормального.\n",
    "\n",
    "При сравнении контрольной группы с экспериментальной статистически значимых различий не обнаружено.\n",
    "\n",
    "##### Таким образом, измененить стартовую историю в приложении возможно, это не ухудшит конверсию. Но и не улучшит."
   ]
  },
  {
   "cell_type": "code",
   "execution_count": null,
   "metadata": {},
   "outputs": [],
   "source": []
  }
 ],
 "metadata": {
  "ExecuteTimeLog": [
   {
    "duration": 1366,
    "start_time": "2021-10-17T13:54:39.571Z"
   },
   {
    "duration": 3677,
    "start_time": "2021-10-17T13:54:50.539Z"
   },
   {
    "duration": 1635,
    "start_time": "2021-10-17T13:54:55.794Z"
   },
   {
    "duration": 120,
    "start_time": "2021-10-17T13:54:59.663Z"
   },
   {
    "duration": 32,
    "start_time": "2021-10-17T13:56:04.206Z"
   },
   {
    "duration": 70,
    "start_time": "2021-10-17T13:57:07.014Z"
   },
   {
    "duration": 22,
    "start_time": "2021-10-17T13:57:11.112Z"
   },
   {
    "duration": 4,
    "start_time": "2021-10-17T14:04:52.846Z"
   },
   {
    "duration": 1819,
    "start_time": "2021-10-17T14:04:53.645Z"
   },
   {
    "duration": 129845,
    "start_time": "2021-10-17T14:02:45.622Z"
   },
   {
    "duration": 129843,
    "start_time": "2021-10-17T14:02:45.625Z"
   },
   {
    "duration": 251,
    "start_time": "2021-10-17T14:04:56.268Z"
   },
   {
    "duration": 10,
    "start_time": "2021-10-17T14:04:56.752Z"
   },
   {
    "duration": 348,
    "start_time": "2021-10-17T14:05:08.010Z"
   },
   {
    "duration": 17,
    "start_time": "2021-10-17T14:05:08.496Z"
   },
   {
    "duration": 15,
    "start_time": "2021-10-17T14:05:08.940Z"
   },
   {
    "duration": 13,
    "start_time": "2021-10-17T14:05:09.272Z"
   },
   {
    "duration": 9,
    "start_time": "2021-10-17T14:05:09.635Z"
   },
   {
    "duration": 5,
    "start_time": "2021-10-17T14:05:09.998Z"
   },
   {
    "duration": 23,
    "start_time": "2021-10-17T14:05:10.757Z"
   },
   {
    "duration": 16,
    "start_time": "2021-10-17T14:05:11.242Z"
   },
   {
    "duration": 6,
    "start_time": "2021-10-17T14:05:12.228Z"
   },
   {
    "duration": 7,
    "start_time": "2021-10-17T14:05:12.684Z"
   },
   {
    "duration": 6,
    "start_time": "2021-10-17T14:05:13.070Z"
   },
   {
    "duration": 6,
    "start_time": "2021-10-17T14:05:13.403Z"
   },
   {
    "duration": 15,
    "start_time": "2021-10-17T14:05:13.896Z"
   },
   {
    "duration": 10,
    "start_time": "2021-10-17T14:05:14.303Z"
   },
   {
    "duration": 12,
    "start_time": "2021-10-17T14:05:14.712Z"
   },
   {
    "duration": 29,
    "start_time": "2021-10-17T14:05:15.088Z"
   },
   {
    "duration": 28,
    "start_time": "2021-10-17T14:05:15.468Z"
   },
   {
    "duration": 29,
    "start_time": "2021-10-17T14:05:39.703Z"
   },
   {
    "duration": 26,
    "start_time": "2021-10-17T14:05:40.743Z"
   },
   {
    "duration": 328,
    "start_time": "2021-10-17T14:05:41.434Z"
   },
   {
    "duration": 11,
    "start_time": "2021-10-17T14:05:42.071Z"
   },
   {
    "duration": 12,
    "start_time": "2021-10-17T14:05:42.699Z"
   },
   {
    "duration": 65,
    "start_time": "2021-10-17T14:05:44.098Z"
   },
   {
    "duration": 81,
    "start_time": "2021-10-17T14:05:44.577Z"
   },
   {
    "duration": 3,
    "start_time": "2021-10-17T14:06:02.591Z"
   },
   {
    "duration": 654,
    "start_time": "2021-10-17T14:06:34.714Z"
   },
   {
    "duration": 33,
    "start_time": "2021-10-17T14:06:38.603Z"
   },
   {
    "duration": 95,
    "start_time": "2021-10-17T14:06:39.365Z"
   },
   {
    "duration": 2599,
    "start_time": "2021-10-17T14:06:52.344Z"
   },
   {
    "duration": 1656,
    "start_time": "2021-10-17T14:07:13.225Z"
   },
   {
    "duration": 4,
    "start_time": "2021-10-17T14:08:04.678Z"
   },
   {
    "duration": 204,
    "start_time": "2021-10-17T14:08:05.013Z"
   },
   {
    "duration": 28,
    "start_time": "2021-10-17T14:08:05.220Z"
   },
   {
    "duration": 20,
    "start_time": "2021-10-17T14:08:05.386Z"
   },
   {
    "duration": 13,
    "start_time": "2021-10-17T14:08:05.519Z"
   },
   {
    "duration": 15,
    "start_time": "2021-10-17T14:08:05.595Z"
   },
   {
    "duration": 7,
    "start_time": "2021-10-17T14:08:05.740Z"
   },
   {
    "duration": 31,
    "start_time": "2021-10-17T14:08:05.882Z"
   },
   {
    "duration": 18,
    "start_time": "2021-10-17T14:08:06.008Z"
   },
   {
    "duration": 6,
    "start_time": "2021-10-17T14:08:06.262Z"
   },
   {
    "duration": 6,
    "start_time": "2021-10-17T14:08:06.413Z"
   },
   {
    "duration": 6,
    "start_time": "2021-10-17T14:08:06.626Z"
   },
   {
    "duration": 8,
    "start_time": "2021-10-17T14:08:06.765Z"
   },
   {
    "duration": 21,
    "start_time": "2021-10-17T14:08:06.911Z"
   },
   {
    "duration": 9,
    "start_time": "2021-10-17T14:08:07.027Z"
   },
   {
    "duration": 14,
    "start_time": "2021-10-17T14:08:07.269Z"
   },
   {
    "duration": 34,
    "start_time": "2021-10-17T14:08:07.485Z"
   },
   {
    "duration": 30,
    "start_time": "2021-10-17T14:08:07.618Z"
   },
   {
    "duration": 200,
    "start_time": "2021-10-17T14:08:07.770Z"
   },
   {
    "duration": 8,
    "start_time": "2021-10-17T14:08:07.973Z"
   },
   {
    "duration": 9,
    "start_time": "2021-10-17T14:08:08.020Z"
   },
   {
    "duration": 697,
    "start_time": "2021-10-17T14:08:09.036Z"
   },
   {
    "duration": 66,
    "start_time": "2021-10-17T14:08:09.736Z"
   },
   {
    "duration": 1831,
    "start_time": "2021-10-17T14:08:10.305Z"
   },
   {
    "duration": 18,
    "start_time": "2021-10-17T14:08:26.563Z"
   },
   {
    "duration": 201,
    "start_time": "2021-10-17T14:09:16.503Z"
   },
   {
    "duration": 25,
    "start_time": "2021-10-17T14:09:16.777Z"
   },
   {
    "duration": 22,
    "start_time": "2021-10-17T14:09:16.968Z"
   },
   {
    "duration": 13,
    "start_time": "2021-10-17T14:09:17.116Z"
   },
   {
    "duration": 11,
    "start_time": "2021-10-17T14:09:17.255Z"
   },
   {
    "duration": 7,
    "start_time": "2021-10-17T14:09:17.594Z"
   },
   {
    "duration": 26,
    "start_time": "2021-10-17T14:09:17.751Z"
   },
   {
    "duration": 19,
    "start_time": "2021-10-17T14:09:17.906Z"
   },
   {
    "duration": 7,
    "start_time": "2021-10-17T14:09:18.744Z"
   },
   {
    "duration": 6,
    "start_time": "2021-10-17T14:09:19.127Z"
   },
   {
    "duration": 6,
    "start_time": "2021-10-17T14:09:19.618Z"
   },
   {
    "duration": 6,
    "start_time": "2021-10-17T14:09:20.065Z"
   },
   {
    "duration": 16,
    "start_time": "2021-10-17T14:09:20.539Z"
   },
   {
    "duration": 10,
    "start_time": "2021-10-17T14:09:21.042Z"
   },
   {
    "duration": 13,
    "start_time": "2021-10-17T14:09:22.148Z"
   },
   {
    "duration": 31,
    "start_time": "2021-10-17T14:09:23.461Z"
   },
   {
    "duration": 30,
    "start_time": "2021-10-17T14:09:24.292Z"
   },
   {
    "duration": 1174,
    "start_time": "2021-10-17T14:09:34.095Z"
   },
   {
    "duration": 51,
    "start_time": "2021-10-17T14:09:36.838Z"
   },
   {
    "duration": 298,
    "start_time": "2021-10-17T14:09:40.978Z"
   },
   {
    "duration": 1678,
    "start_time": "2021-10-17T14:09:51.314Z"
   },
   {
    "duration": 20,
    "start_time": "2021-10-17T14:11:00.017Z"
   },
   {
    "duration": 696,
    "start_time": "2021-10-17T14:11:18.631Z"
   },
   {
    "duration": 35,
    "start_time": "2021-10-17T14:11:20.314Z"
   },
   {
    "duration": 318,
    "start_time": "2021-10-17T14:11:43.164Z"
   },
   {
    "duration": 20,
    "start_time": "2021-10-17T14:11:43.485Z"
   },
   {
    "duration": 18,
    "start_time": "2021-10-17T14:11:43.507Z"
   },
   {
    "duration": 10,
    "start_time": "2021-10-17T14:11:43.700Z"
   },
   {
    "duration": 10,
    "start_time": "2021-10-17T14:11:43.926Z"
   },
   {
    "duration": 6,
    "start_time": "2021-10-17T14:11:44.043Z"
   },
   {
    "duration": 22,
    "start_time": "2021-10-17T14:11:44.155Z"
   },
   {
    "duration": 15,
    "start_time": "2021-10-17T14:11:44.281Z"
   },
   {
    "duration": 5,
    "start_time": "2021-10-17T14:11:44.519Z"
   },
   {
    "duration": 6,
    "start_time": "2021-10-17T14:11:44.766Z"
   },
   {
    "duration": 6,
    "start_time": "2021-10-17T14:11:44.964Z"
   },
   {
    "duration": 6,
    "start_time": "2021-10-17T14:11:45.108Z"
   },
   {
    "duration": 15,
    "start_time": "2021-10-17T14:11:45.327Z"
   },
   {
    "duration": 12,
    "start_time": "2021-10-17T14:11:45.453Z"
   },
   {
    "duration": 11,
    "start_time": "2021-10-17T14:11:45.577Z"
   },
   {
    "duration": 29,
    "start_time": "2021-10-17T14:11:45.920Z"
   },
   {
    "duration": 27,
    "start_time": "2021-10-17T14:11:46.061Z"
   },
   {
    "duration": 82,
    "start_time": "2021-10-17T14:11:46.185Z"
   },
   {
    "duration": 7,
    "start_time": "2021-10-17T14:11:46.309Z"
   },
   {
    "duration": 9,
    "start_time": "2021-10-17T14:11:46.429Z"
   },
   {
    "duration": 707,
    "start_time": "2021-10-17T14:11:53.674Z"
   },
   {
    "duration": 34,
    "start_time": "2021-10-17T14:11:55.038Z"
   },
   {
    "duration": 279,
    "start_time": "2021-10-17T14:11:56.850Z"
   },
   {
    "duration": 1555,
    "start_time": "2021-10-17T14:12:01.719Z"
   },
   {
    "duration": 202,
    "start_time": "2021-10-17T14:12:37.112Z"
   },
   {
    "duration": 19,
    "start_time": "2021-10-17T14:12:37.396Z"
   },
   {
    "duration": 15,
    "start_time": "2021-10-17T14:12:37.540Z"
   },
   {
    "duration": 9,
    "start_time": "2021-10-17T14:12:37.662Z"
   },
   {
    "duration": 10,
    "start_time": "2021-10-17T14:12:37.784Z"
   },
   {
    "duration": 5,
    "start_time": "2021-10-17T14:12:37.902Z"
   },
   {
    "duration": 23,
    "start_time": "2021-10-17T14:12:38.015Z"
   },
   {
    "duration": 13,
    "start_time": "2021-10-17T14:12:38.253Z"
   },
   {
    "duration": 5,
    "start_time": "2021-10-17T14:12:38.478Z"
   },
   {
    "duration": 6,
    "start_time": "2021-10-17T14:12:38.609Z"
   },
   {
    "duration": 5,
    "start_time": "2021-10-17T14:12:38.727Z"
   },
   {
    "duration": 5,
    "start_time": "2021-10-17T14:12:38.859Z"
   },
   {
    "duration": 15,
    "start_time": "2021-10-17T14:12:38.949Z"
   },
   {
    "duration": 10,
    "start_time": "2021-10-17T14:12:39.079Z"
   },
   {
    "duration": 12,
    "start_time": "2021-10-17T14:12:39.192Z"
   },
   {
    "duration": 32,
    "start_time": "2021-10-17T14:12:39.444Z"
   },
   {
    "duration": 31,
    "start_time": "2021-10-17T14:12:39.554Z"
   },
   {
    "duration": 79,
    "start_time": "2021-10-17T14:12:39.667Z"
   },
   {
    "duration": 8,
    "start_time": "2021-10-17T14:12:39.795Z"
   },
   {
    "duration": 8,
    "start_time": "2021-10-17T14:12:39.907Z"
   },
   {
    "duration": 698,
    "start_time": "2021-10-17T14:12:42.653Z"
   },
   {
    "duration": 287,
    "start_time": "2021-10-17T14:12:52.615Z"
   },
   {
    "duration": 32,
    "start_time": "2021-10-17T14:13:11.522Z"
   },
   {
    "duration": 2240,
    "start_time": "2021-10-17T14:13:14.184Z"
   },
   {
    "duration": 163,
    "start_time": "2021-10-17T14:13:37.217Z"
   },
   {
    "duration": 18,
    "start_time": "2021-10-17T14:13:37.445Z"
   },
   {
    "duration": 16,
    "start_time": "2021-10-17T14:13:37.819Z"
   },
   {
    "duration": 11,
    "start_time": "2021-10-17T14:13:38.021Z"
   },
   {
    "duration": 11,
    "start_time": "2021-10-17T14:13:38.196Z"
   },
   {
    "duration": 5,
    "start_time": "2021-10-17T14:13:38.507Z"
   },
   {
    "duration": 22,
    "start_time": "2021-10-17T14:13:38.735Z"
   },
   {
    "duration": 16,
    "start_time": "2021-10-17T14:13:38.881Z"
   },
   {
    "duration": 6,
    "start_time": "2021-10-17T14:13:39.251Z"
   },
   {
    "duration": 7,
    "start_time": "2021-10-17T14:13:39.392Z"
   },
   {
    "duration": 5,
    "start_time": "2021-10-17T14:13:39.523Z"
   },
   {
    "duration": 6,
    "start_time": "2021-10-17T14:13:39.607Z"
   },
   {
    "duration": 16,
    "start_time": "2021-10-17T14:13:39.781Z"
   },
   {
    "duration": 10,
    "start_time": "2021-10-17T14:13:39.842Z"
   },
   {
    "duration": 14,
    "start_time": "2021-10-17T14:13:39.993Z"
   },
   {
    "duration": 32,
    "start_time": "2021-10-17T14:13:40.208Z"
   },
   {
    "duration": 28,
    "start_time": "2021-10-17T14:13:40.857Z"
   },
   {
    "duration": 86,
    "start_time": "2021-10-17T14:13:41.432Z"
   },
   {
    "duration": 8,
    "start_time": "2021-10-17T14:13:41.942Z"
   },
   {
    "duration": 9,
    "start_time": "2021-10-17T14:13:42.477Z"
   },
   {
    "duration": 690,
    "start_time": "2021-10-17T14:13:44.519Z"
   },
   {
    "duration": 16,
    "start_time": "2021-10-17T14:13:51.832Z"
   },
   {
    "duration": 256,
    "start_time": "2021-10-17T14:14:08.062Z"
   },
   {
    "duration": 42,
    "start_time": "2021-10-17T14:14:18.944Z"
   },
   {
    "duration": 232,
    "start_time": "2021-10-17T14:14:34.970Z"
   },
   {
    "duration": 16,
    "start_time": "2021-10-17T14:14:39.438Z"
   },
   {
    "duration": 2449,
    "start_time": "2021-10-17T14:14:47.735Z"
   },
   {
    "duration": 37,
    "start_time": "2021-10-17T14:15:16.923Z"
   },
   {
    "duration": 177,
    "start_time": "2021-10-17T14:15:22.470Z"
   },
   {
    "duration": 19,
    "start_time": "2021-10-17T14:15:22.709Z"
   },
   {
    "duration": 15,
    "start_time": "2021-10-17T14:15:22.896Z"
   },
   {
    "duration": 12,
    "start_time": "2021-10-17T14:15:23.174Z"
   },
   {
    "duration": 11,
    "start_time": "2021-10-17T14:15:23.322Z"
   },
   {
    "duration": 5,
    "start_time": "2021-10-17T14:15:23.651Z"
   },
   {
    "duration": 23,
    "start_time": "2021-10-17T14:15:23.817Z"
   },
   {
    "duration": 16,
    "start_time": "2021-10-17T14:15:23.964Z"
   },
   {
    "duration": 5,
    "start_time": "2021-10-17T14:15:24.287Z"
   },
   {
    "duration": 6,
    "start_time": "2021-10-17T14:15:24.423Z"
   },
   {
    "duration": 5,
    "start_time": "2021-10-17T14:15:24.691Z"
   },
   {
    "duration": 6,
    "start_time": "2021-10-17T14:15:24.871Z"
   },
   {
    "duration": 14,
    "start_time": "2021-10-17T14:15:25.087Z"
   },
   {
    "duration": 10,
    "start_time": "2021-10-17T14:15:25.316Z"
   },
   {
    "duration": 12,
    "start_time": "2021-10-17T14:15:25.544Z"
   },
   {
    "duration": 30,
    "start_time": "2021-10-17T14:15:26.341Z"
   },
   {
    "duration": 28,
    "start_time": "2021-10-17T14:15:26.746Z"
   },
   {
    "duration": 74,
    "start_time": "2021-10-17T14:15:27.657Z"
   },
   {
    "duration": 7,
    "start_time": "2021-10-17T14:15:28.796Z"
   },
   {
    "duration": 8,
    "start_time": "2021-10-17T14:15:29.099Z"
   },
   {
    "duration": 737,
    "start_time": "2021-10-17T14:15:31.171Z"
   },
   {
    "duration": 32,
    "start_time": "2021-10-17T14:15:32.204Z"
   },
   {
    "duration": 1780,
    "start_time": "2021-10-17T14:15:37.690Z"
   },
   {
    "duration": 17,
    "start_time": "2021-10-17T14:17:14.802Z"
   },
   {
    "duration": 12,
    "start_time": "2021-10-17T14:17:20.779Z"
   },
   {
    "duration": 19,
    "start_time": "2021-10-17T14:17:43.579Z"
   },
   {
    "duration": 7025,
    "start_time": "2021-10-17T14:17:49.105Z"
   },
   {
    "duration": 129852,
    "start_time": "2021-10-17T14:16:37.580Z"
   },
   {
    "duration": 224,
    "start_time": "2021-10-17T14:18:55.895Z"
   },
   {
    "duration": 10190,
    "start_time": "2021-10-17T14:19:01.900Z"
   },
   {
    "duration": 329,
    "start_time": "2021-10-17T14:19:49.993Z"
   },
   {
    "duration": 9,
    "start_time": "2021-10-17T14:21:37.203Z"
   },
   {
    "duration": 7,
    "start_time": "2021-10-17T14:21:54.224Z"
   },
   {
    "duration": 7,
    "start_time": "2021-10-17T14:21:57.516Z"
   },
   {
    "duration": 6,
    "start_time": "2021-10-17T14:23:03.560Z"
   },
   {
    "duration": 11,
    "start_time": "2021-10-17T14:23:26.648Z"
   },
   {
    "duration": 384,
    "start_time": "2021-10-17T14:24:17.609Z"
   },
   {
    "duration": 359,
    "start_time": "2021-10-17T14:25:27.035Z"
   },
   {
    "duration": 446,
    "start_time": "2021-10-17T14:27:36.257Z"
   },
   {
    "duration": 6719,
    "start_time": "2021-10-17T14:29:15.870Z"
   },
   {
    "duration": 18,
    "start_time": "2021-10-17T14:31:59.438Z"
   },
   {
    "duration": 7136,
    "start_time": "2021-10-17T14:35:49.251Z"
   },
   {
    "duration": 187,
    "start_time": "2021-10-17T14:36:46.993Z"
   },
   {
    "duration": 8337,
    "start_time": "2021-10-17T14:36:50.137Z"
   },
   {
    "duration": 325,
    "start_time": "2021-10-17T14:38:33.434Z"
   },
   {
    "duration": 308,
    "start_time": "2021-10-17T14:38:52.568Z"
   },
   {
    "duration": 266,
    "start_time": "2021-10-17T14:39:07.387Z"
   },
   {
    "duration": 7204,
    "start_time": "2021-10-17T14:39:40.590Z"
   },
   {
    "duration": 7032,
    "start_time": "2021-10-17T14:40:35.878Z"
   },
   {
    "duration": 7144,
    "start_time": "2021-10-17T14:41:26.181Z"
   },
   {
    "duration": 3230,
    "start_time": "2021-10-17T14:43:09.132Z"
   },
   {
    "duration": 3477,
    "start_time": "2021-10-17T14:43:16.401Z"
   },
   {
    "duration": 3572,
    "start_time": "2021-10-17T14:44:09.076Z"
   },
   {
    "duration": 227,
    "start_time": "2021-10-17T14:44:18.744Z"
   },
   {
    "duration": 19,
    "start_time": "2021-10-17T14:44:18.974Z"
   },
   {
    "duration": 16,
    "start_time": "2021-10-17T14:44:19.178Z"
   },
   {
    "duration": 11,
    "start_time": "2021-10-17T14:44:19.289Z"
   },
   {
    "duration": 12,
    "start_time": "2021-10-17T14:44:19.509Z"
   },
   {
    "duration": 6,
    "start_time": "2021-10-17T14:44:19.712Z"
   },
   {
    "duration": 23,
    "start_time": "2021-10-17T14:44:19.801Z"
   },
   {
    "duration": 15,
    "start_time": "2021-10-17T14:44:19.970Z"
   },
   {
    "duration": 5,
    "start_time": "2021-10-17T14:44:20.257Z"
   },
   {
    "duration": 6,
    "start_time": "2021-10-17T14:44:20.494Z"
   },
   {
    "duration": 5,
    "start_time": "2021-10-17T14:44:20.627Z"
   },
   {
    "duration": 6,
    "start_time": "2021-10-17T14:44:20.865Z"
   },
   {
    "duration": 15,
    "start_time": "2021-10-17T14:44:21.020Z"
   },
   {
    "duration": 11,
    "start_time": "2021-10-17T14:44:21.160Z"
   },
   {
    "duration": 12,
    "start_time": "2021-10-17T14:44:21.321Z"
   },
   {
    "duration": 32,
    "start_time": "2021-10-17T14:44:21.688Z"
   },
   {
    "duration": 29,
    "start_time": "2021-10-17T14:44:21.924Z"
   },
   {
    "duration": 10,
    "start_time": "2021-10-17T14:44:22.071Z"
   },
   {
    "duration": 9,
    "start_time": "2021-10-17T14:44:23.048Z"
   },
   {
    "duration": 776,
    "start_time": "2021-10-17T14:44:24.766Z"
   },
   {
    "duration": 40,
    "start_time": "2021-10-17T14:44:25.544Z"
   },
   {
    "duration": 19,
    "start_time": "2021-10-17T14:44:25.970Z"
   },
   {
    "duration": 19,
    "start_time": "2021-10-17T14:44:28.146Z"
   },
   {
    "duration": 357,
    "start_time": "2021-10-17T14:44:28.961Z"
   },
   {
    "duration": 19,
    "start_time": "2021-10-17T14:44:29.810Z"
   },
   {
    "duration": 4501,
    "start_time": "2021-10-17T14:44:33.395Z"
   },
   {
    "duration": 186,
    "start_time": "2021-10-17T14:44:55.653Z"
   },
   {
    "duration": 6,
    "start_time": "2021-10-17T14:45:22.466Z"
   },
   {
    "duration": 6785,
    "start_time": "2021-10-17T14:45:24.827Z"
   },
   {
    "duration": 299,
    "start_time": "2021-10-17T14:45:32.752Z"
   },
   {
    "duration": 264,
    "start_time": "2021-10-17T14:45:50.267Z"
   },
   {
    "duration": 240,
    "start_time": "2021-10-17T14:47:09.226Z"
   },
   {
    "duration": 842,
    "start_time": "2021-10-17T14:47:29.980Z"
   },
   {
    "duration": 302,
    "start_time": "2021-10-17T14:48:13.026Z"
   },
   {
    "duration": 5,
    "start_time": "2021-10-17T14:48:24.457Z"
   },
   {
    "duration": 667,
    "start_time": "2021-10-17T14:48:29.919Z"
   },
   {
    "duration": 18,
    "start_time": "2021-10-17T14:48:30.589Z"
   },
   {
    "duration": 29,
    "start_time": "2021-10-17T14:48:30.611Z"
   },
   {
    "duration": 12,
    "start_time": "2021-10-17T14:48:30.642Z"
   },
   {
    "duration": 10,
    "start_time": "2021-10-17T14:48:30.819Z"
   },
   {
    "duration": 6,
    "start_time": "2021-10-17T14:48:30.967Z"
   },
   {
    "duration": 25,
    "start_time": "2021-10-17T14:48:31.105Z"
   },
   {
    "duration": 18,
    "start_time": "2021-10-17T14:48:31.605Z"
   },
   {
    "duration": 6,
    "start_time": "2021-10-17T14:48:32.534Z"
   },
   {
    "duration": 7,
    "start_time": "2021-10-17T14:48:33.048Z"
   },
   {
    "duration": 5,
    "start_time": "2021-10-17T14:48:33.566Z"
   },
   {
    "duration": 6,
    "start_time": "2021-10-17T14:48:34.042Z"
   },
   {
    "duration": 16,
    "start_time": "2021-10-17T14:48:34.451Z"
   },
   {
    "duration": 10,
    "start_time": "2021-10-17T14:48:35.002Z"
   },
   {
    "duration": 12,
    "start_time": "2021-10-17T14:48:35.683Z"
   },
   {
    "duration": 32,
    "start_time": "2021-10-17T14:48:37.646Z"
   },
   {
    "duration": 29,
    "start_time": "2021-10-17T14:48:38.440Z"
   },
   {
    "duration": 10,
    "start_time": "2021-10-17T14:48:39.870Z"
   },
   {
    "duration": 10,
    "start_time": "2021-10-17T14:48:40.534Z"
   },
   {
    "duration": 702,
    "start_time": "2021-10-17T14:48:41.831Z"
   },
   {
    "duration": 34,
    "start_time": "2021-10-17T14:48:43.537Z"
   },
   {
    "duration": 19,
    "start_time": "2021-10-17T14:48:44.685Z"
   },
   {
    "duration": 19,
    "start_time": "2021-10-17T14:48:47.958Z"
   },
   {
    "duration": 365,
    "start_time": "2021-10-17T14:48:48.443Z"
   },
   {
    "duration": 24,
    "start_time": "2021-10-17T14:48:50.297Z"
   },
   {
    "duration": 194,
    "start_time": "2021-10-17T14:48:53.860Z"
   },
   {
    "duration": 7695,
    "start_time": "2021-10-17T14:48:54.668Z"
   },
   {
    "duration": 250,
    "start_time": "2021-10-17T14:49:27.806Z"
   },
   {
    "duration": 3723,
    "start_time": "2021-10-17T14:54:50.426Z"
   },
   {
    "duration": 179,
    "start_time": "2021-10-17T14:55:02.541Z"
   },
   {
    "duration": 7114,
    "start_time": "2021-10-17T14:55:05.887Z"
   },
   {
    "duration": 6798,
    "start_time": "2021-10-17T14:55:50.634Z"
   },
   {
    "duration": 467,
    "start_time": "2021-10-17T14:56:11.406Z"
   },
   {
    "duration": 3744,
    "start_time": "2021-10-17T14:56:56.098Z"
   },
   {
    "duration": 3486,
    "start_time": "2021-10-17T14:57:01.796Z"
   },
   {
    "duration": 23,
    "start_time": "2021-10-17T14:57:39.079Z"
   },
   {
    "duration": 7553,
    "start_time": "2021-10-17T14:57:51.006Z"
   },
   {
    "duration": 257,
    "start_time": "2021-10-17T14:57:59.039Z"
   },
   {
    "duration": 18,
    "start_time": "2021-10-17T14:59:19.824Z"
   },
   {
    "duration": 33,
    "start_time": "2021-10-17T15:00:30.158Z"
   },
   {
    "duration": 292,
    "start_time": "2021-10-17T15:00:38.246Z"
   },
   {
    "duration": 17,
    "start_time": "2021-10-17T15:00:38.541Z"
   },
   {
    "duration": 16,
    "start_time": "2021-10-17T15:00:38.660Z"
   },
   {
    "duration": 11,
    "start_time": "2021-10-17T15:00:38.882Z"
   },
   {
    "duration": 11,
    "start_time": "2021-10-17T15:00:39.127Z"
   },
   {
    "duration": 6,
    "start_time": "2021-10-17T15:00:39.242Z"
   },
   {
    "duration": 24,
    "start_time": "2021-10-17T15:00:39.366Z"
   },
   {
    "duration": 14,
    "start_time": "2021-10-17T15:00:39.600Z"
   },
   {
    "duration": 5,
    "start_time": "2021-10-17T15:00:39.843Z"
   },
   {
    "duration": 6,
    "start_time": "2021-10-17T15:00:40.370Z"
   },
   {
    "duration": 6,
    "start_time": "2021-10-17T15:00:40.541Z"
   },
   {
    "duration": 6,
    "start_time": "2021-10-17T15:00:40.664Z"
   },
   {
    "duration": 15,
    "start_time": "2021-10-17T15:00:40.849Z"
   },
   {
    "duration": 9,
    "start_time": "2021-10-17T15:00:41.069Z"
   },
   {
    "duration": 12,
    "start_time": "2021-10-17T15:00:41.499Z"
   },
   {
    "duration": 31,
    "start_time": "2021-10-17T15:00:42.137Z"
   },
   {
    "duration": 28,
    "start_time": "2021-10-17T15:00:42.530Z"
   },
   {
    "duration": 10,
    "start_time": "2021-10-17T15:00:42.999Z"
   },
   {
    "duration": 9,
    "start_time": "2021-10-17T15:00:43.542Z"
   },
   {
    "duration": 705,
    "start_time": "2021-10-17T15:00:47.540Z"
   },
   {
    "duration": 28,
    "start_time": "2021-10-17T15:01:09.448Z"
   },
   {
    "duration": 9,
    "start_time": "2021-10-17T15:01:09.864Z"
   },
   {
    "duration": 9,
    "start_time": "2021-10-17T15:01:10.456Z"
   },
   {
    "duration": 703,
    "start_time": "2021-10-17T15:01:13.939Z"
   },
   {
    "duration": 32,
    "start_time": "2021-10-17T15:01:16.550Z"
   },
   {
    "duration": 18,
    "start_time": "2021-10-17T15:01:18.116Z"
   },
   {
    "duration": 19,
    "start_time": "2021-10-17T15:01:27.476Z"
   },
   {
    "duration": 353,
    "start_time": "2021-10-17T15:01:53.250Z"
   },
   {
    "duration": 191,
    "start_time": "2021-10-17T15:02:03.144Z"
   },
   {
    "duration": 578,
    "start_time": "2021-10-17T15:02:24.247Z"
   },
   {
    "duration": 334,
    "start_time": "2021-10-17T15:04:28.099Z"
   },
   {
    "duration": 32,
    "start_time": "2021-10-17T15:05:51.971Z"
   },
   {
    "duration": 316,
    "start_time": "2021-10-17T15:06:34.541Z"
   },
   {
    "duration": 31,
    "start_time": "2021-10-17T15:06:35.573Z"
   },
   {
    "duration": 336,
    "start_time": "2021-10-17T15:08:23.703Z"
   },
   {
    "duration": 32,
    "start_time": "2021-10-17T15:08:25.517Z"
   },
   {
    "duration": 20,
    "start_time": "2021-10-17T15:11:25.211Z"
   },
   {
    "duration": 22,
    "start_time": "2021-10-17T15:11:28.403Z"
   },
   {
    "duration": 20,
    "start_time": "2021-10-17T15:11:35.594Z"
   },
   {
    "duration": 12,
    "start_time": "2021-10-17T15:12:33.852Z"
   },
   {
    "duration": 12,
    "start_time": "2021-10-17T15:12:37.473Z"
   },
   {
    "duration": 392,
    "start_time": "2021-10-17T15:12:54.735Z"
   },
   {
    "duration": 10,
    "start_time": "2021-10-17T15:13:12.191Z"
   },
   {
    "duration": 445,
    "start_time": "2021-10-17T15:13:14.640Z"
   },
   {
    "duration": 4,
    "start_time": "2021-10-17T15:14:02.839Z"
   },
   {
    "duration": 431,
    "start_time": "2021-10-17T15:14:08.307Z"
   },
   {
    "duration": 6064,
    "start_time": "2021-10-17T15:18:10.279Z"
   },
   {
    "duration": 406,
    "start_time": "2021-10-17T15:18:32.446Z"
   },
   {
    "duration": 9,
    "start_time": "2021-10-17T15:24:04.699Z"
   },
   {
    "duration": 7,
    "start_time": "2021-10-17T15:24:10.060Z"
   },
   {
    "duration": 9,
    "start_time": "2021-10-17T15:24:17.119Z"
   },
   {
    "duration": 9,
    "start_time": "2021-10-17T15:24:32.512Z"
   },
   {
    "duration": 12,
    "start_time": "2021-10-17T15:24:39.100Z"
   },
   {
    "duration": 12,
    "start_time": "2021-10-17T15:24:57.529Z"
   },
   {
    "duration": 25,
    "start_time": "2021-10-17T15:25:23.784Z"
   },
   {
    "duration": 24,
    "start_time": "2021-10-17T15:27:47.921Z"
   },
   {
    "duration": 610,
    "start_time": "2021-10-17T15:29:56.768Z"
   },
   {
    "duration": 6441,
    "start_time": "2021-10-17T15:51:09.884Z"
   },
   {
    "duration": 520,
    "start_time": "2021-10-17T15:51:56.389Z"
   },
   {
    "duration": 517,
    "start_time": "2021-10-17T15:52:14.279Z"
   },
   {
    "duration": 533,
    "start_time": "2021-10-17T15:57:00.265Z"
   },
   {
    "duration": 585,
    "start_time": "2021-10-17T15:57:07.318Z"
   },
   {
    "duration": 18,
    "start_time": "2021-10-17T15:58:05.818Z"
   },
   {
    "duration": 85,
    "start_time": "2021-10-17T16:00:29.290Z"
   },
   {
    "duration": 25,
    "start_time": "2021-10-17T16:00:36.487Z"
   },
   {
    "duration": 636,
    "start_time": "2021-10-17T16:00:39.755Z"
   },
   {
    "duration": 36,
    "start_time": "2021-10-17T16:00:40.394Z"
   },
   {
    "duration": 7739,
    "start_time": "2021-10-17T16:00:40.889Z"
   },
   {
    "duration": 129620,
    "start_time": "2021-10-17T15:58:39.011Z"
   },
   {
    "duration": 129566,
    "start_time": "2021-10-17T15:58:39.067Z"
   },
   {
    "duration": 129538,
    "start_time": "2021-10-17T15:58:39.096Z"
   },
   {
    "duration": 129516,
    "start_time": "2021-10-17T15:58:39.120Z"
   },
   {
    "duration": 129507,
    "start_time": "2021-10-17T15:58:39.130Z"
   },
   {
    "duration": 129499,
    "start_time": "2021-10-17T15:58:39.140Z"
   },
   {
    "duration": 129492,
    "start_time": "2021-10-17T15:58:39.148Z"
   },
   {
    "duration": 270,
    "start_time": "2021-10-17T16:01:08.734Z"
   },
   {
    "duration": 19,
    "start_time": "2021-10-17T16:01:09.007Z"
   },
   {
    "duration": 15,
    "start_time": "2021-10-17T16:01:09.030Z"
   },
   {
    "duration": 10,
    "start_time": "2021-10-17T16:01:09.064Z"
   },
   {
    "duration": 9,
    "start_time": "2021-10-17T16:01:09.171Z"
   },
   {
    "duration": 5,
    "start_time": "2021-10-17T16:01:09.277Z"
   },
   {
    "duration": 24,
    "start_time": "2021-10-17T16:01:09.366Z"
   },
   {
    "duration": 14,
    "start_time": "2021-10-17T16:01:09.471Z"
   },
   {
    "duration": 5,
    "start_time": "2021-10-17T16:01:09.692Z"
   },
   {
    "duration": 7,
    "start_time": "2021-10-17T16:01:09.819Z"
   },
   {
    "duration": 6,
    "start_time": "2021-10-17T16:01:09.923Z"
   },
   {
    "duration": 6,
    "start_time": "2021-10-17T16:01:10.392Z"
   },
   {
    "duration": 17,
    "start_time": "2021-10-17T16:01:10.568Z"
   },
   {
    "duration": 11,
    "start_time": "2021-10-17T16:01:10.702Z"
   },
   {
    "duration": 11,
    "start_time": "2021-10-17T16:01:10.816Z"
   },
   {
    "duration": 29,
    "start_time": "2021-10-17T16:01:11.058Z"
   },
   {
    "duration": 30,
    "start_time": "2021-10-17T16:01:11.563Z"
   },
   {
    "duration": 10,
    "start_time": "2021-10-17T16:01:11.834Z"
   },
   {
    "duration": 9,
    "start_time": "2021-10-17T16:01:12.023Z"
   },
   {
    "duration": 24,
    "start_time": "2021-10-17T16:01:12.803Z"
   },
   {
    "duration": 741,
    "start_time": "2021-10-17T16:01:13.489Z"
   },
   {
    "duration": 34,
    "start_time": "2021-10-17T16:01:14.303Z"
   },
   {
    "duration": 13,
    "start_time": "2021-10-17T16:01:14.705Z"
   },
   {
    "duration": 18,
    "start_time": "2021-10-17T16:01:16.067Z"
   },
   {
    "duration": 278,
    "start_time": "2021-10-17T16:01:16.400Z"
   },
   {
    "duration": 213,
    "start_time": "2021-10-17T16:01:16.690Z"
   },
   {
    "duration": 268,
    "start_time": "2021-10-17T16:01:17.286Z"
   },
   {
    "duration": 22,
    "start_time": "2021-10-17T16:01:17.753Z"
   },
   {
    "duration": 11,
    "start_time": "2021-10-17T16:01:19.052Z"
   },
   {
    "duration": 475,
    "start_time": "2021-10-17T16:01:19.554Z"
   },
   {
    "duration": 432,
    "start_time": "2021-10-17T16:01:35.493Z"
   },
   {
    "duration": 520,
    "start_time": "2021-10-17T16:03:17.167Z"
   },
   {
    "duration": 17,
    "start_time": "2021-10-17T16:04:42.079Z"
   },
   {
    "duration": 618,
    "start_time": "2021-10-17T16:05:25.344Z"
   },
   {
    "duration": 18,
    "start_time": "2021-10-17T16:05:30.313Z"
   },
   {
    "duration": 600,
    "start_time": "2021-10-17T16:05:47.483Z"
   },
   {
    "duration": 584,
    "start_time": "2021-10-17T16:05:53.714Z"
   },
   {
    "duration": 516,
    "start_time": "2021-10-17T16:06:38.603Z"
   },
   {
    "duration": 7511,
    "start_time": "2021-10-17T16:08:08.152Z"
   },
   {
    "duration": 386,
    "start_time": "2021-10-17T16:08:54.076Z"
   },
   {
    "duration": 252,
    "start_time": "2021-10-17T16:09:08.375Z"
   },
   {
    "duration": 18,
    "start_time": "2021-10-17T16:09:08.630Z"
   },
   {
    "duration": 15,
    "start_time": "2021-10-17T16:09:08.651Z"
   },
   {
    "duration": 10,
    "start_time": "2021-10-17T16:09:08.824Z"
   },
   {
    "duration": 11,
    "start_time": "2021-10-17T16:09:08.912Z"
   },
   {
    "duration": 5,
    "start_time": "2021-10-17T16:09:09.039Z"
   },
   {
    "duration": 25,
    "start_time": "2021-10-17T16:09:09.111Z"
   },
   {
    "duration": 15,
    "start_time": "2021-10-17T16:09:09.249Z"
   },
   {
    "duration": 5,
    "start_time": "2021-10-17T16:09:09.478Z"
   },
   {
    "duration": 6,
    "start_time": "2021-10-17T16:09:09.617Z"
   },
   {
    "duration": 7,
    "start_time": "2021-10-17T16:09:09.849Z"
   },
   {
    "duration": 6,
    "start_time": "2021-10-17T16:09:10.021Z"
   },
   {
    "duration": 22,
    "start_time": "2021-10-17T16:09:10.152Z"
   },
   {
    "duration": 10,
    "start_time": "2021-10-17T16:09:10.331Z"
   },
   {
    "duration": 12,
    "start_time": "2021-10-17T16:09:10.494Z"
   },
   {
    "duration": 35,
    "start_time": "2021-10-17T16:09:10.787Z"
   },
   {
    "duration": 28,
    "start_time": "2021-10-17T16:09:11.024Z"
   },
   {
    "duration": 11,
    "start_time": "2021-10-17T16:09:11.206Z"
   },
   {
    "duration": 10,
    "start_time": "2021-10-17T16:09:11.354Z"
   },
   {
    "duration": 24,
    "start_time": "2021-10-17T16:09:12.068Z"
   },
   {
    "duration": 688,
    "start_time": "2021-10-17T16:09:12.250Z"
   },
   {
    "duration": 45,
    "start_time": "2021-10-17T16:09:12.940Z"
   },
   {
    "duration": 15,
    "start_time": "2021-10-17T16:09:12.987Z"
   },
   {
    "duration": 17,
    "start_time": "2021-10-17T16:09:13.082Z"
   },
   {
    "duration": 269,
    "start_time": "2021-10-17T16:09:13.328Z"
   },
   {
    "duration": 297,
    "start_time": "2021-10-17T16:09:13.599Z"
   },
   {
    "duration": 262,
    "start_time": "2021-10-17T16:09:13.899Z"
   },
   {
    "duration": 19,
    "start_time": "2021-10-17T16:09:14.167Z"
   },
   {
    "duration": 11,
    "start_time": "2021-10-17T16:09:14.188Z"
   },
   {
    "duration": 430,
    "start_time": "2021-10-17T16:09:14.352Z"
   },
   {
    "duration": 421,
    "start_time": "2021-10-17T16:09:15.306Z"
   },
   {
    "duration": 394,
    "start_time": "2021-10-17T16:09:16.625Z"
   },
   {
    "duration": 381,
    "start_time": "2021-10-17T16:09:57.603Z"
   },
   {
    "duration": 423,
    "start_time": "2021-10-17T16:10:13.173Z"
   },
   {
    "duration": 233,
    "start_time": "2021-10-17T16:13:37.891Z"
   },
   {
    "duration": 21,
    "start_time": "2021-10-17T16:13:38.807Z"
   },
   {
    "duration": 11,
    "start_time": "2021-10-17T16:13:39.191Z"
   },
   {
    "duration": 428,
    "start_time": "2021-10-17T16:13:39.450Z"
   },
   {
    "duration": 437,
    "start_time": "2021-10-17T16:13:40.464Z"
   },
   {
    "duration": 426,
    "start_time": "2021-10-17T16:13:42.014Z"
   },
   {
    "duration": 21,
    "start_time": "2021-10-17T16:14:14.728Z"
   },
   {
    "duration": 583,
    "start_time": "2021-10-17T16:22:59.919Z"
   },
   {
    "duration": 561,
    "start_time": "2021-10-17T16:23:22.912Z"
   },
   {
    "duration": 542,
    "start_time": "2021-10-17T16:24:51.266Z"
   },
   {
    "duration": 540,
    "start_time": "2021-10-17T16:25:28.979Z"
   },
   {
    "duration": 567,
    "start_time": "2021-10-17T16:25:37.742Z"
   },
   {
    "duration": 237,
    "start_time": "2021-10-17T16:30:39.261Z"
   },
   {
    "duration": 249,
    "start_time": "2021-10-17T16:30:49.195Z"
   },
   {
    "duration": 129759,
    "start_time": "2021-10-17T16:28:59.501Z"
   },
   {
    "duration": 654,
    "start_time": "2021-10-17T16:32:02.161Z"
   },
   {
    "duration": 585,
    "start_time": "2021-10-17T16:32:23.655Z"
   },
   {
    "duration": 5806,
    "start_time": "2021-10-17T16:32:37.554Z"
   },
   {
    "duration": 22,
    "start_time": "2021-10-17T16:33:08.619Z"
   },
   {
    "duration": 417,
    "start_time": "2021-10-17T16:33:14.811Z"
   },
   {
    "duration": 251,
    "start_time": "2021-10-17T16:33:58.528Z"
   },
   {
    "duration": 6,
    "start_time": "2021-10-17T16:34:15.313Z"
   },
   {
    "duration": 84,
    "start_time": "2021-10-17T16:38:44.639Z"
   },
   {
    "duration": 6428,
    "start_time": "2021-10-17T16:39:07.212Z"
   },
   {
    "duration": 380,
    "start_time": "2021-10-17T16:40:53.907Z"
   },
   {
    "duration": 6587,
    "start_time": "2021-10-17T16:42:48.986Z"
   },
   {
    "duration": 448,
    "start_time": "2021-10-17T16:43:02.200Z"
   },
   {
    "duration": 6,
    "start_time": "2021-10-17T16:43:57.761Z"
   },
   {
    "duration": 88,
    "start_time": "2021-10-17T16:52:19.356Z"
   },
   {
    "duration": 214,
    "start_time": "2021-10-17T16:54:32.653Z"
   },
   {
    "duration": 278,
    "start_time": "2021-10-17T17:06:57.606Z"
   },
   {
    "duration": 25476,
    "start_time": "2021-10-17T17:10:55.480Z"
   },
   {
    "duration": 1409,
    "start_time": "2021-10-17T17:13:13.223Z"
   },
   {
    "duration": 264,
    "start_time": "2021-10-17T17:13:16.025Z"
   },
   {
    "duration": 22,
    "start_time": "2021-10-17T17:13:16.291Z"
   },
   {
    "duration": 16,
    "start_time": "2021-10-17T17:13:16.373Z"
   },
   {
    "duration": 9,
    "start_time": "2021-10-17T17:13:16.523Z"
   },
   {
    "duration": 9,
    "start_time": "2021-10-17T17:13:16.825Z"
   },
   {
    "duration": 5,
    "start_time": "2021-10-17T17:13:17.017Z"
   },
   {
    "duration": 22,
    "start_time": "2021-10-17T17:13:17.201Z"
   },
   {
    "duration": 13,
    "start_time": "2021-10-17T17:13:17.374Z"
   },
   {
    "duration": 5,
    "start_time": "2021-10-17T17:13:17.842Z"
   },
   {
    "duration": 5,
    "start_time": "2021-10-17T17:13:18.789Z"
   },
   {
    "duration": 8,
    "start_time": "2021-10-17T17:13:18.797Z"
   },
   {
    "duration": 6,
    "start_time": "2021-10-17T17:13:18.808Z"
   },
   {
    "duration": 18,
    "start_time": "2021-10-17T17:13:18.816Z"
   },
   {
    "duration": 13,
    "start_time": "2021-10-17T17:13:18.836Z"
   },
   {
    "duration": 12,
    "start_time": "2021-10-17T17:13:18.868Z"
   },
   {
    "duration": 31,
    "start_time": "2021-10-17T17:13:19.096Z"
   },
   {
    "duration": 27,
    "start_time": "2021-10-17T17:13:19.233Z"
   },
   {
    "duration": 10,
    "start_time": "2021-10-17T17:13:19.366Z"
   },
   {
    "duration": 8,
    "start_time": "2021-10-17T17:13:19.620Z"
   },
   {
    "duration": 25,
    "start_time": "2021-10-17T17:13:20.512Z"
   },
   {
    "duration": 734,
    "start_time": "2021-10-17T17:13:20.676Z"
   },
   {
    "duration": 38,
    "start_time": "2021-10-17T17:13:21.413Z"
   },
   {
    "duration": 14,
    "start_time": "2021-10-17T17:13:21.467Z"
   },
   {
    "duration": 17,
    "start_time": "2021-10-17T17:13:21.734Z"
   },
   {
    "duration": 293,
    "start_time": "2021-10-17T17:13:21.876Z"
   },
   {
    "duration": 190,
    "start_time": "2021-10-17T17:13:22.172Z"
   },
   {
    "duration": 253,
    "start_time": "2021-10-17T17:13:22.368Z"
   },
   {
    "duration": 18,
    "start_time": "2021-10-17T17:13:22.624Z"
   },
   {
    "duration": 29,
    "start_time": "2021-10-17T17:13:22.644Z"
   },
   {
    "duration": 426,
    "start_time": "2021-10-17T17:13:22.707Z"
   },
   {
    "duration": 418,
    "start_time": "2021-10-17T17:13:23.233Z"
   },
   {
    "duration": 409,
    "start_time": "2021-10-17T17:13:23.776Z"
   },
   {
    "duration": 553,
    "start_time": "2021-10-17T17:13:24.249Z"
   },
   {
    "duration": 23,
    "start_time": "2021-10-17T17:13:24.985Z"
   },
   {
    "duration": 415,
    "start_time": "2021-10-17T17:13:25.230Z"
   },
   {
    "duration": 7,
    "start_time": "2021-10-17T17:13:26.104Z"
   },
   {
    "duration": 396,
    "start_time": "2021-10-17T17:13:27.478Z"
   },
   {
    "duration": 6,
    "start_time": "2021-10-17T17:13:28.324Z"
   },
   {
    "duration": 312,
    "start_time": "2021-10-17T17:14:02.362Z"
   },
   {
    "duration": 1393,
    "start_time": "2021-10-17T17:14:19.255Z"
   },
   {
    "duration": 193,
    "start_time": "2021-10-17T17:14:20.651Z"
   },
   {
    "duration": 22,
    "start_time": "2021-10-17T17:14:20.847Z"
   },
   {
    "duration": 17,
    "start_time": "2021-10-17T17:14:20.871Z"
   },
   {
    "duration": 14,
    "start_time": "2021-10-17T17:14:20.890Z"
   },
   {
    "duration": 12,
    "start_time": "2021-10-17T17:14:20.907Z"
   },
   {
    "duration": 7,
    "start_time": "2021-10-17T17:14:20.922Z"
   },
   {
    "duration": 25,
    "start_time": "2021-10-17T17:14:20.970Z"
   },
   {
    "duration": 14,
    "start_time": "2021-10-17T17:14:20.997Z"
   },
   {
    "duration": 6,
    "start_time": "2021-10-17T17:14:21.149Z"
   },
   {
    "duration": 6,
    "start_time": "2021-10-17T17:14:21.189Z"
   },
   {
    "duration": 6,
    "start_time": "2021-10-17T17:14:21.345Z"
   },
   {
    "duration": 7,
    "start_time": "2021-10-17T17:14:21.559Z"
   },
   {
    "duration": 15,
    "start_time": "2021-10-17T17:14:21.696Z"
   },
   {
    "duration": 12,
    "start_time": "2021-10-17T17:14:21.852Z"
   },
   {
    "duration": 13,
    "start_time": "2021-10-17T17:14:21.985Z"
   },
   {
    "duration": 32,
    "start_time": "2021-10-17T17:14:22.217Z"
   },
   {
    "duration": 28,
    "start_time": "2021-10-17T17:14:22.353Z"
   },
   {
    "duration": 9,
    "start_time": "2021-10-17T17:14:37.886Z"
   },
   {
    "duration": 9,
    "start_time": "2021-10-17T17:14:37.898Z"
   },
   {
    "duration": 23,
    "start_time": "2021-10-17T17:14:37.911Z"
   },
   {
    "duration": 853,
    "start_time": "2021-10-17T17:14:37.938Z"
   },
   {
    "duration": 31,
    "start_time": "2021-10-17T17:14:38.793Z"
   },
   {
    "duration": 42,
    "start_time": "2021-10-17T17:14:38.827Z"
   },
   {
    "duration": 21,
    "start_time": "2021-10-17T17:14:38.871Z"
   },
   {
    "duration": 284,
    "start_time": "2021-10-17T17:14:38.895Z"
   },
   {
    "duration": 203,
    "start_time": "2021-10-17T17:14:39.185Z"
   },
   {
    "duration": 262,
    "start_time": "2021-10-17T17:14:39.391Z"
   },
   {
    "duration": 26,
    "start_time": "2021-10-17T17:14:39.655Z"
   },
   {
    "duration": 15,
    "start_time": "2021-10-17T17:14:39.683Z"
   },
   {
    "duration": 446,
    "start_time": "2021-10-17T17:14:39.701Z"
   },
   {
    "duration": 443,
    "start_time": "2021-10-17T17:14:40.151Z"
   },
   {
    "duration": 432,
    "start_time": "2021-10-17T17:14:40.597Z"
   },
   {
    "duration": 588,
    "start_time": "2021-10-17T17:14:41.031Z"
   },
   {
    "duration": 22,
    "start_time": "2021-10-17T17:14:41.621Z"
   },
   {
    "duration": 443,
    "start_time": "2021-10-17T17:14:41.645Z"
   },
   {
    "duration": 6,
    "start_time": "2021-10-17T17:14:42.091Z"
   },
   {
    "duration": 419,
    "start_time": "2021-10-17T17:14:42.100Z"
   },
   {
    "duration": 7,
    "start_time": "2021-10-17T17:14:42.521Z"
   },
   {
    "duration": 329,
    "start_time": "2021-10-17T17:16:06.725Z"
   },
   {
    "duration": 222,
    "start_time": "2021-10-17T17:16:35.652Z"
   },
   {
    "duration": 1371,
    "start_time": "2021-10-17T17:16:43.774Z"
   },
   {
    "duration": 308,
    "start_time": "2021-10-17T17:16:45.147Z"
   },
   {
    "duration": 23,
    "start_time": "2021-10-17T17:16:45.459Z"
   },
   {
    "duration": 16,
    "start_time": "2021-10-17T17:16:45.485Z"
   },
   {
    "duration": 10,
    "start_time": "2021-10-17T17:16:45.503Z"
   },
   {
    "duration": 10,
    "start_time": "2021-10-17T17:16:45.516Z"
   },
   {
    "duration": 5,
    "start_time": "2021-10-17T17:16:45.680Z"
   },
   {
    "duration": 23,
    "start_time": "2021-10-17T17:16:45.996Z"
   },
   {
    "duration": 15,
    "start_time": "2021-10-17T17:16:46.263Z"
   },
   {
    "duration": 6,
    "start_time": "2021-10-17T17:16:46.625Z"
   },
   {
    "duration": 7,
    "start_time": "2021-10-17T17:16:46.786Z"
   },
   {
    "duration": 5,
    "start_time": "2021-10-17T17:16:47.047Z"
   },
   {
    "duration": 6,
    "start_time": "2021-10-17T17:16:47.226Z"
   },
   {
    "duration": 15,
    "start_time": "2021-10-17T17:16:47.421Z"
   },
   {
    "duration": 11,
    "start_time": "2021-10-17T17:16:47.721Z"
   },
   {
    "duration": 11,
    "start_time": "2021-10-17T17:16:47.867Z"
   },
   {
    "duration": 30,
    "start_time": "2021-10-17T17:16:48.260Z"
   },
   {
    "duration": 28,
    "start_time": "2021-10-17T17:16:48.533Z"
   },
   {
    "duration": 10,
    "start_time": "2021-10-17T17:16:48.721Z"
   },
   {
    "duration": 9,
    "start_time": "2021-10-17T17:16:48.909Z"
   },
   {
    "duration": 25,
    "start_time": "2021-10-17T17:16:49.717Z"
   },
   {
    "duration": 732,
    "start_time": "2021-10-17T17:16:49.872Z"
   },
   {
    "duration": 31,
    "start_time": "2021-10-17T17:16:50.607Z"
   },
   {
    "duration": 31,
    "start_time": "2021-10-17T17:16:50.641Z"
   },
   {
    "duration": 16,
    "start_time": "2021-10-17T17:16:50.952Z"
   },
   {
    "duration": 285,
    "start_time": "2021-10-17T17:16:51.106Z"
   },
   {
    "duration": 190,
    "start_time": "2021-10-17T17:16:51.414Z"
   },
   {
    "duration": 269,
    "start_time": "2021-10-17T17:16:51.805Z"
   },
   {
    "duration": 21,
    "start_time": "2021-10-17T17:16:52.499Z"
   },
   {
    "duration": 11,
    "start_time": "2021-10-17T17:16:53.290Z"
   },
   {
    "duration": 456,
    "start_time": "2021-10-17T17:16:53.739Z"
   },
   {
    "duration": 426,
    "start_time": "2021-10-17T17:16:55.047Z"
   },
   {
    "duration": 414,
    "start_time": "2021-10-17T17:16:56.485Z"
   },
   {
    "duration": 580,
    "start_time": "2021-10-17T17:16:58.016Z"
   },
   {
    "duration": 22,
    "start_time": "2021-10-17T17:17:00.058Z"
   },
   {
    "duration": 427,
    "start_time": "2021-10-17T17:17:00.545Z"
   },
   {
    "duration": 7,
    "start_time": "2021-10-17T17:17:01.464Z"
   },
   {
    "duration": 444,
    "start_time": "2021-10-17T17:17:03.245Z"
   },
   {
    "duration": 6,
    "start_time": "2021-10-17T17:17:04.268Z"
   },
   {
    "duration": 24156,
    "start_time": "2021-10-17T17:17:06.648Z"
   },
   {
    "duration": 1469,
    "start_time": "2021-10-17T17:18:08.677Z"
   },
   {
    "duration": 214,
    "start_time": "2021-10-17T17:18:10.149Z"
   },
   {
    "duration": 22,
    "start_time": "2021-10-17T17:18:10.366Z"
   },
   {
    "duration": 14,
    "start_time": "2021-10-17T17:18:10.391Z"
   },
   {
    "duration": 11,
    "start_time": "2021-10-17T17:18:10.408Z"
   },
   {
    "duration": 46,
    "start_time": "2021-10-17T17:18:10.422Z"
   },
   {
    "duration": 15,
    "start_time": "2021-10-17T17:18:10.471Z"
   },
   {
    "duration": 23,
    "start_time": "2021-10-17T17:18:10.489Z"
   },
   {
    "duration": 13,
    "start_time": "2021-10-17T17:18:10.515Z"
   },
   {
    "duration": 5,
    "start_time": "2021-10-17T17:18:10.540Z"
   },
   {
    "duration": 6,
    "start_time": "2021-10-17T17:18:10.638Z"
   },
   {
    "duration": 6,
    "start_time": "2021-10-17T17:18:10.765Z"
   },
   {
    "duration": 7,
    "start_time": "2021-10-17T17:18:10.992Z"
   },
   {
    "duration": 15,
    "start_time": "2021-10-17T17:18:11.093Z"
   },
   {
    "duration": 11,
    "start_time": "2021-10-17T17:18:11.234Z"
   },
   {
    "duration": 11,
    "start_time": "2021-10-17T17:18:11.360Z"
   },
   {
    "duration": 32,
    "start_time": "2021-10-17T17:18:11.577Z"
   },
   {
    "duration": 29,
    "start_time": "2021-10-17T17:18:11.719Z"
   },
   {
    "duration": 10,
    "start_time": "2021-10-17T17:18:11.854Z"
   },
   {
    "duration": 9,
    "start_time": "2021-10-17T17:18:12.001Z"
   },
   {
    "duration": 25,
    "start_time": "2021-10-17T17:18:12.578Z"
   },
   {
    "duration": 717,
    "start_time": "2021-10-17T17:18:12.715Z"
   },
   {
    "duration": 51,
    "start_time": "2021-10-17T17:18:13.436Z"
   },
   {
    "duration": 15,
    "start_time": "2021-10-17T17:18:13.491Z"
   },
   {
    "duration": 17,
    "start_time": "2021-10-17T17:18:13.518Z"
   },
   {
    "duration": 281,
    "start_time": "2021-10-17T17:18:13.700Z"
   },
   {
    "duration": 206,
    "start_time": "2021-10-17T17:18:13.985Z"
   },
   {
    "duration": 247,
    "start_time": "2021-10-17T17:18:14.195Z"
   },
   {
    "duration": 28,
    "start_time": "2021-10-17T17:18:14.445Z"
   },
   {
    "duration": 19,
    "start_time": "2021-10-17T17:18:14.476Z"
   },
   {
    "duration": 444,
    "start_time": "2021-10-17T17:18:14.544Z"
   },
   {
    "duration": 424,
    "start_time": "2021-10-17T17:18:15.450Z"
   },
   {
    "duration": 407,
    "start_time": "2021-10-17T17:18:16.198Z"
   },
   {
    "duration": 538,
    "start_time": "2021-10-17T17:18:17.367Z"
   },
   {
    "duration": 21,
    "start_time": "2021-10-17T17:18:18.812Z"
   },
   {
    "duration": 408,
    "start_time": "2021-10-17T17:18:19.406Z"
   },
   {
    "duration": 6,
    "start_time": "2021-10-17T17:18:19.906Z"
   },
   {
    "duration": 391,
    "start_time": "2021-10-17T17:18:21.123Z"
   },
   {
    "duration": 7,
    "start_time": "2021-10-17T17:18:21.778Z"
   },
   {
    "duration": 23698,
    "start_time": "2021-10-17T17:18:22.805Z"
   },
   {
    "duration": 190,
    "start_time": "2021-10-17T17:18:46.505Z"
   },
   {
    "duration": 295,
    "start_time": "2021-10-17T17:18:57.942Z"
   },
   {
    "duration": 1387,
    "start_time": "2021-10-17T17:19:04.059Z"
   },
   {
    "duration": 555,
    "start_time": "2021-10-17T17:19:05.449Z"
   },
   {
    "duration": 22,
    "start_time": "2021-10-17T17:19:06.007Z"
   },
   {
    "duration": 27,
    "start_time": "2021-10-17T17:19:06.032Z"
   },
   {
    "duration": 18,
    "start_time": "2021-10-17T17:19:06.062Z"
   },
   {
    "duration": 12,
    "start_time": "2021-10-17T17:19:06.082Z"
   },
   {
    "duration": 6,
    "start_time": "2021-10-17T17:19:06.096Z"
   },
   {
    "duration": 27,
    "start_time": "2021-10-17T17:19:06.105Z"
   },
   {
    "duration": 15,
    "start_time": "2021-10-17T17:19:06.213Z"
   },
   {
    "duration": 5,
    "start_time": "2021-10-17T17:19:06.634Z"
   },
   {
    "duration": 7,
    "start_time": "2021-10-17T17:19:06.868Z"
   },
   {
    "duration": 6,
    "start_time": "2021-10-17T17:19:07.085Z"
   },
   {
    "duration": 6,
    "start_time": "2021-10-17T17:19:07.307Z"
   },
   {
    "duration": 15,
    "start_time": "2021-10-17T17:19:07.532Z"
   },
   {
    "duration": 12,
    "start_time": "2021-10-17T17:19:07.736Z"
   },
   {
    "duration": 13,
    "start_time": "2021-10-17T17:19:07.915Z"
   },
   {
    "duration": 31,
    "start_time": "2021-10-17T17:19:08.331Z"
   },
   {
    "duration": 27,
    "start_time": "2021-10-17T17:19:08.511Z"
   },
   {
    "duration": 10,
    "start_time": "2021-10-17T17:19:08.687Z"
   },
   {
    "duration": 10,
    "start_time": "2021-10-17T17:19:08.883Z"
   },
   {
    "duration": 24,
    "start_time": "2021-10-17T17:19:09.832Z"
   },
   {
    "duration": 736,
    "start_time": "2021-10-17T17:19:10.016Z"
   },
   {
    "duration": 42,
    "start_time": "2021-10-17T17:19:10.754Z"
   },
   {
    "duration": 13,
    "start_time": "2021-10-17T17:19:10.799Z"
   },
   {
    "duration": 18,
    "start_time": "2021-10-17T17:19:10.848Z"
   },
   {
    "duration": 270,
    "start_time": "2021-10-17T17:19:11.016Z"
   },
   {
    "duration": 199,
    "start_time": "2021-10-17T17:19:11.289Z"
   },
   {
    "duration": 242,
    "start_time": "2021-10-17T17:19:11.491Z"
   },
   {
    "duration": 32,
    "start_time": "2021-10-17T17:19:11.736Z"
   },
   {
    "duration": 11,
    "start_time": "2021-10-17T17:19:11.771Z"
   },
   {
    "duration": 468,
    "start_time": "2021-10-17T17:19:11.785Z"
   },
   {
    "duration": 425,
    "start_time": "2021-10-17T17:19:12.510Z"
   },
   {
    "duration": 427,
    "start_time": "2021-10-17T17:19:13.173Z"
   },
   {
    "duration": 553,
    "start_time": "2021-10-17T17:19:14.641Z"
   },
   {
    "duration": 20,
    "start_time": "2021-10-17T17:19:16.344Z"
   },
   {
    "duration": 404,
    "start_time": "2021-10-17T17:19:16.799Z"
   },
   {
    "duration": 7,
    "start_time": "2021-10-17T17:19:17.262Z"
   },
   {
    "duration": 396,
    "start_time": "2021-10-17T17:19:18.985Z"
   },
   {
    "duration": 6,
    "start_time": "2021-10-17T17:19:19.713Z"
   },
   {
    "duration": 24434,
    "start_time": "2021-10-17T17:19:21.955Z"
   },
   {
    "duration": 192,
    "start_time": "2021-10-17T17:19:58.240Z"
   },
   {
    "duration": 482,
    "start_time": "2021-10-17T17:36:03.429Z"
   },
   {
    "duration": 1325,
    "start_time": "2021-10-17T17:36:15.019Z"
   },
   {
    "duration": 157,
    "start_time": "2021-10-17T17:36:16.346Z"
   },
   {
    "duration": 21,
    "start_time": "2021-10-17T17:36:16.506Z"
   },
   {
    "duration": 14,
    "start_time": "2021-10-17T17:36:16.530Z"
   },
   {
    "duration": 10,
    "start_time": "2021-10-17T17:36:16.547Z"
   },
   {
    "duration": 9,
    "start_time": "2021-10-17T17:36:16.568Z"
   },
   {
    "duration": 6,
    "start_time": "2021-10-17T17:36:16.580Z"
   },
   {
    "duration": 24,
    "start_time": "2021-10-17T17:36:16.590Z"
   },
   {
    "duration": 56,
    "start_time": "2021-10-17T17:36:16.617Z"
   },
   {
    "duration": 6,
    "start_time": "2021-10-17T17:36:16.891Z"
   },
   {
    "duration": 6,
    "start_time": "2021-10-17T17:36:17.038Z"
   },
   {
    "duration": 5,
    "start_time": "2021-10-17T17:36:17.168Z"
   },
   {
    "duration": 7,
    "start_time": "2021-10-17T17:36:17.300Z"
   },
   {
    "duration": 16,
    "start_time": "2021-10-17T17:36:17.425Z"
   },
   {
    "duration": 10,
    "start_time": "2021-10-17T17:36:17.557Z"
   },
   {
    "duration": 12,
    "start_time": "2021-10-17T17:36:17.664Z"
   },
   {
    "duration": 30,
    "start_time": "2021-10-17T17:36:17.897Z"
   },
   {
    "duration": 29,
    "start_time": "2021-10-17T17:36:18.040Z"
   },
   {
    "duration": 10,
    "start_time": "2021-10-17T17:36:18.133Z"
   },
   {
    "duration": 9,
    "start_time": "2021-10-17T17:36:18.273Z"
   },
   {
    "duration": 24,
    "start_time": "2021-10-17T17:36:18.896Z"
   },
   {
    "duration": 736,
    "start_time": "2021-10-17T17:36:19.024Z"
   },
   {
    "duration": 30,
    "start_time": "2021-10-17T17:36:19.767Z"
   },
   {
    "duration": 13,
    "start_time": "2021-10-17T17:36:19.800Z"
   },
   {
    "duration": 20,
    "start_time": "2021-10-17T17:36:19.816Z"
   },
   {
    "duration": 309,
    "start_time": "2021-10-17T17:36:19.870Z"
   },
   {
    "duration": 194,
    "start_time": "2021-10-17T17:36:20.182Z"
   },
   {
    "duration": 253,
    "start_time": "2021-10-17T17:36:20.378Z"
   },
   {
    "duration": 22,
    "start_time": "2021-10-17T17:36:21.979Z"
   },
   {
    "duration": 12,
    "start_time": "2021-10-17T17:36:22.112Z"
   },
   {
    "duration": 441,
    "start_time": "2021-10-17T17:36:22.266Z"
   },
   {
    "duration": 428,
    "start_time": "2021-10-17T17:36:23.677Z"
   },
   {
    "duration": 6396,
    "start_time": "2021-10-17T17:36:33.638Z"
   },
   {
    "duration": 16,
    "start_time": "2021-10-17T17:37:11.095Z"
   },
   {
    "duration": 256,
    "start_time": "2021-10-17T17:39:37.178Z"
   },
   {
    "duration": 5,
    "start_time": "2021-10-17T17:39:55.495Z"
   },
   {
    "duration": 819,
    "start_time": "2021-10-17T17:39:56.006Z"
   },
   {
    "duration": 17,
    "start_time": "2021-10-17T17:39:56.828Z"
   },
   {
    "duration": 27,
    "start_time": "2021-10-17T17:39:56.848Z"
   },
   {
    "duration": 15,
    "start_time": "2021-10-17T17:39:56.877Z"
   },
   {
    "duration": 11,
    "start_time": "2021-10-17T17:39:56.895Z"
   },
   {
    "duration": 13,
    "start_time": "2021-10-17T17:39:56.908Z"
   },
   {
    "duration": 32,
    "start_time": "2021-10-17T17:39:56.923Z"
   },
   {
    "duration": 16,
    "start_time": "2021-10-17T17:39:56.996Z"
   },
   {
    "duration": 6,
    "start_time": "2021-10-17T17:39:57.224Z"
   },
   {
    "duration": 5,
    "start_time": "2021-10-17T17:39:57.335Z"
   },
   {
    "duration": 6,
    "start_time": "2021-10-17T17:39:57.428Z"
   },
   {
    "duration": 6,
    "start_time": "2021-10-17T17:39:57.559Z"
   },
   {
    "duration": 16,
    "start_time": "2021-10-17T17:39:57.688Z"
   },
   {
    "duration": 10,
    "start_time": "2021-10-17T17:39:57.796Z"
   },
   {
    "duration": 11,
    "start_time": "2021-10-17T17:39:57.920Z"
   },
   {
    "duration": 30,
    "start_time": "2021-10-17T17:39:58.152Z"
   },
   {
    "duration": 29,
    "start_time": "2021-10-17T17:39:58.296Z"
   },
   {
    "duration": 10,
    "start_time": "2021-10-17T17:39:58.408Z"
   },
   {
    "duration": 10,
    "start_time": "2021-10-17T17:39:58.541Z"
   },
   {
    "duration": 24,
    "start_time": "2021-10-17T17:39:59.264Z"
   },
   {
    "duration": 757,
    "start_time": "2021-10-17T17:39:59.423Z"
   },
   {
    "duration": 34,
    "start_time": "2021-10-17T17:40:00.182Z"
   },
   {
    "duration": 14,
    "start_time": "2021-10-17T17:40:00.219Z"
   },
   {
    "duration": 18,
    "start_time": "2021-10-17T17:40:00.268Z"
   },
   {
    "duration": 271,
    "start_time": "2021-10-17T17:40:00.362Z"
   },
   {
    "duration": 203,
    "start_time": "2021-10-17T17:40:00.636Z"
   },
   {
    "duration": 260,
    "start_time": "2021-10-17T17:40:00.842Z"
   },
   {
    "duration": 22,
    "start_time": "2021-10-17T17:40:01.105Z"
   },
   {
    "duration": 41,
    "start_time": "2021-10-17T17:40:01.129Z"
   },
   {
    "duration": 452,
    "start_time": "2021-10-17T17:40:01.173Z"
   },
   {
    "duration": 468,
    "start_time": "2021-10-17T17:40:01.628Z"
   },
   {
    "duration": 437,
    "start_time": "2021-10-17T17:40:02.330Z"
   },
   {
    "duration": 567,
    "start_time": "2021-10-17T17:40:03.180Z"
   },
   {
    "duration": 22,
    "start_time": "2021-10-17T17:40:05.109Z"
   },
   {
    "duration": 419,
    "start_time": "2021-10-17T17:40:05.529Z"
   },
   {
    "duration": 7,
    "start_time": "2021-10-17T17:40:06.551Z"
   },
   {
    "duration": 15,
    "start_time": "2021-10-17T17:42:02.531Z"
   },
   {
    "duration": 5,
    "start_time": "2021-10-17T17:46:35.856Z"
   },
   {
    "duration": 218,
    "start_time": "2021-10-17T17:46:36.265Z"
   },
   {
    "duration": 17,
    "start_time": "2021-10-17T17:46:36.486Z"
   },
   {
    "duration": 16,
    "start_time": "2021-10-17T17:46:36.619Z"
   },
   {
    "duration": 10,
    "start_time": "2021-10-17T17:46:36.763Z"
   },
   {
    "duration": 11,
    "start_time": "2021-10-17T17:46:36.879Z"
   },
   {
    "duration": 7,
    "start_time": "2021-10-17T17:46:37.034Z"
   },
   {
    "duration": 27,
    "start_time": "2021-10-17T17:46:37.126Z"
   },
   {
    "duration": 13,
    "start_time": "2021-10-17T17:46:37.266Z"
   },
   {
    "duration": 5,
    "start_time": "2021-10-17T17:46:37.497Z"
   },
   {
    "duration": 6,
    "start_time": "2021-10-17T17:46:37.647Z"
   },
   {
    "duration": 7,
    "start_time": "2021-10-17T17:46:37.758Z"
   },
   {
    "duration": 75,
    "start_time": "2021-10-17T17:46:37.982Z"
   },
   {
    "duration": 16,
    "start_time": "2021-10-17T17:46:38.128Z"
   },
   {
    "duration": 11,
    "start_time": "2021-10-17T17:46:38.226Z"
   },
   {
    "duration": 11,
    "start_time": "2021-10-17T17:46:38.316Z"
   },
   {
    "duration": 31,
    "start_time": "2021-10-17T17:46:38.681Z"
   },
   {
    "duration": 28,
    "start_time": "2021-10-17T17:46:38.848Z"
   },
   {
    "duration": 10,
    "start_time": "2021-10-17T17:46:38.940Z"
   },
   {
    "duration": 8,
    "start_time": "2021-10-17T17:46:39.068Z"
   },
   {
    "duration": 3,
    "start_time": "2021-10-17T17:46:39.734Z"
   },
   {
    "duration": 761,
    "start_time": "2021-10-17T17:46:39.858Z"
   },
   {
    "duration": 46,
    "start_time": "2021-10-17T17:46:40.621Z"
   },
   {
    "duration": 18,
    "start_time": "2021-10-17T17:46:40.670Z"
   },
   {
    "duration": 18,
    "start_time": "2021-10-17T17:46:40.740Z"
   },
   {
    "duration": 365,
    "start_time": "2021-10-17T17:46:40.946Z"
   },
   {
    "duration": 200,
    "start_time": "2021-10-17T17:46:41.314Z"
   },
   {
    "duration": 355,
    "start_time": "2021-10-17T17:46:41.517Z"
   },
   {
    "duration": 21,
    "start_time": "2021-10-17T17:46:41.875Z"
   },
   {
    "duration": 11,
    "start_time": "2021-10-17T17:46:41.999Z"
   },
   {
    "duration": 420,
    "start_time": "2021-10-17T17:46:42.188Z"
   },
   {
    "duration": 412,
    "start_time": "2021-10-17T17:46:43.073Z"
   },
   {
    "duration": 419,
    "start_time": "2021-10-17T17:46:44.455Z"
   },
   {
    "duration": 555,
    "start_time": "2021-10-17T17:46:45.643Z"
   },
   {
    "duration": 26,
    "start_time": "2021-10-17T17:46:50.050Z"
   },
   {
    "duration": 402,
    "start_time": "2021-10-17T17:46:50.202Z"
   },
   {
    "duration": 6,
    "start_time": "2021-10-17T17:46:50.989Z"
   },
   {
    "duration": 401,
    "start_time": "2021-10-17T17:47:00.501Z"
   },
   {
    "duration": 5,
    "start_time": "2021-10-17T17:47:05.789Z"
   },
   {
    "duration": 13788,
    "start_time": "2021-10-17T17:47:22.761Z"
   },
   {
    "duration": 129710,
    "start_time": "2021-10-17T17:45:26.842Z"
   },
   {
    "duration": 129702,
    "start_time": "2021-10-17T17:45:26.851Z"
   },
   {
    "duration": 14,
    "start_time": "2021-10-17T17:47:47.139Z"
   },
   {
    "duration": 1329,
    "start_time": "2021-10-17T19:53:11.198Z"
   },
   {
    "duration": 275,
    "start_time": "2021-10-17T19:53:13.628Z"
   },
   {
    "duration": 22,
    "start_time": "2021-10-17T19:53:13.906Z"
   },
   {
    "duration": 17,
    "start_time": "2021-10-17T19:53:13.930Z"
   },
   {
    "duration": 10,
    "start_time": "2021-10-17T19:53:14.121Z"
   },
   {
    "duration": 10,
    "start_time": "2021-10-17T19:53:14.148Z"
   },
   {
    "duration": 6,
    "start_time": "2021-10-17T19:53:14.260Z"
   },
   {
    "duration": 23,
    "start_time": "2021-10-17T19:53:14.381Z"
   },
   {
    "duration": 15,
    "start_time": "2021-10-17T19:53:14.470Z"
   },
   {
    "duration": 5,
    "start_time": "2021-10-17T19:53:14.736Z"
   },
   {
    "duration": 8,
    "start_time": "2021-10-17T19:53:14.807Z"
   },
   {
    "duration": 5,
    "start_time": "2021-10-17T19:53:14.913Z"
   },
   {
    "duration": 6,
    "start_time": "2021-10-17T19:53:15.060Z"
   },
   {
    "duration": 15,
    "start_time": "2021-10-17T19:53:15.215Z"
   },
   {
    "duration": 11,
    "start_time": "2021-10-17T19:53:15.301Z"
   },
   {
    "duration": 13,
    "start_time": "2021-10-17T19:53:15.416Z"
   },
   {
    "duration": 34,
    "start_time": "2021-10-17T19:53:15.789Z"
   },
   {
    "duration": 29,
    "start_time": "2021-10-17T19:53:15.870Z"
   },
   {
    "duration": 11,
    "start_time": "2021-10-17T19:53:16.040Z"
   },
   {
    "duration": 9,
    "start_time": "2021-10-17T19:53:16.201Z"
   },
   {
    "duration": 3,
    "start_time": "2021-10-17T19:53:16.975Z"
   },
   {
    "duration": 3,
    "start_time": "2021-10-17T19:53:58.101Z"
   },
   {
    "duration": 746,
    "start_time": "2021-10-17T19:54:13.618Z"
   },
   {
    "duration": 32,
    "start_time": "2021-10-17T19:54:14.996Z"
   },
   {
    "duration": 20,
    "start_time": "2021-10-17T19:54:15.216Z"
   },
   {
    "duration": 19,
    "start_time": "2021-10-17T19:54:15.714Z"
   },
   {
    "duration": 360,
    "start_time": "2021-10-17T19:54:15.828Z"
   },
   {
    "duration": 182,
    "start_time": "2021-10-17T19:54:16.234Z"
   },
   {
    "duration": 441,
    "start_time": "2021-10-17T19:54:16.427Z"
   },
   {
    "duration": 20,
    "start_time": "2021-10-17T19:54:16.871Z"
   },
   {
    "duration": 10,
    "start_time": "2021-10-17T19:54:16.894Z"
   },
   {
    "duration": 442,
    "start_time": "2021-10-17T19:54:17.541Z"
   },
   {
    "duration": 338,
    "start_time": "2021-10-17T19:56:00.972Z"
   },
   {
    "duration": 29,
    "start_time": "2021-10-17T19:56:01.464Z"
   },
   {
    "duration": 15,
    "start_time": "2021-10-17T19:56:03.081Z"
   },
   {
    "duration": 620,
    "start_time": "2021-10-17T19:56:03.435Z"
   },
   {
    "duration": 441,
    "start_time": "2021-10-17T19:57:04.753Z"
   },
   {
    "duration": 4,
    "start_time": "2021-10-17T19:57:08.840Z"
   },
   {
    "duration": 254,
    "start_time": "2021-10-17T19:57:10.195Z"
   },
   {
    "duration": 17,
    "start_time": "2021-10-17T19:57:15.353Z"
   },
   {
    "duration": 15,
    "start_time": "2021-10-17T19:57:15.560Z"
   },
   {
    "duration": 9,
    "start_time": "2021-10-17T19:57:15.726Z"
   },
   {
    "duration": 10,
    "start_time": "2021-10-17T19:57:15.847Z"
   },
   {
    "duration": 6,
    "start_time": "2021-10-17T19:57:15.965Z"
   },
   {
    "duration": 22,
    "start_time": "2021-10-17T19:57:16.055Z"
   },
   {
    "duration": 13,
    "start_time": "2021-10-17T19:57:16.242Z"
   },
   {
    "duration": 6,
    "start_time": "2021-10-17T19:57:16.611Z"
   },
   {
    "duration": 6,
    "start_time": "2021-10-17T19:57:16.954Z"
   },
   {
    "duration": 6,
    "start_time": "2021-10-17T19:57:17.165Z"
   },
   {
    "duration": 6,
    "start_time": "2021-10-17T19:57:17.308Z"
   },
   {
    "duration": 15,
    "start_time": "2021-10-17T19:57:17.414Z"
   },
   {
    "duration": 9,
    "start_time": "2021-10-17T19:57:17.558Z"
   },
   {
    "duration": 12,
    "start_time": "2021-10-17T19:57:17.724Z"
   },
   {
    "duration": 29,
    "start_time": "2021-10-17T19:57:18.098Z"
   },
   {
    "duration": 27,
    "start_time": "2021-10-17T19:57:18.240Z"
   },
   {
    "duration": 10,
    "start_time": "2021-10-17T19:57:18.376Z"
   },
   {
    "duration": 9,
    "start_time": "2021-10-17T19:57:18.555Z"
   },
   {
    "duration": 748,
    "start_time": "2021-10-17T19:57:19.524Z"
   },
   {
    "duration": 33,
    "start_time": "2021-10-17T19:57:20.274Z"
   },
   {
    "duration": 18,
    "start_time": "2021-10-17T19:57:20.311Z"
   },
   {
    "duration": 49,
    "start_time": "2021-10-17T19:57:20.332Z"
   },
   {
    "duration": 372,
    "start_time": "2021-10-17T19:57:20.395Z"
   },
   {
    "duration": 233,
    "start_time": "2021-10-17T19:57:20.770Z"
   },
   {
    "duration": 342,
    "start_time": "2021-10-17T19:57:21.007Z"
   },
   {
    "duration": 30,
    "start_time": "2021-10-17T19:57:21.351Z"
   },
   {
    "duration": 16,
    "start_time": "2021-10-17T19:57:21.383Z"
   },
   {
    "duration": 469,
    "start_time": "2021-10-17T19:57:21.401Z"
   },
   {
    "duration": 443,
    "start_time": "2021-10-17T19:57:21.873Z"
   },
   {
    "duration": 424,
    "start_time": "2021-10-17T19:57:28.248Z"
   },
   {
    "duration": 549,
    "start_time": "2021-10-17T19:57:30.906Z"
   },
   {
    "duration": 6,
    "start_time": "2021-10-17T19:58:00.198Z"
   },
   {
    "duration": 5,
    "start_time": "2021-10-17T20:02:08.461Z"
   },
   {
    "duration": 200,
    "start_time": "2021-10-17T20:02:09.960Z"
   },
   {
    "duration": 18,
    "start_time": "2021-10-17T20:02:10.380Z"
   },
   {
    "duration": 17,
    "start_time": "2021-10-17T20:02:10.508Z"
   },
   {
    "duration": 11,
    "start_time": "2021-10-17T20:02:10.636Z"
   },
   {
    "duration": 12,
    "start_time": "2021-10-17T20:02:10.791Z"
   },
   {
    "duration": 6,
    "start_time": "2021-10-17T20:02:10.911Z"
   },
   {
    "duration": 24,
    "start_time": "2021-10-17T20:02:11.148Z"
   },
   {
    "duration": 16,
    "start_time": "2021-10-17T20:02:11.273Z"
   },
   {
    "duration": 5,
    "start_time": "2021-10-17T20:02:11.551Z"
   },
   {
    "duration": 6,
    "start_time": "2021-10-17T20:02:11.668Z"
   },
   {
    "duration": 5,
    "start_time": "2021-10-17T20:02:11.808Z"
   },
   {
    "duration": 6,
    "start_time": "2021-10-17T20:02:11.888Z"
   },
   {
    "duration": 16,
    "start_time": "2021-10-17T20:02:12.028Z"
   },
   {
    "duration": 9,
    "start_time": "2021-10-17T20:02:12.147Z"
   },
   {
    "duration": 12,
    "start_time": "2021-10-17T20:02:12.289Z"
   },
   {
    "duration": 31,
    "start_time": "2021-10-17T20:02:12.570Z"
   },
   {
    "duration": 28,
    "start_time": "2021-10-17T20:02:12.642Z"
   },
   {
    "duration": 10,
    "start_time": "2021-10-17T20:02:12.774Z"
   },
   {
    "duration": 9,
    "start_time": "2021-10-17T20:02:12.923Z"
   },
   {
    "duration": 721,
    "start_time": "2021-10-17T20:02:13.747Z"
   },
   {
    "duration": 34,
    "start_time": "2021-10-17T20:02:14.471Z"
   },
   {
    "duration": 26,
    "start_time": "2021-10-17T20:02:14.508Z"
   },
   {
    "duration": 19,
    "start_time": "2021-10-17T20:02:14.565Z"
   },
   {
    "duration": 367,
    "start_time": "2021-10-17T20:02:14.839Z"
   },
   {
    "duration": 261,
    "start_time": "2021-10-17T20:02:15.209Z"
   },
   {
    "duration": 367,
    "start_time": "2021-10-17T20:02:15.473Z"
   },
   {
    "duration": 34,
    "start_time": "2021-10-17T20:02:15.842Z"
   },
   {
    "duration": 12,
    "start_time": "2021-10-17T20:02:15.878Z"
   },
   {
    "duration": 453,
    "start_time": "2021-10-17T20:02:15.893Z"
   },
   {
    "duration": 413,
    "start_time": "2021-10-17T20:02:16.509Z"
   },
   {
    "duration": 529,
    "start_time": "2021-10-17T20:02:17.858Z"
   },
   {
    "duration": 558,
    "start_time": "2021-10-17T20:02:33.371Z"
   },
   {
    "duration": 25,
    "start_time": "2021-10-17T20:02:38.857Z"
   },
   {
    "duration": 408,
    "start_time": "2021-10-17T20:02:39.417Z"
   },
   {
    "duration": 7,
    "start_time": "2021-10-17T20:02:40.874Z"
   },
   {
    "duration": 399,
    "start_time": "2021-10-17T20:02:59.688Z"
   },
   {
    "duration": 6,
    "start_time": "2021-10-17T20:03:01.274Z"
   },
   {
    "duration": 23526,
    "start_time": "2021-10-17T20:03:45.111Z"
   },
   {
    "duration": 216,
    "start_time": "2021-10-17T20:04:11.673Z"
   },
   {
    "duration": 1858,
    "start_time": "2021-10-17T20:04:45.886Z"
   },
   {
    "duration": 1394,
    "start_time": "2021-10-17T20:05:11.953Z"
   },
   {
    "duration": 230,
    "start_time": "2021-10-17T20:05:13.350Z"
   },
   {
    "duration": 23,
    "start_time": "2021-10-17T20:05:13.583Z"
   },
   {
    "duration": 15,
    "start_time": "2021-10-17T20:05:13.609Z"
   },
   {
    "duration": 40,
    "start_time": "2021-10-17T20:05:13.627Z"
   },
   {
    "duration": 10,
    "start_time": "2021-10-17T20:05:13.669Z"
   },
   {
    "duration": 7,
    "start_time": "2021-10-17T20:05:13.682Z"
   },
   {
    "duration": 32,
    "start_time": "2021-10-17T20:05:13.693Z"
   },
   {
    "duration": 47,
    "start_time": "2021-10-17T20:05:13.730Z"
   },
   {
    "duration": 5,
    "start_time": "2021-10-17T20:05:13.779Z"
   },
   {
    "duration": 7,
    "start_time": "2021-10-17T20:05:13.787Z"
   },
   {
    "duration": 7,
    "start_time": "2021-10-17T20:05:13.797Z"
   },
   {
    "duration": 8,
    "start_time": "2021-10-17T20:05:13.806Z"
   },
   {
    "duration": 57,
    "start_time": "2021-10-17T20:05:13.816Z"
   },
   {
    "duration": 11,
    "start_time": "2021-10-17T20:05:13.876Z"
   },
   {
    "duration": 15,
    "start_time": "2021-10-17T20:05:13.890Z"
   },
   {
    "duration": 69,
    "start_time": "2021-10-17T20:05:13.908Z"
   },
   {
    "duration": 29,
    "start_time": "2021-10-17T20:05:13.980Z"
   },
   {
    "duration": 9,
    "start_time": "2021-10-17T20:05:14.012Z"
   },
   {
    "duration": 9,
    "start_time": "2021-10-17T20:05:14.024Z"
   },
   {
    "duration": 725,
    "start_time": "2021-10-17T20:05:14.068Z"
   },
   {
    "duration": 31,
    "start_time": "2021-10-17T20:05:14.796Z"
   },
   {
    "duration": 39,
    "start_time": "2021-10-17T20:05:14.832Z"
   },
   {
    "duration": 19,
    "start_time": "2021-10-17T20:05:14.874Z"
   },
   {
    "duration": 371,
    "start_time": "2021-10-17T20:05:14.896Z"
   },
   {
    "duration": 192,
    "start_time": "2021-10-17T20:05:15.269Z"
   },
   {
    "duration": 358,
    "start_time": "2021-10-17T20:05:15.464Z"
   },
   {
    "duration": 20,
    "start_time": "2021-10-17T20:05:15.824Z"
   },
   {
    "duration": 29,
    "start_time": "2021-10-17T20:05:15.847Z"
   },
   {
    "duration": 459,
    "start_time": "2021-10-17T20:05:15.878Z"
   },
   {
    "duration": 425,
    "start_time": "2021-10-17T20:05:16.340Z"
   },
   {
    "duration": 430,
    "start_time": "2021-10-17T20:05:16.767Z"
   },
   {
    "duration": 704,
    "start_time": "2021-10-17T20:05:17.199Z"
   },
   {
    "duration": 41,
    "start_time": "2021-10-17T20:05:17.907Z"
   },
   {
    "duration": 487,
    "start_time": "2021-10-17T20:05:17.966Z"
   },
   {
    "duration": 15,
    "start_time": "2021-10-17T20:05:18.456Z"
   },
   {
    "duration": 441,
    "start_time": "2021-10-17T20:05:18.473Z"
   },
   {
    "duration": 6,
    "start_time": "2021-10-17T20:05:18.917Z"
   },
   {
    "duration": 24029,
    "start_time": "2021-10-17T20:05:18.925Z"
   },
   {
    "duration": 261,
    "start_time": "2021-10-17T20:05:42.956Z"
   },
   {
    "duration": 305,
    "start_time": "2021-10-17T20:08:34.298Z"
   },
   {
    "duration": 256,
    "start_time": "2021-10-17T20:12:23.331Z"
   },
   {
    "duration": 1377,
    "start_time": "2021-10-17T20:12:40.018Z"
   },
   {
    "duration": 195,
    "start_time": "2021-10-17T20:12:41.398Z"
   },
   {
    "duration": 23,
    "start_time": "2021-10-17T20:12:41.596Z"
   },
   {
    "duration": 16,
    "start_time": "2021-10-17T20:12:41.622Z"
   },
   {
    "duration": 26,
    "start_time": "2021-10-17T20:12:41.641Z"
   },
   {
    "duration": 13,
    "start_time": "2021-10-17T20:12:41.671Z"
   },
   {
    "duration": 5,
    "start_time": "2021-10-17T20:12:42.539Z"
   },
   {
    "duration": 23,
    "start_time": "2021-10-17T20:12:42.824Z"
   },
   {
    "duration": 14,
    "start_time": "2021-10-17T20:12:42.984Z"
   },
   {
    "duration": 6,
    "start_time": "2021-10-17T20:12:43.421Z"
   },
   {
    "duration": 7,
    "start_time": "2021-10-17T20:12:43.624Z"
   },
   {
    "duration": 6,
    "start_time": "2021-10-17T20:12:43.906Z"
   },
   {
    "duration": 7,
    "start_time": "2021-10-17T20:12:44.097Z"
   },
   {
    "duration": 16,
    "start_time": "2021-10-17T20:12:44.238Z"
   },
   {
    "duration": 10,
    "start_time": "2021-10-17T20:12:44.456Z"
   },
   {
    "duration": 11,
    "start_time": "2021-10-17T20:12:44.626Z"
   },
   {
    "duration": 30,
    "start_time": "2021-10-17T20:12:44.993Z"
   },
   {
    "duration": 27,
    "start_time": "2021-10-17T20:12:45.071Z"
   },
   {
    "duration": 10,
    "start_time": "2021-10-17T20:12:45.178Z"
   },
   {
    "duration": 9,
    "start_time": "2021-10-17T20:12:45.305Z"
   },
   {
    "duration": 711,
    "start_time": "2021-10-17T20:12:45.897Z"
   },
   {
    "duration": 33,
    "start_time": "2021-10-17T20:12:46.610Z"
   },
   {
    "duration": 35,
    "start_time": "2021-10-17T20:12:46.646Z"
   },
   {
    "duration": 19,
    "start_time": "2021-10-17T20:12:46.874Z"
   },
   {
    "duration": 382,
    "start_time": "2021-10-17T20:12:46.994Z"
   },
   {
    "duration": 182,
    "start_time": "2021-10-17T20:12:47.777Z"
   },
   {
    "duration": 423,
    "start_time": "2021-10-17T20:12:48.265Z"
   },
   {
    "duration": 20,
    "start_time": "2021-10-17T20:12:48.691Z"
   },
   {
    "duration": 10,
    "start_time": "2021-10-17T20:12:49.015Z"
   },
   {
    "duration": 447,
    "start_time": "2021-10-17T20:12:49.543Z"
   },
   {
    "duration": 433,
    "start_time": "2021-10-17T20:12:50.912Z"
   },
   {
    "duration": 422,
    "start_time": "2021-10-17T20:12:52.745Z"
   },
   {
    "duration": 560,
    "start_time": "2021-10-17T20:12:58.826Z"
   },
   {
    "duration": 24,
    "start_time": "2021-10-17T20:13:01.337Z"
   },
   {
    "duration": 394,
    "start_time": "2021-10-17T20:13:01.915Z"
   },
   {
    "duration": 6,
    "start_time": "2021-10-17T20:13:03.652Z"
   },
   {
    "duration": 410,
    "start_time": "2021-10-17T20:13:05.698Z"
   },
   {
    "duration": 6,
    "start_time": "2021-10-17T20:13:06.710Z"
   },
   {
    "duration": 6,
    "start_time": "2021-10-17T20:13:08.394Z"
   },
   {
    "duration": 25,
    "start_time": "2021-10-17T20:13:16.385Z"
   },
   {
    "duration": 1424,
    "start_time": "2021-10-17T20:15:55.437Z"
   },
   {
    "duration": 253,
    "start_time": "2021-10-17T20:15:56.866Z"
   },
   {
    "duration": 23,
    "start_time": "2021-10-17T20:15:57.122Z"
   },
   {
    "duration": 14,
    "start_time": "2021-10-17T20:15:57.148Z"
   },
   {
    "duration": 10,
    "start_time": "2021-10-17T20:15:57.165Z"
   },
   {
    "duration": 11,
    "start_time": "2021-10-17T20:15:57.178Z"
   },
   {
    "duration": 5,
    "start_time": "2021-10-17T20:15:57.192Z"
   },
   {
    "duration": 24,
    "start_time": "2021-10-17T20:15:57.201Z"
   },
   {
    "duration": 52,
    "start_time": "2021-10-17T20:15:57.227Z"
   },
   {
    "duration": 6,
    "start_time": "2021-10-17T20:15:57.432Z"
   },
   {
    "duration": 7,
    "start_time": "2021-10-17T20:15:57.669Z"
   },
   {
    "duration": 6,
    "start_time": "2021-10-17T20:15:57.811Z"
   },
   {
    "duration": 8,
    "start_time": "2021-10-17T20:15:58.190Z"
   },
   {
    "duration": 16,
    "start_time": "2021-10-17T20:15:58.383Z"
   },
   {
    "duration": 10,
    "start_time": "2021-10-17T20:15:58.515Z"
   },
   {
    "duration": 12,
    "start_time": "2021-10-17T20:15:58.770Z"
   },
   {
    "duration": 30,
    "start_time": "2021-10-17T20:15:59.214Z"
   },
   {
    "duration": 28,
    "start_time": "2021-10-17T20:15:59.354Z"
   },
   {
    "duration": 9,
    "start_time": "2021-10-17T20:15:59.571Z"
   },
   {
    "duration": 9,
    "start_time": "2021-10-17T20:15:59.715Z"
   },
   {
    "duration": 706,
    "start_time": "2021-10-17T20:16:00.667Z"
   },
   {
    "duration": 34,
    "start_time": "2021-10-17T20:16:01.375Z"
   },
   {
    "duration": 25,
    "start_time": "2021-10-17T20:16:01.413Z"
   },
   {
    "duration": 20,
    "start_time": "2021-10-17T20:16:01.467Z"
   },
   {
    "duration": 352,
    "start_time": "2021-10-17T20:16:01.737Z"
   },
   {
    "duration": 202,
    "start_time": "2021-10-17T20:16:02.093Z"
   },
   {
    "duration": 344,
    "start_time": "2021-10-17T20:16:02.298Z"
   },
   {
    "duration": 30,
    "start_time": "2021-10-17T20:16:02.645Z"
   },
   {
    "duration": 22,
    "start_time": "2021-10-17T20:16:02.678Z"
   },
   {
    "duration": 546,
    "start_time": "2021-10-17T20:16:02.703Z"
   },
   {
    "duration": 594,
    "start_time": "2021-10-17T20:16:03.429Z"
   },
   {
    "duration": 625,
    "start_time": "2021-10-17T20:16:04.026Z"
   },
   {
    "duration": 561,
    "start_time": "2021-10-17T20:16:04.654Z"
   },
   {
    "duration": 25,
    "start_time": "2021-10-17T20:16:05.338Z"
   },
   {
    "duration": 420,
    "start_time": "2021-10-17T20:16:05.547Z"
   },
   {
    "duration": 5,
    "start_time": "2021-10-17T20:16:06.070Z"
   },
   {
    "duration": 396,
    "start_time": "2021-10-17T20:16:07.219Z"
   },
   {
    "duration": 6,
    "start_time": "2021-10-17T20:16:07.857Z"
   },
   {
    "duration": 373,
    "start_time": "2021-10-17T20:16:08.463Z"
   },
   {
    "duration": 10997,
    "start_time": "2021-10-17T20:16:09.396Z"
   },
   {
    "duration": 128143,
    "start_time": "2021-10-17T20:14:12.254Z"
   },
   {
    "duration": 128140,
    "start_time": "2021-10-17T20:14:12.260Z"
   },
   {
    "duration": 128137,
    "start_time": "2021-10-17T20:14:12.265Z"
   },
   {
    "duration": 8,
    "start_time": "2021-10-17T20:16:23.978Z"
   },
   {
    "duration": 23881,
    "start_time": "2021-10-17T20:16:25.862Z"
   },
   {
    "duration": 262,
    "start_time": "2021-10-17T20:17:03.349Z"
   },
   {
    "duration": 1041,
    "start_time": "2021-10-18T19:28:12.623Z"
   },
   {
    "duration": 303,
    "start_time": "2021-10-18T19:28:13.665Z"
   },
   {
    "duration": 26,
    "start_time": "2021-10-18T19:28:13.970Z"
   },
   {
    "duration": 11,
    "start_time": "2021-10-18T19:28:13.998Z"
   },
   {
    "duration": 9,
    "start_time": "2021-10-18T19:28:14.011Z"
   },
   {
    "duration": 8,
    "start_time": "2021-10-18T19:28:14.312Z"
   },
   {
    "duration": 4,
    "start_time": "2021-10-18T19:28:14.901Z"
   },
   {
    "duration": 16,
    "start_time": "2021-10-18T19:28:15.140Z"
   },
   {
    "duration": 9,
    "start_time": "2021-10-18T19:28:15.363Z"
   },
   {
    "duration": 3,
    "start_time": "2021-10-18T19:28:15.852Z"
   },
   {
    "duration": 4,
    "start_time": "2021-10-18T19:28:16.086Z"
   },
   {
    "duration": 4,
    "start_time": "2021-10-18T19:28:16.342Z"
   },
   {
    "duration": 4,
    "start_time": "2021-10-18T19:28:16.747Z"
   },
   {
    "duration": 11,
    "start_time": "2021-10-18T19:28:17.049Z"
   },
   {
    "duration": 8,
    "start_time": "2021-10-18T19:28:17.319Z"
   },
   {
    "duration": 8,
    "start_time": "2021-10-18T19:28:17.451Z"
   },
   {
    "duration": 19,
    "start_time": "2021-10-18T19:28:17.893Z"
   },
   {
    "duration": 32,
    "start_time": "2021-10-18T19:28:18.133Z"
   },
   {
    "duration": 18,
    "start_time": "2021-10-18T19:28:18.358Z"
   },
   {
    "duration": 8,
    "start_time": "2021-10-18T19:28:18.686Z"
   },
   {
    "duration": 366,
    "start_time": "2021-10-18T19:28:20.067Z"
   },
   {
    "duration": 20,
    "start_time": "2021-10-18T19:28:20.435Z"
   },
   {
    "duration": 13,
    "start_time": "2021-10-18T19:28:20.646Z"
   },
   {
    "duration": 13,
    "start_time": "2021-10-18T19:28:21.357Z"
   },
   {
    "duration": 183,
    "start_time": "2021-10-18T19:28:21.530Z"
   },
   {
    "duration": 101,
    "start_time": "2021-10-18T19:28:21.813Z"
   },
   {
    "duration": 185,
    "start_time": "2021-10-18T19:28:22.071Z"
   },
   {
    "duration": 13,
    "start_time": "2021-10-18T19:28:22.306Z"
   },
   {
    "duration": 7,
    "start_time": "2021-10-18T19:28:22.705Z"
   },
   {
    "duration": 243,
    "start_time": "2021-10-18T19:28:22.939Z"
   },
   {
    "duration": 234,
    "start_time": "2021-10-18T19:28:23.638Z"
   },
   {
    "duration": 248,
    "start_time": "2021-10-18T19:28:24.235Z"
   },
   {
    "duration": 362,
    "start_time": "2021-10-18T19:28:25.129Z"
   },
   {
    "duration": 15,
    "start_time": "2021-10-18T19:28:26.438Z"
   },
   {
    "duration": 248,
    "start_time": "2021-10-18T19:28:26.656Z"
   },
   {
    "duration": 4,
    "start_time": "2021-10-18T19:28:27.109Z"
   },
   {
    "duration": 219,
    "start_time": "2021-10-18T19:28:28.348Z"
   },
   {
    "duration": 4,
    "start_time": "2021-10-18T19:28:46.039Z"
   },
   {
    "duration": 4,
    "start_time": "2021-10-18T19:29:06.086Z"
   },
   {
    "duration": 14079,
    "start_time": "2021-10-18T19:29:07.643Z"
   },
   {
    "duration": 123,
    "start_time": "2021-10-18T19:29:21.723Z"
   },
   {
    "duration": 1225,
    "start_time": "2021-10-18T19:57:00.583Z"
   },
   {
    "duration": 452,
    "start_time": "2021-10-18T19:57:01.810Z"
   },
   {
    "duration": 19,
    "start_time": "2021-10-18T19:57:02.264Z"
   },
   {
    "duration": 16,
    "start_time": "2021-10-18T19:57:02.286Z"
   },
   {
    "duration": 13,
    "start_time": "2021-10-18T19:57:02.304Z"
   },
   {
    "duration": 16,
    "start_time": "2021-10-18T19:57:02.319Z"
   },
   {
    "duration": 12,
    "start_time": "2021-10-18T19:57:02.337Z"
   },
   {
    "duration": 33,
    "start_time": "2021-10-18T19:57:02.350Z"
   },
   {
    "duration": 9,
    "start_time": "2021-10-18T19:57:02.433Z"
   },
   {
    "duration": 4,
    "start_time": "2021-10-18T19:57:02.839Z"
   },
   {
    "duration": 4,
    "start_time": "2021-10-18T19:57:03.256Z"
   },
   {
    "duration": 3,
    "start_time": "2021-10-18T19:57:03.904Z"
   },
   {
    "duration": 4,
    "start_time": "2021-10-18T19:57:04.762Z"
   },
   {
    "duration": 9,
    "start_time": "2021-10-18T19:57:04.960Z"
   },
   {
    "duration": 7,
    "start_time": "2021-10-18T19:57:05.138Z"
   },
   {
    "duration": 7,
    "start_time": "2021-10-18T19:57:05.445Z"
   },
   {
    "duration": 18,
    "start_time": "2021-10-18T19:57:06.696Z"
   },
   {
    "duration": 18,
    "start_time": "2021-10-18T19:57:07.442Z"
   },
   {
    "duration": 9,
    "start_time": "2021-10-18T19:57:07.963Z"
   },
   {
    "duration": 7,
    "start_time": "2021-10-18T19:57:08.435Z"
   },
   {
    "duration": 501,
    "start_time": "2021-10-18T19:57:17.284Z"
   },
   {
    "duration": 10,
    "start_time": "2021-10-18T19:57:56.302Z"
   },
   {
    "duration": 8529,
    "start_time": "2021-10-18T19:58:00.121Z"
   },
   {
    "duration": 321,
    "start_time": "2021-10-18T19:58:37.061Z"
   },
   {
    "duration": 4,
    "start_time": "2021-10-18T19:58:50.731Z"
   },
   {
    "duration": 242,
    "start_time": "2021-10-18T19:58:51.393Z"
   },
   {
    "duration": 13,
    "start_time": "2021-10-18T19:58:51.973Z"
   },
   {
    "duration": 1109,
    "start_time": "2021-10-18T20:00:06.044Z"
   },
   {
    "duration": 257,
    "start_time": "2021-10-18T20:00:08.863Z"
   },
   {
    "duration": 21,
    "start_time": "2021-10-18T20:00:09.191Z"
   },
   {
    "duration": 13,
    "start_time": "2021-10-18T20:00:09.807Z"
   },
   {
    "duration": 9,
    "start_time": "2021-10-18T20:00:09.966Z"
   },
   {
    "duration": 8,
    "start_time": "2021-10-18T20:00:10.207Z"
   },
   {
    "duration": 4,
    "start_time": "2021-10-18T20:00:10.355Z"
   },
   {
    "duration": 15,
    "start_time": "2021-10-18T20:00:10.477Z"
   },
   {
    "duration": 10,
    "start_time": "2021-10-18T20:00:10.744Z"
   },
   {
    "duration": 4,
    "start_time": "2021-10-18T20:00:11.185Z"
   },
   {
    "duration": 4,
    "start_time": "2021-10-18T20:00:11.333Z"
   },
   {
    "duration": 5,
    "start_time": "2021-10-18T20:00:11.596Z"
   },
   {
    "duration": 5,
    "start_time": "2021-10-18T20:00:11.804Z"
   },
   {
    "duration": 10,
    "start_time": "2021-10-18T20:00:12.033Z"
   },
   {
    "duration": 8,
    "start_time": "2021-10-18T20:00:12.234Z"
   },
   {
    "duration": 9,
    "start_time": "2021-10-18T20:00:12.537Z"
   },
   {
    "duration": 20,
    "start_time": "2021-10-18T20:00:12.953Z"
   },
   {
    "duration": 17,
    "start_time": "2021-10-18T20:00:13.156Z"
   },
   {
    "duration": 6,
    "start_time": "2021-10-18T20:00:13.358Z"
   },
   {
    "duration": 7,
    "start_time": "2021-10-18T20:00:13.688Z"
   },
   {
    "duration": 350,
    "start_time": "2021-10-18T20:00:14.916Z"
   },
   {
    "duration": 25,
    "start_time": "2021-10-18T20:00:15.268Z"
   },
   {
    "duration": 22,
    "start_time": "2021-10-18T20:00:20.812Z"
   },
   {
    "duration": 444,
    "start_time": "2021-10-18T20:00:37.466Z"
   },
   {
    "duration": 3,
    "start_time": "2021-10-18T20:00:50.687Z"
   },
   {
    "duration": 355,
    "start_time": "2021-10-18T20:00:50.971Z"
   },
   {
    "duration": 11,
    "start_time": "2021-10-18T20:00:51.328Z"
   },
   {
    "duration": 10,
    "start_time": "2021-10-18T20:00:51.400Z"
   },
   {
    "duration": 7,
    "start_time": "2021-10-18T20:00:51.511Z"
   },
   {
    "duration": 7,
    "start_time": "2021-10-18T20:00:51.667Z"
   },
   {
    "duration": 4,
    "start_time": "2021-10-18T20:00:51.929Z"
   },
   {
    "duration": 14,
    "start_time": "2021-10-18T20:00:52.007Z"
   },
   {
    "duration": 10,
    "start_time": "2021-10-18T20:00:52.094Z"
   },
   {
    "duration": 4,
    "start_time": "2021-10-18T20:00:52.386Z"
   },
   {
    "duration": 6,
    "start_time": "2021-10-18T20:00:52.490Z"
   },
   {
    "duration": 3,
    "start_time": "2021-10-18T20:00:52.724Z"
   },
   {
    "duration": 4,
    "start_time": "2021-10-18T20:00:52.864Z"
   },
   {
    "duration": 10,
    "start_time": "2021-10-18T20:00:52.959Z"
   },
   {
    "duration": 7,
    "start_time": "2021-10-18T20:00:53.119Z"
   },
   {
    "duration": 8,
    "start_time": "2021-10-18T20:00:53.266Z"
   },
   {
    "duration": 19,
    "start_time": "2021-10-18T20:00:53.482Z"
   },
   {
    "duration": 19,
    "start_time": "2021-10-18T20:00:53.742Z"
   },
   {
    "duration": 9,
    "start_time": "2021-10-18T20:00:55.198Z"
   },
   {
    "duration": 7,
    "start_time": "2021-10-18T20:00:58.002Z"
   },
   {
    "duration": 340,
    "start_time": "2021-10-18T20:00:59.782Z"
   },
   {
    "duration": 20,
    "start_time": "2021-10-18T20:01:00.184Z"
   },
   {
    "duration": 13,
    "start_time": "2021-10-18T20:01:00.831Z"
   },
   {
    "duration": 12,
    "start_time": "2021-10-18T20:01:03.172Z"
   },
   {
    "duration": 184,
    "start_time": "2021-10-18T20:01:03.537Z"
   },
   {
    "duration": 105,
    "start_time": "2021-10-18T20:01:04.088Z"
   },
   {
    "duration": 14587,
    "start_time": "2021-10-18T20:01:23.974Z"
   },
   {
    "duration": 149,
    "start_time": "2021-10-18T20:01:38.563Z"
   },
   {
    "duration": 1047,
    "start_time": "2021-10-18T20:09:47.238Z"
   },
   {
    "duration": 288,
    "start_time": "2021-10-18T20:09:48.288Z"
   },
   {
    "duration": 22,
    "start_time": "2021-10-18T20:09:48.579Z"
   },
   {
    "duration": 11,
    "start_time": "2021-10-18T20:09:48.604Z"
   },
   {
    "duration": 7,
    "start_time": "2021-10-18T20:09:48.617Z"
   },
   {
    "duration": 8,
    "start_time": "2021-10-18T20:09:48.626Z"
   },
   {
    "duration": 4,
    "start_time": "2021-10-18T20:09:48.636Z"
   },
   {
    "duration": 51,
    "start_time": "2021-10-18T20:09:48.643Z"
   },
   {
    "duration": 9,
    "start_time": "2021-10-18T20:09:48.695Z"
   },
   {
    "duration": 3,
    "start_time": "2021-10-18T20:09:48.706Z"
   },
   {
    "duration": 5,
    "start_time": "2021-10-18T20:09:48.711Z"
   },
   {
    "duration": 4,
    "start_time": "2021-10-18T20:09:48.745Z"
   },
   {
    "duration": 5,
    "start_time": "2021-10-18T20:09:48.867Z"
   },
   {
    "duration": 11,
    "start_time": "2021-10-18T20:09:48.990Z"
   },
   {
    "duration": 7,
    "start_time": "2021-10-18T20:09:49.112Z"
   },
   {
    "duration": 8,
    "start_time": "2021-10-18T20:09:49.219Z"
   },
   {
    "duration": 20,
    "start_time": "2021-10-18T20:09:49.637Z"
   },
   {
    "duration": 17,
    "start_time": "2021-10-18T20:09:49.725Z"
   },
   {
    "duration": 7,
    "start_time": "2021-10-18T20:09:49.838Z"
   },
   {
    "duration": 7,
    "start_time": "2021-10-18T20:09:49.991Z"
   },
   {
    "duration": 377,
    "start_time": "2021-10-18T20:09:50.897Z"
   },
   {
    "duration": 25,
    "start_time": "2021-10-18T20:09:51.276Z"
   },
   {
    "duration": 11,
    "start_time": "2021-10-18T20:09:51.414Z"
   },
   {
    "duration": 13,
    "start_time": "2021-10-18T20:09:51.834Z"
   },
   {
    "duration": 204,
    "start_time": "2021-10-18T20:09:52.084Z"
   },
   {
    "duration": 139,
    "start_time": "2021-10-18T20:09:52.290Z"
   },
   {
    "duration": 210,
    "start_time": "2021-10-18T20:09:52.431Z"
   },
   {
    "duration": 13,
    "start_time": "2021-10-18T20:09:52.643Z"
   },
   {
    "duration": 26,
    "start_time": "2021-10-18T20:09:52.657Z"
   },
   {
    "duration": 255,
    "start_time": "2021-10-18T20:09:52.733Z"
   },
   {
    "duration": 252,
    "start_time": "2021-10-18T20:09:53.182Z"
   },
   {
    "duration": 247,
    "start_time": "2021-10-18T20:09:53.606Z"
   },
   {
    "duration": 434,
    "start_time": "2021-10-18T20:09:54.279Z"
   },
   {
    "duration": 20,
    "start_time": "2021-10-18T20:09:55.578Z"
   },
   {
    "duration": 258,
    "start_time": "2021-10-18T20:09:56.057Z"
   },
   {
    "duration": 6,
    "start_time": "2021-10-18T20:09:56.776Z"
   },
   {
    "duration": 257,
    "start_time": "2021-10-18T20:09:58.147Z"
   },
   {
    "duration": 4,
    "start_time": "2021-10-18T20:09:58.903Z"
   },
   {
    "duration": 4,
    "start_time": "2021-10-18T20:09:59.705Z"
   },
   {
    "duration": 23,
    "start_time": "2021-10-18T20:10:00.837Z"
   },
   {
    "duration": 444,
    "start_time": "2021-10-18T20:10:01.654Z"
   },
   {
    "duration": 14667,
    "start_time": "2021-10-18T20:11:22.789Z"
   },
   {
    "duration": 148,
    "start_time": "2021-10-18T20:12:00.565Z"
   },
   {
    "duration": 363,
    "start_time": "2021-10-18T20:12:37.087Z"
   },
   {
    "duration": 372,
    "start_time": "2021-10-18T20:13:05.153Z"
   },
   {
    "duration": 1132,
    "start_time": "2021-10-18T20:13:11.546Z"
   },
   {
    "duration": 341,
    "start_time": "2021-10-18T20:13:12.680Z"
   },
   {
    "duration": 13,
    "start_time": "2021-10-18T20:13:13.024Z"
   },
   {
    "duration": 10,
    "start_time": "2021-10-18T20:13:13.039Z"
   },
   {
    "duration": 16,
    "start_time": "2021-10-18T20:13:13.051Z"
   },
   {
    "duration": 18,
    "start_time": "2021-10-18T20:13:13.068Z"
   },
   {
    "duration": 4,
    "start_time": "2021-10-18T20:13:13.088Z"
   },
   {
    "duration": 19,
    "start_time": "2021-10-18T20:13:13.094Z"
   },
   {
    "duration": 15,
    "start_time": "2021-10-18T20:13:13.280Z"
   },
   {
    "duration": 4,
    "start_time": "2021-10-18T20:13:13.747Z"
   },
   {
    "duration": 5,
    "start_time": "2021-10-18T20:13:13.859Z"
   },
   {
    "duration": 5,
    "start_time": "2021-10-18T20:13:13.976Z"
   },
   {
    "duration": 4,
    "start_time": "2021-10-18T20:13:14.157Z"
   },
   {
    "duration": 11,
    "start_time": "2021-10-18T20:13:14.233Z"
   },
   {
    "duration": 8,
    "start_time": "2021-10-18T20:13:14.375Z"
   },
   {
    "duration": 8,
    "start_time": "2021-10-18T20:13:14.500Z"
   },
   {
    "duration": 23,
    "start_time": "2021-10-18T20:13:14.782Z"
   },
   {
    "duration": 21,
    "start_time": "2021-10-18T20:13:14.864Z"
   },
   {
    "duration": 7,
    "start_time": "2021-10-18T20:13:15.129Z"
   },
   {
    "duration": 7,
    "start_time": "2021-10-18T20:13:15.259Z"
   },
   {
    "duration": 404,
    "start_time": "2021-10-18T20:13:16.036Z"
   },
   {
    "duration": 19,
    "start_time": "2021-10-18T20:13:16.442Z"
   },
   {
    "duration": 26,
    "start_time": "2021-10-18T20:13:16.463Z"
   },
   {
    "duration": 11,
    "start_time": "2021-10-18T20:13:16.762Z"
   },
   {
    "duration": 229,
    "start_time": "2021-10-18T20:13:16.974Z"
   },
   {
    "duration": 138,
    "start_time": "2021-10-18T20:13:17.205Z"
   },
   {
    "duration": 226,
    "start_time": "2021-10-18T20:13:17.345Z"
   },
   {
    "duration": 28,
    "start_time": "2021-10-18T20:13:17.573Z"
   },
   {
    "duration": 9,
    "start_time": "2021-10-18T20:13:17.604Z"
   },
   {
    "duration": 284,
    "start_time": "2021-10-18T20:13:17.716Z"
   },
   {
    "duration": 291,
    "start_time": "2021-10-18T20:13:18.087Z"
   },
   {
    "duration": 275,
    "start_time": "2021-10-18T20:13:18.656Z"
   },
   {
    "duration": 385,
    "start_time": "2021-10-18T20:13:19.035Z"
   },
   {
    "duration": 13,
    "start_time": "2021-10-18T20:13:19.728Z"
   },
   {
    "duration": 274,
    "start_time": "2021-10-18T20:13:19.832Z"
   },
   {
    "duration": 4,
    "start_time": "2021-10-18T20:13:20.173Z"
   },
   {
    "duration": 240,
    "start_time": "2021-10-18T20:13:20.696Z"
   },
   {
    "duration": 4,
    "start_time": "2021-10-18T20:13:20.994Z"
   },
   {
    "duration": 6,
    "start_time": "2021-10-18T20:13:21.274Z"
   },
   {
    "duration": 15189,
    "start_time": "2021-10-18T20:13:22.503Z"
   },
   {
    "duration": 138,
    "start_time": "2021-10-18T20:13:37.694Z"
   },
   {
    "duration": 1096,
    "start_time": "2021-10-18T20:26:10.865Z"
   },
   {
    "duration": 298,
    "start_time": "2021-10-18T20:26:11.963Z"
   },
   {
    "duration": 13,
    "start_time": "2021-10-18T20:26:12.263Z"
   },
   {
    "duration": 9,
    "start_time": "2021-10-18T20:26:12.278Z"
   },
   {
    "duration": 10,
    "start_time": "2021-10-18T20:26:12.288Z"
   },
   {
    "duration": 6,
    "start_time": "2021-10-18T20:26:12.300Z"
   },
   {
    "duration": 6,
    "start_time": "2021-10-18T20:26:12.308Z"
   },
   {
    "duration": 15,
    "start_time": "2021-10-18T20:26:12.384Z"
   },
   {
    "duration": 9,
    "start_time": "2021-10-18T20:26:12.461Z"
   },
   {
    "duration": 3,
    "start_time": "2021-10-18T20:26:12.736Z"
   },
   {
    "duration": 4,
    "start_time": "2021-10-18T20:26:12.866Z"
   },
   {
    "duration": 4,
    "start_time": "2021-10-18T20:26:13.007Z"
   },
   {
    "duration": 4,
    "start_time": "2021-10-18T20:26:13.107Z"
   },
   {
    "duration": 9,
    "start_time": "2021-10-18T20:26:13.220Z"
   },
   {
    "duration": 7,
    "start_time": "2021-10-18T20:26:13.375Z"
   },
   {
    "duration": 8,
    "start_time": "2021-10-18T20:26:13.496Z"
   },
   {
    "duration": 19,
    "start_time": "2021-10-18T20:26:13.767Z"
   },
   {
    "duration": 20,
    "start_time": "2021-10-18T20:26:13.864Z"
   },
   {
    "duration": 10,
    "start_time": "2021-10-18T20:26:13.985Z"
   },
   {
    "duration": 9,
    "start_time": "2021-10-18T20:26:14.103Z"
   },
   {
    "duration": 343,
    "start_time": "2021-10-18T20:26:14.679Z"
   },
   {
    "duration": 20,
    "start_time": "2021-10-18T20:26:15.024Z"
   },
   {
    "duration": 12,
    "start_time": "2021-10-18T20:26:15.045Z"
   },
   {
    "duration": 12,
    "start_time": "2021-10-18T20:26:15.305Z"
   },
   {
    "duration": 189,
    "start_time": "2021-10-18T20:26:15.388Z"
   },
   {
    "duration": 107,
    "start_time": "2021-10-18T20:26:15.578Z"
   },
   {
    "duration": 196,
    "start_time": "2021-10-18T20:26:15.689Z"
   },
   {
    "duration": 12,
    "start_time": "2021-10-18T20:26:15.887Z"
   },
   {
    "duration": 7,
    "start_time": "2021-10-18T20:26:16.013Z"
   },
   {
    "duration": 249,
    "start_time": "2021-10-18T20:26:16.176Z"
   },
   {
    "duration": 233,
    "start_time": "2021-10-18T20:26:16.703Z"
   },
   {
    "duration": 235,
    "start_time": "2021-10-18T20:26:17.148Z"
   },
   {
    "duration": 363,
    "start_time": "2021-10-18T20:26:17.573Z"
   },
   {
    "duration": 17,
    "start_time": "2021-10-18T20:26:18.101Z"
   },
   {
    "duration": 223,
    "start_time": "2021-10-18T20:26:18.343Z"
   },
   {
    "duration": 5,
    "start_time": "2021-10-18T20:26:18.689Z"
   },
   {
    "duration": 216,
    "start_time": "2021-10-18T20:26:19.209Z"
   },
   {
    "duration": 4,
    "start_time": "2021-10-18T20:26:19.746Z"
   },
   {
    "duration": 4,
    "start_time": "2021-10-18T20:26:20.025Z"
   },
   {
    "duration": 14422,
    "start_time": "2021-10-18T20:26:20.575Z"
   },
   {
    "duration": 139,
    "start_time": "2021-10-18T20:26:34.999Z"
   },
   {
    "duration": 348,
    "start_time": "2021-10-18T20:26:45.411Z"
   },
   {
    "duration": 314,
    "start_time": "2021-10-18T20:26:51.416Z"
   },
   {
    "duration": 313,
    "start_time": "2021-10-18T20:26:54.809Z"
   },
   {
    "duration": 1133,
    "start_time": "2021-10-18T20:26:59.944Z"
   },
   {
    "duration": 262,
    "start_time": "2021-10-18T20:27:01.078Z"
   },
   {
    "duration": 15,
    "start_time": "2021-10-18T20:27:01.344Z"
   },
   {
    "duration": 19,
    "start_time": "2021-10-18T20:27:01.361Z"
   },
   {
    "duration": 15,
    "start_time": "2021-10-18T20:27:01.382Z"
   },
   {
    "duration": 24,
    "start_time": "2021-10-18T20:27:01.399Z"
   },
   {
    "duration": 12,
    "start_time": "2021-10-18T20:27:01.425Z"
   },
   {
    "duration": 15,
    "start_time": "2021-10-18T20:27:01.461Z"
   },
   {
    "duration": 9,
    "start_time": "2021-10-18T20:27:01.561Z"
   },
   {
    "duration": 4,
    "start_time": "2021-10-18T20:27:01.811Z"
   },
   {
    "duration": 4,
    "start_time": "2021-10-18T20:27:01.922Z"
   },
   {
    "duration": 4,
    "start_time": "2021-10-18T20:27:02.041Z"
   },
   {
    "duration": 5,
    "start_time": "2021-10-18T20:27:02.259Z"
   },
   {
    "duration": 13,
    "start_time": "2021-10-18T20:27:02.441Z"
   },
   {
    "duration": 7,
    "start_time": "2021-10-18T20:27:02.566Z"
   },
   {
    "duration": 7,
    "start_time": "2021-10-18T20:27:02.722Z"
   },
   {
    "duration": 4,
    "start_time": "2021-10-18T20:27:19.721Z"
   },
   {
    "duration": 321,
    "start_time": "2021-10-18T20:27:20.209Z"
   },
   {
    "duration": 11,
    "start_time": "2021-10-18T20:27:20.532Z"
   },
   {
    "duration": 10,
    "start_time": "2021-10-18T20:27:20.683Z"
   },
   {
    "duration": 6,
    "start_time": "2021-10-18T20:27:20.813Z"
   },
   {
    "duration": 8,
    "start_time": "2021-10-18T20:27:21.172Z"
   },
   {
    "duration": 4,
    "start_time": "2021-10-18T20:27:21.264Z"
   },
   {
    "duration": 14,
    "start_time": "2021-10-18T20:27:21.418Z"
   },
   {
    "duration": 9,
    "start_time": "2021-10-18T20:27:22.053Z"
   },
   {
    "duration": 4,
    "start_time": "2021-10-18T20:27:22.136Z"
   },
   {
    "duration": 9,
    "start_time": "2021-10-18T20:27:22.147Z"
   },
   {
    "duration": 4,
    "start_time": "2021-10-18T20:27:22.200Z"
   },
   {
    "duration": 7,
    "start_time": "2021-10-18T20:27:22.216Z"
   },
   {
    "duration": 11,
    "start_time": "2021-10-18T20:27:22.255Z"
   },
   {
    "duration": 7,
    "start_time": "2021-10-18T20:27:22.293Z"
   },
   {
    "duration": 8,
    "start_time": "2021-10-18T20:27:22.344Z"
   },
   {
    "duration": 19,
    "start_time": "2021-10-18T20:27:22.412Z"
   },
   {
    "duration": 18,
    "start_time": "2021-10-18T20:27:22.462Z"
   },
   {
    "duration": 8,
    "start_time": "2021-10-18T20:27:22.490Z"
   },
   {
    "duration": 7,
    "start_time": "2021-10-18T20:27:22.531Z"
   },
   {
    "duration": 357,
    "start_time": "2021-10-18T20:27:22.727Z"
   },
   {
    "duration": 22,
    "start_time": "2021-10-18T20:27:23.087Z"
   },
   {
    "duration": 11,
    "start_time": "2021-10-18T20:27:23.111Z"
   },
   {
    "duration": 14,
    "start_time": "2021-10-18T20:27:23.124Z"
   },
   {
    "duration": 211,
    "start_time": "2021-10-18T20:27:23.140Z"
   },
   {
    "duration": 105,
    "start_time": "2021-10-18T20:27:23.353Z"
   },
   {
    "duration": 201,
    "start_time": "2021-10-18T20:27:23.459Z"
   },
   {
    "duration": 18,
    "start_time": "2021-10-18T20:27:23.662Z"
   },
   {
    "duration": 23,
    "start_time": "2021-10-18T20:27:23.682Z"
   },
   {
    "duration": 248,
    "start_time": "2021-10-18T20:27:23.707Z"
   },
   {
    "duration": 255,
    "start_time": "2021-10-18T20:27:23.958Z"
   },
   {
    "duration": 268,
    "start_time": "2021-10-18T20:27:24.215Z"
   },
   {
    "duration": 360,
    "start_time": "2021-10-18T20:27:24.485Z"
   },
   {
    "duration": 17,
    "start_time": "2021-10-18T20:27:24.846Z"
   },
   {
    "duration": 242,
    "start_time": "2021-10-18T20:27:24.877Z"
   },
   {
    "duration": 4,
    "start_time": "2021-10-18T20:27:25.121Z"
   },
   {
    "duration": 251,
    "start_time": "2021-10-18T20:27:25.127Z"
   },
   {
    "duration": 5,
    "start_time": "2021-10-18T20:27:25.380Z"
   },
   {
    "duration": 16,
    "start_time": "2021-10-18T20:27:25.387Z"
   },
   {
    "duration": 14361,
    "start_time": "2021-10-18T20:27:25.405Z"
   },
   {
    "duration": 140,
    "start_time": "2021-10-18T20:27:39.768Z"
   },
   {
    "duration": 1139,
    "start_time": "2021-10-18T20:28:22.246Z"
   },
   {
    "duration": 267,
    "start_time": "2021-10-18T20:28:23.386Z"
   },
   {
    "duration": 14,
    "start_time": "2021-10-18T20:28:23.655Z"
   },
   {
    "duration": 10,
    "start_time": "2021-10-18T20:28:23.671Z"
   },
   {
    "duration": 8,
    "start_time": "2021-10-18T20:28:23.683Z"
   },
   {
    "duration": 8,
    "start_time": "2021-10-18T20:28:23.693Z"
   },
   {
    "duration": 4,
    "start_time": "2021-10-18T20:28:23.702Z"
   },
   {
    "duration": 16,
    "start_time": "2021-10-18T20:28:23.708Z"
   },
   {
    "duration": 9,
    "start_time": "2021-10-18T20:28:23.726Z"
   },
   {
    "duration": 7,
    "start_time": "2021-10-18T20:28:23.903Z"
   },
   {
    "duration": 5,
    "start_time": "2021-10-18T20:28:24.000Z"
   },
   {
    "duration": 4,
    "start_time": "2021-10-18T20:28:24.145Z"
   },
   {
    "duration": 5,
    "start_time": "2021-10-18T20:28:24.281Z"
   },
   {
    "duration": 10,
    "start_time": "2021-10-18T20:28:24.382Z"
   },
   {
    "duration": 7,
    "start_time": "2021-10-18T20:28:24.486Z"
   },
   {
    "duration": 8,
    "start_time": "2021-10-18T20:28:24.586Z"
   },
   {
    "duration": 21,
    "start_time": "2021-10-18T20:28:24.846Z"
   },
   {
    "duration": 19,
    "start_time": "2021-10-18T20:28:24.928Z"
   },
   {
    "duration": 7,
    "start_time": "2021-10-18T20:28:25.015Z"
   },
   {
    "duration": 7,
    "start_time": "2021-10-18T20:28:25.138Z"
   },
   {
    "duration": 355,
    "start_time": "2021-10-18T20:28:25.740Z"
   },
   {
    "duration": 21,
    "start_time": "2021-10-18T20:28:26.097Z"
   },
   {
    "duration": 13,
    "start_time": "2021-10-18T20:28:26.121Z"
   },
   {
    "duration": 12,
    "start_time": "2021-10-18T20:28:26.542Z"
   },
   {
    "duration": 202,
    "start_time": "2021-10-18T20:28:26.731Z"
   },
   {
    "duration": 112,
    "start_time": "2021-10-18T20:28:26.935Z"
   },
   {
    "duration": 188,
    "start_time": "2021-10-18T20:28:27.202Z"
   },
   {
    "duration": 13,
    "start_time": "2021-10-18T20:28:27.403Z"
   },
   {
    "duration": 7,
    "start_time": "2021-10-18T20:28:27.577Z"
   },
   {
    "duration": 248,
    "start_time": "2021-10-18T20:28:27.685Z"
   },
   {
    "duration": 254,
    "start_time": "2021-10-18T20:28:28.773Z"
   },
   {
    "duration": 233,
    "start_time": "2021-10-18T20:28:29.248Z"
   },
   {
    "duration": 367,
    "start_time": "2021-10-18T20:28:29.906Z"
   },
   {
    "duration": 16,
    "start_time": "2021-10-18T20:28:30.784Z"
   },
   {
    "duration": 246,
    "start_time": "2021-10-18T20:28:31.047Z"
   },
   {
    "duration": 5,
    "start_time": "2021-10-18T20:28:31.412Z"
   },
   {
    "duration": 323,
    "start_time": "2021-10-18T20:28:32.245Z"
   },
   {
    "duration": 6,
    "start_time": "2021-10-18T20:28:32.646Z"
   },
   {
    "duration": 5,
    "start_time": "2021-10-18T20:28:33.142Z"
   },
   {
    "duration": 14441,
    "start_time": "2021-10-18T20:28:34.080Z"
   },
   {
    "duration": 183,
    "start_time": "2021-10-18T20:28:48.524Z"
   },
   {
    "duration": 13,
    "start_time": "2021-10-18T20:28:48.709Z"
   },
   {
    "duration": 222,
    "start_time": "2021-10-18T20:28:48.724Z"
   },
   {
    "duration": 363,
    "start_time": "2021-10-18T20:30:07.222Z"
   }
  ],
  "kernelspec": {
   "display_name": "Python 3",
   "language": "python",
   "name": "python3"
  },
  "language_info": {
   "codemirror_mode": {
    "name": "ipython",
    "version": 3
   },
   "file_extension": ".py",
   "mimetype": "text/x-python",
   "name": "python",
   "nbconvert_exporter": "python",
   "pygments_lexer": "ipython3",
   "version": "3.8.5"
  },
  "toc": {
   "base_numbering": 1,
   "nav_menu": {},
   "number_sections": true,
   "sideBar": true,
   "skip_h1_title": true,
   "title_cell": "Table of Contents",
   "title_sidebar": "Contents",
   "toc_cell": false,
   "toc_position": {},
   "toc_section_display": true,
   "toc_window_display": false
  }
 },
 "nbformat": 4,
 "nbformat_minor": 2
}
